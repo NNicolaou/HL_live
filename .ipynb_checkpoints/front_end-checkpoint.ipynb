{
 "cells": [
  {
   "cell_type": "code",
   "execution_count": 1,
   "metadata": {},
   "outputs": [
    {
     "data": {
      "text/html": [
       "<script>\n",
       "code_show=true; \n",
       "function code_toggle() {\n",
       " if (code_show){\n",
       " $('div.input').hide();\n",
       " } else {\n",
       " $('div.input').show();\n",
       " }\n",
       " code_show = !code_show\n",
       "} \n",
       "$( document ).ready(code_toggle);\n",
       "</script>\n",
       "The raw code for this IPython notebook is by default hidden for easier reading.\n",
       "To toggle on/off the raw code, click <a href=\"javascript:code_toggle()\">here</a>."
      ],
      "text/plain": [
       "<IPython.core.display.HTML object>"
      ]
     },
     "execution_count": 1,
     "metadata": {},
     "output_type": "execute_result"
    }
   ],
   "source": [
    "from IPython.display import HTML\n",
    "HTML('''<script>\n",
    "code_show=true; \n",
    "function code_toggle() {\n",
    " if (code_show){\n",
    " $('div.input').hide();\n",
    " } else {\n",
    " $('div.input').show();\n",
    " }\n",
    " code_show = !code_show\n",
    "} \n",
    "$( document ).ready(code_toggle);\n",
    "</script>\n",
    "The raw code for this IPython notebook is by default hidden for easier reading.\n",
    "To toggle on/off the raw code, click <a href=\"javascript:code_toggle()\">here</a>.''')"
   ]
  },
  {
   "cell_type": "code",
   "execution_count": 2,
   "metadata": {},
   "outputs": [],
   "source": [
    "import pandas\n",
    "import numpy\n",
    "from matplotlib import pyplot as plt\n",
    "import seaborn\n",
    "%matplotlib notebook\n",
    "import datetime\n",
    "import general\n",
    "import discretionary_aua\n",
    "import vantage_aua\n",
    "import data_accessing\n",
    "import combined\n",
    "import revenue\n",
    "import costs\n",
    "import consolidated\n",
    "import discf\n",
    "from ipywidgets import widgets\n",
    "from IPython.display import display\n",
    "import stats\n",
    "from IPython.display import clear_output\n",
    "pandas.set_option('display.float_format', '{:20,.6f}'.format)   #suppressing scientific notation\n",
    "idx = pandas.IndexSlice"
   ]
  },
  {
   "cell_type": "code",
   "execution_count": 3,
   "metadata": {
    "scrolled": true
   },
   "outputs": [
    {
     "name": "stdout",
     "output_type": "stream",
     "text": [
      "Pulling data...\n",
      "Data pulled successfully.\n"
     ]
    }
   ],
   "source": [
    "print('Pulling data...')\n",
    "fund_dic = data_accessing.read_data(data_accessing.fund_data_name,data_accessing.fund_data_types)\n",
    "nnb_dic = data_accessing.read_data(data_accessing.nnb_data_name,data_accessing.nnb_data_sheet)\n",
    "discretionary_aua.append_share_class_units(fund_dic) # appending share class units\n",
    "index_hl_dic = data_accessing.read_data(data_accessing.index_hl_data_name, data_accessing.index_hl_data_sheet)\n",
    "data_dic = {**fund_dic, **index_hl_dic, **nnb_dic}\n",
    "\n",
    "input_dic = data_accessing.read_data(data_accessing.assumptions_name, data_accessing.assumptions_sheet)\n",
    "\n",
    "print('Data pulled successfully.')"
   ]
  },
  {
   "cell_type": "code",
   "execution_count": 4,
   "metadata": {},
   "outputs": [
    {
     "data": {
      "application/vnd.jupyter.widget-view+json": {
       "model_id": "0502d8e2ccf343f18fb5b179fac00abf",
       "version_major": 2,
       "version_minor": 0
      },
      "text/html": [
       "<p>Failed to display Jupyter Widget of type <code>Button</code>.</p>\n",
       "<p>\n",
       "  If you're reading this message in the Jupyter Notebook or JupyterLab Notebook, it may mean\n",
       "  that the widgets JavaScript is still loading. If this message persists, it\n",
       "  likely means that the widgets JavaScript library is either not installed or\n",
       "  not enabled. See the <a href=\"https://ipywidgets.readthedocs.io/en/stable/user_install.html\">Jupyter\n",
       "  Widgets Documentation</a> for setup instructions.\n",
       "</p>\n",
       "<p>\n",
       "  If you're reading this message in another frontend (for example, a static\n",
       "  rendering on GitHub or <a href=\"https://nbviewer.jupyter.org/\">NBViewer</a>),\n",
       "  it may mean that your frontend doesn't currently support widgets.\n",
       "</p>\n"
      ],
      "text/plain": [
       "Button(description='Update assumptions', layout=Layout(height='40px', width='20%'), style=ButtonStyle(button_color='lightgreen'))"
      ]
     },
     "metadata": {},
     "output_type": "display_data"
    }
   ],
   "source": [
    "assumption_button = widgets.Button(description='Update assumptions',layout=widgets.Layout(width='20%',height='40px'))\n",
    "assumption_button.style.button_color = 'lightgreen'\n",
    "def update_assumption(b):\n",
    "    global input_dic\n",
    "    input_dic = data_accessing.read_data(data_accessing.assumptions_name, data_accessing.assumptions_sheet)\n",
    "    print ('Assumptions updated successfully...')\n",
    "\n",
    "assumption_button.on_click(update_assumption)\n",
    "display(assumption_button)"
   ]
  },
  {
   "cell_type": "code",
   "execution_count": 5,
   "metadata": {},
   "outputs": [
    {
     "data": {
      "application/vnd.jupyter.widget-view+json": {
       "model_id": "fbc5530b20f347baa57019922539b210",
       "version_major": 2,
       "version_minor": 0
      },
      "text/html": [
       "<p>Failed to display Jupyter Widget of type <code>HBox</code>.</p>\n",
       "<p>\n",
       "  If you're reading this message in the Jupyter Notebook or JupyterLab Notebook, it may mean\n",
       "  that the widgets JavaScript is still loading. If this message persists, it\n",
       "  likely means that the widgets JavaScript library is either not installed or\n",
       "  not enabled. See the <a href=\"https://ipywidgets.readthedocs.io/en/stable/user_install.html\">Jupyter\n",
       "  Widgets Documentation</a> for setup instructions.\n",
       "</p>\n",
       "<p>\n",
       "  If you're reading this message in another frontend (for example, a static\n",
       "  rendering on GitHub or <a href=\"https://nbviewer.jupyter.org/\">NBViewer</a>),\n",
       "  it may mean that your frontend doesn't currently support widgets.\n",
       "</p>\n"
      ],
      "text/plain": [
       "HBox(children=(VBox(children=(Button(description='Semi-annual revenue', layout=Layout(height='40px', width='100%'), style=ButtonStyle(button_color='lightgreen')), Button(description='Annual revenue - FY', layout=Layout(height='40px', width='100%'), style=ButtonStyle(button_color='lightgreen')), Button(description='Annual revenue - CY', layout=Layout(height='40px', width='100%'), style=ButtonStyle(button_color='lightgreen'))), layout=Layout(align_items='stretch', border='solid', display='flex', flex_flow='column', width='30%')), VBox(children=(Button(description='Consolidated semi-annual revenue', layout=Layout(height='40px', width='100%'), style=ButtonStyle(button_color='lightgreen')), Button(description='Consolidated annual revenue - FY', layout=Layout(height='40px', width='100%'), style=ButtonStyle(button_color='lightgreen')), Button(description='Consolidated annual revenue - CY', layout=Layout(height='40px', width='100%'), style=ButtonStyle(button_color='lightgreen'))), layout=Layout(align_items='stretch', border='solid', display='flex', flex_flow='column', width='30%'))))"
      ]
     },
     "metadata": {},
     "output_type": "display_data"
    }
   ],
   "source": [
    "revenue_types = ['Semi-annual revenue','Annual revenue - FY','Annual revenue - CY','Consolidated semi-annual revenue','Consolidated annual revenue - FY','Consolidated annual revenue - CY']\n",
    "box_layout = widgets.Layout(display='flex', flex_flow='column', align_items='stretch',border='solid',width='30%')\n",
    "items = {}\n",
    "for w in revenue_types:\n",
    "    items[w] = widgets.Button(description=w,layout=widgets.Layout(width='100%', height='40px'))\n",
    "    items[w].style.button_color = 'lightgreen'\n",
    "left_box = widgets.VBox([list(items.values())[0],list(items.values())[1],list(items.values())[2]],layout=box_layout)\n",
    "right_box = widgets.VBox([list(items.values())[3],list(items.values())[4],list(items.values())[5]],layout=box_layout)\n",
    "items['Semi-annual revenue'].on_click(lambda x: display(revenue.semi_revenue(data_dic,input_dic)))\n",
    "items['Annual revenue - FY'].on_click(lambda x: display(revenue.annual_revenue(data_dic,input_dic)))\n",
    "items['Annual revenue - CY'].on_click(lambda x: display(revenue.annual_revenue(data_dic,input_dic,cal_year=True)))\n",
    "items['Consolidated semi-annual revenue'].on_click(lambda x: display(consolidated.revenue_analysis(data_dic,input_dic)))\n",
    "items['Consolidated annual revenue - FY'].on_click(lambda x: display(consolidated.annual_revenue_analysis(data_dic,input_dic)))\n",
    "items['Consolidated annual revenue - CY'].on_click(lambda x: display(consolidated.annual_revenue_analysis(data_dic,input_dic,cal_year=True)))\n",
    "widgets.HBox([left_box,right_box])\n",
    "\n"
   ]
  },
  {
   "cell_type": "code",
   "execution_count": 6,
   "metadata": {},
   "outputs": [
    {
     "data": {
      "application/vnd.jupyter.widget-view+json": {
       "model_id": "c4fea71cbe8049fc8f1f396adbafac57",
       "version_major": 2,
       "version_minor": 0
      },
      "text/html": [
       "<p>Failed to display Jupyter Widget of type <code>HBox</code>.</p>\n",
       "<p>\n",
       "  If you're reading this message in the Jupyter Notebook or JupyterLab Notebook, it may mean\n",
       "  that the widgets JavaScript is still loading. If this message persists, it\n",
       "  likely means that the widgets JavaScript library is either not installed or\n",
       "  not enabled. See the <a href=\"https://ipywidgets.readthedocs.io/en/stable/user_install.html\">Jupyter\n",
       "  Widgets Documentation</a> for setup instructions.\n",
       "</p>\n",
       "<p>\n",
       "  If you're reading this message in another frontend (for example, a static\n",
       "  rendering on GitHub or <a href=\"https://nbviewer.jupyter.org/\">NBViewer</a>),\n",
       "  it may mean that your frontend doesn't currently support widgets.\n",
       "</p>\n"
      ],
      "text/plain": [
       "HBox(children=(VBox(children=(Button(description='Semi-annual costs', layout=Layout(height='40px', width='100%'), style=ButtonStyle(button_color='lightgreen')), Button(description='Annual costs - FY', layout=Layout(height='40px', width='100%'), style=ButtonStyle(button_color='lightgreen')), Button(description='Annual costs - CY', layout=Layout(height='40px', width='100%'), style=ButtonStyle(button_color='lightgreen'))), layout=Layout(align_items='stretch', border='solid', display='flex', flex_flow='column', width='30%')), VBox(children=(Button(description='Consolidated semi-annual costs', layout=Layout(height='40px', width='100%'), style=ButtonStyle(button_color='lightgreen')), Button(description='Consolidated annual costs - FY', layout=Layout(height='40px', width='100%'), style=ButtonStyle(button_color='lightgreen')), Button(description='Consolidated annual costs - CY', layout=Layout(height='40px', width='100%'), style=ButtonStyle(button_color='lightgreen'))), layout=Layout(align_items='stretch', border='solid', display='flex', flex_flow='column', width='30%'))))"
      ]
     },
     "metadata": {},
     "output_type": "display_data"
    }
   ],
   "source": [
    "costs_types = ['Semi-annual costs','Annual costs - FY','Annual costs - CY','Consolidated semi-annual costs','Consolidated annual costs - FY','Consolidated annual costs - CY']\n",
    "items2 = {}\n",
    "for w2 in costs_types:\n",
    "    items2[w2] = widgets.Button(description=w2,layout=widgets.Layout(width='100%', height='40px'))\n",
    "    items2[w2].style.button_color = 'lightgreen'\n",
    "left_box2 = widgets.VBox([list(items2.values())[0],list(items2.values())[1],list(items2.values())[2]],layout=box_layout)\n",
    "right_box2 = widgets.VBox([list(items2.values())[3],list(items2.values())[4],list(items2.values())[5]],layout=box_layout)\n",
    "items2['Semi-annual costs'].on_click(lambda x: display(costs.semi_costs(input_dic)))\n",
    "items2['Annual costs - FY'].on_click(lambda x: display(costs.annual_costs(input_dic)))\n",
    "items2['Annual costs - CY'].on_click(lambda x: display(costs.annual_costs(input_dic,cal_year=True)))\n",
    "items2['Consolidated semi-annual costs'].on_click(lambda x: display(consolidated.costs_analysis(input_dic)))\n",
    "items2['Consolidated annual costs - FY'].on_click(lambda x: display(consolidated.annual_costs_analysis(input_dic)))\n",
    "items2['Consolidated annual costs - CY'].on_click(lambda x: display(consolidated.annual_costs_analysis(input_dic,cal_year=True)))\n",
    "widgets.HBox([left_box2,right_box2])"
   ]
  },
  {
   "cell_type": "code",
   "execution_count": 7,
   "metadata": {},
   "outputs": [
    {
     "data": {
      "application/vnd.jupyter.widget-view+json": {
       "model_id": "c02f798dea5b444b82d000f3d31263b7",
       "version_major": 2,
       "version_minor": 0
      },
      "text/html": [
       "<p>Failed to display Jupyter Widget of type <code>SelectMultiple</code>.</p>\n",
       "<p>\n",
       "  If you're reading this message in the Jupyter Notebook or JupyterLab Notebook, it may mean\n",
       "  that the widgets JavaScript is still loading. If this message persists, it\n",
       "  likely means that the widgets JavaScript library is either not installed or\n",
       "  not enabled. See the <a href=\"https://ipywidgets.readthedocs.io/en/stable/user_install.html\">Jupyter\n",
       "  Widgets Documentation</a> for setup instructions.\n",
       "</p>\n",
       "<p>\n",
       "  If you're reading this message in another frontend (for example, a static\n",
       "  rendering on GitHub or <a href=\"https://nbviewer.jupyter.org/\">NBViewer</a>),\n",
       "  it may mean that your frontend doesn't currently support widgets.\n",
       "</p>\n"
      ],
      "text/plain": [
       "SelectMultiple(description='Years for comparison', options=(2018, 2019, 2020, 2021, 2022, 2023, 2024, 2025, 2026, 2027), value=())"
      ]
     },
     "metadata": {},
     "output_type": "display_data"
    },
    {
     "data": {
      "application/vnd.jupyter.widget-view+json": {
       "model_id": "2bf612e5722c43128d1bc390e856e257",
       "version_major": 2,
       "version_minor": 0
      },
      "text/html": [
       "<p>Failed to display Jupyter Widget of type <code>Box</code>.</p>\n",
       "<p>\n",
       "  If you're reading this message in the Jupyter Notebook or JupyterLab Notebook, it may mean\n",
       "  that the widgets JavaScript is still loading. If this message persists, it\n",
       "  likely means that the widgets JavaScript library is either not installed or\n",
       "  not enabled. See the <a href=\"https://ipywidgets.readthedocs.io/en/stable/user_install.html\">Jupyter\n",
       "  Widgets Documentation</a> for setup instructions.\n",
       "</p>\n",
       "<p>\n",
       "  If you're reading this message in another frontend (for example, a static\n",
       "  rendering on GitHub or <a href=\"https://nbviewer.jupyter.org/\">NBViewer</a>),\n",
       "  it may mean that your frontend doesn't currently support widgets.\n",
       "</p>\n"
      ],
      "text/plain": [
       "Box(children=(Button(description='NNB comparison', layout=Layout(height='40px', width='100%'), style=ButtonStyle(button_color='lightgreen')), Button(description='AUA comparison', layout=Layout(height='40px', width='100%'), style=ButtonStyle(button_color='lightgreen'))), layout=Layout(align_items='stretch', border='solid', display='flex', flex_flow='row', width='30%'))"
      ]
     },
     "metadata": {},
     "output_type": "display_data"
    }
   ],
   "source": [
    "ops = [i for i in list(range(general.recent_end_year, general.recent_end_year+10))]\n",
    "a_slider = widgets.SelectMultiple(options=ops, description='Years for comparison')\n",
    "display(a_slider)\n",
    "\n",
    "compare1 = ['NNB comparison','AUA comparison']\n",
    "box_layout2 = widgets.Layout(display='flex', flex_flow='row', align_items='stretch',border='solid',width='30%')\n",
    "items3 = {}\n",
    "for w3 in compare1:\n",
    "    items3[w3] = widgets.Button(description=w3,layout=widgets.Layout(width='100%', height='40px'))\n",
    "    items3[w3].style.button_color = 'lightgreen'\n",
    "box3 = widgets.Box([list(items3.values())[0],list(items3.values())[1]],layout=box_layout2)\n",
    "items3['NNB comparison'].on_click(lambda x: display(consolidated.get_nnb_compare(data_dic, input_dic,list(a_slider.value))))\n",
    "items3['AUA comparison'].on_click(lambda x: display(consolidated.get_aua_compare(data_dic, input_dic,list(a_slider.value))))\n",
    "\n",
    "\n",
    "display(box3)"
   ]
  },
  {
   "cell_type": "code",
   "execution_count": 8,
   "metadata": {},
   "outputs": [
    {
     "data": {
      "application/vnd.jupyter.widget-view+json": {
       "model_id": "b0110e43aeb3427ca357fb870abb7463",
       "version_major": 2,
       "version_minor": 0
      },
      "text/html": [
       "<p>Failed to display Jupyter Widget of type <code>VBox</code>.</p>\n",
       "<p>\n",
       "  If you're reading this message in the Jupyter Notebook or JupyterLab Notebook, it may mean\n",
       "  that the widgets JavaScript is still loading. If this message persists, it\n",
       "  likely means that the widgets JavaScript library is either not installed or\n",
       "  not enabled. See the <a href=\"https://ipywidgets.readthedocs.io/en/stable/user_install.html\">Jupyter\n",
       "  Widgets Documentation</a> for setup instructions.\n",
       "</p>\n",
       "<p>\n",
       "  If you're reading this message in another frontend (for example, a static\n",
       "  rendering on GitHub or <a href=\"https://nbviewer.jupyter.org/\">NBViewer</a>),\n",
       "  it may mean that your frontend doesn't currently support widgets.\n",
       "</p>\n"
      ],
      "text/plain": [
       "VBox(children=(HBox(children=(Button(description='Interim revenue comparison', layout=Layout(height='40px', width='100%'), style=ButtonStyle(button_color='lightgreen')), Button(description='Annual revenue comparison', layout=Layout(height='40px', width='100%'), style=ButtonStyle(button_color='lightgreen'))), layout=Layout(align_items='stretch', border='solid', display='flex', flex_flow='row', width='50%')), HBox(children=(Button(description='Interim costs comparison', layout=Layout(height='40px', width='100%'), style=ButtonStyle(button_color='lightgreen')), Button(description='Annual costs comparison', layout=Layout(height='40px', width='100%'), style=ButtonStyle(button_color='lightgreen'))), layout=Layout(align_items='stretch', border='solid', display='flex', flex_flow='row', width='50%'))))"
      ]
     },
     "metadata": {},
     "output_type": "display_data"
    }
   ],
   "source": [
    "compare2 = ['Interim revenue comparison','Annual revenue comparison', 'Interim costs comparison', 'Annual costs comparison']\n",
    "box_layout3 = widgets.Layout(display='flex', flex_flow='row', align_items='stretch',border='solid',width='50%')\n",
    "items4 = {}\n",
    "for w4 in compare2:\n",
    "    items4[w4] = widgets.Button(description=w4,layout=widgets.Layout(width='100%', height='40px'))\n",
    "    items4[w4].style.button_color = 'lightgreen'\n",
    "top_box4 = widgets.HBox([list(items4.values())[0],list(items4.values())[1]],layout=box_layout3)\n",
    "bottom_box4 = widgets.HBox([list(items4.values())[2],list(items4.values())[3]],layout=box_layout3)\n",
    "items4['Interim revenue comparison'].on_click(lambda x: display(consolidated.get_revenue_compare(data_dic, input_dic,True,list(a_slider.value))))\n",
    "items4['Annual revenue comparison'].on_click(lambda x: display(consolidated.get_revenue_compare(data_dic, input_dic,False,list(a_slider.value))))\n",
    "items4['Interim costs comparison'].on_click(lambda x: display(consolidated.get_costs_compare(input_dic,True,list(a_slider.value))))\n",
    "items4['Annual costs comparison'].on_click(lambda x: display(consolidated.get_costs_compare(input_dic,False,list(a_slider.value))))\n",
    "\n",
    "widgets.VBox([top_box4, bottom_box4])"
   ]
  },
  {
   "cell_type": "code",
   "execution_count": 9,
   "metadata": {},
   "outputs": [
    {
     "data": {
      "application/vnd.jupyter.widget-view+json": {
       "model_id": "4b5d1b8aee8c4379baae897f0eee7473",
       "version_major": 2,
       "version_minor": 0
      },
      "text/html": [
       "<p>Failed to display Jupyter Widget of type <code>IntText</code>.</p>\n",
       "<p>\n",
       "  If you're reading this message in the Jupyter Notebook or JupyterLab Notebook, it may mean\n",
       "  that the widgets JavaScript is still loading. If this message persists, it\n",
       "  likely means that the widgets JavaScript library is either not installed or\n",
       "  not enabled. See the <a href=\"https://ipywidgets.readthedocs.io/en/stable/user_install.html\">Jupyter\n",
       "  Widgets Documentation</a> for setup instructions.\n",
       "</p>\n",
       "<p>\n",
       "  If you're reading this message in another frontend (for example, a static\n",
       "  rendering on GitHub or <a href=\"https://nbviewer.jupyter.org/\">NBViewer</a>),\n",
       "  it may mean that your frontend doesn't currently support widgets.\n",
       "</p>\n"
      ],
      "text/plain": [
       "IntText(value=9, description='DCF period - No. of years:')"
      ]
     },
     "metadata": {},
     "output_type": "display_data"
    },
    {
     "data": {
      "application/vnd.jupyter.widget-view+json": {
       "model_id": "63fc2d721e1f4f0ea4451cf60a7c29c0",
       "version_major": 2,
       "version_minor": 0
      },
      "text/html": [
       "<p>Failed to display Jupyter Widget of type <code>FloatText</code>.</p>\n",
       "<p>\n",
       "  If you're reading this message in the Jupyter Notebook or JupyterLab Notebook, it may mean\n",
       "  that the widgets JavaScript is still loading. If this message persists, it\n",
       "  likely means that the widgets JavaScript library is either not installed or\n",
       "  not enabled. See the <a href=\"https://ipywidgets.readthedocs.io/en/stable/user_install.html\">Jupyter\n",
       "  Widgets Documentation</a> for setup instructions.\n",
       "</p>\n",
       "<p>\n",
       "  If you're reading this message in another frontend (for example, a static\n",
       "  rendering on GitHub or <a href=\"https://nbviewer.jupyter.org/\">NBViewer</a>),\n",
       "  it may mean that your frontend doesn't currently support widgets.\n",
       "</p>\n"
      ],
      "text/plain": [
       "FloatText(value=0.035, description='Perpetuity growth rate:')"
      ]
     },
     "metadata": {},
     "output_type": "display_data"
    },
    {
     "data": {
      "application/vnd.jupyter.widget-view+json": {
       "model_id": "bbeee26ab4044d8a9983ba6eded61b08",
       "version_major": 2,
       "version_minor": 0
      },
      "text/html": [
       "<p>Failed to display Jupyter Widget of type <code>FloatText</code>.</p>\n",
       "<p>\n",
       "  If you're reading this message in the Jupyter Notebook or JupyterLab Notebook, it may mean\n",
       "  that the widgets JavaScript is still loading. If this message persists, it\n",
       "  likely means that the widgets JavaScript library is either not installed or\n",
       "  not enabled. See the <a href=\"https://ipywidgets.readthedocs.io/en/stable/user_install.html\">Jupyter\n",
       "  Widgets Documentation</a> for setup instructions.\n",
       "</p>\n",
       "<p>\n",
       "  If you're reading this message in another frontend (for example, a static\n",
       "  rendering on GitHub or <a href=\"https://nbviewer.jupyter.org/\">NBViewer</a>),\n",
       "  it may mean that your frontend doesn't currently support widgets.\n",
       "</p>\n"
      ],
      "text/plain": [
       "FloatText(value=0.085, description='Cash flow discount rate:')"
      ]
     },
     "metadata": {},
     "output_type": "display_data"
    },
    {
     "data": {
      "application/vnd.jupyter.widget-view+json": {
       "model_id": "cc4170a90a914a6bb1075c9c004e260f",
       "version_major": 2,
       "version_minor": 0
      },
      "text/html": [
       "<p>Failed to display Jupyter Widget of type <code>Checkbox</code>.</p>\n",
       "<p>\n",
       "  If you're reading this message in the Jupyter Notebook or JupyterLab Notebook, it may mean\n",
       "  that the widgets JavaScript is still loading. If this message persists, it\n",
       "  likely means that the widgets JavaScript library is either not installed or\n",
       "  not enabled. See the <a href=\"https://ipywidgets.readthedocs.io/en/stable/user_install.html\">Jupyter\n",
       "  Widgets Documentation</a> for setup instructions.\n",
       "</p>\n",
       "<p>\n",
       "  If you're reading this message in another frontend (for example, a static\n",
       "  rendering on GitHub or <a href=\"https://nbviewer.jupyter.org/\">NBViewer</a>),\n",
       "  it may mean that your frontend doesn't currently support widgets.\n",
       "</p>\n"
      ],
      "text/plain": [
       "Checkbox(value=False, description='Fair value now')"
      ]
     },
     "metadata": {},
     "output_type": "display_data"
    },
    {
     "data": {
      "application/vnd.jupyter.widget-view+json": {
       "model_id": "311869a7a8ff481b8ba8690a5f1cc9a9",
       "version_major": 2,
       "version_minor": 0
      },
      "text/html": [
       "<p>Failed to display Jupyter Widget of type <code>HBox</code>.</p>\n",
       "<p>\n",
       "  If you're reading this message in the Jupyter Notebook or JupyterLab Notebook, it may mean\n",
       "  that the widgets JavaScript is still loading. If this message persists, it\n",
       "  likely means that the widgets JavaScript library is either not installed or\n",
       "  not enabled. See the <a href=\"https://ipywidgets.readthedocs.io/en/stable/user_install.html\">Jupyter\n",
       "  Widgets Documentation</a> for setup instructions.\n",
       "</p>\n",
       "<p>\n",
       "  If you're reading this message in another frontend (for example, a static\n",
       "  rendering on GitHub or <a href=\"https://nbviewer.jupyter.org/\">NBViewer</a>),\n",
       "  it may mean that your frontend doesn't currently support widgets.\n",
       "</p>\n"
      ],
      "text/plain": [
       "HBox(children=(Button(description='Discounted cash flow', layout=Layout(height='40px', width='100%'), style=ButtonStyle(button_color='lightgreen')), Button(description='Fair value', layout=Layout(height='40px', width='100%'), style=ButtonStyle(button_color='lightgreen'))), layout=Layout(align_items='stretch', border='solid', display='flex', flex_flow='row', width='50%'))"
      ]
     },
     "metadata": {},
     "output_type": "display_data"
    },
    {
     "data": {
      "text/html": [
       "<div>\n",
       "<style scoped>\n",
       "    .dataframe tbody tr th:only-of-type {\n",
       "        vertical-align: middle;\n",
       "    }\n",
       "\n",
       "    .dataframe tbody tr th {\n",
       "        vertical-align: top;\n",
       "    }\n",
       "\n",
       "    .dataframe thead th {\n",
       "        text-align: right;\n",
       "    }\n",
       "</style>\n",
       "<table border=\"1\" class=\"dataframe\">\n",
       "  <thead>\n",
       "    <tr style=\"text-align: right;\">\n",
       "      <th></th>\n",
       "      <th>HL</th>\n",
       "    </tr>\n",
       "  </thead>\n",
       "  <tbody>\n",
       "    <tr>\n",
       "      <th>Terminal value</th>\n",
       "      <td>14,278,026,830.248938</td>\n",
       "    </tr>\n",
       "    <tr>\n",
       "      <th>Enterprise value</th>\n",
       "      <td>9,586,266,579.145321</td>\n",
       "    </tr>\n",
       "    <tr>\n",
       "      <th>Net debt&amp;cash</th>\n",
       "      <td>125300000</td>\n",
       "    </tr>\n",
       "    <tr>\n",
       "      <th>Fair value</th>\n",
       "      <td>9,711,566,579.145321</td>\n",
       "    </tr>\n",
       "    <tr>\n",
       "      <th>No. of shares</th>\n",
       "      <td>474429699</td>\n",
       "    </tr>\n",
       "    <tr>\n",
       "      <th>Fair value per share</th>\n",
       "      <td>20.469980</td>\n",
       "    </tr>\n",
       "  </tbody>\n",
       "</table>\n",
       "</div>"
      ],
      "text/plain": [
       "                                        HL\n",
       "Terminal value       14,278,026,830.248938\n",
       "Enterprise value      9,586,266,579.145321\n",
       "Net debt&cash                    125300000\n",
       "Fair value            9,711,566,579.145321\n",
       "No. of shares                    474429699\n",
       "Fair value per share             20.469980"
      ]
     },
     "metadata": {},
     "output_type": "display_data"
    },
    {
     "data": {
      "text/html": [
       "<div>\n",
       "<style scoped>\n",
       "    .dataframe tbody tr th:only-of-type {\n",
       "        vertical-align: middle;\n",
       "    }\n",
       "\n",
       "    .dataframe tbody tr th {\n",
       "        vertical-align: top;\n",
       "    }\n",
       "\n",
       "    .dataframe thead th {\n",
       "        text-align: right;\n",
       "    }\n",
       "</style>\n",
       "<table border=\"1\" class=\"dataframe\">\n",
       "  <thead>\n",
       "    <tr style=\"text-align: right;\">\n",
       "      <th>financial_year</th>\n",
       "      <th>2019</th>\n",
       "      <th>2020</th>\n",
       "      <th>2021</th>\n",
       "      <th>2022</th>\n",
       "      <th>2023</th>\n",
       "      <th>2024</th>\n",
       "      <th>2025</th>\n",
       "      <th>2026</th>\n",
       "      <th>2027</th>\n",
       "    </tr>\n",
       "  </thead>\n",
       "  <tbody>\n",
       "    <tr>\n",
       "      <th>EBIT</th>\n",
       "      <td>361,669,606.195258</td>\n",
       "      <td>406,973,994.496293</td>\n",
       "      <td>453,827,208.527316</td>\n",
       "      <td>518,556,294.341876</td>\n",
       "      <td>589,895,096.321686</td>\n",
       "      <td>664,437,450.004241</td>\n",
       "      <td>729,321,542.346943</td>\n",
       "      <td>794,786,093.929483</td>\n",
       "      <td>865,340,025.463480</td>\n",
       "    </tr>\n",
       "    <tr>\n",
       "      <th>Depreciation</th>\n",
       "      <td>12,336,310.000000</td>\n",
       "      <td>13,087,591.279000</td>\n",
       "      <td>13,884,625.587891</td>\n",
       "      <td>14,730,199.286194</td>\n",
       "      <td>15,627,268.422723</td>\n",
       "      <td>16,578,969.069667</td>\n",
       "      <td>17,588,628.286009</td>\n",
       "      <td>18,659,775.748627</td>\n",
       "      <td>19,796,156.091719</td>\n",
       "    </tr>\n",
       "    <tr>\n",
       "      <th>Capital Expenditure</th>\n",
       "      <td>20,954,571.909000</td>\n",
       "      <td>22,002,511.936081</td>\n",
       "      <td>23,102,859.538230</td>\n",
       "      <td>24,258,235.622994</td>\n",
       "      <td>25,471,392.169741</td>\n",
       "      <td>26,745,218.784575</td>\n",
       "      <td>28,082,749.583062</td>\n",
       "      <td>29,487,170.417158</td>\n",
       "      <td>30,961,826.463566</td>\n",
       "    </tr>\n",
       "    <tr>\n",
       "      <th>Tax</th>\n",
       "      <td>68,717,225.177099</td>\n",
       "      <td>77,325,058.954296</td>\n",
       "      <td>86,227,169.620190</td>\n",
       "      <td>98,525,695.924957</td>\n",
       "      <td>112,080,068.301120</td>\n",
       "      <td>126,243,115.500806</td>\n",
       "      <td>138,571,093.045919</td>\n",
       "      <td>151,009,357.846602</td>\n",
       "      <td>164,414,604.838061</td>\n",
       "    </tr>\n",
       "    <tr>\n",
       "      <th>EAT</th>\n",
       "      <td>292,952,381.018159</td>\n",
       "      <td>329,648,935.541998</td>\n",
       "      <td>367,600,038.907126</td>\n",
       "      <td>420,030,598.416920</td>\n",
       "      <td>477,815,028.020565</td>\n",
       "      <td>538,194,334.503435</td>\n",
       "      <td>590,750,449.301023</td>\n",
       "      <td>643,776,736.082882</td>\n",
       "      <td>700,925,420.625419</td>\n",
       "    </tr>\n",
       "    <tr>\n",
       "      <th>Free cash flow</th>\n",
       "      <td>284,334,119.109159</td>\n",
       "      <td>320,734,014.884917</td>\n",
       "      <td>358,381,804.956787</td>\n",
       "      <td>410,502,562.080119</td>\n",
       "      <td>467,970,904.273547</td>\n",
       "      <td>528,028,084.788526</td>\n",
       "      <td>580,256,328.003971</td>\n",
       "      <td>632,949,341.414351</td>\n",
       "      <td>689,759,750.253572</td>\n",
       "    </tr>\n",
       "    <tr>\n",
       "      <th>Discounted cash flow</th>\n",
       "      <td>262,059,095.953142</td>\n",
       "      <td>272,449,204.599730</td>\n",
       "      <td>280,580,017.430891</td>\n",
       "      <td>296,208,092.423123</td>\n",
       "      <td>311,221,908.119273</td>\n",
       "      <td>323,652,222.263933</td>\n",
       "      <td>327,802,089.892072</td>\n",
       "      <td>329,557,384.026928</td>\n",
       "      <td>331,001,684.997061</td>\n",
       "    </tr>\n",
       "  </tbody>\n",
       "</table>\n",
       "</div>"
      ],
      "text/plain": [
       "financial_year                       2019                 2020  \\\n",
       "EBIT                   361,669,606.195258   406,973,994.496293   \n",
       "Depreciation            12,336,310.000000    13,087,591.279000   \n",
       "Capital Expenditure     20,954,571.909000    22,002,511.936081   \n",
       "Tax                     68,717,225.177099    77,325,058.954296   \n",
       "EAT                    292,952,381.018159   329,648,935.541998   \n",
       "Free cash flow         284,334,119.109159   320,734,014.884917   \n",
       "Discounted cash flow   262,059,095.953142   272,449,204.599730   \n",
       "\n",
       "financial_year                       2021                 2022  \\\n",
       "EBIT                   453,827,208.527316   518,556,294.341876   \n",
       "Depreciation            13,884,625.587891    14,730,199.286194   \n",
       "Capital Expenditure     23,102,859.538230    24,258,235.622994   \n",
       "Tax                     86,227,169.620190    98,525,695.924957   \n",
       "EAT                    367,600,038.907126   420,030,598.416920   \n",
       "Free cash flow         358,381,804.956787   410,502,562.080119   \n",
       "Discounted cash flow   280,580,017.430891   296,208,092.423123   \n",
       "\n",
       "financial_year                       2023                 2024  \\\n",
       "EBIT                   589,895,096.321686   664,437,450.004241   \n",
       "Depreciation            15,627,268.422723    16,578,969.069667   \n",
       "Capital Expenditure     25,471,392.169741    26,745,218.784575   \n",
       "Tax                    112,080,068.301120   126,243,115.500806   \n",
       "EAT                    477,815,028.020565   538,194,334.503435   \n",
       "Free cash flow         467,970,904.273547   528,028,084.788526   \n",
       "Discounted cash flow   311,221,908.119273   323,652,222.263933   \n",
       "\n",
       "financial_year                       2025                 2026  \\\n",
       "EBIT                   729,321,542.346943   794,786,093.929483   \n",
       "Depreciation            17,588,628.286009    18,659,775.748627   \n",
       "Capital Expenditure     28,082,749.583062    29,487,170.417158   \n",
       "Tax                    138,571,093.045919   151,009,357.846602   \n",
       "EAT                    590,750,449.301023   643,776,736.082882   \n",
       "Free cash flow         580,256,328.003971   632,949,341.414351   \n",
       "Discounted cash flow   327,802,089.892072   329,557,384.026928   \n",
       "\n",
       "financial_year                       2027  \n",
       "EBIT                   865,340,025.463480  \n",
       "Depreciation            19,796,156.091719  \n",
       "Capital Expenditure     30,961,826.463566  \n",
       "Tax                    164,414,604.838061  \n",
       "EAT                    700,925,420.625419  \n",
       "Free cash flow         689,759,750.253572  \n",
       "Discounted cash flow   331,001,684.997061  "
      ]
     },
     "metadata": {},
     "output_type": "display_data"
    },
    {
     "data": {
      "text/html": [
       "<div>\n",
       "<style scoped>\n",
       "    .dataframe tbody tr th:only-of-type {\n",
       "        vertical-align: middle;\n",
       "    }\n",
       "\n",
       "    .dataframe tbody tr th {\n",
       "        vertical-align: top;\n",
       "    }\n",
       "\n",
       "    .dataframe thead th {\n",
       "        text-align: right;\n",
       "    }\n",
       "</style>\n",
       "<table border=\"1\" class=\"dataframe\">\n",
       "  <thead>\n",
       "    <tr style=\"text-align: right;\">\n",
       "      <th></th>\n",
       "      <th>HL</th>\n",
       "    </tr>\n",
       "  </thead>\n",
       "  <tbody>\n",
       "    <tr>\n",
       "      <th>Terminal value</th>\n",
       "      <td>15,029,501,926.577829</td>\n",
       "    </tr>\n",
       "    <tr>\n",
       "      <th>Enterprise value</th>\n",
       "      <td>10,131,285,755.998276</td>\n",
       "    </tr>\n",
       "    <tr>\n",
       "      <th>Net debt&amp;cash</th>\n",
       "      <td>125300000</td>\n",
       "    </tr>\n",
       "    <tr>\n",
       "      <th>Fair value</th>\n",
       "      <td>10,256,585,755.998276</td>\n",
       "    </tr>\n",
       "    <tr>\n",
       "      <th>No. of shares</th>\n",
       "      <td>474429699</td>\n",
       "    </tr>\n",
       "    <tr>\n",
       "      <th>Fair value per share</th>\n",
       "      <td>21.618768</td>\n",
       "    </tr>\n",
       "  </tbody>\n",
       "</table>\n",
       "</div>"
      ],
      "text/plain": [
       "                                        HL\n",
       "Terminal value       15,029,501,926.577829\n",
       "Enterprise value     10,131,285,755.998276\n",
       "Net debt&cash                    125300000\n",
       "Fair value           10,256,585,755.998276\n",
       "No. of shares                    474429699\n",
       "Fair value per share             21.618768"
      ]
     },
     "metadata": {},
     "output_type": "display_data"
    },
    {
     "data": {
      "text/html": [
       "<div>\n",
       "<style scoped>\n",
       "    .dataframe tbody tr th:only-of-type {\n",
       "        vertical-align: middle;\n",
       "    }\n",
       "\n",
       "    .dataframe tbody tr th {\n",
       "        vertical-align: top;\n",
       "    }\n",
       "\n",
       "    .dataframe thead th {\n",
       "        text-align: right;\n",
       "    }\n",
       "</style>\n",
       "<table border=\"1\" class=\"dataframe\">\n",
       "  <thead>\n",
       "    <tr style=\"text-align: right;\">\n",
       "      <th></th>\n",
       "      <th>HL</th>\n",
       "    </tr>\n",
       "  </thead>\n",
       "  <tbody>\n",
       "    <tr>\n",
       "      <th>Terminal value</th>\n",
       "      <td>15,864,474,255.832153</td>\n",
       "    </tr>\n",
       "    <tr>\n",
       "      <th>Enterprise value</th>\n",
       "      <td>10,737,492,410.942282</td>\n",
       "    </tr>\n",
       "    <tr>\n",
       "      <th>Net debt&amp;cash</th>\n",
       "      <td>125300000</td>\n",
       "    </tr>\n",
       "    <tr>\n",
       "      <th>Fair value</th>\n",
       "      <td>10,862,792,410.942282</td>\n",
       "    </tr>\n",
       "    <tr>\n",
       "      <th>No. of shares</th>\n",
       "      <td>474429699</td>\n",
       "    </tr>\n",
       "    <tr>\n",
       "      <th>Fair value per share</th>\n",
       "      <td>22.896527</td>\n",
       "    </tr>\n",
       "  </tbody>\n",
       "</table>\n",
       "</div>"
      ],
      "text/plain": [
       "                                        HL\n",
       "Terminal value       15,864,474,255.832153\n",
       "Enterprise value     10,737,492,410.942282\n",
       "Net debt&cash                    125300000\n",
       "Fair value           10,862,792,410.942282\n",
       "No. of shares                    474429699\n",
       "Fair value per share             22.896527"
      ]
     },
     "metadata": {},
     "output_type": "display_data"
    },
    {
     "data": {
      "text/html": [
       "<div>\n",
       "<style scoped>\n",
       "    .dataframe tbody tr th:only-of-type {\n",
       "        vertical-align: middle;\n",
       "    }\n",
       "\n",
       "    .dataframe tbody tr th {\n",
       "        vertical-align: top;\n",
       "    }\n",
       "\n",
       "    .dataframe thead th {\n",
       "        text-align: right;\n",
       "    }\n",
       "</style>\n",
       "<table border=\"1\" class=\"dataframe\">\n",
       "  <thead>\n",
       "    <tr style=\"text-align: right;\">\n",
       "      <th></th>\n",
       "      <th>HL</th>\n",
       "    </tr>\n",
       "  </thead>\n",
       "  <tbody>\n",
       "    <tr>\n",
       "      <th>Terminal value</th>\n",
       "      <td>13,791,633,018.186378</td>\n",
       "    </tr>\n",
       "    <tr>\n",
       "      <th>Enterprise value</th>\n",
       "      <td>9,215,338,161.115705</td>\n",
       "    </tr>\n",
       "    <tr>\n",
       "      <th>Net debt&amp;cash</th>\n",
       "      <td>125300000</td>\n",
       "    </tr>\n",
       "    <tr>\n",
       "      <th>Fair value</th>\n",
       "      <td>9,340,638,161.115705</td>\n",
       "    </tr>\n",
       "    <tr>\n",
       "      <th>No. of shares</th>\n",
       "      <td>474429699</td>\n",
       "    </tr>\n",
       "    <tr>\n",
       "      <th>Fair value per share</th>\n",
       "      <td>19.688140</td>\n",
       "    </tr>\n",
       "  </tbody>\n",
       "</table>\n",
       "</div>"
      ],
      "text/plain": [
       "                                        HL\n",
       "Terminal value       13,791,633,018.186378\n",
       "Enterprise value      9,215,338,161.115705\n",
       "Net debt&cash                    125300000\n",
       "Fair value            9,340,638,161.115705\n",
       "No. of shares                    474429699\n",
       "Fair value per share             19.688140"
      ]
     },
     "metadata": {},
     "output_type": "display_data"
    }
   ],
   "source": [
    "'''=====current values=======\n",
    "discounted cash flow period: 9 years\n",
    "perpetuity growth rate: 0.035\n",
    "cash flow discounted rate: 0.085\n",
    "'''\n",
    "dcf_period = widgets.IntText(value=9,placeholder='Integer',description='DCF period - No. of years:')\n",
    "display(dcf_period)\n",
    "perp_growth = widgets.FloatText(value=0.035,placeholder='Percentage as decimals',description='Perpetuity growth rate:')\n",
    "display(perp_growth)\n",
    "disct_rate = widgets.FloatText(value=0.085,placeholder='Percentage as decimals',description='Cash flow discount rate:')\n",
    "display(disct_rate)\n",
    "current_value = widgets.Checkbox(value=False, description='Fair value now')\n",
    "display(current_value)\n",
    "\n",
    "dis_cash = ['Discounted cash flow','Fair value']\n",
    "items5 = {}\n",
    "for w5 in dis_cash:\n",
    "    items5[w5] = widgets.Button(description=w5, layout=widgets.Layout(width='100%', height='40px'))\n",
    "    items5[w5].style.button_color = 'lightgreen'\n",
    "fair = widgets.HBox([list(items5.values())[0],list(items5.values())[1]],layout=box_layout3)\n",
    "items5['Discounted cash flow'].on_click(lambda x: display(discf.disc_cash_flow(data_dic, input_dic,now=current_value.value,dcf_p=dcf_period.value,disc_rate=disct_rate.value)))\n",
    "items5['Fair value'].on_click(lambda x: display(discf.fair_value(data_dic, input_dic,now=current_value.value,dcf_p=dcf_period.value,disc_rate=disct_rate.value,pep_rate=perp_growth.value)))    \n",
    "display(fair)"
   ]
  },
  {
   "cell_type": "code",
   "execution_count": 10,
   "metadata": {},
   "outputs": [
    {
     "data": {
      "application/vnd.jupyter.widget-view+json": {
       "model_id": "bc78cb5b1f7f4c338a441f6c5daba8cc",
       "version_major": 2,
       "version_minor": 0
      },
      "text/html": [
       "<p>Failed to display Jupyter Widget of type <code>RadioButtons</code>.</p>\n",
       "<p>\n",
       "  If you're reading this message in the Jupyter Notebook or JupyterLab Notebook, it may mean\n",
       "  that the widgets JavaScript is still loading. If this message persists, it\n",
       "  likely means that the widgets JavaScript library is either not installed or\n",
       "  not enabled. See the <a href=\"https://ipywidgets.readthedocs.io/en/stable/user_install.html\">Jupyter\n",
       "  Widgets Documentation</a> for setup instructions.\n",
       "</p>\n",
       "<p>\n",
       "  If you're reading this message in another frontend (for example, a static\n",
       "  rendering on GitHub or <a href=\"https://nbviewer.jupyter.org/\">NBViewer</a>),\n",
       "  it may mean that your frontend doesn't currently support widgets.\n",
       "</p>\n"
      ],
      "text/plain": [
       "RadioButtons(description='Period', options=('month_no', 'quarter_no', 'half_no', 'financial_year', 'calendar_year'), value='month_no')"
      ]
     },
     "metadata": {},
     "output_type": "display_data"
    },
    {
     "data": {
      "application/vnd.jupyter.widget-view+json": {
       "model_id": "01ca3abf2629401e894ab12802d7fef7",
       "version_major": 2,
       "version_minor": 0
      },
      "text/html": [
       "<p>Failed to display Jupyter Widget of type <code>HBox</code>.</p>\n",
       "<p>\n",
       "  If you're reading this message in the Jupyter Notebook or JupyterLab Notebook, it may mean\n",
       "  that the widgets JavaScript is still loading. If this message persists, it\n",
       "  likely means that the widgets JavaScript library is either not installed or\n",
       "  not enabled. See the <a href=\"https://ipywidgets.readthedocs.io/en/stable/user_install.html\">Jupyter\n",
       "  Widgets Documentation</a> for setup instructions.\n",
       "</p>\n",
       "<p>\n",
       "  If you're reading this message in another frontend (for example, a static\n",
       "  rendering on GitHub or <a href=\"https://nbviewer.jupyter.org/\">NBViewer</a>),\n",
       "  it may mean that your frontend doesn't currently support widgets.\n",
       "</p>\n"
      ],
      "text/plain": [
       "HBox(children=(VBox(children=(Button(description='HLF composite monthly return', layout=Layout(height='40px', width='100%'), style=ButtonStyle(button_color='lightgreen')), Button(description='Total NNB hlf Algo', layout=Layout(height='40px', width='100%'), style=ButtonStyle(button_color='lightgreen')), Button(description='NNB distribution hlf Algo', layout=Layout(height='40px', width='100%'), style=ButtonStyle(button_color='lightgreen')), Button(description='Total AUA', layout=Layout(height='40px', width='100%'), style=ButtonStyle(button_color='lightgreen'))), layout=Layout(align_items='stretch', border='solid', display='flex', flex_flow='column', width='30%')), VBox(children=(Button(description='% Revenue distribution', layout=Layout(height='40px', width='100%'), style=ButtonStyle(button_color='lightgreen')), Button(description='Avg AUA distribution', layout=Layout(height='40px', width='100%'), style=ButtonStyle(button_color='lightgreen')), Button(description='Total NNB nnc Algo', layout=Layout(height='40px', width='100%'), style=ButtonStyle(button_color='lightgreen')), Button(description='NNB distribution nnc Algo', layout=Layout(height='40px', width='100%'), style=ButtonStyle(button_color='lightgreen'))), layout=Layout(align_items='stretch', border='solid', display='flex', flex_flow='column', width='30%'))))"
      ]
     },
     "metadata": {},
     "output_type": "display_data"
    }
   ],
   "source": [
    "radio1 = widgets.RadioButtons(options=['month_no','quarter_no','half_no','financial_year','calendar_year'],description='Period',disabled=False)\n",
    "display(radio1)\n",
    "\n",
    "others = ['HLF composite monthly return','Total NNB hlf Algo','NNB distribution hlf Algo','Total AUA','% Revenue distribution','Avg AUA distribution', 'Total NNB nnc Algo', 'NNB distribution nnc Algo']\n",
    "items6 = {}\n",
    "for w6 in others:\n",
    "    items6[w6] = widgets.Button(description=w6, layout=widgets.Layout(width='100%', height='40px'))\n",
    "    items6[w6].style.button_color = 'lightgreen'\n",
    "other_box1 = widgets.VBox([list(items6.values())[0],list(items6.values())[1],list(items6.values())[2],list(items6.values())[3]],layout=box_layout)\n",
    "other_box2 = widgets.VBox([list(items6.values())[4],list(items6.values())[5],list(items6.values())[6],list(items6.values())[7]],layout=box_layout)\n",
    "items6['HLF composite monthly return'].on_click(lambda x: display(discretionary_aua.get_composite_return(data_dic)))\n",
    "items6['Total NNB hlf Algo'].on_click(lambda x: display(combined.total_nnb(data_dic, input_dic, opt=radio1.value)))\n",
    "items6['NNB distribution hlf Algo'].on_click(lambda x: display(combined.nnb_distribution(data_dic, input_dic, opt=radio1.value)))\n",
    "items6['Total AUA'].on_click(lambda x: display(combined.total_aua(data_dic, input_dic)))\n",
    "items6['% Revenue distribution'].on_click(lambda x: display(stats.summary_revenue_dist_percent(data_dic, input_dic)))\n",
    "items6['Avg AUA distribution'].on_click(lambda x: display(stats.summary_avg_aua_dist(data_dic, input_dic,radio1.value)))\n",
    "items6['Total NNB nnc Algo'].on_click(lambda x: display(combined.total_nnb_ci_clientAlgo(data_dic, input_dic, opt=radio1.value)))\n",
    "items6['NNB distribution nnc Algo'].on_click(lambda x: display(combined.total_nnb_distribution_clientAlgo(data_dic, input_dic, opt=radio1.value)))\n",
    "\n",
    "widgets.HBox([other_box1, other_box2])\n",
    "\n",
    "#Financial year based"
   ]
  },
  {
   "cell_type": "code",
   "execution_count": 11,
   "metadata": {},
   "outputs": [
    {
     "data": {
      "application/vnd.jupyter.widget-view+json": {
       "model_id": "3cd5601c0c7241b39008a183843eb8e4",
       "version_major": 2,
       "version_minor": 0
      },
      "text/html": [
       "<p>Failed to display Jupyter Widget of type <code>RadioButtons</code>.</p>\n",
       "<p>\n",
       "  If you're reading this message in the Jupyter Notebook or JupyterLab Notebook, it may mean\n",
       "  that the widgets JavaScript is still loading. If this message persists, it\n",
       "  likely means that the widgets JavaScript library is either not installed or\n",
       "  not enabled. See the <a href=\"https://ipywidgets.readthedocs.io/en/stable/user_install.html\">Jupyter\n",
       "  Widgets Documentation</a> for setup instructions.\n",
       "</p>\n",
       "<p>\n",
       "  If you're reading this message in another frontend (for example, a static\n",
       "  rendering on GitHub or <a href=\"https://nbviewer.jupyter.org/\">NBViewer</a>),\n",
       "  it may mean that your frontend doesn't currently support widgets.\n",
       "</p>\n"
      ],
      "text/plain": [
       "RadioButtons(description='Period', options=('day', 'month', 'semi-annual', 'quarter', 'annual'), value='day')"
      ]
     },
     "metadata": {},
     "output_type": "display_data"
    },
    {
     "data": {
      "application/vnd.jupyter.widget-view+json": {
       "model_id": "c0d34425f4654faabad78060bf6137ff",
       "version_major": 2,
       "version_minor": 0
      },
      "text/html": [
       "<p>Failed to display Jupyter Widget of type <code>Dropdown</code>.</p>\n",
       "<p>\n",
       "  If you're reading this message in the Jupyter Notebook or JupyterLab Notebook, it may mean\n",
       "  that the widgets JavaScript is still loading. If this message persists, it\n",
       "  likely means that the widgets JavaScript library is either not installed or\n",
       "  not enabled. See the <a href=\"https://ipywidgets.readthedocs.io/en/stable/user_install.html\">Jupyter\n",
       "  Widgets Documentation</a> for setup instructions.\n",
       "</p>\n",
       "<p>\n",
       "  If you're reading this message in another frontend (for example, a static\n",
       "  rendering on GitHub or <a href=\"https://nbviewer.jupyter.org/\">NBViewer</a>),\n",
       "  it may mean that your frontend doesn't currently support widgets.\n",
       "</p>\n"
      ],
      "text/plain": [
       "Dropdown(description='Fund option', options=('no_select', None), value='no_select')"
      ]
     },
     "metadata": {},
     "output_type": "display_data"
    },
    {
     "data": {
      "application/vnd.jupyter.widget-view+json": {
       "model_id": "ecefefaed8e5408aad5c987852b09591",
       "version_major": 2,
       "version_minor": 0
      },
      "text/html": [
       "<p>Failed to display Jupyter Widget of type <code>Dropdown</code>.</p>\n",
       "<p>\n",
       "  If you're reading this message in the Jupyter Notebook or JupyterLab Notebook, it may mean\n",
       "  that the widgets JavaScript is still loading. If this message persists, it\n",
       "  likely means that the widgets JavaScript library is either not installed or\n",
       "  not enabled. See the <a href=\"https://ipywidgets.readthedocs.io/en/stable/user_install.html\">Jupyter\n",
       "  Widgets Documentation</a> for setup instructions.\n",
       "</p>\n",
       "<p>\n",
       "  If you're reading this message in another frontend (for example, a static\n",
       "  rendering on GitHub or <a href=\"https://nbviewer.jupyter.org/\">NBViewer</a>),\n",
       "  it may mean that your frontend doesn't currently support widgets.\n",
       "</p>\n"
      ],
      "text/plain": [
       "Dropdown(description='Unit type', options=('acc', 'inc'), value='acc')"
      ]
     },
     "metadata": {},
     "output_type": "display_data"
    },
    {
     "data": {
      "application/vnd.jupyter.widget-view+json": {
       "model_id": "6f899a6bc534407385dcd59f7df3591f",
       "version_major": 2,
       "version_minor": 0
      },
      "text/html": [
       "<p>Failed to display Jupyter Widget of type <code>Button</code>.</p>\n",
       "<p>\n",
       "  If you're reading this message in the Jupyter Notebook or JupyterLab Notebook, it may mean\n",
       "  that the widgets JavaScript is still loading. If this message persists, it\n",
       "  likely means that the widgets JavaScript library is either not installed or\n",
       "  not enabled. See the <a href=\"https://ipywidgets.readthedocs.io/en/stable/user_install.html\">Jupyter\n",
       "  Widgets Documentation</a> for setup instructions.\n",
       "</p>\n",
       "<p>\n",
       "  If you're reading this message in another frontend (for example, a static\n",
       "  rendering on GitHub or <a href=\"https://nbviewer.jupyter.org/\">NBViewer</a>),\n",
       "  it may mean that your frontend doesn't currently support widgets.\n",
       "</p>\n"
      ],
      "text/plain": [
       "Button(description='Implied HLF nnb period-to-date', layout=Layout(height='40px', width='50%'), style=ButtonStyle(button_color='lightgreen'))"
      ]
     },
     "metadata": {},
     "output_type": "display_data"
    },
    {
     "data": {
      "application/vnd.jupyter.widget-view+json": {
       "model_id": "7df77f85fcde476fb84c1aaafa43a3c3",
       "version_major": 2,
       "version_minor": 0
      },
      "text/html": [
       "<p>Failed to display Jupyter Widget of type <code>Button</code>.</p>\n",
       "<p>\n",
       "  If you're reading this message in the Jupyter Notebook or JupyterLab Notebook, it may mean\n",
       "  that the widgets JavaScript is still loading. If this message persists, it\n",
       "  likely means that the widgets JavaScript library is either not installed or\n",
       "  not enabled. See the <a href=\"https://ipywidgets.readthedocs.io/en/stable/user_install.html\">Jupyter\n",
       "  Widgets Documentation</a> for setup instructions.\n",
       "</p>\n",
       "<p>\n",
       "  If you're reading this message in another frontend (for example, a static\n",
       "  rendering on GitHub or <a href=\"https://nbviewer.jupyter.org/\">NBViewer</a>),\n",
       "  it may mean that your frontend doesn't currently support widgets.\n",
       "</p>\n"
      ],
      "text/plain": [
       "Button(description='HLF unit change period-to-date', layout=Layout(height='40px', width='50%'), style=ButtonStyle(button_color='lightgreen'))"
      ]
     },
     "metadata": {},
     "output_type": "display_data"
    }
   ],
   "source": [
    "nnb_radio = widgets.RadioButtons(options=['day','month','semi-annual','quarter','annual'],description='Period',disabled=False)\n",
    "nnb_dropdown = widgets.Dropdown(options=['no_select',None],description='Fund option',disabled=False)\n",
    "unit_dropdown = widgets.Dropdown(options=['acc','inc'],description='Unit type',disabled=False)\n",
    "display(nnb_radio)\n",
    "display(nnb_dropdown)\n",
    "display(unit_dropdown)\n",
    "\n",
    "nnb_b = widgets.Button(description='Implied HLF nnb period-to-date', layout=widgets.Layout(width='50%', height='40px'))\n",
    "nnb_b.style.button_color = 'lightgreen'\n",
    "\n",
    "nnb_b2 = widgets.Button(description='HLF unit change period-to-date', layout=widgets.Layout(width='50%', height='40px'))\n",
    "nnb_b2.style.button_color = 'lightgreen'\n",
    "nnb_b.on_click(lambda x: display(stats.hlf_to_date_implied_nnb(data_dic,typ=nnb_radio.value,fund_opt=nnb_dropdown.value)))\n",
    "nnb_b2.on_click(lambda x: display(stats.hlf_to_date_unit_change(data_dic, unit_type=unit_dropdown.value,typ=nnb_radio.value,fund_opt=nnb_dropdown.value)))\n",
    "\n",
    "display(nnb_b)\n",
    "display(nnb_b2)"
   ]
  },
  {
   "cell_type": "code",
   "execution_count": 12,
   "metadata": {},
   "outputs": [
    {
     "data": {
      "application/vnd.jupyter.widget-view+json": {
       "model_id": "0bc155816a66450fbbb106e665af588c",
       "version_major": 2,
       "version_minor": 0
      },
      "text/html": [
       "<p>Failed to display Jupyter Widget of type <code>RadioButtons</code>.</p>\n",
       "<p>\n",
       "  If you're reading this message in the Jupyter Notebook or JupyterLab Notebook, it may mean\n",
       "  that the widgets JavaScript is still loading. If this message persists, it\n",
       "  likely means that the widgets JavaScript library is either not installed or\n",
       "  not enabled. See the <a href=\"https://ipywidgets.readthedocs.io/en/stable/user_install.html\">Jupyter\n",
       "  Widgets Documentation</a> for setup instructions.\n",
       "</p>\n",
       "<p>\n",
       "  If you're reading this message in another frontend (for example, a static\n",
       "  rendering on GitHub or <a href=\"https://nbviewer.jupyter.org/\">NBViewer</a>),\n",
       "  it may mean that your frontend doesn't currently support widgets.\n",
       "</p>\n"
      ],
      "text/plain": [
       "RadioButtons(description='Period', options=('monthly', 'quarter_no', 'half_no', 'financial_year', 'calendar_year'), value='monthly')"
      ]
     },
     "metadata": {},
     "output_type": "display_data"
    },
    {
     "data": {
      "application/vnd.jupyter.widget-view+json": {
       "model_id": "9bb1450f78c449dc9b754976df90c23c",
       "version_major": 2,
       "version_minor": 0
      },
      "text/html": [
       "<p>Failed to display Jupyter Widget of type <code>Button</code>.</p>\n",
       "<p>\n",
       "  If you're reading this message in the Jupyter Notebook or JupyterLab Notebook, it may mean\n",
       "  that the widgets JavaScript is still loading. If this message persists, it\n",
       "  likely means that the widgets JavaScript library is either not installed or\n",
       "  not enabled. See the <a href=\"https://ipywidgets.readthedocs.io/en/stable/user_install.html\">Jupyter\n",
       "  Widgets Documentation</a> for setup instructions.\n",
       "</p>\n",
       "<p>\n",
       "  If you're reading this message in another frontend (for example, a static\n",
       "  rendering on GitHub or <a href=\"https://nbviewer.jupyter.org/\">NBViewer</a>),\n",
       "  it may mean that your frontend doesn't currently support widgets.\n",
       "</p>\n"
      ],
      "text/plain": [
       "Button(description='Cash margin', layout=Layout(height='40px', width='50%'), style=ButtonStyle(button_color='lightgreen'))"
      ]
     },
     "metadata": {},
     "output_type": "display_data"
    }
   ],
   "source": [
    "cash_radio = widgets.RadioButtons(options=['monthly','quarter_no','half_no','financial_year','calendar_year'],description='Period',disabled=False)\n",
    "display(cash_radio)\n",
    "\n",
    "\n",
    "cash_b = widgets.Button(description='Cash margin', layout=widgets.Layout(width='50%', height='40px'))\n",
    "cash_b.style.button_color = 'lightgreen'\n",
    "cash_b.on_click(lambda x: display(stats.cash_margin(data_dic,cash_radio.value)))\n",
    "display(cash_b)"
   ]
  },
  {
   "cell_type": "code",
   "execution_count": 13,
   "metadata": {},
   "outputs": [
    {
     "data": {
      "application/vnd.jupyter.widget-view+json": {
       "model_id": "d6ebbd114fd14130a056592fb2f48f54",
       "version_major": 2,
       "version_minor": 0
      },
      "text/html": [
       "<p>Failed to display Jupyter Widget of type <code>RadioButtons</code>.</p>\n",
       "<p>\n",
       "  If you're reading this message in the Jupyter Notebook or JupyterLab Notebook, it may mean\n",
       "  that the widgets JavaScript is still loading. If this message persists, it\n",
       "  likely means that the widgets JavaScript library is either not installed or\n",
       "  not enabled. See the <a href=\"https://ipywidgets.readthedocs.io/en/stable/user_install.html\">Jupyter\n",
       "  Widgets Documentation</a> for setup instructions.\n",
       "</p>\n",
       "<p>\n",
       "  If you're reading this message in another frontend (for example, a static\n",
       "  rendering on GitHub or <a href=\"https://nbviewer.jupyter.org/\">NBViewer</a>),\n",
       "  it may mean that your frontend doesn't currently support widgets.\n",
       "</p>\n"
      ],
      "text/plain": [
       "RadioButtons(description='Calendar year?', options=(True, False), value=True)"
      ]
     },
     "metadata": {},
     "output_type": "display_data"
    },
    {
     "data": {
      "application/vnd.jupyter.widget-view+json": {
       "model_id": "fffe36e87f044e7488e3dbafebc4fa10",
       "version_major": 2,
       "version_minor": 0
      },
      "text/html": [
       "<p>Failed to display Jupyter Widget of type <code>Button</code>.</p>\n",
       "<p>\n",
       "  If you're reading this message in the Jupyter Notebook or JupyterLab Notebook, it may mean\n",
       "  that the widgets JavaScript is still loading. If this message persists, it\n",
       "  likely means that the widgets JavaScript library is either not installed or\n",
       "  not enabled. See the <a href=\"https://ipywidgets.readthedocs.io/en/stable/user_install.html\">Jupyter\n",
       "  Widgets Documentation</a> for setup instructions.\n",
       "</p>\n",
       "<p>\n",
       "  If you're reading this message in another frontend (for example, a static\n",
       "  rendering on GitHub or <a href=\"https://nbviewer.jupyter.org/\">NBViewer</a>),\n",
       "  it may mean that your frontend doesn't currently support widgets.\n",
       "</p>\n"
      ],
      "text/plain": [
       "Button(description='Net earnings and EPS', layout=Layout(height='40px', width='50%'), style=ButtonStyle(button_color='lightgreen'))"
      ]
     },
     "metadata": {},
     "output_type": "display_data"
    }
   ],
   "source": [
    "eps_radio = widgets.RadioButtons(options=[True, False],description='Calendar year?',disabled=False)\n",
    "display(eps_radio)\n",
    "\n",
    "eps_summary = widgets.Button(description='Net earnings and EPS', layout=widgets.Layout(width='50%', height='40px'))\n",
    "eps_summary.style.button_color = 'lightgreen'\n",
    "eps_summary.on_click(lambda x: display(stats.summary_total(data_dic, input_dic, cal=eps_radio.value)))\n",
    "display(eps_summary)\n"
   ]
  },
  {
   "cell_type": "code",
   "execution_count": 14,
   "metadata": {},
   "outputs": [
    {
     "data": {
      "application/vnd.jupyter.widget-view+json": {
       "model_id": "fd2a3af3b6f14c80919a11fa237676e3",
       "version_major": 2,
       "version_minor": 0
      },
      "text/html": [
       "<p>Failed to display Jupyter Widget of type <code>RadioButtons</code>.</p>\n",
       "<p>\n",
       "  If you're reading this message in the Jupyter Notebook or JupyterLab Notebook, it may mean\n",
       "  that the widgets JavaScript is still loading. If this message persists, it\n",
       "  likely means that the widgets JavaScript library is either not installed or\n",
       "  not enabled. See the <a href=\"https://ipywidgets.readthedocs.io/en/stable/user_install.html\">Jupyter\n",
       "  Widgets Documentation</a> for setup instructions.\n",
       "</p>\n",
       "<p>\n",
       "  If you're reading this message in another frontend (for example, a static\n",
       "  rendering on GitHub or <a href=\"https://nbviewer.jupyter.org/\">NBViewer</a>),\n",
       "  it may mean that your frontend doesn't currently support widgets.\n",
       "</p>\n"
      ],
      "text/plain": [
       "RadioButtons(description='Period', options=('month_no', 'quarter_no', 'half_no', 'financial_year', 'calendar_year'), value='month_no')"
      ]
     },
     "metadata": {},
     "output_type": "display_data"
    },
    {
     "data": {
      "application/vnd.jupyter.widget-view+json": {
       "model_id": "31f3c344333f4cfba5cfdd0b052fbcb0",
       "version_major": 2,
       "version_minor": 0
      },
      "text/html": [
       "<p>Failed to display Jupyter Widget of type <code>VBox</code>.</p>\n",
       "<p>\n",
       "  If you're reading this message in the Jupyter Notebook or JupyterLab Notebook, it may mean\n",
       "  that the widgets JavaScript is still loading. If this message persists, it\n",
       "  likely means that the widgets JavaScript library is either not installed or\n",
       "  not enabled. See the <a href=\"https://ipywidgets.readthedocs.io/en/stable/user_install.html\">Jupyter\n",
       "  Widgets Documentation</a> for setup instructions.\n",
       "</p>\n",
       "<p>\n",
       "  If you're reading this message in another frontend (for example, a static\n",
       "  rendering on GitHub or <a href=\"https://nbviewer.jupyter.org/\">NBViewer</a>),\n",
       "  it may mean that your frontend doesn't currently support widgets.\n",
       "</p>\n"
      ],
      "text/plain": [
       "VBox(children=(HBox(children=(Button(description='HLF revenue margin', layout=Layout(height='40px', width='100%'), style=ButtonStyle(button_color='lightgreen')), Button(description='Monthly revenue', layout=Layout(height='40px', width='100%'), style=ButtonStyle(button_color='lightgreen'))), layout=Layout(align_items='stretch', border='solid', display='flex', flex_flow='row', width='50%')), HBox(children=(Button(description='HLF avg fund size', layout=Layout(height='40px', width='100%'), style=ButtonStyle(button_color='lightgreen')), Button(description='Quarter Trading update revenue', layout=Layout(height='40px', width='100%'), style=ButtonStyle(button_color='lightgreen'))), layout=Layout(align_items='stretch', border='solid', display='flex', flex_flow='row', width='50%'))))"
      ]
     },
     "metadata": {},
     "output_type": "display_data"
    }
   ],
   "source": [
    "hlf_radio = widgets.RadioButtons(options=['month_no','quarter_no','half_no','financial_year','calendar_year'],description='Period',disabled=False)\n",
    "display(hlf_radio)\n",
    "\n",
    "\n",
    "buttom3 = ['HLF revenue margin','Monthly revenue', 'HLF avg fund size','Quarter Trading update revenue']\n",
    "items7 = {}\n",
    "for w7 in buttom3:\n",
    "    items7[w7] = widgets.Button(description=w7, layout=widgets.Layout(width='100%', height='40px'))\n",
    "    items7[w7].style.button_color = 'lightgreen'\n",
    "\n",
    "top_m = widgets.HBox([list(items7.values())[0],list(items7.values())[1]],layout=box_layout3)\n",
    "bottom_m = widgets.HBox([list(items7.values())[2],list(items7.values())[3]],layout=box_layout3)\n",
    "\n",
    "items7['HLF revenue margin'].on_click(lambda x: display(stats.hlf_revenue_margin(data_dic,input_dic,hlf_radio.value)))\n",
    "items7['Monthly revenue'].on_click(lambda x: display(revenue.monthly_revenue(data_dic, input_dic)))\n",
    "items7['HLF avg fund size'].on_click(lambda x: display(stats.avg_hlf_size(data_dic, input_dic,hlf_radio.value)))\n",
    "items7['Quarter Trading update revenue'].on_click(lambda x: display(stats.quarter_revenue(data_dic, input_dic)))\n",
    "\n",
    "\n",
    "widgets.VBox([top_m, bottom_m])"
   ]
  },
  {
   "cell_type": "code",
   "execution_count": 15,
   "metadata": {},
   "outputs": [
    {
     "data": {
      "application/vnd.jupyter.widget-view+json": {
       "model_id": "c02f798dea5b444b82d000f3d31263b7",
       "version_major": 2,
       "version_minor": 0
      },
      "text/html": [
       "<p>Failed to display Jupyter Widget of type <code>SelectMultiple</code>.</p>\n",
       "<p>\n",
       "  If you're reading this message in the Jupyter Notebook or JupyterLab Notebook, it may mean\n",
       "  that the widgets JavaScript is still loading. If this message persists, it\n",
       "  likely means that the widgets JavaScript library is either not installed or\n",
       "  not enabled. See the <a href=\"https://ipywidgets.readthedocs.io/en/stable/user_install.html\">Jupyter\n",
       "  Widgets Documentation</a> for setup instructions.\n",
       "</p>\n",
       "<p>\n",
       "  If you're reading this message in another frontend (for example, a static\n",
       "  rendering on GitHub or <a href=\"https://nbviewer.jupyter.org/\">NBViewer</a>),\n",
       "  it may mean that your frontend doesn't currently support widgets.\n",
       "</p>\n"
      ],
      "text/plain": [
       "SelectMultiple(description='Years for comparison', options=(2018, 2019, 2020, 2021, 2022, 2023, 2024, 2025, 2026, 2027), value=())"
      ]
     },
     "metadata": {},
     "output_type": "display_data"
    },
    {
     "data": {
      "application/vnd.jupyter.widget-view+json": {
       "model_id": "c142265f5a7c4589868a149bbfb50f38",
       "version_major": 2,
       "version_minor": 0
      },
      "text/html": [
       "<p>Failed to display Jupyter Widget of type <code>HBox</code>.</p>\n",
       "<p>\n",
       "  If you're reading this message in the Jupyter Notebook or JupyterLab Notebook, it may mean\n",
       "  that the widgets JavaScript is still loading. If this message persists, it\n",
       "  likely means that the widgets JavaScript library is either not installed or\n",
       "  not enabled. See the <a href=\"https://ipywidgets.readthedocs.io/en/stable/user_install.html\">Jupyter\n",
       "  Widgets Documentation</a> for setup instructions.\n",
       "</p>\n",
       "<p>\n",
       "  If you're reading this message in another frontend (for example, a static\n",
       "  rendering on GitHub or <a href=\"https://nbviewer.jupyter.org/\">NBViewer</a>),\n",
       "  it may mean that your frontend doesn't currently support widgets.\n",
       "</p>\n"
      ],
      "text/plain": [
       "HBox(children=(Button(description='Total No. of clients', layout=Layout(height='40px', width='100%'), style=ButtonStyle(button_color='lightgreen')), Button(description='Net new clients', layout=Layout(height='40px', width='100%'), style=ButtonStyle(button_color='lightgreen'))), layout=Layout(align_items='stretch', border='solid', display='flex', flex_flow='row', width='50%'))"
      ]
     },
     "metadata": {},
     "output_type": "display_data"
    },
    {
     "data": {
      "text/plain": [
       "financial_year  quarter_no\n",
       "2019            1                   32,730.000000\n",
       "                2                   33,711.000000\n",
       "                3                   52,084.000000\n",
       "                4                   38,704.000000\n",
       "2020            1                   37,446.000000\n",
       "                2                   38,570.000000\n",
       "                3                   59,591.000000\n",
       "                4                   44,282.000000\n",
       "2021            1                   42,843.000000\n",
       "                2                   44,128.000000\n",
       "                3                   68,179.000000\n",
       "                4                   50,664.000000\n",
       "Name: No. of clients, dtype: float64"
      ]
     },
     "metadata": {},
     "output_type": "display_data"
    }
   ],
   "source": [
    "display(a_slider)\n",
    "\n",
    "client_options = ['Total No. of clients','Net new clients']\n",
    "items8 = {}\n",
    "for w8 in client_options:\n",
    "    items8[w8] = widgets.Button(description=w8, layout=widgets.Layout(width='100%', height='40px'))\n",
    "    items8[w8].style.button_color = 'lightgreen'\n",
    "c_fair = widgets.HBox([list(items8.values())[0],list(items8.values())[1]],layout=box_layout3)\n",
    "items8['Total No. of clients'].on_click(lambda x: display(combined.total_client_predt(data_dic, input_dic).loc[list(a_slider.value)]))\n",
    "items8['Net new clients'].on_click(lambda x: display(combined.net_new_client_predt(data_dic, input_dic).loc[list(a_slider.value)]))\n",
    "display(c_fair)"
   ]
  },
  {
   "cell_type": "code",
   "execution_count": 16,
   "metadata": {},
   "outputs": [],
   "source": [
    "# %load_ext autoreload\n",
    "# %autoreload 2"
   ]
  },
  {
   "cell_type": "code",
   "execution_count": 17,
   "metadata": {},
   "outputs": [
    {
     "data": {
      "text/plain": [
       "\"\\nfair value sensitivity analysis\\n\\ndisc_rate_list = [0.0825,0.085,0.0875,0.09]\\npep_rate_list = [0.035,0.0375,0.04,0.0425]\\n\\ndf_now = pandas.DataFrame(columns = disc_rate_list, index=pep_rate_list)\\ndf_now.columns.name = 'Cost of Equity'\\ndf_now.index.name = 'Long-term Growth Rate'\\n\\nfor i in pep_rate_list:\\n    for j in disc_rate_list:\\n        df_now.loc[i,j] = discf.fair_value(data_dic, input_dic,now=True,dcf_p=9,disc_rate=j,pep_rate=i).loc['Fair value per share','HL']\\ndf_1y = pandas.DataFrame(columns = disc_rate_list, index=pep_rate_list)\\ndf_1y.columns.name = 'Cost of Equity'\\ndf_1y.index.name = 'Long-term Growth Rate'\\n\\nfor i in pep_rate_list:\\n    for j in disc_rate_list:\\n        df_1y.loc[i,j] = discf.fair_value(data_dic, input_dic,now=False,dcf_p=9,disc_rate=j,pep_rate=i).loc['Fair value per share','HL']\\n\""
      ]
     },
     "execution_count": 17,
     "metadata": {},
     "output_type": "execute_result"
    }
   ],
   "source": [
    "'''\n",
    "fair value sensitivity analysis\n",
    "\n",
    "disc_rate_list = [0.0825,0.085,0.0875,0.09]\n",
    "pep_rate_list = [0.035,0.0375,0.04,0.0425]\n",
    "\n",
    "df_now = pandas.DataFrame(columns = disc_rate_list, index=pep_rate_list)\n",
    "df_now.columns.name = 'Cost of Equity'\n",
    "df_now.index.name = 'Long-term Growth Rate'\n",
    "\n",
    "for i in pep_rate_list:\n",
    "    for j in disc_rate_list:\n",
    "        df_now.loc[i,j] = discf.fair_value(data_dic, input_dic,now=True,dcf_p=9,disc_rate=j,pep_rate=i).loc['Fair value per share','HL']\n",
    "df_1y = pandas.DataFrame(columns = disc_rate_list, index=pep_rate_list)\n",
    "df_1y.columns.name = 'Cost of Equity'\n",
    "df_1y.index.name = 'Long-term Growth Rate'\n",
    "\n",
    "for i in pep_rate_list:\n",
    "    for j in disc_rate_list:\n",
    "        df_1y.loc[i,j] = discf.fair_value(data_dic, input_dic,now=False,dcf_p=9,disc_rate=j,pep_rate=i).loc['Fair value per share','HL']\n",
    "'''"
   ]
  },
  {
   "cell_type": "code",
   "execution_count": null,
   "metadata": {},
   "outputs": [],
   "source": []
  }
 ],
 "metadata": {
  "kernelspec": {
   "display_name": "Python 3",
   "language": "python",
   "name": "python3"
  },
  "language_info": {
   "codemirror_mode": {
    "name": "ipython",
    "version": 3
   },
   "file_extension": ".py",
   "mimetype": "text/x-python",
   "name": "python",
   "nbconvert_exporter": "python",
   "pygments_lexer": "ipython3",
   "version": "3.6.4"
  }
 },
 "nbformat": 4,
 "nbformat_minor": 2
}
