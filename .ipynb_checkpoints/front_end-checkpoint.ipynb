{
 "cells": [
  {
   "cell_type": "code",
   "execution_count": 1,
   "metadata": {},
   "outputs": [
    {
     "data": {
      "text/html": [
       "<script>\n",
       "code_show=true; \n",
       "function code_toggle() {\n",
       " if (code_show){\n",
       " $('div.input').hide();\n",
       " } else {\n",
       " $('div.input').show();\n",
       " }\n",
       " code_show = !code_show\n",
       "} \n",
       "$( document ).ready(code_toggle);\n",
       "</script>\n",
       "The raw code for this IPython notebook is by default hidden for easier reading.\n",
       "To toggle on/off the raw code, click <a href=\"javascript:code_toggle()\">here</a>."
      ],
      "text/plain": [
       "<IPython.core.display.HTML object>"
      ]
     },
     "execution_count": 1,
     "metadata": {},
     "output_type": "execute_result"
    }
   ],
   "source": [
    "from IPython.display import HTML\n",
    "HTML('''<script>\n",
    "code_show=true; \n",
    "function code_toggle() {\n",
    " if (code_show){\n",
    " $('div.input').hide();\n",
    " } else {\n",
    " $('div.input').show();\n",
    " }\n",
    " code_show = !code_show\n",
    "} \n",
    "$( document ).ready(code_toggle);\n",
    "</script>\n",
    "The raw code for this IPython notebook is by default hidden for easier reading.\n",
    "To toggle on/off the raw code, click <a href=\"javascript:code_toggle()\">here</a>.''')"
   ]
  },
  {
   "cell_type": "code",
   "execution_count": 2,
   "metadata": {},
   "outputs": [],
   "source": [
    "import pandas\n",
    "import numpy\n",
    "from matplotlib import pyplot as plt\n",
    "import seaborn\n",
    "%matplotlib notebook\n",
    "import datetime\n",
    "import general\n",
    "import discretionary_aua\n",
    "import vantage_aua\n",
    "import data_accessing\n",
    "import combined\n",
    "import revenue\n",
    "import costs\n",
    "import consolidated\n",
    "import discf\n",
    "from ipywidgets import widgets\n",
    "from IPython.display import display\n",
    "import stats\n",
    "from IPython.display import clear_output\n",
    "pandas.set_option('display.float_format', '{:20,.6f}'.format)   #suppressing scientific notation\n",
    "idx = pandas.IndexSlice"
   ]
  },
  {
   "cell_type": "code",
   "execution_count": 3,
   "metadata": {
    "scrolled": true
   },
   "outputs": [
    {
     "name": "stdout",
     "output_type": "stream",
     "text": [
      "Pulling data...\n",
      "Data pulled successfully.\n"
     ]
    }
   ],
   "source": [
    "print('Pulling data...')\n",
    "fund_dic = data_accessing.read_data(data_accessing.fund_data_name,data_accessing.fund_data_types)\n",
    "nnb_dic = data_accessing.read_data(data_accessing.nnb_data_name,data_accessing.nnb_data_sheet)\n",
    "discretionary_aua.append_share_class_units(fund_dic) # appending share class units\n",
    "index_hl_dic = data_accessing.read_data(data_accessing.index_hl_data_name, data_accessing.index_hl_data_sheet)\n",
    "data_dic = {**fund_dic, **index_hl_dic, **nnb_dic}\n",
    "\n",
    "input_dic = data_accessing.read_data(data_accessing.assumptions_name, data_accessing.assumptions_sheet)\n",
    "\n",
    "print('Data pulled successfully.')"
   ]
  },
  {
   "cell_type": "code",
   "execution_count": 4,
   "metadata": {},
   "outputs": [
    {
     "data": {
      "application/vnd.jupyter.widget-view+json": {
       "model_id": "372aab67be1b4f62afcce57e60568d9c",
       "version_major": 2,
       "version_minor": 0
      },
      "text/html": [
       "<p>Failed to display Jupyter Widget of type <code>Button</code>.</p>\n",
       "<p>\n",
       "  If you're reading this message in the Jupyter Notebook or JupyterLab Notebook, it may mean\n",
       "  that the widgets JavaScript is still loading. If this message persists, it\n",
       "  likely means that the widgets JavaScript library is either not installed or\n",
       "  not enabled. See the <a href=\"https://ipywidgets.readthedocs.io/en/stable/user_install.html\">Jupyter\n",
       "  Widgets Documentation</a> for setup instructions.\n",
       "</p>\n",
       "<p>\n",
       "  If you're reading this message in another frontend (for example, a static\n",
       "  rendering on GitHub or <a href=\"https://nbviewer.jupyter.org/\">NBViewer</a>),\n",
       "  it may mean that your frontend doesn't currently support widgets.\n",
       "</p>\n"
      ],
      "text/plain": [
       "Button(description='Update assumptions', layout=Layout(height='40px', width='20%'), style=ButtonStyle(button_color='lightgreen'))"
      ]
     },
     "metadata": {},
     "output_type": "display_data"
    }
   ],
   "source": [
    "assumption_button = widgets.Button(description='Update assumptions',layout=widgets.Layout(width='20%',height='40px'))\n",
    "assumption_button.style.button_color = 'lightgreen'\n",
    "def update_assumption(b):\n",
    "    global input_dic\n",
    "    input_dic = data_accessing.read_data(data_accessing.assumptions_name, data_accessing.assumptions_sheet)\n",
    "    print ('Assumptions updated successfully...')\n",
    "\n",
    "assumption_button.on_click(update_assumption)\n",
    "display(assumption_button)"
   ]
  },
  {
   "cell_type": "code",
   "execution_count": 5,
   "metadata": {},
   "outputs": [
    {
     "data": {
      "application/vnd.jupyter.widget-view+json": {
       "model_id": "f805326aaaa0460e9c063e7438b52a1d",
       "version_major": 2,
       "version_minor": 0
      },
      "text/html": [
       "<p>Failed to display Jupyter Widget of type <code>HBox</code>.</p>\n",
       "<p>\n",
       "  If you're reading this message in the Jupyter Notebook or JupyterLab Notebook, it may mean\n",
       "  that the widgets JavaScript is still loading. If this message persists, it\n",
       "  likely means that the widgets JavaScript library is either not installed or\n",
       "  not enabled. See the <a href=\"https://ipywidgets.readthedocs.io/en/stable/user_install.html\">Jupyter\n",
       "  Widgets Documentation</a> for setup instructions.\n",
       "</p>\n",
       "<p>\n",
       "  If you're reading this message in another frontend (for example, a static\n",
       "  rendering on GitHub or <a href=\"https://nbviewer.jupyter.org/\">NBViewer</a>),\n",
       "  it may mean that your frontend doesn't currently support widgets.\n",
       "</p>\n"
      ],
      "text/plain": [
       "HBox(children=(VBox(children=(Button(description='Semi-annual revenue', layout=Layout(height='40px', width='100%'), style=ButtonStyle(button_color='lightgreen')), Button(description='Annual revenue - FY', layout=Layout(height='40px', width='100%'), style=ButtonStyle(button_color='lightgreen')), Button(description='Annual revenue - CY', layout=Layout(height='40px', width='100%'), style=ButtonStyle(button_color='lightgreen'))), layout=Layout(align_items='stretch', border='solid', display='flex', flex_flow='column', width='30%')), VBox(children=(Button(description='Consolidated semi-annual revenue', layout=Layout(height='40px', width='100%'), style=ButtonStyle(button_color='lightgreen')), Button(description='Consolidated annual revenue - FY', layout=Layout(height='40px', width='100%'), style=ButtonStyle(button_color='lightgreen')), Button(description='Consolidated annual revenue - CY', layout=Layout(height='40px', width='100%'), style=ButtonStyle(button_color='lightgreen'))), layout=Layout(align_items='stretch', border='solid', display='flex', flex_flow='column', width='30%'))))"
      ]
     },
     "metadata": {},
     "output_type": "display_data"
    },
    {
     "data": {
      "text/html": [
       "<div>\n",
       "<style scoped>\n",
       "    .dataframe tbody tr th:only-of-type {\n",
       "        vertical-align: middle;\n",
       "    }\n",
       "\n",
       "    .dataframe tbody tr th {\n",
       "        vertical-align: top;\n",
       "    }\n",
       "\n",
       "    .dataframe thead th {\n",
       "        text-align: right;\n",
       "    }\n",
       "</style>\n",
       "<table border=\"1\" class=\"dataframe\">\n",
       "  <thead>\n",
       "    <tr style=\"text-align: right;\">\n",
       "      <th></th>\n",
       "      <th>renewal_income</th>\n",
       "      <th>management_fee</th>\n",
       "      <th>stockbroking_commission</th>\n",
       "      <th>stockbroking_income</th>\n",
       "      <th>interest_on_cash</th>\n",
       "      <th>hlf_amc</th>\n",
       "      <th>platform_fee</th>\n",
       "      <th>pms_advice</th>\n",
       "      <th>advice_fee</th>\n",
       "      <th>funds_library</th>\n",
       "      <th>paper_income</th>\n",
       "      <th>other_income</th>\n",
       "      <th>currency_revenue</th>\n",
       "      <th>interest_on_reserve</th>\n",
       "      <th>cash_service</th>\n",
       "    </tr>\n",
       "    <tr>\n",
       "      <th>financial_year</th>\n",
       "      <th></th>\n",
       "      <th></th>\n",
       "      <th></th>\n",
       "      <th></th>\n",
       "      <th></th>\n",
       "      <th></th>\n",
       "      <th></th>\n",
       "      <th></th>\n",
       "      <th></th>\n",
       "      <th></th>\n",
       "      <th></th>\n",
       "      <th></th>\n",
       "      <th></th>\n",
       "      <th></th>\n",
       "      <th></th>\n",
       "    </tr>\n",
       "  </thead>\n",
       "  <tbody>\n",
       "    <tr>\n",
       "      <th>2019</th>\n",
       "      <td>5,782,611.600000</td>\n",
       "      <td>21,206,709.574468</td>\n",
       "      <td>77,033,286.357143</td>\n",
       "      <td>3,149,468.571429</td>\n",
       "      <td>71,088,417.116414</td>\n",
       "      <td>74,546,698.474779</td>\n",
       "      <td>228,158,372.496652</td>\n",
       "      <td>14,972,143.445798</td>\n",
       "      <td>12,800,000.000000</td>\n",
       "      <td>9,618,140.000000</td>\n",
       "      <td>5,773,608.000000</td>\n",
       "      <td>5,137,236.363636</td>\n",
       "      <td>2,436,120.000000</td>\n",
       "      <td>1,642,002.208000</td>\n",
       "      <td>464,675.276571</td>\n",
       "    </tr>\n",
       "    <tr>\n",
       "      <th>2020</th>\n",
       "      <td>5,759,504.284046</td>\n",
       "      <td>24,279,561.791809</td>\n",
       "      <td>84,929,198.208750</td>\n",
       "      <td>3,276,707.101714</td>\n",
       "      <td>89,154,806.747563</td>\n",
       "      <td>84,220,624.830181</td>\n",
       "      <td>262,552,246.010086</td>\n",
       "      <td>16,053,082.478401</td>\n",
       "      <td>12,800,000.000000</td>\n",
       "      <td>10,203,884.726000</td>\n",
       "      <td>6,605,671.200000</td>\n",
       "      <td>5,137,236.363636</td>\n",
       "      <td>2,485,086.012000</td>\n",
       "      <td>1,699,641.017427</td>\n",
       "      <td>2,822,460.251999</td>\n",
       "    </tr>\n",
       "    <tr>\n",
       "      <th>2021</th>\n",
       "      <td>5,736,489.304927</td>\n",
       "      <td>27,797,670.295442</td>\n",
       "      <td>93,634,441.025147</td>\n",
       "      <td>3,409,086.068624</td>\n",
       "      <td>110,280,192.467747</td>\n",
       "      <td>93,859,928.867368</td>\n",
       "      <td>299,982,384.498597</td>\n",
       "      <td>17,182,740.108562</td>\n",
       "      <td>12,800,000.000000</td>\n",
       "      <td>10,825,301.305813</td>\n",
       "      <td>7,557,650.400000</td>\n",
       "      <td>5,137,236.363636</td>\n",
       "      <td>2,535,036.240841</td>\n",
       "      <td>1,759,303.108148</td>\n",
       "      <td>5,514,475.537575</td>\n",
       "    </tr>\n",
       "    <tr>\n",
       "      <th>2022</th>\n",
       "      <td>5,713,566.293665</td>\n",
       "      <td>31,825,552.721251</td>\n",
       "      <td>103,231,971.230224</td>\n",
       "      <td>3,546,813.145796</td>\n",
       "      <td>127,348,578.621727</td>\n",
       "      <td>104,316,568.818082</td>\n",
       "      <td>341,097,085.928308</td>\n",
       "      <td>18,393,009.010737</td>\n",
       "      <td>12,800,000.000000</td>\n",
       "      <td>11,484,562.155337</td>\n",
       "      <td>8,646,825.600000</td>\n",
       "      <td>5,137,236.363636</td>\n",
       "      <td>2,585,990.469282</td>\n",
       "      <td>1,821,059.502920</td>\n",
       "      <td>8,244,379.239354</td>\n",
       "    </tr>\n",
       "    <tr>\n",
       "      <th>2023</th>\n",
       "      <td>5,696,431.314069</td>\n",
       "      <td>36,437,075.310560</td>\n",
       "      <td>113,813,248.281322</td>\n",
       "      <td>3,690,104.396886</td>\n",
       "      <td>146,254,917.720935</td>\n",
       "      <td>115,407,080.455309</td>\n",
       "      <td>386,243,924.901014</td>\n",
       "      <td>19,689,940.012763</td>\n",
       "      <td>12,800,000.000000</td>\n",
       "      <td>12,183,971.990597</td>\n",
       "      <td>9,883,022.400000</td>\n",
       "      <td>5,137,236.363636</td>\n",
       "      <td>2,637,968.877715</td>\n",
       "      <td>1,884,983.717597</td>\n",
       "      <td>11,016,371.843419</td>\n",
       "    </tr>\n",
       "    <tr>\n",
       "      <th>2024</th>\n",
       "      <td>5,696,431.314069</td>\n",
       "      <td>41,716,807.523061</td>\n",
       "      <td>125,479,106.230158</td>\n",
       "      <td>3,839,184.614520</td>\n",
       "      <td>165,889,695.746926</td>\n",
       "      <td>127,530,429.019087</td>\n",
       "      <td>432,771,339.864759</td>\n",
       "      <td>21,057,680.865416</td>\n",
       "      <td>12,800,000.000000</td>\n",
       "      <td>12,925,975.884825</td>\n",
       "      <td>11,037,098.400000</td>\n",
       "      <td>5,137,236.363636</td>\n",
       "      <td>2,690,992.052157</td>\n",
       "      <td>1,951,151.848640</td>\n",
       "      <td>13,799,563.604879</td>\n",
       "    </tr>\n",
       "    <tr>\n",
       "      <th>2025</th>\n",
       "      <td>5,696,431.314069</td>\n",
       "      <td>47,761,572.933152</td>\n",
       "      <td>138,340,714.618749</td>\n",
       "      <td>3,994,287.672947</td>\n",
       "      <td>182,725,271.820759</td>\n",
       "      <td>139,632,342.612666</td>\n",
       "      <td>472,448,989.509794</td>\n",
       "      <td>22,438,843.452277</td>\n",
       "      <td>12,800,000.000000</td>\n",
       "      <td>13,713,167.816211</td>\n",
       "      <td>11,728,264.800000</td>\n",
       "      <td>5,137,236.363636</td>\n",
       "      <td>2,745,080.992405</td>\n",
       "      <td>2,019,642.663706</td>\n",
       "      <td>16,496,792.639097</td>\n",
       "    </tr>\n",
       "    <tr>\n",
       "      <th>2026</th>\n",
       "      <td>5,696,431.314069</td>\n",
       "      <td>54,682,224.851166</td>\n",
       "      <td>152,520,637.867171</td>\n",
       "      <td>4,155,656.894934</td>\n",
       "      <td>199,458,107.361539</td>\n",
       "      <td>152,834,494.086953</td>\n",
       "      <td>511,620,644.473704</td>\n",
       "      <td>23,883,669.048914</td>\n",
       "      <td>12,800,000.000000</td>\n",
       "      <td>14,548,299.736218</td>\n",
       "      <td>12,362,040.000000</td>\n",
       "      <td>5,137,236.363636</td>\n",
       "      <td>2,800,257.120352</td>\n",
       "      <td>2,090,537.695416</td>\n",
       "      <td>19,181,369.206355</td>\n",
       "    </tr>\n",
       "    <tr>\n",
       "      <th>2027</th>\n",
       "      <td>5,696,431.314069</td>\n",
       "      <td>62,605,679.232100</td>\n",
       "      <td>168,154,003.248556</td>\n",
       "      <td>4,323,545.433489</td>\n",
       "      <td>217,553,948.213163</td>\n",
       "      <td>166,829,045.032172</td>\n",
       "      <td>553,677,795.961415</td>\n",
       "      <td>25,421,380.651455</td>\n",
       "      <td>12,800,000.000000</td>\n",
       "      <td>15,434,291.190154</td>\n",
       "      <td>13,030,060.800000</td>\n",
       "      <td>5,137,236.363636</td>\n",
       "      <td>2,856,542.288472</td>\n",
       "      <td>2,163,921.338409</td>\n",
       "      <td>21,892,855.812360</td>\n",
       "    </tr>\n",
       "    <tr>\n",
       "      <th>2028</th>\n",
       "      <td>5,696,431.314069</td>\n",
       "      <td>71,677,242.152831</td>\n",
       "      <td>185,389,788.581533</td>\n",
       "      <td>4,498,216.669002</td>\n",
       "      <td>237,128,746.952318</td>\n",
       "      <td>182,173,100.174019</td>\n",
       "      <td>599,891,849.919906</td>\n",
       "      <td>27,058,141.188023</td>\n",
       "      <td>12,800,000.000000</td>\n",
       "      <td>16,374,239.523634</td>\n",
       "      <td>13,734,182.400000</td>\n",
       "      <td>5,137,236.363636</td>\n",
       "      <td>2,913,958.788470</td>\n",
       "      <td>2,239,880.949810</td>\n",
       "      <td>24,633,803.177607</td>\n",
       "    </tr>\n",
       "    <tr>\n",
       "      <th>2029</th>\n",
       "      <td>5,696,431.314069</td>\n",
       "      <td>82,063,274.540776</td>\n",
       "      <td>204,392,241.911140</td>\n",
       "      <td>4,679,944.622430</td>\n",
       "      <td>258,308,569.396642</td>\n",
       "      <td>197,423,685.905476</td>\n",
       "      <td>651,846,518.718122</td>\n",
       "      <td>28,800,537.832283</td>\n",
       "      <td>12,800,000.000000</td>\n",
       "      <td>17,371,430.710623</td>\n",
       "      <td>14,476,351.200000</td>\n",
       "      <td>5,137,236.363636</td>\n",
       "      <td>2,972,529.360118</td>\n",
       "      <td>2,318,506.953220</td>\n",
       "      <td>27,407,001.523960</td>\n",
       "    </tr>\n",
       "    <tr>\n",
       "      <th>2030</th>\n",
       "      <td>5,696,431.314069</td>\n",
       "      <td>93,954,243.021735</td>\n",
       "      <td>225,342,446.707032</td>\n",
       "      <td>4,869,014.385176</td>\n",
       "      <td>281,230,759.300724</td>\n",
       "      <td>214,088,215.413472</td>\n",
       "      <td>708,001,223.917423</td>\n",
       "      <td>30,655,617.086815</td>\n",
       "      <td>12,800,000.000000</td>\n",
       "      <td>18,429,350.840900</td>\n",
       "      <td>15,258,628.800000</td>\n",
       "      <td>5,137,236.363636</td>\n",
       "      <td>3,032,277.200256</td>\n",
       "      <td>2,399,892.946357</td>\n",
       "      <td>30,215,510.227940</td>\n",
       "    </tr>\n",
       "    <tr>\n",
       "      <th>2031</th>\n",
       "      <td>5,696,431.314069</td>\n",
       "      <td>107,568,212.835584</td>\n",
       "      <td>248,440,047.494503</td>\n",
       "      <td>5,065,722.566337</td>\n",
       "      <td>306,044,663.422567</td>\n",
       "      <td>231,722,193.537227</td>\n",
       "      <td>768,710,840.545048</td>\n",
       "      <td>32,630,913.178004</td>\n",
       "      <td>12,800,000.000000</td>\n",
       "      <td>19,551,698.307111</td>\n",
       "      <td>16,083,177.600000</td>\n",
       "      <td>5,137,236.363636</td>\n",
       "      <td>3,093,225.971982</td>\n",
       "      <td>2,484,135.812479</td>\n",
       "      <td>33,062,675.295614</td>\n",
       "    </tr>\n",
       "    <tr>\n",
       "      <th>2032</th>\n",
       "      <td>5,696,431.314069</td>\n",
       "      <td>123,154,846.875460</td>\n",
       "      <td>273,905,152.362689</td>\n",
       "      <td>5,270,377.758017</td>\n",
       "      <td>332,912,906.821619</td>\n",
       "      <td>251,152,814.212185</td>\n",
       "      <td>834,361,449.218945</td>\n",
       "      <td>34,734,486.900059</td>\n",
       "      <td>12,800,000.000000</td>\n",
       "      <td>20,742,396.734014</td>\n",
       "      <td>16,952,282.400000</td>\n",
       "      <td>5,137,236.363636</td>\n",
       "      <td>3,155,399.814018</td>\n",
       "      <td>2,571,335.835712</td>\n",
       "      <td>35,952,161.767319</td>\n",
       "    </tr>\n",
       "    <tr>\n",
       "      <th>2033</th>\n",
       "      <td>5,696,431.314069</td>\n",
       "      <td>140,999,984.187714</td>\n",
       "      <td>301,980,430.479865</td>\n",
       "      <td>5,483,301.019441</td>\n",
       "      <td>362,012,569.826574</td>\n",
       "      <td>270,330,181.227994</td>\n",
       "      <td>905,373,081.592898</td>\n",
       "      <td>36,974,963.772035</td>\n",
       "      <td>12,800,000.000000</td>\n",
       "      <td>22,005,608.695116</td>\n",
       "      <td>17,868,355.200000</td>\n",
       "      <td>5,137,236.363636</td>\n",
       "      <td>3,218,823.350280</td>\n",
       "      <td>2,661,596.820432</td>\n",
       "      <td>38,887,983.276863</td>\n",
       "    </tr>\n",
       "    <tr>\n",
       "      <th>2034</th>\n",
       "      <td>5,696,431.314069</td>\n",
       "      <td>161,430,881.896514</td>\n",
       "      <td>332,933,424.604051</td>\n",
       "      <td>5,704,826.380627</td>\n",
       "      <td>393,536,314.114002</td>\n",
       "      <td>291,388,013.491411</td>\n",
       "      <td>982,202,351.544415</td>\n",
       "      <td>39,361,572.387223</td>\n",
       "      <td>12,800,000.000000</td>\n",
       "      <td>23,345,750.264648</td>\n",
       "      <td>18,833,928.000000</td>\n",
       "      <td>5,137,236.363636</td>\n",
       "      <td>3,283,521.699621</td>\n",
       "      <td>2,755,026.214836</td>\n",
       "      <td>41,874,530.055697</td>\n",
       "    </tr>\n",
       "  </tbody>\n",
       "</table>\n",
       "</div>"
      ],
      "text/plain": [
       "                     renewal_income       management_fee  \\\n",
       "financial_year                                             \n",
       "2019               5,782,611.600000    21,206,709.574468   \n",
       "2020               5,759,504.284046    24,279,561.791809   \n",
       "2021               5,736,489.304927    27,797,670.295442   \n",
       "2022               5,713,566.293665    31,825,552.721251   \n",
       "2023               5,696,431.314069    36,437,075.310560   \n",
       "2024               5,696,431.314069    41,716,807.523061   \n",
       "2025               5,696,431.314069    47,761,572.933152   \n",
       "2026               5,696,431.314069    54,682,224.851166   \n",
       "2027               5,696,431.314069    62,605,679.232100   \n",
       "2028               5,696,431.314069    71,677,242.152831   \n",
       "2029               5,696,431.314069    82,063,274.540776   \n",
       "2030               5,696,431.314069    93,954,243.021735   \n",
       "2031               5,696,431.314069   107,568,212.835584   \n",
       "2032               5,696,431.314069   123,154,846.875460   \n",
       "2033               5,696,431.314069   140,999,984.187714   \n",
       "2034               5,696,431.314069   161,430,881.896514   \n",
       "\n",
       "                stockbroking_commission  stockbroking_income  \\\n",
       "financial_year                                                 \n",
       "2019                  77,033,286.357143     3,149,468.571429   \n",
       "2020                  84,929,198.208750     3,276,707.101714   \n",
       "2021                  93,634,441.025147     3,409,086.068624   \n",
       "2022                 103,231,971.230224     3,546,813.145796   \n",
       "2023                 113,813,248.281322     3,690,104.396886   \n",
       "2024                 125,479,106.230158     3,839,184.614520   \n",
       "2025                 138,340,714.618749     3,994,287.672947   \n",
       "2026                 152,520,637.867171     4,155,656.894934   \n",
       "2027                 168,154,003.248556     4,323,545.433489   \n",
       "2028                 185,389,788.581533     4,498,216.669002   \n",
       "2029                 204,392,241.911140     4,679,944.622430   \n",
       "2030                 225,342,446.707032     4,869,014.385176   \n",
       "2031                 248,440,047.494503     5,065,722.566337   \n",
       "2032                 273,905,152.362689     5,270,377.758017   \n",
       "2033                 301,980,430.479865     5,483,301.019441   \n",
       "2034                 332,933,424.604051     5,704,826.380627   \n",
       "\n",
       "                   interest_on_cash              hlf_amc         platform_fee  \\\n",
       "financial_year                                                                  \n",
       "2019              71,088,417.116414    74,546,698.474779   228,158,372.496652   \n",
       "2020              89,154,806.747563    84,220,624.830181   262,552,246.010086   \n",
       "2021             110,280,192.467747    93,859,928.867368   299,982,384.498597   \n",
       "2022             127,348,578.621727   104,316,568.818082   341,097,085.928308   \n",
       "2023             146,254,917.720935   115,407,080.455309   386,243,924.901014   \n",
       "2024             165,889,695.746926   127,530,429.019087   432,771,339.864759   \n",
       "2025             182,725,271.820759   139,632,342.612666   472,448,989.509794   \n",
       "2026             199,458,107.361539   152,834,494.086953   511,620,644.473704   \n",
       "2027             217,553,948.213163   166,829,045.032172   553,677,795.961415   \n",
       "2028             237,128,746.952318   182,173,100.174019   599,891,849.919906   \n",
       "2029             258,308,569.396642   197,423,685.905476   651,846,518.718122   \n",
       "2030             281,230,759.300724   214,088,215.413472   708,001,223.917423   \n",
       "2031             306,044,663.422567   231,722,193.537227   768,710,840.545048   \n",
       "2032             332,912,906.821619   251,152,814.212185   834,361,449.218945   \n",
       "2033             362,012,569.826574   270,330,181.227994   905,373,081.592898   \n",
       "2034             393,536,314.114002   291,388,013.491411   982,202,351.544415   \n",
       "\n",
       "                         pms_advice           advice_fee        funds_library  \\\n",
       "financial_year                                                                  \n",
       "2019              14,972,143.445798    12,800,000.000000     9,618,140.000000   \n",
       "2020              16,053,082.478401    12,800,000.000000    10,203,884.726000   \n",
       "2021              17,182,740.108562    12,800,000.000000    10,825,301.305813   \n",
       "2022              18,393,009.010737    12,800,000.000000    11,484,562.155337   \n",
       "2023              19,689,940.012763    12,800,000.000000    12,183,971.990597   \n",
       "2024              21,057,680.865416    12,800,000.000000    12,925,975.884825   \n",
       "2025              22,438,843.452277    12,800,000.000000    13,713,167.816211   \n",
       "2026              23,883,669.048914    12,800,000.000000    14,548,299.736218   \n",
       "2027              25,421,380.651455    12,800,000.000000    15,434,291.190154   \n",
       "2028              27,058,141.188023    12,800,000.000000    16,374,239.523634   \n",
       "2029              28,800,537.832283    12,800,000.000000    17,371,430.710623   \n",
       "2030              30,655,617.086815    12,800,000.000000    18,429,350.840900   \n",
       "2031              32,630,913.178004    12,800,000.000000    19,551,698.307111   \n",
       "2032              34,734,486.900059    12,800,000.000000    20,742,396.734014   \n",
       "2033              36,974,963.772035    12,800,000.000000    22,005,608.695116   \n",
       "2034              39,361,572.387223    12,800,000.000000    23,345,750.264648   \n",
       "\n",
       "                       paper_income         other_income     currency_revenue  \\\n",
       "financial_year                                                                  \n",
       "2019               5,773,608.000000     5,137,236.363636     2,436,120.000000   \n",
       "2020               6,605,671.200000     5,137,236.363636     2,485,086.012000   \n",
       "2021               7,557,650.400000     5,137,236.363636     2,535,036.240841   \n",
       "2022               8,646,825.600000     5,137,236.363636     2,585,990.469282   \n",
       "2023               9,883,022.400000     5,137,236.363636     2,637,968.877715   \n",
       "2024              11,037,098.400000     5,137,236.363636     2,690,992.052157   \n",
       "2025              11,728,264.800000     5,137,236.363636     2,745,080.992405   \n",
       "2026              12,362,040.000000     5,137,236.363636     2,800,257.120352   \n",
       "2027              13,030,060.800000     5,137,236.363636     2,856,542.288472   \n",
       "2028              13,734,182.400000     5,137,236.363636     2,913,958.788470   \n",
       "2029              14,476,351.200000     5,137,236.363636     2,972,529.360118   \n",
       "2030              15,258,628.800000     5,137,236.363636     3,032,277.200256   \n",
       "2031              16,083,177.600000     5,137,236.363636     3,093,225.971982   \n",
       "2032              16,952,282.400000     5,137,236.363636     3,155,399.814018   \n",
       "2033              17,868,355.200000     5,137,236.363636     3,218,823.350280   \n",
       "2034              18,833,928.000000     5,137,236.363636     3,283,521.699621   \n",
       "\n",
       "                interest_on_reserve         cash_service  \n",
       "financial_year                                            \n",
       "2019               1,642,002.208000       464,675.276571  \n",
       "2020               1,699,641.017427     2,822,460.251999  \n",
       "2021               1,759,303.108148     5,514,475.537575  \n",
       "2022               1,821,059.502920     8,244,379.239354  \n",
       "2023               1,884,983.717597    11,016,371.843419  \n",
       "2024               1,951,151.848640    13,799,563.604879  \n",
       "2025               2,019,642.663706    16,496,792.639097  \n",
       "2026               2,090,537.695416    19,181,369.206355  \n",
       "2027               2,163,921.338409    21,892,855.812360  \n",
       "2028               2,239,880.949810    24,633,803.177607  \n",
       "2029               2,318,506.953220    27,407,001.523960  \n",
       "2030               2,399,892.946357    30,215,510.227940  \n",
       "2031               2,484,135.812479    33,062,675.295614  \n",
       "2032               2,571,335.835712    35,952,161.767319  \n",
       "2033               2,661,596.820432    38,887,983.276863  \n",
       "2034               2,755,026.214836    41,874,530.055697  "
      ]
     },
     "metadata": {},
     "output_type": "display_data"
    }
   ],
   "source": [
    "revenue_types = ['Semi-annual revenue','Annual revenue - FY','Annual revenue - CY','Consolidated semi-annual revenue','Consolidated annual revenue - FY','Consolidated annual revenue - CY']\n",
    "box_layout = widgets.Layout(display='flex', flex_flow='column', align_items='stretch',border='solid',width='30%')\n",
    "items = {}\n",
    "for w in revenue_types:\n",
    "    items[w] = widgets.Button(description=w,layout=widgets.Layout(width='100%', height='40px'))\n",
    "    items[w].style.button_color = 'lightgreen'\n",
    "left_box = widgets.VBox([list(items.values())[0],list(items.values())[1],list(items.values())[2]],layout=box_layout)\n",
    "right_box = widgets.VBox([list(items.values())[3],list(items.values())[4],list(items.values())[5]],layout=box_layout)\n",
    "items['Semi-annual revenue'].on_click(lambda x: display(revenue.semi_revenue(data_dic,input_dic)))\n",
    "items['Annual revenue - FY'].on_click(lambda x: display(revenue.annual_revenue(data_dic,input_dic)))\n",
    "items['Annual revenue - CY'].on_click(lambda x: display(revenue.annual_revenue(data_dic,input_dic,cal_year=True)))\n",
    "items['Consolidated semi-annual revenue'].on_click(lambda x: display(consolidated.revenue_analysis(data_dic,input_dic)))\n",
    "items['Consolidated annual revenue - FY'].on_click(lambda x: display(consolidated.annual_revenue_analysis(data_dic,input_dic)))\n",
    "items['Consolidated annual revenue - CY'].on_click(lambda x: display(consolidated.annual_revenue_analysis(data_dic,input_dic,cal_year=True)))\n",
    "widgets.HBox([left_box,right_box])\n",
    "\n"
   ]
  },
  {
   "cell_type": "code",
   "execution_count": 6,
   "metadata": {},
   "outputs": [
    {
     "data": {
      "application/vnd.jupyter.widget-view+json": {
       "model_id": "ef881117ff56442aa32e33207d53cb2e",
       "version_major": 2,
       "version_minor": 0
      },
      "text/html": [
       "<p>Failed to display Jupyter Widget of type <code>HBox</code>.</p>\n",
       "<p>\n",
       "  If you're reading this message in the Jupyter Notebook or JupyterLab Notebook, it may mean\n",
       "  that the widgets JavaScript is still loading. If this message persists, it\n",
       "  likely means that the widgets JavaScript library is either not installed or\n",
       "  not enabled. See the <a href=\"https://ipywidgets.readthedocs.io/en/stable/user_install.html\">Jupyter\n",
       "  Widgets Documentation</a> for setup instructions.\n",
       "</p>\n",
       "<p>\n",
       "  If you're reading this message in another frontend (for example, a static\n",
       "  rendering on GitHub or <a href=\"https://nbviewer.jupyter.org/\">NBViewer</a>),\n",
       "  it may mean that your frontend doesn't currently support widgets.\n",
       "</p>\n"
      ],
      "text/plain": [
       "HBox(children=(VBox(children=(Button(description='Semi-annual costs', layout=Layout(height='40px', width='100%'), style=ButtonStyle(button_color='lightgreen')), Button(description='Annual costs - FY', layout=Layout(height='40px', width='100%'), style=ButtonStyle(button_color='lightgreen')), Button(description='Annual costs - CY', layout=Layout(height='40px', width='100%'), style=ButtonStyle(button_color='lightgreen'))), layout=Layout(align_items='stretch', border='solid', display='flex', flex_flow='column', width='30%')), VBox(children=(Button(description='Consolidated semi-annual costs', layout=Layout(height='40px', width='100%'), style=ButtonStyle(button_color='lightgreen')), Button(description='Consolidated annual costs - FY', layout=Layout(height='40px', width='100%'), style=ButtonStyle(button_color='lightgreen')), Button(description='Consolidated annual costs - CY', layout=Layout(height='40px', width='100%'), style=ButtonStyle(button_color='lightgreen'))), layout=Layout(align_items='stretch', border='solid', display='flex', flex_flow='column', width='30%'))))"
      ]
     },
     "metadata": {},
     "output_type": "display_data"
    }
   ],
   "source": [
    "costs_types = ['Semi-annual costs','Annual costs - FY','Annual costs - CY','Consolidated semi-annual costs','Consolidated annual costs - FY','Consolidated annual costs - CY']\n",
    "items2 = {}\n",
    "for w2 in costs_types:\n",
    "    items2[w2] = widgets.Button(description=w2,layout=widgets.Layout(width='100%', height='40px'))\n",
    "    items2[w2].style.button_color = 'lightgreen'\n",
    "left_box2 = widgets.VBox([list(items2.values())[0],list(items2.values())[1],list(items2.values())[2]],layout=box_layout)\n",
    "right_box2 = widgets.VBox([list(items2.values())[3],list(items2.values())[4],list(items2.values())[5]],layout=box_layout)\n",
    "items2['Semi-annual costs'].on_click(lambda x: display(costs.semi_costs(input_dic)))\n",
    "items2['Annual costs - FY'].on_click(lambda x: display(costs.annual_costs(input_dic)))\n",
    "items2['Annual costs - CY'].on_click(lambda x: display(costs.annual_costs(input_dic,cal_year=True)))\n",
    "items2['Consolidated semi-annual costs'].on_click(lambda x: display(consolidated.costs_analysis(input_dic)))\n",
    "items2['Consolidated annual costs - FY'].on_click(lambda x: display(consolidated.annual_costs_analysis(input_dic)))\n",
    "items2['Consolidated annual costs - CY'].on_click(lambda x: display(consolidated.annual_costs_analysis(input_dic,cal_year=True)))\n",
    "widgets.HBox([left_box2,right_box2])"
   ]
  },
  {
   "cell_type": "code",
   "execution_count": 7,
   "metadata": {},
   "outputs": [
    {
     "data": {
      "application/vnd.jupyter.widget-view+json": {
       "model_id": "c833ccec3af3494dbcbf166f70103d27",
       "version_major": 2,
       "version_minor": 0
      },
      "text/html": [
       "<p>Failed to display Jupyter Widget of type <code>SelectMultiple</code>.</p>\n",
       "<p>\n",
       "  If you're reading this message in the Jupyter Notebook or JupyterLab Notebook, it may mean\n",
       "  that the widgets JavaScript is still loading. If this message persists, it\n",
       "  likely means that the widgets JavaScript library is either not installed or\n",
       "  not enabled. See the <a href=\"https://ipywidgets.readthedocs.io/en/stable/user_install.html\">Jupyter\n",
       "  Widgets Documentation</a> for setup instructions.\n",
       "</p>\n",
       "<p>\n",
       "  If you're reading this message in another frontend (for example, a static\n",
       "  rendering on GitHub or <a href=\"https://nbviewer.jupyter.org/\">NBViewer</a>),\n",
       "  it may mean that your frontend doesn't currently support widgets.\n",
       "</p>\n"
      ],
      "text/plain": [
       "SelectMultiple(description='Years for comparison', options=(2018, 2019, 2020, 2021, 2022, 2023, 2024, 2025, 2026, 2027), value=())"
      ]
     },
     "metadata": {},
     "output_type": "display_data"
    },
    {
     "data": {
      "application/vnd.jupyter.widget-view+json": {
       "model_id": "546877d96d0249b9b591d13ec9eea7ba",
       "version_major": 2,
       "version_minor": 0
      },
      "text/html": [
       "<p>Failed to display Jupyter Widget of type <code>Box</code>.</p>\n",
       "<p>\n",
       "  If you're reading this message in the Jupyter Notebook or JupyterLab Notebook, it may mean\n",
       "  that the widgets JavaScript is still loading. If this message persists, it\n",
       "  likely means that the widgets JavaScript library is either not installed or\n",
       "  not enabled. See the <a href=\"https://ipywidgets.readthedocs.io/en/stable/user_install.html\">Jupyter\n",
       "  Widgets Documentation</a> for setup instructions.\n",
       "</p>\n",
       "<p>\n",
       "  If you're reading this message in another frontend (for example, a static\n",
       "  rendering on GitHub or <a href=\"https://nbviewer.jupyter.org/\">NBViewer</a>),\n",
       "  it may mean that your frontend doesn't currently support widgets.\n",
       "</p>\n"
      ],
      "text/plain": [
       "Box(children=(Button(description='NNB comparison', layout=Layout(height='40px', width='100%'), style=ButtonStyle(button_color='lightgreen')), Button(description='AUA comparison', layout=Layout(height='40px', width='100%'), style=ButtonStyle(button_color='lightgreen'))), layout=Layout(align_items='stretch', border='solid', display='flex', flex_flow='row', width='30%'))"
      ]
     },
     "metadata": {},
     "output_type": "display_data"
    }
   ],
   "source": [
    "ops = [i for i in list(range(general.recent_end_year, general.recent_end_year+10))]\n",
    "a_slider = widgets.SelectMultiple(options=ops, description='Years for comparison')\n",
    "display(a_slider)\n",
    "\n",
    "compare1 = ['NNB comparison','AUA comparison']\n",
    "box_layout2 = widgets.Layout(display='flex', flex_flow='row', align_items='stretch',border='solid',width='30%')\n",
    "items3 = {}\n",
    "for w3 in compare1:\n",
    "    items3[w3] = widgets.Button(description=w3,layout=widgets.Layout(width='100%', height='40px'))\n",
    "    items3[w3].style.button_color = 'lightgreen'\n",
    "box3 = widgets.Box([list(items3.values())[0],list(items3.values())[1]],layout=box_layout2)\n",
    "items3['NNB comparison'].on_click(lambda x: display(consolidated.get_nnb_compare(data_dic, input_dic,list(a_slider.value))))\n",
    "items3['AUA comparison'].on_click(lambda x: display(consolidated.get_aua_compare(data_dic, input_dic,list(a_slider.value))))\n",
    "\n",
    "\n",
    "display(box3)"
   ]
  },
  {
   "cell_type": "code",
   "execution_count": 8,
   "metadata": {},
   "outputs": [
    {
     "data": {
      "application/vnd.jupyter.widget-view+json": {
       "model_id": "ae265e4a67e44f4c8d852e938c2ec9af",
       "version_major": 2,
       "version_minor": 0
      },
      "text/html": [
       "<p>Failed to display Jupyter Widget of type <code>VBox</code>.</p>\n",
       "<p>\n",
       "  If you're reading this message in the Jupyter Notebook or JupyterLab Notebook, it may mean\n",
       "  that the widgets JavaScript is still loading. If this message persists, it\n",
       "  likely means that the widgets JavaScript library is either not installed or\n",
       "  not enabled. See the <a href=\"https://ipywidgets.readthedocs.io/en/stable/user_install.html\">Jupyter\n",
       "  Widgets Documentation</a> for setup instructions.\n",
       "</p>\n",
       "<p>\n",
       "  If you're reading this message in another frontend (for example, a static\n",
       "  rendering on GitHub or <a href=\"https://nbviewer.jupyter.org/\">NBViewer</a>),\n",
       "  it may mean that your frontend doesn't currently support widgets.\n",
       "</p>\n"
      ],
      "text/plain": [
       "VBox(children=(HBox(children=(Button(description='Interim revenue comparison', layout=Layout(height='40px', width='100%'), style=ButtonStyle(button_color='lightgreen')), Button(description='Annual revenue comparison', layout=Layout(height='40px', width='100%'), style=ButtonStyle(button_color='lightgreen'))), layout=Layout(align_items='stretch', border='solid', display='flex', flex_flow='row', width='50%')), HBox(children=(Button(description='Interim costs comparison', layout=Layout(height='40px', width='100%'), style=ButtonStyle(button_color='lightgreen')), Button(description='Annual costs comparison', layout=Layout(height='40px', width='100%'), style=ButtonStyle(button_color='lightgreen'))), layout=Layout(align_items='stretch', border='solid', display='flex', flex_flow='row', width='50%'))))"
      ]
     },
     "metadata": {},
     "output_type": "display_data"
    }
   ],
   "source": [
    "compare2 = ['Interim revenue comparison','Annual revenue comparison', 'Interim costs comparison', 'Annual costs comparison']\n",
    "box_layout3 = widgets.Layout(display='flex', flex_flow='row', align_items='stretch',border='solid',width='50%')\n",
    "items4 = {}\n",
    "for w4 in compare2:\n",
    "    items4[w4] = widgets.Button(description=w4,layout=widgets.Layout(width='100%', height='40px'))\n",
    "    items4[w4].style.button_color = 'lightgreen'\n",
    "top_box4 = widgets.HBox([list(items4.values())[0],list(items4.values())[1]],layout=box_layout3)\n",
    "bottom_box4 = widgets.HBox([list(items4.values())[2],list(items4.values())[3]],layout=box_layout3)\n",
    "items4['Interim revenue comparison'].on_click(lambda x: display(consolidated.get_revenue_compare(data_dic, input_dic,True,list(a_slider.value))))\n",
    "items4['Annual revenue comparison'].on_click(lambda x: display(consolidated.get_revenue_compare(data_dic, input_dic,False,list(a_slider.value))))\n",
    "items4['Interim costs comparison'].on_click(lambda x: display(consolidated.get_costs_compare(input_dic,True,list(a_slider.value))))\n",
    "items4['Annual costs comparison'].on_click(lambda x: display(consolidated.get_costs_compare(input_dic,False,list(a_slider.value))))\n",
    "\n",
    "widgets.VBox([top_box4, bottom_box4])"
   ]
  },
  {
   "cell_type": "code",
   "execution_count": 9,
   "metadata": {},
   "outputs": [
    {
     "data": {
      "application/vnd.jupyter.widget-view+json": {
       "model_id": "4c76ed518f7c4d85887b364a04f877ca",
       "version_major": 2,
       "version_minor": 0
      },
      "text/html": [
       "<p>Failed to display Jupyter Widget of type <code>IntText</code>.</p>\n",
       "<p>\n",
       "  If you're reading this message in the Jupyter Notebook or JupyterLab Notebook, it may mean\n",
       "  that the widgets JavaScript is still loading. If this message persists, it\n",
       "  likely means that the widgets JavaScript library is either not installed or\n",
       "  not enabled. See the <a href=\"https://ipywidgets.readthedocs.io/en/stable/user_install.html\">Jupyter\n",
       "  Widgets Documentation</a> for setup instructions.\n",
       "</p>\n",
       "<p>\n",
       "  If you're reading this message in another frontend (for example, a static\n",
       "  rendering on GitHub or <a href=\"https://nbviewer.jupyter.org/\">NBViewer</a>),\n",
       "  it may mean that your frontend doesn't currently support widgets.\n",
       "</p>\n"
      ],
      "text/plain": [
       "IntText(value=9, description='DCF period - No. of years:')"
      ]
     },
     "metadata": {},
     "output_type": "display_data"
    },
    {
     "data": {
      "application/vnd.jupyter.widget-view+json": {
       "model_id": "e6117d47d3a94499aeae95b9bfaef9ae",
       "version_major": 2,
       "version_minor": 0
      },
      "text/html": [
       "<p>Failed to display Jupyter Widget of type <code>FloatText</code>.</p>\n",
       "<p>\n",
       "  If you're reading this message in the Jupyter Notebook or JupyterLab Notebook, it may mean\n",
       "  that the widgets JavaScript is still loading. If this message persists, it\n",
       "  likely means that the widgets JavaScript library is either not installed or\n",
       "  not enabled. See the <a href=\"https://ipywidgets.readthedocs.io/en/stable/user_install.html\">Jupyter\n",
       "  Widgets Documentation</a> for setup instructions.\n",
       "</p>\n",
       "<p>\n",
       "  If you're reading this message in another frontend (for example, a static\n",
       "  rendering on GitHub or <a href=\"https://nbviewer.jupyter.org/\">NBViewer</a>),\n",
       "  it may mean that your frontend doesn't currently support widgets.\n",
       "</p>\n"
      ],
      "text/plain": [
       "FloatText(value=0.035, description='Perpetuity growth rate:')"
      ]
     },
     "metadata": {},
     "output_type": "display_data"
    },
    {
     "data": {
      "application/vnd.jupyter.widget-view+json": {
       "model_id": "4d483da6334248318c1289f1d410cbb0",
       "version_major": 2,
       "version_minor": 0
      },
      "text/html": [
       "<p>Failed to display Jupyter Widget of type <code>FloatText</code>.</p>\n",
       "<p>\n",
       "  If you're reading this message in the Jupyter Notebook or JupyterLab Notebook, it may mean\n",
       "  that the widgets JavaScript is still loading. If this message persists, it\n",
       "  likely means that the widgets JavaScript library is either not installed or\n",
       "  not enabled. See the <a href=\"https://ipywidgets.readthedocs.io/en/stable/user_install.html\">Jupyter\n",
       "  Widgets Documentation</a> for setup instructions.\n",
       "</p>\n",
       "<p>\n",
       "  If you're reading this message in another frontend (for example, a static\n",
       "  rendering on GitHub or <a href=\"https://nbviewer.jupyter.org/\">NBViewer</a>),\n",
       "  it may mean that your frontend doesn't currently support widgets.\n",
       "</p>\n"
      ],
      "text/plain": [
       "FloatText(value=0.085, description='Cash flow discount rate:')"
      ]
     },
     "metadata": {},
     "output_type": "display_data"
    },
    {
     "data": {
      "application/vnd.jupyter.widget-view+json": {
       "model_id": "37ca1264ec3e48899bce855f957716ab",
       "version_major": 2,
       "version_minor": 0
      },
      "text/html": [
       "<p>Failed to display Jupyter Widget of type <code>Checkbox</code>.</p>\n",
       "<p>\n",
       "  If you're reading this message in the Jupyter Notebook or JupyterLab Notebook, it may mean\n",
       "  that the widgets JavaScript is still loading. If this message persists, it\n",
       "  likely means that the widgets JavaScript library is either not installed or\n",
       "  not enabled. See the <a href=\"https://ipywidgets.readthedocs.io/en/stable/user_install.html\">Jupyter\n",
       "  Widgets Documentation</a> for setup instructions.\n",
       "</p>\n",
       "<p>\n",
       "  If you're reading this message in another frontend (for example, a static\n",
       "  rendering on GitHub or <a href=\"https://nbviewer.jupyter.org/\">NBViewer</a>),\n",
       "  it may mean that your frontend doesn't currently support widgets.\n",
       "</p>\n"
      ],
      "text/plain": [
       "Checkbox(value=False, description='Fair value now')"
      ]
     },
     "metadata": {},
     "output_type": "display_data"
    },
    {
     "data": {
      "application/vnd.jupyter.widget-view+json": {
       "model_id": "1e5e3c72a0c14de5ae1e61b48cfc8106",
       "version_major": 2,
       "version_minor": 0
      },
      "text/html": [
       "<p>Failed to display Jupyter Widget of type <code>Checkbox</code>.</p>\n",
       "<p>\n",
       "  If you're reading this message in the Jupyter Notebook or JupyterLab Notebook, it may mean\n",
       "  that the widgets JavaScript is still loading. If this message persists, it\n",
       "  likely means that the widgets JavaScript library is either not installed or\n",
       "  not enabled. See the <a href=\"https://ipywidgets.readthedocs.io/en/stable/user_install.html\">Jupyter\n",
       "  Widgets Documentation</a> for setup instructions.\n",
       "</p>\n",
       "<p>\n",
       "  If you're reading this message in another frontend (for example, a static\n",
       "  rendering on GitHub or <a href=\"https://nbviewer.jupyter.org/\">NBViewer</a>),\n",
       "  it may mean that your frontend doesn't currently support widgets.\n",
       "</p>\n"
      ],
      "text/plain": [
       "Checkbox(value=False, description='Fractional valuation')"
      ]
     },
     "metadata": {},
     "output_type": "display_data"
    },
    {
     "data": {
      "application/vnd.jupyter.widget-view+json": {
       "model_id": "dfbb95e3151341be917a0c9b1fa1a957",
       "version_major": 2,
       "version_minor": 0
      },
      "text/html": [
       "<p>Failed to display Jupyter Widget of type <code>HBox</code>.</p>\n",
       "<p>\n",
       "  If you're reading this message in the Jupyter Notebook or JupyterLab Notebook, it may mean\n",
       "  that the widgets JavaScript is still loading. If this message persists, it\n",
       "  likely means that the widgets JavaScript library is either not installed or\n",
       "  not enabled. See the <a href=\"https://ipywidgets.readthedocs.io/en/stable/user_install.html\">Jupyter\n",
       "  Widgets Documentation</a> for setup instructions.\n",
       "</p>\n",
       "<p>\n",
       "  If you're reading this message in another frontend (for example, a static\n",
       "  rendering on GitHub or <a href=\"https://nbviewer.jupyter.org/\">NBViewer</a>),\n",
       "  it may mean that your frontend doesn't currently support widgets.\n",
       "</p>\n"
      ],
      "text/plain": [
       "HBox(children=(Button(description='Discounted cash flow', layout=Layout(height='40px', width='100%'), style=ButtonStyle(button_color='lightgreen')), Button(description='Fair value', layout=Layout(height='40px', width='100%'), style=ButtonStyle(button_color='lightgreen'))), layout=Layout(align_items='stretch', border='solid', display='flex', flex_flow='row', width='50%'))"
      ]
     },
     "metadata": {},
     "output_type": "display_data"
    }
   ],
   "source": [
    "'''=====current values=======\n",
    "discounted cash flow period: 9 years\n",
    "perpetuity growth rate: 0.035\n",
    "cash flow discounted rate: 0.085\n",
    "'''\n",
    "dcf_period = widgets.IntText(value=9,placeholder='Integer',description='DCF period - No. of years:')\n",
    "display(dcf_period)\n",
    "perp_growth = widgets.FloatText(value=0.035,placeholder='Percentage as decimals',description='Perpetuity growth rate:')\n",
    "display(perp_growth)\n",
    "disct_rate = widgets.FloatText(value=0.085,placeholder='Percentage as decimals',description='Cash flow discount rate:')\n",
    "display(disct_rate)\n",
    "current_value = widgets.Checkbox(value=False, description='Fair value now')\n",
    "display(current_value)\n",
    "fractional = widgets.Checkbox(value=False, description='Fractional valuation')\n",
    "display(fractional)\n",
    "\n",
    "dis_cash = ['Discounted cash flow','Fair value']\n",
    "items5 = {}\n",
    "for w5 in dis_cash:\n",
    "    items5[w5] = widgets.Button(description=w5, layout=widgets.Layout(width='100%', height='40px'))\n",
    "    items5[w5].style.button_color = 'lightgreen'\n",
    "fair = widgets.HBox([list(items5.values())[0],list(items5.values())[1]],layout=box_layout3)\n",
    "items5['Discounted cash flow'].on_click(lambda x: display(discf.disc_cash_flow(data_dic, input_dic,now=current_value.value,fractional=fractional.value,dcf_p=dcf_period.value,disc_rate=disct_rate.value)))\n",
    "items5['Fair value'].on_click(lambda x: display(discf.fair_value(data_dic, input_dic,now=current_value.value,fractional=fractional.value,dcf_p=dcf_period.value,disc_rate=disct_rate.value,pep_rate=perp_growth.value)))    \n",
    "display(fair)"
   ]
  },
  {
   "cell_type": "code",
   "execution_count": 10,
   "metadata": {},
   "outputs": [
    {
     "data": {
      "application/vnd.jupyter.widget-view+json": {
       "model_id": "10e36c757a5344c6ab21bf8958b96537",
       "version_major": 2,
       "version_minor": 0
      },
      "text/html": [
       "<p>Failed to display Jupyter Widget of type <code>RadioButtons</code>.</p>\n",
       "<p>\n",
       "  If you're reading this message in the Jupyter Notebook or JupyterLab Notebook, it may mean\n",
       "  that the widgets JavaScript is still loading. If this message persists, it\n",
       "  likely means that the widgets JavaScript library is either not installed or\n",
       "  not enabled. See the <a href=\"https://ipywidgets.readthedocs.io/en/stable/user_install.html\">Jupyter\n",
       "  Widgets Documentation</a> for setup instructions.\n",
       "</p>\n",
       "<p>\n",
       "  If you're reading this message in another frontend (for example, a static\n",
       "  rendering on GitHub or <a href=\"https://nbviewer.jupyter.org/\">NBViewer</a>),\n",
       "  it may mean that your frontend doesn't currently support widgets.\n",
       "</p>\n"
      ],
      "text/plain": [
       "RadioButtons(description='Period', options=('month_no', 'quarter_no', 'half_no', 'financial_year', 'calendar_year'), value='month_no')"
      ]
     },
     "metadata": {},
     "output_type": "display_data"
    },
    {
     "data": {
      "application/vnd.jupyter.widget-view+json": {
       "model_id": "938dc8832ceb492d9f3e14daa69ba7c0",
       "version_major": 2,
       "version_minor": 0
      },
      "text/html": [
       "<p>Failed to display Jupyter Widget of type <code>HBox</code>.</p>\n",
       "<p>\n",
       "  If you're reading this message in the Jupyter Notebook or JupyterLab Notebook, it may mean\n",
       "  that the widgets JavaScript is still loading. If this message persists, it\n",
       "  likely means that the widgets JavaScript library is either not installed or\n",
       "  not enabled. See the <a href=\"https://ipywidgets.readthedocs.io/en/stable/user_install.html\">Jupyter\n",
       "  Widgets Documentation</a> for setup instructions.\n",
       "</p>\n",
       "<p>\n",
       "  If you're reading this message in another frontend (for example, a static\n",
       "  rendering on GitHub or <a href=\"https://nbviewer.jupyter.org/\">NBViewer</a>),\n",
       "  it may mean that your frontend doesn't currently support widgets.\n",
       "</p>\n"
      ],
      "text/plain": [
       "HBox(children=(VBox(children=(Button(description='HLF composite monthly return', layout=Layout(height='40px', width='100%'), style=ButtonStyle(button_color='lightgreen')), Button(description='Total NNB hlf Algo', layout=Layout(height='40px', width='100%'), style=ButtonStyle(button_color='lightgreen')), Button(description='NNB distribution hlf Algo', layout=Layout(height='40px', width='100%'), style=ButtonStyle(button_color='lightgreen')), Button(description='Total AUA', layout=Layout(height='40px', width='100%'), style=ButtonStyle(button_color='lightgreen'))), layout=Layout(align_items='stretch', border='solid', display='flex', flex_flow='column', width='30%')), VBox(children=(Button(description='% Revenue distribution', layout=Layout(height='40px', width='100%'), style=ButtonStyle(button_color='lightgreen')), Button(description='Avg AUA distribution', layout=Layout(height='40px', width='100%'), style=ButtonStyle(button_color='lightgreen')), Button(description='Total NNB nnc Algo', layout=Layout(height='40px', width='100%'), style=ButtonStyle(button_color='lightgreen')), Button(description='NNB distribution nnc Algo', layout=Layout(height='40px', width='100%'), style=ButtonStyle(button_color='lightgreen'))), layout=Layout(align_items='stretch', border='solid', display='flex', flex_flow='column', width='30%'))))"
      ]
     },
     "metadata": {},
     "output_type": "display_data"
    }
   ],
   "source": [
    "radio1 = widgets.RadioButtons(options=['month_no','quarter_no','half_no','financial_year','calendar_year'],description='Period',disabled=False)\n",
    "display(radio1)\n",
    "\n",
    "others = ['HLF composite monthly return','Total NNB hlf Algo','NNB distribution hlf Algo','Total AUA','% Revenue distribution','Avg AUA distribution', 'Total NNB nnc Algo', 'NNB distribution nnc Algo']\n",
    "items6 = {}\n",
    "for w6 in others:\n",
    "    items6[w6] = widgets.Button(description=w6, layout=widgets.Layout(width='100%', height='40px'))\n",
    "    items6[w6].style.button_color = 'lightgreen'\n",
    "other_box1 = widgets.VBox([list(items6.values())[0],list(items6.values())[1],list(items6.values())[2],list(items6.values())[3]],layout=box_layout)\n",
    "other_box2 = widgets.VBox([list(items6.values())[4],list(items6.values())[5],list(items6.values())[6],list(items6.values())[7]],layout=box_layout)\n",
    "items6['HLF composite monthly return'].on_click(lambda x: display(discretionary_aua.get_composite_return(data_dic)))\n",
    "items6['Total NNB hlf Algo'].on_click(lambda x: display(combined.total_nnb(data_dic, input_dic, opt=radio1.value)))\n",
    "items6['NNB distribution hlf Algo'].on_click(lambda x: display(combined.nnb_distribution(data_dic, input_dic, opt=radio1.value)))\n",
    "items6['Total AUA'].on_click(lambda x: display(combined.total_aua(data_dic, input_dic)))\n",
    "items6['% Revenue distribution'].on_click(lambda x: display(stats.summary_revenue_dist_percent(data_dic, input_dic)))\n",
    "items6['Avg AUA distribution'].on_click(lambda x: display(stats.summary_avg_aua_dist(data_dic, input_dic,radio1.value)))\n",
    "items6['Total NNB nnc Algo'].on_click(lambda x: display(combined.total_nnb_ci_clientAlgo(data_dic, input_dic, opt=radio1.value)))\n",
    "items6['NNB distribution nnc Algo'].on_click(lambda x: display(combined.total_nnb_distribution_clientAlgo(data_dic, input_dic, opt=radio1.value)))\n",
    "\n",
    "widgets.HBox([other_box1, other_box2])\n",
    "\n",
    "#Financial year based"
   ]
  },
  {
   "cell_type": "code",
   "execution_count": 11,
   "metadata": {},
   "outputs": [
    {
     "data": {
      "application/vnd.jupyter.widget-view+json": {
       "model_id": "9a079316f44541b089e436da14a77871",
       "version_major": 2,
       "version_minor": 0
      },
      "text/html": [
       "<p>Failed to display Jupyter Widget of type <code>RadioButtons</code>.</p>\n",
       "<p>\n",
       "  If you're reading this message in the Jupyter Notebook or JupyterLab Notebook, it may mean\n",
       "  that the widgets JavaScript is still loading. If this message persists, it\n",
       "  likely means that the widgets JavaScript library is either not installed or\n",
       "  not enabled. See the <a href=\"https://ipywidgets.readthedocs.io/en/stable/user_install.html\">Jupyter\n",
       "  Widgets Documentation</a> for setup instructions.\n",
       "</p>\n",
       "<p>\n",
       "  If you're reading this message in another frontend (for example, a static\n",
       "  rendering on GitHub or <a href=\"https://nbviewer.jupyter.org/\">NBViewer</a>),\n",
       "  it may mean that your frontend doesn't currently support widgets.\n",
       "</p>\n"
      ],
      "text/plain": [
       "RadioButtons(description='Period', options=('day', 'month', 'semi-annual', 'quarter', 'annual'), value='day')"
      ]
     },
     "metadata": {},
     "output_type": "display_data"
    },
    {
     "data": {
      "application/vnd.jupyter.widget-view+json": {
       "model_id": "54b8e97b41ae472d8ce716339bddd087",
       "version_major": 2,
       "version_minor": 0
      },
      "text/html": [
       "<p>Failed to display Jupyter Widget of type <code>Dropdown</code>.</p>\n",
       "<p>\n",
       "  If you're reading this message in the Jupyter Notebook or JupyterLab Notebook, it may mean\n",
       "  that the widgets JavaScript is still loading. If this message persists, it\n",
       "  likely means that the widgets JavaScript library is either not installed or\n",
       "  not enabled. See the <a href=\"https://ipywidgets.readthedocs.io/en/stable/user_install.html\">Jupyter\n",
       "  Widgets Documentation</a> for setup instructions.\n",
       "</p>\n",
       "<p>\n",
       "  If you're reading this message in another frontend (for example, a static\n",
       "  rendering on GitHub or <a href=\"https://nbviewer.jupyter.org/\">NBViewer</a>),\n",
       "  it may mean that your frontend doesn't currently support widgets.\n",
       "</p>\n"
      ],
      "text/plain": [
       "Dropdown(description='Fund option', options=('no_select', None), value='no_select')"
      ]
     },
     "metadata": {},
     "output_type": "display_data"
    },
    {
     "data": {
      "application/vnd.jupyter.widget-view+json": {
       "model_id": "56f022c0a8134d678c21d455e5b396f7",
       "version_major": 2,
       "version_minor": 0
      },
      "text/html": [
       "<p>Failed to display Jupyter Widget of type <code>Dropdown</code>.</p>\n",
       "<p>\n",
       "  If you're reading this message in the Jupyter Notebook or JupyterLab Notebook, it may mean\n",
       "  that the widgets JavaScript is still loading. If this message persists, it\n",
       "  likely means that the widgets JavaScript library is either not installed or\n",
       "  not enabled. See the <a href=\"https://ipywidgets.readthedocs.io/en/stable/user_install.html\">Jupyter\n",
       "  Widgets Documentation</a> for setup instructions.\n",
       "</p>\n",
       "<p>\n",
       "  If you're reading this message in another frontend (for example, a static\n",
       "  rendering on GitHub or <a href=\"https://nbviewer.jupyter.org/\">NBViewer</a>),\n",
       "  it may mean that your frontend doesn't currently support widgets.\n",
       "</p>\n"
      ],
      "text/plain": [
       "Dropdown(description='Unit type', options=('acc', 'inc'), value='acc')"
      ]
     },
     "metadata": {},
     "output_type": "display_data"
    },
    {
     "data": {
      "application/vnd.jupyter.widget-view+json": {
       "model_id": "63188d18a54b444a944e175be9c9a4fc",
       "version_major": 2,
       "version_minor": 0
      },
      "text/html": [
       "<p>Failed to display Jupyter Widget of type <code>Button</code>.</p>\n",
       "<p>\n",
       "  If you're reading this message in the Jupyter Notebook or JupyterLab Notebook, it may mean\n",
       "  that the widgets JavaScript is still loading. If this message persists, it\n",
       "  likely means that the widgets JavaScript library is either not installed or\n",
       "  not enabled. See the <a href=\"https://ipywidgets.readthedocs.io/en/stable/user_install.html\">Jupyter\n",
       "  Widgets Documentation</a> for setup instructions.\n",
       "</p>\n",
       "<p>\n",
       "  If you're reading this message in another frontend (for example, a static\n",
       "  rendering on GitHub or <a href=\"https://nbviewer.jupyter.org/\">NBViewer</a>),\n",
       "  it may mean that your frontend doesn't currently support widgets.\n",
       "</p>\n"
      ],
      "text/plain": [
       "Button(description='Implied HLF nnb period-to-date', layout=Layout(height='40px', width='50%'), style=ButtonStyle(button_color='lightgreen'))"
      ]
     },
     "metadata": {},
     "output_type": "display_data"
    },
    {
     "data": {
      "application/vnd.jupyter.widget-view+json": {
       "model_id": "a19300e602594935a5b51d59d1bdd99a",
       "version_major": 2,
       "version_minor": 0
      },
      "text/html": [
       "<p>Failed to display Jupyter Widget of type <code>Button</code>.</p>\n",
       "<p>\n",
       "  If you're reading this message in the Jupyter Notebook or JupyterLab Notebook, it may mean\n",
       "  that the widgets JavaScript is still loading. If this message persists, it\n",
       "  likely means that the widgets JavaScript library is either not installed or\n",
       "  not enabled. See the <a href=\"https://ipywidgets.readthedocs.io/en/stable/user_install.html\">Jupyter\n",
       "  Widgets Documentation</a> for setup instructions.\n",
       "</p>\n",
       "<p>\n",
       "  If you're reading this message in another frontend (for example, a static\n",
       "  rendering on GitHub or <a href=\"https://nbviewer.jupyter.org/\">NBViewer</a>),\n",
       "  it may mean that your frontend doesn't currently support widgets.\n",
       "</p>\n"
      ],
      "text/plain": [
       "Button(description='HLF unit change period-to-date', layout=Layout(height='40px', width='50%'), style=ButtonStyle(button_color='lightgreen'))"
      ]
     },
     "metadata": {},
     "output_type": "display_data"
    }
   ],
   "source": [
    "nnb_radio = widgets.RadioButtons(options=['day','month','semi-annual','quarter','annual'],description='Period',disabled=False)\n",
    "nnb_dropdown = widgets.Dropdown(options=['no_select',None],description='Fund option',disabled=False)\n",
    "unit_dropdown = widgets.Dropdown(options=['acc','inc'],description='Unit type',disabled=False)\n",
    "display(nnb_radio)\n",
    "display(nnb_dropdown)\n",
    "display(unit_dropdown)\n",
    "\n",
    "nnb_b = widgets.Button(description='Implied HLF nnb period-to-date', layout=widgets.Layout(width='50%', height='40px'))\n",
    "nnb_b.style.button_color = 'lightgreen'\n",
    "\n",
    "nnb_b2 = widgets.Button(description='HLF unit change period-to-date', layout=widgets.Layout(width='50%', height='40px'))\n",
    "nnb_b2.style.button_color = 'lightgreen'\n",
    "nnb_b.on_click(lambda x: display(stats.hlf_to_date_implied_nnb(data_dic,typ=nnb_radio.value,fund_opt=nnb_dropdown.value)))\n",
    "nnb_b2.on_click(lambda x: display(stats.hlf_to_date_unit_change(data_dic, unit_type=unit_dropdown.value,typ=nnb_radio.value,fund_opt=nnb_dropdown.value)))\n",
    "\n",
    "display(nnb_b)\n",
    "display(nnb_b2)"
   ]
  },
  {
   "cell_type": "code",
   "execution_count": 12,
   "metadata": {},
   "outputs": [
    {
     "data": {
      "application/vnd.jupyter.widget-view+json": {
       "model_id": "f108371a440b495194f3d66a35eaf7f4",
       "version_major": 2,
       "version_minor": 0
      },
      "text/html": [
       "<p>Failed to display Jupyter Widget of type <code>RadioButtons</code>.</p>\n",
       "<p>\n",
       "  If you're reading this message in the Jupyter Notebook or JupyterLab Notebook, it may mean\n",
       "  that the widgets JavaScript is still loading. If this message persists, it\n",
       "  likely means that the widgets JavaScript library is either not installed or\n",
       "  not enabled. See the <a href=\"https://ipywidgets.readthedocs.io/en/stable/user_install.html\">Jupyter\n",
       "  Widgets Documentation</a> for setup instructions.\n",
       "</p>\n",
       "<p>\n",
       "  If you're reading this message in another frontend (for example, a static\n",
       "  rendering on GitHub or <a href=\"https://nbviewer.jupyter.org/\">NBViewer</a>),\n",
       "  it may mean that your frontend doesn't currently support widgets.\n",
       "</p>\n"
      ],
      "text/plain": [
       "RadioButtons(description='Period', options=('monthly', 'quarter_no', 'half_no', 'financial_year', 'calendar_year'), value='monthly')"
      ]
     },
     "metadata": {},
     "output_type": "display_data"
    },
    {
     "data": {
      "application/vnd.jupyter.widget-view+json": {
       "model_id": "afbee0e82ae941a198fe909bab84ea15",
       "version_major": 2,
       "version_minor": 0
      },
      "text/html": [
       "<p>Failed to display Jupyter Widget of type <code>Button</code>.</p>\n",
       "<p>\n",
       "  If you're reading this message in the Jupyter Notebook or JupyterLab Notebook, it may mean\n",
       "  that the widgets JavaScript is still loading. If this message persists, it\n",
       "  likely means that the widgets JavaScript library is either not installed or\n",
       "  not enabled. See the <a href=\"https://ipywidgets.readthedocs.io/en/stable/user_install.html\">Jupyter\n",
       "  Widgets Documentation</a> for setup instructions.\n",
       "</p>\n",
       "<p>\n",
       "  If you're reading this message in another frontend (for example, a static\n",
       "  rendering on GitHub or <a href=\"https://nbviewer.jupyter.org/\">NBViewer</a>),\n",
       "  it may mean that your frontend doesn't currently support widgets.\n",
       "</p>\n"
      ],
      "text/plain": [
       "Button(description='Cash margin', layout=Layout(height='40px', width='50%'), style=ButtonStyle(button_color='lightgreen'))"
      ]
     },
     "metadata": {},
     "output_type": "display_data"
    }
   ],
   "source": [
    "cash_radio = widgets.RadioButtons(options=['monthly','quarter_no','half_no','financial_year','calendar_year'],description='Period',disabled=False)\n",
    "display(cash_radio)\n",
    "\n",
    "\n",
    "cash_b = widgets.Button(description='Cash margin', layout=widgets.Layout(width='50%', height='40px'))\n",
    "cash_b.style.button_color = 'lightgreen'\n",
    "cash_b.on_click(lambda x: display(stats.cash_margin(data_dic, input_dic, cash_radio.value)))\n",
    "display(cash_b)"
   ]
  },
  {
   "cell_type": "code",
   "execution_count": 13,
   "metadata": {},
   "outputs": [
    {
     "data": {
      "application/vnd.jupyter.widget-view+json": {
       "model_id": "fe1347b03aed4ee8b428684badce2a3f",
       "version_major": 2,
       "version_minor": 0
      },
      "text/html": [
       "<p>Failed to display Jupyter Widget of type <code>RadioButtons</code>.</p>\n",
       "<p>\n",
       "  If you're reading this message in the Jupyter Notebook or JupyterLab Notebook, it may mean\n",
       "  that the widgets JavaScript is still loading. If this message persists, it\n",
       "  likely means that the widgets JavaScript library is either not installed or\n",
       "  not enabled. See the <a href=\"https://ipywidgets.readthedocs.io/en/stable/user_install.html\">Jupyter\n",
       "  Widgets Documentation</a> for setup instructions.\n",
       "</p>\n",
       "<p>\n",
       "  If you're reading this message in another frontend (for example, a static\n",
       "  rendering on GitHub or <a href=\"https://nbviewer.jupyter.org/\">NBViewer</a>),\n",
       "  it may mean that your frontend doesn't currently support widgets.\n",
       "</p>\n"
      ],
      "text/plain": [
       "RadioButtons(description='Calendar year?', options=(True, False), value=True)"
      ]
     },
     "metadata": {},
     "output_type": "display_data"
    },
    {
     "data": {
      "application/vnd.jupyter.widget-view+json": {
       "model_id": "1d1d0c7576564927a6e0626d4469e636",
       "version_major": 2,
       "version_minor": 0
      },
      "text/html": [
       "<p>Failed to display Jupyter Widget of type <code>Button</code>.</p>\n",
       "<p>\n",
       "  If you're reading this message in the Jupyter Notebook or JupyterLab Notebook, it may mean\n",
       "  that the widgets JavaScript is still loading. If this message persists, it\n",
       "  likely means that the widgets JavaScript library is either not installed or\n",
       "  not enabled. See the <a href=\"https://ipywidgets.readthedocs.io/en/stable/user_install.html\">Jupyter\n",
       "  Widgets Documentation</a> for setup instructions.\n",
       "</p>\n",
       "<p>\n",
       "  If you're reading this message in another frontend (for example, a static\n",
       "  rendering on GitHub or <a href=\"https://nbviewer.jupyter.org/\">NBViewer</a>),\n",
       "  it may mean that your frontend doesn't currently support widgets.\n",
       "</p>\n"
      ],
      "text/plain": [
       "Button(description='Net earnings and EPS', layout=Layout(height='40px', width='50%'), style=ButtonStyle(button_color='lightgreen'))"
      ]
     },
     "metadata": {},
     "output_type": "display_data"
    },
    {
     "data": {
      "text/html": [
       "<div>\n",
       "<style scoped>\n",
       "    .dataframe tbody tr th:only-of-type {\n",
       "        vertical-align: middle;\n",
       "    }\n",
       "\n",
       "    .dataframe tbody tr th {\n",
       "        vertical-align: top;\n",
       "    }\n",
       "\n",
       "    .dataframe thead th {\n",
       "        text-align: right;\n",
       "    }\n",
       "</style>\n",
       "<table border=\"1\" class=\"dataframe\">\n",
       "  <thead>\n",
       "    <tr style=\"text-align: right;\">\n",
       "      <th></th>\n",
       "      <th>Total Revenue</th>\n",
       "      <th>Total Costs</th>\n",
       "      <th>Net Earning Before Tax</th>\n",
       "      <th>Net Earning After Tax</th>\n",
       "      <th>EPS</th>\n",
       "    </tr>\n",
       "    <tr>\n",
       "      <th>financial_year</th>\n",
       "      <th></th>\n",
       "      <th></th>\n",
       "      <th></th>\n",
       "      <th></th>\n",
       "      <th></th>\n",
       "    </tr>\n",
       "  </thead>\n",
       "  <tbody>\n",
       "    <tr>\n",
       "      <th>2019</th>\n",
       "      <td>533,809,489.484890</td>\n",
       "      <td>-181,736,000.000000</td>\n",
       "      <td>352,073,489.484890</td>\n",
       "      <td>285,179,526.482761</td>\n",
       "      <td>0.601100</td>\n",
       "    </tr>\n",
       "    <tr>\n",
       "      <th>2020</th>\n",
       "      <td>611,979,711.023612</td>\n",
       "      <td>-196,168,529.000000</td>\n",
       "      <td>415,811,182.023612</td>\n",
       "      <td>336,807,057.439126</td>\n",
       "      <td>0.709920</td>\n",
       "    </tr>\n",
       "    <tr>\n",
       "      <th>2021</th>\n",
       "      <td>698,011,935.592427</td>\n",
       "      <td>-211,801,967.313500</td>\n",
       "      <td>486,209,968.278927</td>\n",
       "      <td>393,830,074.305931</td>\n",
       "      <td>0.830113</td>\n",
       "    </tr>\n",
       "    <tr>\n",
       "      <th>2022</th>\n",
       "      <td>786,193,199.100320</td>\n",
       "      <td>-228,709,530.849550</td>\n",
       "      <td>557,483,668.250770</td>\n",
       "      <td>451,561,771.283123</td>\n",
       "      <td>0.951799</td>\n",
       "    </tr>\n",
       "    <tr>\n",
       "      <th>2023</th>\n",
       "      <td>882,776,277.585824</td>\n",
       "      <td>-246,995,060.813789</td>\n",
       "      <td>635,781,216.772035</td>\n",
       "      <td>514,982,785.585348</td>\n",
       "      <td>1.085478</td>\n",
       "    </tr>\n",
       "    <tr>\n",
       "      <th>2024</th>\n",
       "      <td>984,322,693.332133</td>\n",
       "      <td>-265,490,746.048307</td>\n",
       "      <td>718,831,947.283826</td>\n",
       "      <td>582,253,877.299899</td>\n",
       "      <td>1.227271</td>\n",
       "    </tr>\n",
       "    <tr>\n",
       "      <th>2025</th>\n",
       "      <td>1,077,678,639.209470</td>\n",
       "      <td>-286,800,059.405849</td>\n",
       "      <td>790,878,579.803621</td>\n",
       "      <td>640,611,649.640933</td>\n",
       "      <td>1.350277</td>\n",
       "    </tr>\n",
       "    <tr>\n",
       "      <th>2026</th>\n",
       "      <td>1,173,771,606.020427</td>\n",
       "      <td>-309,848,212.733366</td>\n",
       "      <td>863,923,393.287061</td>\n",
       "      <td>699,777,948.562520</td>\n",
       "      <td>1.474988</td>\n",
       "    </tr>\n",
       "    <tr>\n",
       "      <th>2027</th>\n",
       "      <td>1,277,576,736.879450</td>\n",
       "      <td>-334,777,095.372409</td>\n",
       "      <td>942,799,641.507041</td>\n",
       "      <td>763,667,709.620703</td>\n",
       "      <td>1.609654</td>\n",
       "    </tr>\n",
       "    <tr>\n",
       "      <th>2028</th>\n",
       "      <td>1,391,346,818.154860</td>\n",
       "      <td>-361,740,174.834798</td>\n",
       "      <td>1,029,606,643.320062</td>\n",
       "      <td>833,981,381.089251</td>\n",
       "      <td>1.757861</td>\n",
       "    </tr>\n",
       "    <tr>\n",
       "      <th>2029</th>\n",
       "      <td>1,515,694,260.352496</td>\n",
       "      <td>-390,903,441.581317</td>\n",
       "      <td>1,124,790,818.771178</td>\n",
       "      <td>911,080,563.204655</td>\n",
       "      <td>1.920370</td>\n",
       "    </tr>\n",
       "    <tr>\n",
       "      <th>2030</th>\n",
       "      <td>1,651,110,847.525536</td>\n",
       "      <td>-422,446,430.894353</td>\n",
       "      <td>1,228,664,416.631183</td>\n",
       "      <td>995,218,177.471258</td>\n",
       "      <td>2.097715</td>\n",
       "    </tr>\n",
       "    <tr>\n",
       "      <th>2031</th>\n",
       "      <td>1,798,091,174.244161</td>\n",
       "      <td>-456,563,328.135332</td>\n",
       "      <td>1,341,527,846.108829</td>\n",
       "      <td>1,086,637,555.348152</td>\n",
       "      <td>2.290408</td>\n",
       "    </tr>\n",
       "    <tr>\n",
       "      <th>2032</th>\n",
       "      <td>1,958,499,278.377743</td>\n",
       "      <td>-493,464,164.191175</td>\n",
       "      <td>1,465,035,114.186569</td>\n",
       "      <td>1,186,678,442.491121</td>\n",
       "      <td>2.501274</td>\n",
       "    </tr>\n",
       "    <tr>\n",
       "      <th>2033</th>\n",
       "      <td>2,131,430,547.126918</td>\n",
       "      <td>-533,376,108.469175</td>\n",
       "      <td>1,598,054,438.657743</td>\n",
       "      <td>1,294,424,095.312772</td>\n",
       "      <td>2.728379</td>\n",
       "    </tr>\n",
       "    <tr>\n",
       "      <th>2034</th>\n",
       "      <td>2,320,283,808.330752</td>\n",
       "      <td>-576,544,867.400259</td>\n",
       "      <td>1,743,738,940.930492</td>\n",
       "      <td>1,412,428,542.153699</td>\n",
       "      <td>2.977108</td>\n",
       "    </tr>\n",
       "  </tbody>\n",
       "</table>\n",
       "</div>"
      ],
      "text/plain": [
       "                      Total Revenue          Total Costs  \\\n",
       "financial_year                                             \n",
       "2019             533,809,489.484890  -181,736,000.000000   \n",
       "2020             611,979,711.023612  -196,168,529.000000   \n",
       "2021             698,011,935.592427  -211,801,967.313500   \n",
       "2022             786,193,199.100320  -228,709,530.849550   \n",
       "2023             882,776,277.585824  -246,995,060.813789   \n",
       "2024             984,322,693.332133  -265,490,746.048307   \n",
       "2025           1,077,678,639.209470  -286,800,059.405849   \n",
       "2026           1,173,771,606.020427  -309,848,212.733366   \n",
       "2027           1,277,576,736.879450  -334,777,095.372409   \n",
       "2028           1,391,346,818.154860  -361,740,174.834798   \n",
       "2029           1,515,694,260.352496  -390,903,441.581317   \n",
       "2030           1,651,110,847.525536  -422,446,430.894353   \n",
       "2031           1,798,091,174.244161  -456,563,328.135332   \n",
       "2032           1,958,499,278.377743  -493,464,164.191175   \n",
       "2033           2,131,430,547.126918  -533,376,108.469175   \n",
       "2034           2,320,283,808.330752  -576,544,867.400259   \n",
       "\n",
       "                Net Earning Before Tax  Net Earning After Tax  \\\n",
       "financial_year                                                  \n",
       "2019                352,073,489.484890     285,179,526.482761   \n",
       "2020                415,811,182.023612     336,807,057.439126   \n",
       "2021                486,209,968.278927     393,830,074.305931   \n",
       "2022                557,483,668.250770     451,561,771.283123   \n",
       "2023                635,781,216.772035     514,982,785.585348   \n",
       "2024                718,831,947.283826     582,253,877.299899   \n",
       "2025                790,878,579.803621     640,611,649.640933   \n",
       "2026                863,923,393.287061     699,777,948.562520   \n",
       "2027                942,799,641.507041     763,667,709.620703   \n",
       "2028              1,029,606,643.320062     833,981,381.089251   \n",
       "2029              1,124,790,818.771178     911,080,563.204655   \n",
       "2030              1,228,664,416.631183     995,218,177.471258   \n",
       "2031              1,341,527,846.108829   1,086,637,555.348152   \n",
       "2032              1,465,035,114.186569   1,186,678,442.491121   \n",
       "2033              1,598,054,438.657743   1,294,424,095.312772   \n",
       "2034              1,743,738,940.930492   1,412,428,542.153699   \n",
       "\n",
       "                                EPS  \n",
       "financial_year                       \n",
       "2019                       0.601100  \n",
       "2020                       0.709920  \n",
       "2021                       0.830113  \n",
       "2022                       0.951799  \n",
       "2023                       1.085478  \n",
       "2024                       1.227271  \n",
       "2025                       1.350277  \n",
       "2026                       1.474988  \n",
       "2027                       1.609654  \n",
       "2028                       1.757861  \n",
       "2029                       1.920370  \n",
       "2030                       2.097715  \n",
       "2031                       2.290408  \n",
       "2032                       2.501274  \n",
       "2033                       2.728379  \n",
       "2034                       2.977108  "
      ]
     },
     "metadata": {},
     "output_type": "display_data"
    }
   ],
   "source": [
    "eps_radio = widgets.RadioButtons(options=[True, False],description='Calendar year?',disabled=False)\n",
    "display(eps_radio)\n",
    "\n",
    "eps_summary = widgets.Button(description='Net earnings and EPS', layout=widgets.Layout(width='50%', height='40px'))\n",
    "eps_summary.style.button_color = 'lightgreen'\n",
    "eps_summary.on_click(lambda x: display(stats.summary_total(data_dic, input_dic, cal=eps_radio.value)))\n",
    "display(eps_summary)\n"
   ]
  },
  {
   "cell_type": "code",
   "execution_count": 14,
   "metadata": {},
   "outputs": [
    {
     "data": {
      "application/vnd.jupyter.widget-view+json": {
       "model_id": "0cc50064d69d4f05957aff80f141d52f",
       "version_major": 2,
       "version_minor": 0
      },
      "text/html": [
       "<p>Failed to display Jupyter Widget of type <code>RadioButtons</code>.</p>\n",
       "<p>\n",
       "  If you're reading this message in the Jupyter Notebook or JupyterLab Notebook, it may mean\n",
       "  that the widgets JavaScript is still loading. If this message persists, it\n",
       "  likely means that the widgets JavaScript library is either not installed or\n",
       "  not enabled. See the <a href=\"https://ipywidgets.readthedocs.io/en/stable/user_install.html\">Jupyter\n",
       "  Widgets Documentation</a> for setup instructions.\n",
       "</p>\n",
       "<p>\n",
       "  If you're reading this message in another frontend (for example, a static\n",
       "  rendering on GitHub or <a href=\"https://nbviewer.jupyter.org/\">NBViewer</a>),\n",
       "  it may mean that your frontend doesn't currently support widgets.\n",
       "</p>\n"
      ],
      "text/plain": [
       "RadioButtons(description='Period', options=('month_no', 'quarter_no', 'half_no', 'financial_year', 'calendar_year'), value='month_no')"
      ]
     },
     "metadata": {},
     "output_type": "display_data"
    },
    {
     "data": {
      "application/vnd.jupyter.widget-view+json": {
       "model_id": "bf03dd3d4ec74a0d8efc4cde7c1a4ed8",
       "version_major": 2,
       "version_minor": 0
      },
      "text/html": [
       "<p>Failed to display Jupyter Widget of type <code>VBox</code>.</p>\n",
       "<p>\n",
       "  If you're reading this message in the Jupyter Notebook or JupyterLab Notebook, it may mean\n",
       "  that the widgets JavaScript is still loading. If this message persists, it\n",
       "  likely means that the widgets JavaScript library is either not installed or\n",
       "  not enabled. See the <a href=\"https://ipywidgets.readthedocs.io/en/stable/user_install.html\">Jupyter\n",
       "  Widgets Documentation</a> for setup instructions.\n",
       "</p>\n",
       "<p>\n",
       "  If you're reading this message in another frontend (for example, a static\n",
       "  rendering on GitHub or <a href=\"https://nbviewer.jupyter.org/\">NBViewer</a>),\n",
       "  it may mean that your frontend doesn't currently support widgets.\n",
       "</p>\n"
      ],
      "text/plain": [
       "VBox(children=(HBox(children=(Button(description='HLF revenue margin', layout=Layout(height='40px', width='100%'), style=ButtonStyle(button_color='lightgreen')), Button(description='Monthly revenue', layout=Layout(height='40px', width='100%'), style=ButtonStyle(button_color='lightgreen'))), layout=Layout(align_items='stretch', border='solid', display='flex', flex_flow='row', width='50%')), HBox(children=(Button(description='HLF avg fund size', layout=Layout(height='40px', width='100%'), style=ButtonStyle(button_color='lightgreen')), Button(description='Quarter Trading update revenue', layout=Layout(height='40px', width='100%'), style=ButtonStyle(button_color='lightgreen'))), layout=Layout(align_items='stretch', border='solid', display='flex', flex_flow='row', width='50%'))))"
      ]
     },
     "metadata": {},
     "output_type": "display_data"
    }
   ],
   "source": [
    "hlf_radio = widgets.RadioButtons(options=['month_no','quarter_no','half_no','financial_year','calendar_year'],description='Period',disabled=False)\n",
    "display(hlf_radio)\n",
    "\n",
    "\n",
    "buttom3 = ['HLF revenue margin','Monthly revenue', 'HLF avg fund size','Quarter Trading update revenue']\n",
    "items7 = {}\n",
    "for w7 in buttom3:\n",
    "    items7[w7] = widgets.Button(description=w7, layout=widgets.Layout(width='100%', height='40px'))\n",
    "    items7[w7].style.button_color = 'lightgreen'\n",
    "\n",
    "top_m = widgets.HBox([list(items7.values())[0],list(items7.values())[1]],layout=box_layout3)\n",
    "bottom_m = widgets.HBox([list(items7.values())[2],list(items7.values())[3]],layout=box_layout3)\n",
    "\n",
    "items7['HLF revenue margin'].on_click(lambda x: display(stats.hlf_revenue_margin(data_dic,input_dic,hlf_radio.value)))\n",
    "items7['Monthly revenue'].on_click(lambda x: display(revenue.monthly_revenue(data_dic, input_dic)))\n",
    "items7['HLF avg fund size'].on_click(lambda x: display(stats.avg_hlf_size(data_dic, input_dic,hlf_radio.value)))\n",
    "items7['Quarter Trading update revenue'].on_click(lambda x: display(stats.quarter_revenue(data_dic, input_dic)))\n",
    "\n",
    "\n",
    "widgets.VBox([top_m, bottom_m])"
   ]
  },
  {
   "cell_type": "code",
   "execution_count": 15,
   "metadata": {},
   "outputs": [
    {
     "data": {
      "application/vnd.jupyter.widget-view+json": {
       "model_id": "c833ccec3af3494dbcbf166f70103d27",
       "version_major": 2,
       "version_minor": 0
      },
      "text/html": [
       "<p>Failed to display Jupyter Widget of type <code>SelectMultiple</code>.</p>\n",
       "<p>\n",
       "  If you're reading this message in the Jupyter Notebook or JupyterLab Notebook, it may mean\n",
       "  that the widgets JavaScript is still loading. If this message persists, it\n",
       "  likely means that the widgets JavaScript library is either not installed or\n",
       "  not enabled. See the <a href=\"https://ipywidgets.readthedocs.io/en/stable/user_install.html\">Jupyter\n",
       "  Widgets Documentation</a> for setup instructions.\n",
       "</p>\n",
       "<p>\n",
       "  If you're reading this message in another frontend (for example, a static\n",
       "  rendering on GitHub or <a href=\"https://nbviewer.jupyter.org/\">NBViewer</a>),\n",
       "  it may mean that your frontend doesn't currently support widgets.\n",
       "</p>\n"
      ],
      "text/plain": [
       "SelectMultiple(description='Years for comparison', options=(2018, 2019, 2020, 2021, 2022, 2023, 2024, 2025, 2026, 2027), value=())"
      ]
     },
     "metadata": {},
     "output_type": "display_data"
    },
    {
     "data": {
      "application/vnd.jupyter.widget-view+json": {
       "model_id": "f0067414f7964f86bc5cbb8750db8e8e",
       "version_major": 2,
       "version_minor": 0
      },
      "text/html": [
       "<p>Failed to display Jupyter Widget of type <code>HBox</code>.</p>\n",
       "<p>\n",
       "  If you're reading this message in the Jupyter Notebook or JupyterLab Notebook, it may mean\n",
       "  that the widgets JavaScript is still loading. If this message persists, it\n",
       "  likely means that the widgets JavaScript library is either not installed or\n",
       "  not enabled. See the <a href=\"https://ipywidgets.readthedocs.io/en/stable/user_install.html\">Jupyter\n",
       "  Widgets Documentation</a> for setup instructions.\n",
       "</p>\n",
       "<p>\n",
       "  If you're reading this message in another frontend (for example, a static\n",
       "  rendering on GitHub or <a href=\"https://nbviewer.jupyter.org/\">NBViewer</a>),\n",
       "  it may mean that your frontend doesn't currently support widgets.\n",
       "</p>\n"
      ],
      "text/plain": [
       "HBox(children=(Button(description='Total No. of clients', layout=Layout(height='40px', width='100%'), style=ButtonStyle(button_color='lightgreen')), Button(description='Net new clients', layout=Layout(height='40px', width='100%'), style=ButtonStyle(button_color='lightgreen'))), layout=Layout(align_items='stretch', border='solid', display='flex', flex_flow='row', width='50%'))"
      ]
     },
     "metadata": {},
     "output_type": "display_data"
    }
   ],
   "source": [
    "display(a_slider)\n",
    "\n",
    "client_options = ['Total No. of clients','Net new clients']\n",
    "items8 = {}\n",
    "for w8 in client_options:\n",
    "    items8[w8] = widgets.Button(description=w8, layout=widgets.Layout(width='100%', height='40px'))\n",
    "    items8[w8].style.button_color = 'lightgreen'\n",
    "c_fair = widgets.HBox([list(items8.values())[0],list(items8.values())[1]],layout=box_layout3)\n",
    "items8['Total No. of clients'].on_click(lambda x: display(combined.total_client_predt(data_dic, input_dic).loc[list(a_slider.value)]))\n",
    "items8['Net new clients'].on_click(lambda x: display(combined.net_new_client_predt(data_dic, input_dic).loc[list(a_slider.value)]))\n",
    "display(c_fair)"
   ]
  },
  {
   "cell_type": "code",
   "execution_count": 16,
   "metadata": {},
   "outputs": [],
   "source": [
    "# %load_ext autoreload\n",
    "# %autoreload 2"
   ]
  },
  {
   "cell_type": "code",
   "execution_count": 17,
   "metadata": {},
   "outputs": [
    {
     "data": {
      "text/plain": [
       "\"\\nfair value sensitivity analysis\\n\\ndisc_rate_list = [0.0825,0.085,0.0875,0.09]\\npep_rate_list = [0.035,0.0375,0.04,0.0425]\\n\\ndf_now = pandas.DataFrame(columns = disc_rate_list, index=pep_rate_list)\\ndf_now.columns.name = 'Cost of Equity'\\ndf_now.index.name = 'Long-term Growth Rate'\\n\\nfor i in pep_rate_list:\\n    for j in disc_rate_list:\\n        df_now.loc[i,j] = discf.fair_value(data_dic, input_dic,now=True,dcf_p=9,disc_rate=j,pep_rate=i).loc['Fair value per share','HL']\\ndf_1y = pandas.DataFrame(columns = disc_rate_list, index=pep_rate_list)\\ndf_1y.columns.name = 'Cost of Equity'\\ndf_1y.index.name = 'Long-term Growth Rate'\\n\\nfor i in pep_rate_list:\\n    for j in disc_rate_list:\\n        df_1y.loc[i,j] = discf.fair_value(data_dic, input_dic,now=False,dcf_p=9,disc_rate=j,pep_rate=i).loc['Fair value per share','HL']\\n\""
      ]
     },
     "execution_count": 17,
     "metadata": {},
     "output_type": "execute_result"
    }
   ],
   "source": [
    "'''\n",
    "fair value sensitivity analysis\n",
    "\n",
    "disc_rate_list = [0.0825,0.085,0.0875,0.09]\n",
    "pep_rate_list = [0.035,0.0375,0.04,0.0425]\n",
    "\n",
    "df_now = pandas.DataFrame(columns = disc_rate_list, index=pep_rate_list)\n",
    "df_now.columns.name = 'Cost of Equity'\n",
    "df_now.index.name = 'Long-term Growth Rate'\n",
    "\n",
    "for i in pep_rate_list:\n",
    "    for j in disc_rate_list:\n",
    "        df_now.loc[i,j] = discf.fair_value(data_dic, input_dic,now=True,dcf_p=9,disc_rate=j,pep_rate=i).loc['Fair value per share','HL']\n",
    "df_1y = pandas.DataFrame(columns = disc_rate_list, index=pep_rate_list)\n",
    "df_1y.columns.name = 'Cost of Equity'\n",
    "df_1y.index.name = 'Long-term Growth Rate'\n",
    "\n",
    "for i in pep_rate_list:\n",
    "    for j in disc_rate_list:\n",
    "        df_1y.loc[i,j] = discf.fair_value(data_dic, input_dic,now=False,dcf_p=9,disc_rate=j,pep_rate=i).loc['Fair value per share','HL']\n",
    "'''"
   ]
  },
  {
   "cell_type": "code",
   "execution_count": 18,
   "metadata": {},
   "outputs": [],
   "source": [
    "a = input_dic['cash interest rebate'].fillna(method='ffill').reindex(index=general.month_end_series)"
   ]
  },
  {
   "cell_type": "code",
   "execution_count": 19,
   "metadata": {},
   "outputs": [
    {
     "data": {
      "text/plain": [
       "month_end   financial_year  quarter_no  half_no  calendar_year  month_no\n",
       "2018-06-29  2018            4           2        2018           6                           nan\n",
       "2018-07-31  2019            1           1        2018           7              1,210,236.952045\n",
       "2018-08-31  2019            1           1        2018           8              1,221,603.637364\n",
       "2018-09-28  2019            1           1        2018           9              1,231,840.589409\n",
       "2018-10-31  2019            2           1        2018           10             1,259,917.513337\n",
       "2018-11-30  2019            2           1        2018           11             1,276,301.595560\n",
       "2018-12-31  2019            2           1        2018           12             1,292,714.553803\n",
       "2019-01-31  2019            3           2        2019           1              1,309,534.179602\n",
       "2019-02-28  2019            3           2        2019           2              1,326,382.963216\n",
       "2019-03-29  2019            3           2        2019           3              1,354,090.428546\n",
       "2019-04-30  2019            4           2        2019           4              1,377,932.551213\n",
       "2019-05-31  2019            4           2        2019           5              1,392,922.270089\n",
       "2019-06-28  2019            4           2        2019           6              1,407,941.718647\n",
       "2019-07-31  2020            1           1        2019           7              3,326,591.936971\n",
       "2019-08-30  2020            1           1        2019           8              3,368,056.576651\n",
       "2019-09-30  2020            1           1        2019           9              3,409,591.603502\n",
       "2019-10-31  2020            2           1        2019           10             3,451,764.760238\n",
       "2019-11-29  2020            2           1        2019           11             3,494,008.991039\n",
       "2019-12-31  2020            2           1        2019           12             3,536,324.641861\n",
       "2020-01-31  2020            3           2        2020           1              3,579,708.213898\n",
       "2020-02-28  2020            3           2        2020           2              3,623,163.902930\n",
       "2020-03-31  2020            3           2        2020           3              3,695,259.762300\n",
       "2020-04-30  2020            4           2        2020           4              3,757,153.734237\n",
       "2020-05-29  2020            4           2        2020           5              3,795,690.533194\n",
       "2020-06-30  2020            4           2        2020           6              3,834,300.863564\n",
       "2020-07-31  2021            1           1        2020           7              3,880,084.560256\n",
       "2020-08-31  2021            1           1        2020           8              3,925,942.505939\n",
       "2020-09-30  2021            1           1        2020           9              3,971,875.062023\n",
       "2020-10-30  2021            2           1        2020           10             4,018,523.573350\n",
       "2020-11-30  2021            2           1        2020           11             4,065,247.423187\n",
       "                                                                                   ...         \n",
       "2032-01-30  2032            3           2        2032           1             12,538,998.784436\n",
       "2032-02-27  2032            3           2        2032           2             12,623,885.887707\n",
       "2032-03-31  2032            3           2        2032           3             12,763,848.359808\n",
       "2032-04-30  2032            4           2        2032           4             12,892,294.868764\n",
       "2032-05-31  2032            4           2        2032           5             12,971,790.318159\n",
       "2032-06-30  2032            4           2        2032           6             13,051,433.727204\n",
       "2032-07-30  2033            1           1        2032           7             13,132,775.022252\n",
       "2032-08-31  2033            1           1        2032           8             13,214,265.720856\n",
       "2032-09-30  2033            1           1        2032           9             13,295,906.550247\n",
       "2032-10-29  2033            2           1        2032           10            13,378,052.823140\n",
       "2032-11-30  2033            2           1        2032           11            13,460,350.691915\n",
       "2032-12-31  2033            2           1        2032           12            13,542,800.894472\n",
       "2033-01-31  2033            3           2        2033           1             13,634,555.927286\n",
       "2033-02-28  2033            3           2        2033           2             13,726,464.780477\n",
       "2033-03-31  2033            3           2        2033           3             13,878,682.048349\n",
       "2033-04-29  2033            4           2        2033           4             14,018,282.224576\n",
       "2033-05-31  2033            4           2        2033           5             14,104,270.839302\n",
       "2033-06-30  2033            4           2        2033           6             14,190,416.291256\n",
       "2033-07-29  2034            1           1        2033           7             14,278,415.595721\n",
       "2033-08-31  2034            1           1        2033           8             14,366,573.267957\n",
       "2033-09-30  2034            1           1        2033           9             14,454,890.078826\n",
       "2033-10-31  2034            2           1        2033           10            14,543,755.727463\n",
       "2033-11-30  2034            2           1        2033           11            14,632,782.067736\n",
       "2033-12-30  2034            2           1        2033           12            14,721,969.881819\n",
       "2034-01-31  2034            3           2        2034           1             14,821,342.563857\n",
       "2034-02-28  2034            3           2        2034           2             14,920,878.295494\n",
       "2034-03-31  2034            3           2        2034           3             15,086,453.293949\n",
       "2034-04-28  2034            4           2        2034           4             15,238,205.962380\n",
       "2034-05-31  2034            4           2        2034           5             15,331,242.134805\n",
       "2034-06-30  2034            4           2        2034           6             15,424,444.554693\n",
       "Length: 193, dtype: float64"
      ]
     },
     "execution_count": 19,
     "metadata": {},
     "output_type": "execute_result"
    }
   ],
   "source": [
    "combined.total_aua(data_dic, input_dic)['vantage_cash_aua'] * a['sipp_cash_interest_rebt']/12"
   ]
  },
  {
   "cell_type": "code",
   "execution_count": null,
   "metadata": {},
   "outputs": [],
   "source": []
  }
 ],
 "metadata": {
  "kernelspec": {
   "display_name": "Python 3",
   "language": "python",
   "name": "python3"
  },
  "language_info": {
   "codemirror_mode": {
    "name": "ipython",
    "version": 3
   },
   "file_extension": ".py",
   "mimetype": "text/x-python",
   "name": "python",
   "nbconvert_exporter": "python",
   "pygments_lexer": "ipython3",
   "version": "3.6.4"
  }
 },
 "nbformat": 4,
 "nbformat_minor": 2
}
