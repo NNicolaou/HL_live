{
 "cells": [
  {
   "cell_type": "code",
   "execution_count": 1,
   "metadata": {},
   "outputs": [
    {
     "data": {
      "text/html": [
       "<script>\n",
       "code_show=true; \n",
       "function code_toggle() {\n",
       " if (code_show){\n",
       " $('div.input').hide();\n",
       " } else {\n",
       " $('div.input').show();\n",
       " }\n",
       " code_show = !code_show\n",
       "} \n",
       "$( document ).ready(code_toggle);\n",
       "</script>\n",
       "The raw code for this IPython notebook is by default hidden for easier reading.\n",
       "To toggle on/off the raw code, click <a href=\"javascript:code_toggle()\">here</a>."
      ],
      "text/plain": [
       "<IPython.core.display.HTML object>"
      ]
     },
     "execution_count": 1,
     "metadata": {},
     "output_type": "execute_result"
    }
   ],
   "source": [
    "from IPython.display import HTML\n",
    "HTML('''<script>\n",
    "code_show=true; \n",
    "function code_toggle() {\n",
    " if (code_show){\n",
    " $('div.input').hide();\n",
    " } else {\n",
    " $('div.input').show();\n",
    " }\n",
    " code_show = !code_show\n",
    "} \n",
    "$( document ).ready(code_toggle);\n",
    "</script>\n",
    "The raw code for this IPython notebook is by default hidden for easier reading.\n",
    "To toggle on/off the raw code, click <a href=\"javascript:code_toggle()\">here</a>.''')"
   ]
  },
  {
   "cell_type": "code",
   "execution_count": 2,
   "metadata": {},
   "outputs": [],
   "source": [
    "import pandas\n",
    "import numpy\n",
    "from matplotlib import pyplot as plt\n",
    "import seaborn\n",
    "%matplotlib notebook\n",
    "import datetime\n",
    "import general\n",
    "import discretionary_aua\n",
    "import vantage_aua\n",
    "import data_accessing\n",
    "import combined\n",
    "import revenue\n",
    "import costs\n",
    "import consolidated\n",
    "import discf\n",
    "from ipywidgets import widgets\n",
    "from IPython.display import display\n",
    "import stats\n",
    "from IPython.display import clear_output\n",
    "pandas.set_option('display.float_format', '{:20,.6f}'.format)   #suppressing scientific notation\n",
    "idx = pandas.IndexSlice"
   ]
  },
  {
   "cell_type": "code",
   "execution_count": 3,
   "metadata": {
    "scrolled": true
   },
   "outputs": [
    {
     "name": "stdout",
     "output_type": "stream",
     "text": [
      "Pulling data...\n",
      "Data pulled successfully.\n"
     ]
    }
   ],
   "source": [
    "print('Pulling data...')\n",
    "fund_dic = data_accessing.read_data(data_accessing.fund_data_name,data_accessing.fund_data_types)\n",
    "nnb_dic = data_accessing.read_data(data_accessing.nnb_data_name,data_accessing.nnb_data_sheet)\n",
    "discretionary_aua.append_share_class_units(fund_dic) # appending share class units\n",
    "index_hl_dic = data_accessing.read_data(data_accessing.index_hl_data_name, data_accessing.index_hl_data_sheet)\n",
    "data_dic = {**fund_dic, **index_hl_dic, **nnb_dic}\n",
    "\n",
    "input_dic = data_accessing.read_data(data_accessing.assumptions_name, data_accessing.assumptions_sheet)\n",
    "\n",
    "print('Data pulled successfully.')"
   ]
  },
  {
   "cell_type": "code",
   "execution_count": 4,
   "metadata": {},
   "outputs": [
    {
     "data": {
      "application/vnd.jupyter.widget-view+json": {
       "model_id": "53b51a14dd0b49b2ace0c4b123b34334",
       "version_major": 2,
       "version_minor": 0
      },
      "text/html": [
       "<p>Failed to display Jupyter Widget of type <code>Button</code>.</p>\n",
       "<p>\n",
       "  If you're reading this message in the Jupyter Notebook or JupyterLab Notebook, it may mean\n",
       "  that the widgets JavaScript is still loading. If this message persists, it\n",
       "  likely means that the widgets JavaScript library is either not installed or\n",
       "  not enabled. See the <a href=\"https://ipywidgets.readthedocs.io/en/stable/user_install.html\">Jupyter\n",
       "  Widgets Documentation</a> for setup instructions.\n",
       "</p>\n",
       "<p>\n",
       "  If you're reading this message in another frontend (for example, a static\n",
       "  rendering on GitHub or <a href=\"https://nbviewer.jupyter.org/\">NBViewer</a>),\n",
       "  it may mean that your frontend doesn't currently support widgets.\n",
       "</p>\n"
      ],
      "text/plain": [
       "Button(description='Update assumptions', layout=Layout(height='40px', width='20%'), style=ButtonStyle(button_color='lightgreen'))"
      ]
     },
     "metadata": {},
     "output_type": "display_data"
    }
   ],
   "source": [
    "assumption_button = widgets.Button(description='Update assumptions',layout=widgets.Layout(width='20%',height='40px'))\n",
    "assumption_button.style.button_color = 'lightgreen'\n",
    "def update_assumption(b):\n",
    "    global input_dic\n",
    "    input_dic = data_accessing.read_data(data_accessing.assumptions_name, data_accessing.assumptions_sheet)\n",
    "    print ('Assumptions updated successfully...')\n",
    "\n",
    "assumption_button.on_click(update_assumption)\n",
    "display(assumption_button)"
   ]
  },
  {
   "cell_type": "code",
   "execution_count": 5,
   "metadata": {},
   "outputs": [
    {
     "data": {
      "application/vnd.jupyter.widget-view+json": {
       "model_id": "87b5ac7701224cfb91e10287d89c062e",
       "version_major": 2,
       "version_minor": 0
      },
      "text/html": [
       "<p>Failed to display Jupyter Widget of type <code>HBox</code>.</p>\n",
       "<p>\n",
       "  If you're reading this message in the Jupyter Notebook or JupyterLab Notebook, it may mean\n",
       "  that the widgets JavaScript is still loading. If this message persists, it\n",
       "  likely means that the widgets JavaScript library is either not installed or\n",
       "  not enabled. See the <a href=\"https://ipywidgets.readthedocs.io/en/stable/user_install.html\">Jupyter\n",
       "  Widgets Documentation</a> for setup instructions.\n",
       "</p>\n",
       "<p>\n",
       "  If you're reading this message in another frontend (for example, a static\n",
       "  rendering on GitHub or <a href=\"https://nbviewer.jupyter.org/\">NBViewer</a>),\n",
       "  it may mean that your frontend doesn't currently support widgets.\n",
       "</p>\n"
      ],
      "text/plain": [
       "HBox(children=(VBox(children=(Button(description='Semi-annual revenue', layout=Layout(height='40px', width='100%'), style=ButtonStyle(button_color='lightgreen')), Button(description='Annual revenue - FY', layout=Layout(height='40px', width='100%'), style=ButtonStyle(button_color='lightgreen')), Button(description='Annual revenue - CY', layout=Layout(height='40px', width='100%'), style=ButtonStyle(button_color='lightgreen'))), layout=Layout(align_items='stretch', border='solid', display='flex', flex_flow='column', width='30%')), VBox(children=(Button(description='Consolidated semi-annual revenue', layout=Layout(height='40px', width='100%'), style=ButtonStyle(button_color='lightgreen')), Button(description='Consolidated annual revenue - FY', layout=Layout(height='40px', width='100%'), style=ButtonStyle(button_color='lightgreen')), Button(description='Consolidated annual revenue - CY', layout=Layout(height='40px', width='100%'), style=ButtonStyle(button_color='lightgreen'))), layout=Layout(align_items='stretch', border='solid', display='flex', flex_flow='column', width='30%'))))"
      ]
     },
     "metadata": {},
     "output_type": "display_data"
    }
   ],
   "source": [
    "revenue_types = ['Semi-annual revenue','Annual revenue - FY','Annual revenue - CY','Consolidated semi-annual revenue','Consolidated annual revenue - FY','Consolidated annual revenue - CY']\n",
    "box_layout = widgets.Layout(display='flex', flex_flow='column', align_items='stretch',border='solid',width='30%')\n",
    "items = {}\n",
    "for w in revenue_types:\n",
    "    items[w] = widgets.Button(description=w,layout=widgets.Layout(width='100%', height='40px'))\n",
    "    items[w].style.button_color = 'lightgreen'\n",
    "left_box = widgets.VBox([list(items.values())[0],list(items.values())[1],list(items.values())[2]],layout=box_layout)\n",
    "right_box = widgets.VBox([list(items.values())[3],list(items.values())[4],list(items.values())[5]],layout=box_layout)\n",
    "items['Semi-annual revenue'].on_click(lambda x: display(revenue.semi_revenue(data_dic,input_dic)))\n",
    "items['Annual revenue - FY'].on_click(lambda x: display(revenue.annual_revenue(data_dic,input_dic)))\n",
    "items['Annual revenue - CY'].on_click(lambda x: display(revenue.annual_revenue(data_dic,input_dic,cal_year=True)))\n",
    "items['Consolidated semi-annual revenue'].on_click(lambda x: display(consolidated.revenue_analysis(data_dic,input_dic)))\n",
    "items['Consolidated annual revenue - FY'].on_click(lambda x: display(consolidated.annual_revenue_analysis(data_dic,input_dic)))\n",
    "items['Consolidated annual revenue - CY'].on_click(lambda x: display(consolidated.annual_revenue_analysis(data_dic,input_dic,cal_year=True)))\n",
    "widgets.HBox([left_box,right_box])\n",
    "\n"
   ]
  },
  {
   "cell_type": "code",
   "execution_count": 6,
   "metadata": {},
   "outputs": [
    {
     "data": {
      "application/vnd.jupyter.widget-view+json": {
       "model_id": "33cc229366fe4de0a85d74f9a8ba1a55",
       "version_major": 2,
       "version_minor": 0
      },
      "text/html": [
       "<p>Failed to display Jupyter Widget of type <code>HBox</code>.</p>\n",
       "<p>\n",
       "  If you're reading this message in the Jupyter Notebook or JupyterLab Notebook, it may mean\n",
       "  that the widgets JavaScript is still loading. If this message persists, it\n",
       "  likely means that the widgets JavaScript library is either not installed or\n",
       "  not enabled. See the <a href=\"https://ipywidgets.readthedocs.io/en/stable/user_install.html\">Jupyter\n",
       "  Widgets Documentation</a> for setup instructions.\n",
       "</p>\n",
       "<p>\n",
       "  If you're reading this message in another frontend (for example, a static\n",
       "  rendering on GitHub or <a href=\"https://nbviewer.jupyter.org/\">NBViewer</a>),\n",
       "  it may mean that your frontend doesn't currently support widgets.\n",
       "</p>\n"
      ],
      "text/plain": [
       "HBox(children=(VBox(children=(Button(description='Semi-annual costs', layout=Layout(height='40px', width='100%'), style=ButtonStyle(button_color='lightgreen')), Button(description='Annual costs - FY', layout=Layout(height='40px', width='100%'), style=ButtonStyle(button_color='lightgreen')), Button(description='Annual costs - CY', layout=Layout(height='40px', width='100%'), style=ButtonStyle(button_color='lightgreen'))), layout=Layout(align_items='stretch', border='solid', display='flex', flex_flow='column', width='30%')), VBox(children=(Button(description='Consolidated semi-annual costs', layout=Layout(height='40px', width='100%'), style=ButtonStyle(button_color='lightgreen')), Button(description='Consolidated annual costs - FY', layout=Layout(height='40px', width='100%'), style=ButtonStyle(button_color='lightgreen')), Button(description='Consolidated annual costs - CY', layout=Layout(height='40px', width='100%'), style=ButtonStyle(button_color='lightgreen'))), layout=Layout(align_items='stretch', border='solid', display='flex', flex_flow='column', width='30%'))))"
      ]
     },
     "metadata": {},
     "output_type": "display_data"
    }
   ],
   "source": [
    "costs_types = ['Semi-annual costs','Annual costs - FY','Annual costs - CY','Consolidated semi-annual costs','Consolidated annual costs - FY','Consolidated annual costs - CY']\n",
    "items2 = {}\n",
    "for w2 in costs_types:\n",
    "    items2[w2] = widgets.Button(description=w2,layout=widgets.Layout(width='100%', height='40px'))\n",
    "    items2[w2].style.button_color = 'lightgreen'\n",
    "left_box2 = widgets.VBox([list(items2.values())[0],list(items2.values())[1],list(items2.values())[2]],layout=box_layout)\n",
    "right_box2 = widgets.VBox([list(items2.values())[3],list(items2.values())[4],list(items2.values())[5]],layout=box_layout)\n",
    "items2['Semi-annual costs'].on_click(lambda x: display(costs.semi_costs(input_dic)))\n",
    "items2['Annual costs - FY'].on_click(lambda x: display(costs.annual_costs(input_dic)))\n",
    "items2['Annual costs - CY'].on_click(lambda x: display(costs.annual_costs(input_dic,cal_year=True)))\n",
    "items2['Consolidated semi-annual costs'].on_click(lambda x: display(consolidated.costs_analysis(input_dic)))\n",
    "items2['Consolidated annual costs - FY'].on_click(lambda x: display(consolidated.annual_costs_analysis(input_dic)))\n",
    "items2['Consolidated annual costs - CY'].on_click(lambda x: display(consolidated.annual_costs_analysis(input_dic,cal_year=True)))\n",
    "widgets.HBox([left_box2,right_box2])"
   ]
  },
  {
   "cell_type": "code",
   "execution_count": 7,
   "metadata": {},
   "outputs": [
    {
     "data": {
      "application/vnd.jupyter.widget-view+json": {
       "model_id": "1ff5839025f847008e38cc855836053f",
       "version_major": 2,
       "version_minor": 0
      },
      "text/html": [
       "<p>Failed to display Jupyter Widget of type <code>SelectMultiple</code>.</p>\n",
       "<p>\n",
       "  If you're reading this message in the Jupyter Notebook or JupyterLab Notebook, it may mean\n",
       "  that the widgets JavaScript is still loading. If this message persists, it\n",
       "  likely means that the widgets JavaScript library is either not installed or\n",
       "  not enabled. See the <a href=\"https://ipywidgets.readthedocs.io/en/stable/user_install.html\">Jupyter\n",
       "  Widgets Documentation</a> for setup instructions.\n",
       "</p>\n",
       "<p>\n",
       "  If you're reading this message in another frontend (for example, a static\n",
       "  rendering on GitHub or <a href=\"https://nbviewer.jupyter.org/\">NBViewer</a>),\n",
       "  it may mean that your frontend doesn't currently support widgets.\n",
       "</p>\n"
      ],
      "text/plain": [
       "SelectMultiple(description='Years for comparison', options=(2018, 2019, 2020, 2021, 2022, 2023, 2024, 2025, 2026, 2027), value=())"
      ]
     },
     "metadata": {},
     "output_type": "display_data"
    },
    {
     "data": {
      "application/vnd.jupyter.widget-view+json": {
       "model_id": "bd7d60c933124c16af7ed409b7efd90f",
       "version_major": 2,
       "version_minor": 0
      },
      "text/html": [
       "<p>Failed to display Jupyter Widget of type <code>Box</code>.</p>\n",
       "<p>\n",
       "  If you're reading this message in the Jupyter Notebook or JupyterLab Notebook, it may mean\n",
       "  that the widgets JavaScript is still loading. If this message persists, it\n",
       "  likely means that the widgets JavaScript library is either not installed or\n",
       "  not enabled. See the <a href=\"https://ipywidgets.readthedocs.io/en/stable/user_install.html\">Jupyter\n",
       "  Widgets Documentation</a> for setup instructions.\n",
       "</p>\n",
       "<p>\n",
       "  If you're reading this message in another frontend (for example, a static\n",
       "  rendering on GitHub or <a href=\"https://nbviewer.jupyter.org/\">NBViewer</a>),\n",
       "  it may mean that your frontend doesn't currently support widgets.\n",
       "</p>\n"
      ],
      "text/plain": [
       "Box(children=(Button(description='NNB comparison', layout=Layout(height='40px', width='100%'), style=ButtonStyle(button_color='lightgreen')), Button(description='AUA comparison', layout=Layout(height='40px', width='100%'), style=ButtonStyle(button_color='lightgreen'))), layout=Layout(align_items='stretch', border='solid', display='flex', flex_flow='row', width='30%'))"
      ]
     },
     "metadata": {},
     "output_type": "display_data"
    }
   ],
   "source": [
    "ops = [i for i in list(range(general.recent_end_year, general.recent_end_year+10))]\n",
    "a_slider = widgets.SelectMultiple(options=ops, description='Years for comparison')\n",
    "display(a_slider)\n",
    "\n",
    "compare1 = ['NNB comparison','AUA comparison']\n",
    "box_layout2 = widgets.Layout(display='flex', flex_flow='row', align_items='stretch',border='solid',width='30%')\n",
    "items3 = {}\n",
    "for w3 in compare1:\n",
    "    items3[w3] = widgets.Button(description=w3,layout=widgets.Layout(width='100%', height='40px'))\n",
    "    items3[w3].style.button_color = 'lightgreen'\n",
    "box3 = widgets.Box([list(items3.values())[0],list(items3.values())[1]],layout=box_layout2)\n",
    "items3['NNB comparison'].on_click(lambda x: display(consolidated.get_nnb_compare(data_dic, input_dic,list(a_slider.value))))\n",
    "items3['AUA comparison'].on_click(lambda x: display(consolidated.get_aua_compare(data_dic, input_dic,list(a_slider.value))))\n",
    "\n",
    "\n",
    "display(box3)"
   ]
  },
  {
   "cell_type": "code",
   "execution_count": 8,
   "metadata": {},
   "outputs": [
    {
     "data": {
      "application/vnd.jupyter.widget-view+json": {
       "model_id": "ef7871d20f1948dea8b6da930309d4f6",
       "version_major": 2,
       "version_minor": 0
      },
      "text/html": [
       "<p>Failed to display Jupyter Widget of type <code>VBox</code>.</p>\n",
       "<p>\n",
       "  If you're reading this message in the Jupyter Notebook or JupyterLab Notebook, it may mean\n",
       "  that the widgets JavaScript is still loading. If this message persists, it\n",
       "  likely means that the widgets JavaScript library is either not installed or\n",
       "  not enabled. See the <a href=\"https://ipywidgets.readthedocs.io/en/stable/user_install.html\">Jupyter\n",
       "  Widgets Documentation</a> for setup instructions.\n",
       "</p>\n",
       "<p>\n",
       "  If you're reading this message in another frontend (for example, a static\n",
       "  rendering on GitHub or <a href=\"https://nbviewer.jupyter.org/\">NBViewer</a>),\n",
       "  it may mean that your frontend doesn't currently support widgets.\n",
       "</p>\n"
      ],
      "text/plain": [
       "VBox(children=(HBox(children=(Button(description='Interim revenue comparison', layout=Layout(height='40px', width='100%'), style=ButtonStyle(button_color='lightgreen')), Button(description='Annual revenue comparison', layout=Layout(height='40px', width='100%'), style=ButtonStyle(button_color='lightgreen'))), layout=Layout(align_items='stretch', border='solid', display='flex', flex_flow='row', width='50%')), HBox(children=(Button(description='Interim costs comparison', layout=Layout(height='40px', width='100%'), style=ButtonStyle(button_color='lightgreen')), Button(description='Annual costs comparison', layout=Layout(height='40px', width='100%'), style=ButtonStyle(button_color='lightgreen'))), layout=Layout(align_items='stretch', border='solid', display='flex', flex_flow='row', width='50%'))))"
      ]
     },
     "metadata": {},
     "output_type": "display_data"
    }
   ],
   "source": [
    "compare2 = ['Interim revenue comparison','Annual revenue comparison', 'Interim costs comparison', 'Annual costs comparison']\n",
    "box_layout3 = widgets.Layout(display='flex', flex_flow='row', align_items='stretch',border='solid',width='50%')\n",
    "items4 = {}\n",
    "for w4 in compare2:\n",
    "    items4[w4] = widgets.Button(description=w4,layout=widgets.Layout(width='100%', height='40px'))\n",
    "    items4[w4].style.button_color = 'lightgreen'\n",
    "top_box4 = widgets.HBox([list(items4.values())[0],list(items4.values())[1]],layout=box_layout3)\n",
    "bottom_box4 = widgets.HBox([list(items4.values())[2],list(items4.values())[3]],layout=box_layout3)\n",
    "items4['Interim revenue comparison'].on_click(lambda x: display(consolidated.get_revenue_compare(data_dic, input_dic,True,list(a_slider.value))))\n",
    "items4['Annual revenue comparison'].on_click(lambda x: display(consolidated.get_revenue_compare(data_dic, input_dic,False,list(a_slider.value))))\n",
    "items4['Interim costs comparison'].on_click(lambda x: display(consolidated.get_costs_compare(input_dic,True,list(a_slider.value))))\n",
    "items4['Annual costs comparison'].on_click(lambda x: display(consolidated.get_costs_compare(input_dic,False,list(a_slider.value))))\n",
    "\n",
    "widgets.VBox([top_box4, bottom_box4])"
   ]
  },
  {
   "cell_type": "code",
   "execution_count": 9,
   "metadata": {},
   "outputs": [
    {
     "data": {
      "application/vnd.jupyter.widget-view+json": {
       "model_id": "c2cf74e823cf4095b65e8cc2e7dc4595",
       "version_major": 2,
       "version_minor": 0
      },
      "text/html": [
       "<p>Failed to display Jupyter Widget of type <code>IntText</code>.</p>\n",
       "<p>\n",
       "  If you're reading this message in the Jupyter Notebook or JupyterLab Notebook, it may mean\n",
       "  that the widgets JavaScript is still loading. If this message persists, it\n",
       "  likely means that the widgets JavaScript library is either not installed or\n",
       "  not enabled. See the <a href=\"https://ipywidgets.readthedocs.io/en/stable/user_install.html\">Jupyter\n",
       "  Widgets Documentation</a> for setup instructions.\n",
       "</p>\n",
       "<p>\n",
       "  If you're reading this message in another frontend (for example, a static\n",
       "  rendering on GitHub or <a href=\"https://nbviewer.jupyter.org/\">NBViewer</a>),\n",
       "  it may mean that your frontend doesn't currently support widgets.\n",
       "</p>\n"
      ],
      "text/plain": [
       "IntText(value=9, description='DCF period - No. of years:')"
      ]
     },
     "metadata": {},
     "output_type": "display_data"
    },
    {
     "data": {
      "application/vnd.jupyter.widget-view+json": {
       "model_id": "620429daddfd4defa03e9cf0dc223dd4",
       "version_major": 2,
       "version_minor": 0
      },
      "text/html": [
       "<p>Failed to display Jupyter Widget of type <code>FloatText</code>.</p>\n",
       "<p>\n",
       "  If you're reading this message in the Jupyter Notebook or JupyterLab Notebook, it may mean\n",
       "  that the widgets JavaScript is still loading. If this message persists, it\n",
       "  likely means that the widgets JavaScript library is either not installed or\n",
       "  not enabled. See the <a href=\"https://ipywidgets.readthedocs.io/en/stable/user_install.html\">Jupyter\n",
       "  Widgets Documentation</a> for setup instructions.\n",
       "</p>\n",
       "<p>\n",
       "  If you're reading this message in another frontend (for example, a static\n",
       "  rendering on GitHub or <a href=\"https://nbviewer.jupyter.org/\">NBViewer</a>),\n",
       "  it may mean that your frontend doesn't currently support widgets.\n",
       "</p>\n"
      ],
      "text/plain": [
       "FloatText(value=0.035, description='Perpetuity growth rate:')"
      ]
     },
     "metadata": {},
     "output_type": "display_data"
    },
    {
     "data": {
      "application/vnd.jupyter.widget-view+json": {
       "model_id": "b9ebcff545a64f21b5b73e4557293529",
       "version_major": 2,
       "version_minor": 0
      },
      "text/html": [
       "<p>Failed to display Jupyter Widget of type <code>FloatText</code>.</p>\n",
       "<p>\n",
       "  If you're reading this message in the Jupyter Notebook or JupyterLab Notebook, it may mean\n",
       "  that the widgets JavaScript is still loading. If this message persists, it\n",
       "  likely means that the widgets JavaScript library is either not installed or\n",
       "  not enabled. See the <a href=\"https://ipywidgets.readthedocs.io/en/stable/user_install.html\">Jupyter\n",
       "  Widgets Documentation</a> for setup instructions.\n",
       "</p>\n",
       "<p>\n",
       "  If you're reading this message in another frontend (for example, a static\n",
       "  rendering on GitHub or <a href=\"https://nbviewer.jupyter.org/\">NBViewer</a>),\n",
       "  it may mean that your frontend doesn't currently support widgets.\n",
       "</p>\n"
      ],
      "text/plain": [
       "FloatText(value=0.085, description='Cash flow discount rate:')"
      ]
     },
     "metadata": {},
     "output_type": "display_data"
    },
    {
     "data": {
      "application/vnd.jupyter.widget-view+json": {
       "model_id": "70166da9d6a448bdbc9bfd00f0692589",
       "version_major": 2,
       "version_minor": 0
      },
      "text/html": [
       "<p>Failed to display Jupyter Widget of type <code>Checkbox</code>.</p>\n",
       "<p>\n",
       "  If you're reading this message in the Jupyter Notebook or JupyterLab Notebook, it may mean\n",
       "  that the widgets JavaScript is still loading. If this message persists, it\n",
       "  likely means that the widgets JavaScript library is either not installed or\n",
       "  not enabled. See the <a href=\"https://ipywidgets.readthedocs.io/en/stable/user_install.html\">Jupyter\n",
       "  Widgets Documentation</a> for setup instructions.\n",
       "</p>\n",
       "<p>\n",
       "  If you're reading this message in another frontend (for example, a static\n",
       "  rendering on GitHub or <a href=\"https://nbviewer.jupyter.org/\">NBViewer</a>),\n",
       "  it may mean that your frontend doesn't currently support widgets.\n",
       "</p>\n"
      ],
      "text/plain": [
       "Checkbox(value=False, description='Fair value now')"
      ]
     },
     "metadata": {},
     "output_type": "display_data"
    },
    {
     "data": {
      "application/vnd.jupyter.widget-view+json": {
       "model_id": "24498281079f4f60867e1e3f4edd483c",
       "version_major": 2,
       "version_minor": 0
      },
      "text/html": [
       "<p>Failed to display Jupyter Widget of type <code>Checkbox</code>.</p>\n",
       "<p>\n",
       "  If you're reading this message in the Jupyter Notebook or JupyterLab Notebook, it may mean\n",
       "  that the widgets JavaScript is still loading. If this message persists, it\n",
       "  likely means that the widgets JavaScript library is either not installed or\n",
       "  not enabled. See the <a href=\"https://ipywidgets.readthedocs.io/en/stable/user_install.html\">Jupyter\n",
       "  Widgets Documentation</a> for setup instructions.\n",
       "</p>\n",
       "<p>\n",
       "  If you're reading this message in another frontend (for example, a static\n",
       "  rendering on GitHub or <a href=\"https://nbviewer.jupyter.org/\">NBViewer</a>),\n",
       "  it may mean that your frontend doesn't currently support widgets.\n",
       "</p>\n"
      ],
      "text/plain": [
       "Checkbox(value=False, description='Fractional valuation')"
      ]
     },
     "metadata": {},
     "output_type": "display_data"
    },
    {
     "data": {
      "application/vnd.jupyter.widget-view+json": {
       "model_id": "ca521158e4a6428a9e251d7f8536856a",
       "version_major": 2,
       "version_minor": 0
      },
      "text/html": [
       "<p>Failed to display Jupyter Widget of type <code>HBox</code>.</p>\n",
       "<p>\n",
       "  If you're reading this message in the Jupyter Notebook or JupyterLab Notebook, it may mean\n",
       "  that the widgets JavaScript is still loading. If this message persists, it\n",
       "  likely means that the widgets JavaScript library is either not installed or\n",
       "  not enabled. See the <a href=\"https://ipywidgets.readthedocs.io/en/stable/user_install.html\">Jupyter\n",
       "  Widgets Documentation</a> for setup instructions.\n",
       "</p>\n",
       "<p>\n",
       "  If you're reading this message in another frontend (for example, a static\n",
       "  rendering on GitHub or <a href=\"https://nbviewer.jupyter.org/\">NBViewer</a>),\n",
       "  it may mean that your frontend doesn't currently support widgets.\n",
       "</p>\n"
      ],
      "text/plain": [
       "HBox(children=(Button(description='Discounted cash flow', layout=Layout(height='40px', width='100%'), style=ButtonStyle(button_color='lightgreen')), Button(description='Fair value', layout=Layout(height='40px', width='100%'), style=ButtonStyle(button_color='lightgreen'))), layout=Layout(align_items='stretch', border='solid', display='flex', flex_flow='row', width='50%'))"
      ]
     },
     "metadata": {},
     "output_type": "display_data"
    }
   ],
   "source": [
    "'''=====current values=======\n",
    "discounted cash flow period: 9 years\n",
    "perpetuity growth rate: 0.035\n",
    "cash flow discounted rate: 0.085\n",
    "'''\n",
    "dcf_period = widgets.IntText(value=9,placeholder='Integer',description='DCF period - No. of years:')\n",
    "display(dcf_period)\n",
    "perp_growth = widgets.FloatText(value=0.035,placeholder='Percentage as decimals',description='Perpetuity growth rate:')\n",
    "display(perp_growth)\n",
    "disct_rate = widgets.FloatText(value=0.085,placeholder='Percentage as decimals',description='Cash flow discount rate:')\n",
    "display(disct_rate)\n",
    "current_value = widgets.Checkbox(value=False, description='Fair value now')\n",
    "display(current_value)\n",
    "fractional = widgets.Checkbox(value=False, description='Fractional valuation')\n",
    "display(fractional)\n",
    "\n",
    "dis_cash = ['Discounted cash flow','Fair value']\n",
    "items5 = {}\n",
    "for w5 in dis_cash:\n",
    "    items5[w5] = widgets.Button(description=w5, layout=widgets.Layout(width='100%', height='40px'))\n",
    "    items5[w5].style.button_color = 'lightgreen'\n",
    "fair = widgets.HBox([list(items5.values())[0],list(items5.values())[1]],layout=box_layout3)\n",
    "items5['Discounted cash flow'].on_click(lambda x: display(discf.disc_cash_flow(data_dic, input_dic,now=current_value.value,fractional=fractional.value,dcf_p=dcf_period.value,disc_rate=disct_rate.value)))\n",
    "items5['Fair value'].on_click(lambda x: display(discf.fair_value(data_dic, input_dic,now=current_value.value,fractional=fractional.value,dcf_p=dcf_period.value,disc_rate=disct_rate.value,pep_rate=perp_growth.value)))    \n",
    "display(fair)"
   ]
  },
  {
   "cell_type": "code",
   "execution_count": 10,
   "metadata": {},
   "outputs": [
    {
     "data": {
      "application/vnd.jupyter.widget-view+json": {
       "model_id": "c234d39905b04ef6b435504a48c9a711",
       "version_major": 2,
       "version_minor": 0
      },
      "text/html": [
       "<p>Failed to display Jupyter Widget of type <code>RadioButtons</code>.</p>\n",
       "<p>\n",
       "  If you're reading this message in the Jupyter Notebook or JupyterLab Notebook, it may mean\n",
       "  that the widgets JavaScript is still loading. If this message persists, it\n",
       "  likely means that the widgets JavaScript library is either not installed or\n",
       "  not enabled. See the <a href=\"https://ipywidgets.readthedocs.io/en/stable/user_install.html\">Jupyter\n",
       "  Widgets Documentation</a> for setup instructions.\n",
       "</p>\n",
       "<p>\n",
       "  If you're reading this message in another frontend (for example, a static\n",
       "  rendering on GitHub or <a href=\"https://nbviewer.jupyter.org/\">NBViewer</a>),\n",
       "  it may mean that your frontend doesn't currently support widgets.\n",
       "</p>\n"
      ],
      "text/plain": [
       "RadioButtons(description='Period', options=('month_no', 'quarter_no', 'half_no', 'financial_year', 'calendar_year'), value='month_no')"
      ]
     },
     "metadata": {},
     "output_type": "display_data"
    },
    {
     "data": {
      "application/vnd.jupyter.widget-view+json": {
       "model_id": "06842dc725194c90b70d121e3ae48f51",
       "version_major": 2,
       "version_minor": 0
      },
      "text/html": [
       "<p>Failed to display Jupyter Widget of type <code>HBox</code>.</p>\n",
       "<p>\n",
       "  If you're reading this message in the Jupyter Notebook or JupyterLab Notebook, it may mean\n",
       "  that the widgets JavaScript is still loading. If this message persists, it\n",
       "  likely means that the widgets JavaScript library is either not installed or\n",
       "  not enabled. See the <a href=\"https://ipywidgets.readthedocs.io/en/stable/user_install.html\">Jupyter\n",
       "  Widgets Documentation</a> for setup instructions.\n",
       "</p>\n",
       "<p>\n",
       "  If you're reading this message in another frontend (for example, a static\n",
       "  rendering on GitHub or <a href=\"https://nbviewer.jupyter.org/\">NBViewer</a>),\n",
       "  it may mean that your frontend doesn't currently support widgets.\n",
       "</p>\n"
      ],
      "text/plain": [
       "HBox(children=(VBox(children=(Button(description='HLF composite monthly return', layout=Layout(height='40px', width='100%'), style=ButtonStyle(button_color='lightgreen')), Button(description='Total NNB hlf Algo', layout=Layout(height='40px', width='100%'), style=ButtonStyle(button_color='lightgreen')), Button(description='NNB distribution hlf Algo', layout=Layout(height='40px', width='100%'), style=ButtonStyle(button_color='lightgreen')), Button(description='Total AUA', layout=Layout(height='40px', width='100%'), style=ButtonStyle(button_color='lightgreen'))), layout=Layout(align_items='stretch', border='solid', display='flex', flex_flow='column', width='30%')), VBox(children=(Button(description='% Revenue distribution', layout=Layout(height='40px', width='100%'), style=ButtonStyle(button_color='lightgreen')), Button(description='Avg AUA distribution', layout=Layout(height='40px', width='100%'), style=ButtonStyle(button_color='lightgreen')), Button(description='Total NNB nnc Algo', layout=Layout(height='40px', width='100%'), style=ButtonStyle(button_color='lightgreen')), Button(description='NNB distribution nnc Algo', layout=Layout(height='40px', width='100%'), style=ButtonStyle(button_color='lightgreen'))), layout=Layout(align_items='stretch', border='solid', display='flex', flex_flow='column', width='30%'))))"
      ]
     },
     "metadata": {},
     "output_type": "display_data"
    }
   ],
   "source": [
    "radio1 = widgets.RadioButtons(options=['month_no','quarter_no','half_no','financial_year','calendar_year'],description='Period',disabled=False)\n",
    "display(radio1)\n",
    "\n",
    "others = ['HLF composite monthly return','Total NNB hlf Algo','NNB distribution hlf Algo','Total AUA','% Revenue distribution','Avg AUA distribution', 'Total NNB nnc Algo', 'NNB distribution nnc Algo']\n",
    "items6 = {}\n",
    "for w6 in others:\n",
    "    items6[w6] = widgets.Button(description=w6, layout=widgets.Layout(width='100%', height='40px'))\n",
    "    items6[w6].style.button_color = 'lightgreen'\n",
    "other_box1 = widgets.VBox([list(items6.values())[0],list(items6.values())[1],list(items6.values())[2],list(items6.values())[3]],layout=box_layout)\n",
    "other_box2 = widgets.VBox([list(items6.values())[4],list(items6.values())[5],list(items6.values())[6],list(items6.values())[7]],layout=box_layout)\n",
    "items6['HLF composite monthly return'].on_click(lambda x: display(discretionary_aua.get_composite_return(data_dic)))\n",
    "items6['Total NNB hlf Algo'].on_click(lambda x: display(combined.total_nnb(data_dic, input_dic, opt=radio1.value)))\n",
    "items6['NNB distribution hlf Algo'].on_click(lambda x: display(combined.nnb_distribution(data_dic, input_dic, opt=radio1.value)))\n",
    "items6['Total AUA'].on_click(lambda x: display(combined.total_aua(data_dic, input_dic)))\n",
    "items6['% Revenue distribution'].on_click(lambda x: display(stats.summary_revenue_dist_percent(data_dic, input_dic)))\n",
    "items6['Avg AUA distribution'].on_click(lambda x: display(stats.summary_avg_aua_dist(data_dic, input_dic,radio1.value)))\n",
    "items6['Total NNB nnc Algo'].on_click(lambda x: display(combined.total_nnb_ci_clientAlgo(data_dic, input_dic, opt=radio1.value)))\n",
    "items6['NNB distribution nnc Algo'].on_click(lambda x: display(combined.total_nnb_distribution_clientAlgo(data_dic, input_dic, opt=radio1.value)))\n",
    "\n",
    "widgets.HBox([other_box1, other_box2])\n",
    "\n",
    "#Financial year based"
   ]
  },
  {
   "cell_type": "code",
   "execution_count": 11,
   "metadata": {},
   "outputs": [
    {
     "data": {
      "application/vnd.jupyter.widget-view+json": {
       "model_id": "08738e8f2b204ea6ae11224bf7f86aca",
       "version_major": 2,
       "version_minor": 0
      },
      "text/html": [
       "<p>Failed to display Jupyter Widget of type <code>RadioButtons</code>.</p>\n",
       "<p>\n",
       "  If you're reading this message in the Jupyter Notebook or JupyterLab Notebook, it may mean\n",
       "  that the widgets JavaScript is still loading. If this message persists, it\n",
       "  likely means that the widgets JavaScript library is either not installed or\n",
       "  not enabled. See the <a href=\"https://ipywidgets.readthedocs.io/en/stable/user_install.html\">Jupyter\n",
       "  Widgets Documentation</a> for setup instructions.\n",
       "</p>\n",
       "<p>\n",
       "  If you're reading this message in another frontend (for example, a static\n",
       "  rendering on GitHub or <a href=\"https://nbviewer.jupyter.org/\">NBViewer</a>),\n",
       "  it may mean that your frontend doesn't currently support widgets.\n",
       "</p>\n"
      ],
      "text/plain": [
       "RadioButtons(description='Period', options=('day', 'month', 'semi-annual', 'quarter', 'annual'), value='day')"
      ]
     },
     "metadata": {},
     "output_type": "display_data"
    },
    {
     "data": {
      "application/vnd.jupyter.widget-view+json": {
       "model_id": "451f65f8c8c8470184cb5456fc602645",
       "version_major": 2,
       "version_minor": 0
      },
      "text/html": [
       "<p>Failed to display Jupyter Widget of type <code>Dropdown</code>.</p>\n",
       "<p>\n",
       "  If you're reading this message in the Jupyter Notebook or JupyterLab Notebook, it may mean\n",
       "  that the widgets JavaScript is still loading. If this message persists, it\n",
       "  likely means that the widgets JavaScript library is either not installed or\n",
       "  not enabled. See the <a href=\"https://ipywidgets.readthedocs.io/en/stable/user_install.html\">Jupyter\n",
       "  Widgets Documentation</a> for setup instructions.\n",
       "</p>\n",
       "<p>\n",
       "  If you're reading this message in another frontend (for example, a static\n",
       "  rendering on GitHub or <a href=\"https://nbviewer.jupyter.org/\">NBViewer</a>),\n",
       "  it may mean that your frontend doesn't currently support widgets.\n",
       "</p>\n"
      ],
      "text/plain": [
       "Dropdown(description='Fund option', options=('no_select', None), value='no_select')"
      ]
     },
     "metadata": {},
     "output_type": "display_data"
    },
    {
     "data": {
      "application/vnd.jupyter.widget-view+json": {
       "model_id": "2fcd436490b443eabb76e39bedfda240",
       "version_major": 2,
       "version_minor": 0
      },
      "text/html": [
       "<p>Failed to display Jupyter Widget of type <code>Dropdown</code>.</p>\n",
       "<p>\n",
       "  If you're reading this message in the Jupyter Notebook or JupyterLab Notebook, it may mean\n",
       "  that the widgets JavaScript is still loading. If this message persists, it\n",
       "  likely means that the widgets JavaScript library is either not installed or\n",
       "  not enabled. See the <a href=\"https://ipywidgets.readthedocs.io/en/stable/user_install.html\">Jupyter\n",
       "  Widgets Documentation</a> for setup instructions.\n",
       "</p>\n",
       "<p>\n",
       "  If you're reading this message in another frontend (for example, a static\n",
       "  rendering on GitHub or <a href=\"https://nbviewer.jupyter.org/\">NBViewer</a>),\n",
       "  it may mean that your frontend doesn't currently support widgets.\n",
       "</p>\n"
      ],
      "text/plain": [
       "Dropdown(description='Unit type', options=('acc', 'inc'), value='acc')"
      ]
     },
     "metadata": {},
     "output_type": "display_data"
    },
    {
     "data": {
      "application/vnd.jupyter.widget-view+json": {
       "model_id": "e3ec1488eb09404b9f24085c9777077a",
       "version_major": 2,
       "version_minor": 0
      },
      "text/html": [
       "<p>Failed to display Jupyter Widget of type <code>Button</code>.</p>\n",
       "<p>\n",
       "  If you're reading this message in the Jupyter Notebook or JupyterLab Notebook, it may mean\n",
       "  that the widgets JavaScript is still loading. If this message persists, it\n",
       "  likely means that the widgets JavaScript library is either not installed or\n",
       "  not enabled. See the <a href=\"https://ipywidgets.readthedocs.io/en/stable/user_install.html\">Jupyter\n",
       "  Widgets Documentation</a> for setup instructions.\n",
       "</p>\n",
       "<p>\n",
       "  If you're reading this message in another frontend (for example, a static\n",
       "  rendering on GitHub or <a href=\"https://nbviewer.jupyter.org/\">NBViewer</a>),\n",
       "  it may mean that your frontend doesn't currently support widgets.\n",
       "</p>\n"
      ],
      "text/plain": [
       "Button(description='Implied HLF nnb period-to-date', layout=Layout(height='40px', width='50%'), style=ButtonStyle(button_color='lightgreen'))"
      ]
     },
     "metadata": {},
     "output_type": "display_data"
    },
    {
     "data": {
      "application/vnd.jupyter.widget-view+json": {
       "model_id": "c522289f83c0455b9765d8be2e8861e5",
       "version_major": 2,
       "version_minor": 0
      },
      "text/html": [
       "<p>Failed to display Jupyter Widget of type <code>Button</code>.</p>\n",
       "<p>\n",
       "  If you're reading this message in the Jupyter Notebook or JupyterLab Notebook, it may mean\n",
       "  that the widgets JavaScript is still loading. If this message persists, it\n",
       "  likely means that the widgets JavaScript library is either not installed or\n",
       "  not enabled. See the <a href=\"https://ipywidgets.readthedocs.io/en/stable/user_install.html\">Jupyter\n",
       "  Widgets Documentation</a> for setup instructions.\n",
       "</p>\n",
       "<p>\n",
       "  If you're reading this message in another frontend (for example, a static\n",
       "  rendering on GitHub or <a href=\"https://nbviewer.jupyter.org/\">NBViewer</a>),\n",
       "  it may mean that your frontend doesn't currently support widgets.\n",
       "</p>\n"
      ],
      "text/plain": [
       "Button(description='HLF unit change period-to-date', layout=Layout(height='40px', width='50%'), style=ButtonStyle(button_color='lightgreen'))"
      ]
     },
     "metadata": {},
     "output_type": "display_data"
    }
   ],
   "source": [
    "nnb_radio = widgets.RadioButtons(options=['day','month','semi-annual','quarter','annual'],description='Period',disabled=False)\n",
    "nnb_dropdown = widgets.Dropdown(options=['no_select',None],description='Fund option',disabled=False)\n",
    "unit_dropdown = widgets.Dropdown(options=['acc','inc'],description='Unit type',disabled=False)\n",
    "display(nnb_radio)\n",
    "display(nnb_dropdown)\n",
    "display(unit_dropdown)\n",
    "\n",
    "nnb_b = widgets.Button(description='Implied HLF nnb period-to-date', layout=widgets.Layout(width='50%', height='40px'))\n",
    "nnb_b.style.button_color = 'lightgreen'\n",
    "\n",
    "nnb_b2 = widgets.Button(description='HLF unit change period-to-date', layout=widgets.Layout(width='50%', height='40px'))\n",
    "nnb_b2.style.button_color = 'lightgreen'\n",
    "nnb_b.on_click(lambda x: display(stats.hlf_to_date_implied_nnb(data_dic,typ=nnb_radio.value,fund_opt=nnb_dropdown.value)))\n",
    "nnb_b2.on_click(lambda x: display(stats.hlf_to_date_unit_change(data_dic, unit_type=unit_dropdown.value,typ=nnb_radio.value,fund_opt=nnb_dropdown.value)))\n",
    "\n",
    "display(nnb_b)\n",
    "display(nnb_b2)"
   ]
  },
  {
   "cell_type": "code",
   "execution_count": 12,
   "metadata": {},
   "outputs": [
    {
     "data": {
      "application/vnd.jupyter.widget-view+json": {
       "model_id": "a0f75b66e1684f76a9a26eeacbf0a4d5",
       "version_major": 2,
       "version_minor": 0
      },
      "text/html": [
       "<p>Failed to display Jupyter Widget of type <code>RadioButtons</code>.</p>\n",
       "<p>\n",
       "  If you're reading this message in the Jupyter Notebook or JupyterLab Notebook, it may mean\n",
       "  that the widgets JavaScript is still loading. If this message persists, it\n",
       "  likely means that the widgets JavaScript library is either not installed or\n",
       "  not enabled. See the <a href=\"https://ipywidgets.readthedocs.io/en/stable/user_install.html\">Jupyter\n",
       "  Widgets Documentation</a> for setup instructions.\n",
       "</p>\n",
       "<p>\n",
       "  If you're reading this message in another frontend (for example, a static\n",
       "  rendering on GitHub or <a href=\"https://nbviewer.jupyter.org/\">NBViewer</a>),\n",
       "  it may mean that your frontend doesn't currently support widgets.\n",
       "</p>\n"
      ],
      "text/plain": [
       "RadioButtons(description='Period', options=('monthly', 'quarter_no', 'half_no', 'financial_year', 'calendar_year'), value='monthly')"
      ]
     },
     "metadata": {},
     "output_type": "display_data"
    },
    {
     "data": {
      "application/vnd.jupyter.widget-view+json": {
       "model_id": "164656869796434b8ff07865dba41fb0",
       "version_major": 2,
       "version_minor": 0
      },
      "text/html": [
       "<p>Failed to display Jupyter Widget of type <code>Button</code>.</p>\n",
       "<p>\n",
       "  If you're reading this message in the Jupyter Notebook or JupyterLab Notebook, it may mean\n",
       "  that the widgets JavaScript is still loading. If this message persists, it\n",
       "  likely means that the widgets JavaScript library is either not installed or\n",
       "  not enabled. See the <a href=\"https://ipywidgets.readthedocs.io/en/stable/user_install.html\">Jupyter\n",
       "  Widgets Documentation</a> for setup instructions.\n",
       "</p>\n",
       "<p>\n",
       "  If you're reading this message in another frontend (for example, a static\n",
       "  rendering on GitHub or <a href=\"https://nbviewer.jupyter.org/\">NBViewer</a>),\n",
       "  it may mean that your frontend doesn't currently support widgets.\n",
       "</p>\n"
      ],
      "text/plain": [
       "Button(description='Cash margin', layout=Layout(height='40px', width='50%'), style=ButtonStyle(button_color='lightgreen'))"
      ]
     },
     "metadata": {},
     "output_type": "display_data"
    }
   ],
   "source": [
    "cash_radio = widgets.RadioButtons(options=['monthly','quarter_no','half_no','financial_year','calendar_year'],description='Period',disabled=False)\n",
    "display(cash_radio)\n",
    "\n",
    "\n",
    "cash_b = widgets.Button(description='Cash margin', layout=widgets.Layout(width='50%', height='40px'))\n",
    "cash_b.style.button_color = 'lightgreen'\n",
    "cash_b.on_click(lambda x: display(stats.cash_margin(data_dic, input_dic, cash_radio.value)))\n",
    "display(cash_b)"
   ]
  },
  {
   "cell_type": "code",
   "execution_count": 13,
   "metadata": {},
   "outputs": [
    {
     "data": {
      "application/vnd.jupyter.widget-view+json": {
       "model_id": "a43f09dd800f4868bde94e47e423ac17",
       "version_major": 2,
       "version_minor": 0
      },
      "text/html": [
       "<p>Failed to display Jupyter Widget of type <code>RadioButtons</code>.</p>\n",
       "<p>\n",
       "  If you're reading this message in the Jupyter Notebook or JupyterLab Notebook, it may mean\n",
       "  that the widgets JavaScript is still loading. If this message persists, it\n",
       "  likely means that the widgets JavaScript library is either not installed or\n",
       "  not enabled. See the <a href=\"https://ipywidgets.readthedocs.io/en/stable/user_install.html\">Jupyter\n",
       "  Widgets Documentation</a> for setup instructions.\n",
       "</p>\n",
       "<p>\n",
       "  If you're reading this message in another frontend (for example, a static\n",
       "  rendering on GitHub or <a href=\"https://nbviewer.jupyter.org/\">NBViewer</a>),\n",
       "  it may mean that your frontend doesn't currently support widgets.\n",
       "</p>\n"
      ],
      "text/plain": [
       "RadioButtons(description='Calendar year?', options=(True, False), value=True)"
      ]
     },
     "metadata": {},
     "output_type": "display_data"
    },
    {
     "data": {
      "application/vnd.jupyter.widget-view+json": {
       "model_id": "c5a1a78656d74f90b7530d0cc48194df",
       "version_major": 2,
       "version_minor": 0
      },
      "text/html": [
       "<p>Failed to display Jupyter Widget of type <code>Button</code>.</p>\n",
       "<p>\n",
       "  If you're reading this message in the Jupyter Notebook or JupyterLab Notebook, it may mean\n",
       "  that the widgets JavaScript is still loading. If this message persists, it\n",
       "  likely means that the widgets JavaScript library is either not installed or\n",
       "  not enabled. See the <a href=\"https://ipywidgets.readthedocs.io/en/stable/user_install.html\">Jupyter\n",
       "  Widgets Documentation</a> for setup instructions.\n",
       "</p>\n",
       "<p>\n",
       "  If you're reading this message in another frontend (for example, a static\n",
       "  rendering on GitHub or <a href=\"https://nbviewer.jupyter.org/\">NBViewer</a>),\n",
       "  it may mean that your frontend doesn't currently support widgets.\n",
       "</p>\n"
      ],
      "text/plain": [
       "Button(description='Net earnings and EPS', layout=Layout(height='40px', width='50%'), style=ButtonStyle(button_color='lightgreen'))"
      ]
     },
     "metadata": {},
     "output_type": "display_data"
    }
   ],
   "source": [
    "eps_radio = widgets.RadioButtons(options=[True, False],description='Calendar year?',disabled=False)\n",
    "display(eps_radio)\n",
    "\n",
    "eps_summary = widgets.Button(description='Net earnings and EPS', layout=widgets.Layout(width='50%', height='40px'))\n",
    "eps_summary.style.button_color = 'lightgreen'\n",
    "eps_summary.on_click(lambda x: display(stats.summary_total(data_dic, input_dic, cal=eps_radio.value)))\n",
    "display(eps_summary)\n"
   ]
  },
  {
   "cell_type": "code",
   "execution_count": 14,
   "metadata": {},
   "outputs": [
    {
     "data": {
      "application/vnd.jupyter.widget-view+json": {
       "model_id": "1494e5a8610649fc8a28c0e4f447ab14",
       "version_major": 2,
       "version_minor": 0
      },
      "text/html": [
       "<p>Failed to display Jupyter Widget of type <code>RadioButtons</code>.</p>\n",
       "<p>\n",
       "  If you're reading this message in the Jupyter Notebook or JupyterLab Notebook, it may mean\n",
       "  that the widgets JavaScript is still loading. If this message persists, it\n",
       "  likely means that the widgets JavaScript library is either not installed or\n",
       "  not enabled. See the <a href=\"https://ipywidgets.readthedocs.io/en/stable/user_install.html\">Jupyter\n",
       "  Widgets Documentation</a> for setup instructions.\n",
       "</p>\n",
       "<p>\n",
       "  If you're reading this message in another frontend (for example, a static\n",
       "  rendering on GitHub or <a href=\"https://nbviewer.jupyter.org/\">NBViewer</a>),\n",
       "  it may mean that your frontend doesn't currently support widgets.\n",
       "</p>\n"
      ],
      "text/plain": [
       "RadioButtons(description='Period', options=('month_no', 'quarter_no', 'half_no', 'financial_year', 'calendar_year'), value='month_no')"
      ]
     },
     "metadata": {},
     "output_type": "display_data"
    },
    {
     "data": {
      "application/vnd.jupyter.widget-view+json": {
       "model_id": "6689d869f9eb43be8690e79bf44ba641",
       "version_major": 2,
       "version_minor": 0
      },
      "text/html": [
       "<p>Failed to display Jupyter Widget of type <code>VBox</code>.</p>\n",
       "<p>\n",
       "  If you're reading this message in the Jupyter Notebook or JupyterLab Notebook, it may mean\n",
       "  that the widgets JavaScript is still loading. If this message persists, it\n",
       "  likely means that the widgets JavaScript library is either not installed or\n",
       "  not enabled. See the <a href=\"https://ipywidgets.readthedocs.io/en/stable/user_install.html\">Jupyter\n",
       "  Widgets Documentation</a> for setup instructions.\n",
       "</p>\n",
       "<p>\n",
       "  If you're reading this message in another frontend (for example, a static\n",
       "  rendering on GitHub or <a href=\"https://nbviewer.jupyter.org/\">NBViewer</a>),\n",
       "  it may mean that your frontend doesn't currently support widgets.\n",
       "</p>\n"
      ],
      "text/plain": [
       "VBox(children=(HBox(children=(Button(description='HLF revenue margin', layout=Layout(height='40px', width='100%'), style=ButtonStyle(button_color='lightgreen')), Button(description='Monthly revenue', layout=Layout(height='40px', width='100%'), style=ButtonStyle(button_color='lightgreen'))), layout=Layout(align_items='stretch', border='solid', display='flex', flex_flow='row', width='50%')), HBox(children=(Button(description='HLF avg fund size', layout=Layout(height='40px', width='100%'), style=ButtonStyle(button_color='lightgreen')), Button(description='Quarter Trading update revenue', layout=Layout(height='40px', width='100%'), style=ButtonStyle(button_color='lightgreen'))), layout=Layout(align_items='stretch', border='solid', display='flex', flex_flow='row', width='50%'))))"
      ]
     },
     "metadata": {},
     "output_type": "display_data"
    }
   ],
   "source": [
    "hlf_radio = widgets.RadioButtons(options=['month_no','quarter_no','half_no','financial_year','calendar_year'],description='Period',disabled=False)\n",
    "display(hlf_radio)\n",
    "\n",
    "\n",
    "buttom3 = ['HLF revenue margin','Monthly revenue', 'HLF avg fund size','Quarter Trading update revenue']\n",
    "items7 = {}\n",
    "for w7 in buttom3:\n",
    "    items7[w7] = widgets.Button(description=w7, layout=widgets.Layout(width='100%', height='40px'))\n",
    "    items7[w7].style.button_color = 'lightgreen'\n",
    "\n",
    "top_m = widgets.HBox([list(items7.values())[0],list(items7.values())[1]],layout=box_layout3)\n",
    "bottom_m = widgets.HBox([list(items7.values())[2],list(items7.values())[3]],layout=box_layout3)\n",
    "\n",
    "items7['HLF revenue margin'].on_click(lambda x: display(stats.hlf_revenue_margin(data_dic,input_dic,hlf_radio.value)))\n",
    "items7['Monthly revenue'].on_click(lambda x: display(revenue.monthly_revenue(data_dic, input_dic)))\n",
    "items7['HLF avg fund size'].on_click(lambda x: display(stats.avg_hlf_size(data_dic, input_dic,hlf_radio.value)))\n",
    "items7['Quarter Trading update revenue'].on_click(lambda x: display(stats.quarter_revenue(data_dic, input_dic)))\n",
    "\n",
    "\n",
    "widgets.VBox([top_m, bottom_m])"
   ]
  },
  {
   "cell_type": "code",
   "execution_count": 15,
   "metadata": {},
   "outputs": [
    {
     "data": {
      "application/vnd.jupyter.widget-view+json": {
       "model_id": "1ff5839025f847008e38cc855836053f",
       "version_major": 2,
       "version_minor": 0
      },
      "text/html": [
       "<p>Failed to display Jupyter Widget of type <code>SelectMultiple</code>.</p>\n",
       "<p>\n",
       "  If you're reading this message in the Jupyter Notebook or JupyterLab Notebook, it may mean\n",
       "  that the widgets JavaScript is still loading. If this message persists, it\n",
       "  likely means that the widgets JavaScript library is either not installed or\n",
       "  not enabled. See the <a href=\"https://ipywidgets.readthedocs.io/en/stable/user_install.html\">Jupyter\n",
       "  Widgets Documentation</a> for setup instructions.\n",
       "</p>\n",
       "<p>\n",
       "  If you're reading this message in another frontend (for example, a static\n",
       "  rendering on GitHub or <a href=\"https://nbviewer.jupyter.org/\">NBViewer</a>),\n",
       "  it may mean that your frontend doesn't currently support widgets.\n",
       "</p>\n"
      ],
      "text/plain": [
       "SelectMultiple(description='Years for comparison', options=(2018, 2019, 2020, 2021, 2022, 2023, 2024, 2025, 2026, 2027), value=())"
      ]
     },
     "metadata": {},
     "output_type": "display_data"
    },
    {
     "data": {
      "application/vnd.jupyter.widget-view+json": {
       "model_id": "0b33ea8ab0c94813afe0d72311673b0f",
       "version_major": 2,
       "version_minor": 0
      },
      "text/html": [
       "<p>Failed to display Jupyter Widget of type <code>HBox</code>.</p>\n",
       "<p>\n",
       "  If you're reading this message in the Jupyter Notebook or JupyterLab Notebook, it may mean\n",
       "  that the widgets JavaScript is still loading. If this message persists, it\n",
       "  likely means that the widgets JavaScript library is either not installed or\n",
       "  not enabled. See the <a href=\"https://ipywidgets.readthedocs.io/en/stable/user_install.html\">Jupyter\n",
       "  Widgets Documentation</a> for setup instructions.\n",
       "</p>\n",
       "<p>\n",
       "  If you're reading this message in another frontend (for example, a static\n",
       "  rendering on GitHub or <a href=\"https://nbviewer.jupyter.org/\">NBViewer</a>),\n",
       "  it may mean that your frontend doesn't currently support widgets.\n",
       "</p>\n"
      ],
      "text/plain": [
       "HBox(children=(Button(description='Total No. of clients', layout=Layout(height='40px', width='100%'), style=ButtonStyle(button_color='lightgreen')), Button(description='Net new clients', layout=Layout(height='40px', width='100%'), style=ButtonStyle(button_color='lightgreen')), Button(description='fx effects on funds', layout=Layout(height='40px', width='100%'), style=ButtonStyle(button_color='lightgreen'))), layout=Layout(align_items='stretch', border='solid', display='flex', flex_flow='row', width='50%'))"
      ]
     },
     "metadata": {},
     "output_type": "display_data"
    },
    {
     "name": "stdout",
     "output_type": "stream",
     "text": [
      "                      Australia                 Cash                China  \\\n",
      "2018-06-29             0.005000             0.030000             0.010000   \n",
      "2018-07-31             0.005000             0.030000             0.010000   \n",
      "2018-08-31             0.005000             0.030000             0.010000   \n",
      "2018-09-28             0.005000             0.030000             0.010000   \n",
      "2018-10-31             0.005000             0.030000             0.010000   \n",
      "2018-11-30             0.005000             0.030000             0.010000   \n",
      "2018-12-31             0.005000             0.030000             0.010000   \n",
      "2019-01-31             0.005000             0.030000             0.010000   \n",
      "2019-02-28             0.005000             0.030000             0.010000   \n",
      "2019-03-29             0.005000             0.030000             0.010000   \n",
      "2019-04-30             0.005000             0.030000             0.010000   \n",
      "2019-05-31             0.005000             0.030000             0.010000   \n",
      "2019-06-28             0.005000             0.030000             0.010000   \n",
      "2019-07-31             0.005000             0.030000             0.010000   \n",
      "2019-08-30             0.005000             0.030000             0.010000   \n",
      "2019-09-30             0.005000             0.030000             0.010000   \n",
      "2019-10-31             0.005000             0.030000             0.010000   \n",
      "2019-11-29             0.005000             0.030000             0.010000   \n",
      "2019-12-31             0.005000             0.030000             0.010000   \n",
      "2020-01-31             0.005000             0.030000             0.010000   \n",
      "2020-02-28             0.005000             0.030000             0.010000   \n",
      "2020-03-31             0.005000             0.030000             0.010000   \n",
      "2020-04-30             0.005000             0.030000             0.010000   \n",
      "2020-05-29             0.005000             0.030000             0.010000   \n",
      "2020-06-30             0.005000             0.030000             0.010000   \n",
      "2020-07-31             0.005000             0.030000             0.010000   \n",
      "2020-08-31             0.005000             0.030000             0.010000   \n",
      "2020-09-30             0.005000             0.030000             0.010000   \n",
      "2020-10-30             0.005000             0.030000             0.010000   \n",
      "2020-11-30             0.005000             0.030000             0.010000   \n",
      "...                         ...                  ...                  ...   \n",
      "2032-01-30             0.005000             0.030000             0.010000   \n",
      "2032-02-27             0.005000             0.030000             0.010000   \n",
      "2032-03-31             0.005000             0.030000             0.010000   \n",
      "2032-04-30             0.005000             0.030000             0.010000   \n",
      "2032-05-31             0.005000             0.030000             0.010000   \n",
      "2032-06-30             0.005000             0.030000             0.010000   \n",
      "2032-07-30             0.005000             0.030000             0.010000   \n",
      "2032-08-31             0.005000             0.030000             0.010000   \n",
      "2032-09-30             0.005000             0.030000             0.010000   \n",
      "2032-10-29             0.005000             0.030000             0.010000   \n",
      "2032-11-30             0.005000             0.030000             0.010000   \n",
      "2032-12-31             0.005000             0.030000             0.010000   \n",
      "2033-01-31             0.005000             0.030000             0.010000   \n",
      "2033-02-28             0.005000             0.030000             0.010000   \n",
      "2033-03-31             0.005000             0.030000             0.010000   \n",
      "2033-04-29             0.005000             0.030000             0.010000   \n",
      "2033-05-31             0.005000             0.030000             0.010000   \n",
      "2033-06-30             0.005000             0.030000             0.010000   \n",
      "2033-07-29             0.005000             0.030000             0.010000   \n",
      "2033-08-31             0.005000             0.030000             0.010000   \n",
      "2033-09-30             0.005000             0.030000             0.010000   \n",
      "2033-10-31             0.005000             0.030000             0.010000   \n",
      "2033-11-30             0.005000             0.030000             0.010000   \n",
      "2033-12-30             0.005000             0.030000             0.010000   \n",
      "2034-01-31             0.005000             0.030000             0.010000   \n",
      "2034-02-28             0.005000             0.030000             0.010000   \n",
      "2034-03-31             0.005000             0.030000             0.010000   \n",
      "2034-04-28             0.005000             0.030000             0.010000   \n",
      "2034-05-31             0.005000             0.030000             0.010000   \n",
      "2034-06-30             0.005000             0.030000             0.010000   \n",
      "\n",
      "                 Developed Asia        Emerging Asia      Emerging Europe  \\\n",
      "2018-06-29             0.020000             0.030000             0.010000   \n",
      "2018-07-31             0.020000             0.030000             0.010000   \n",
      "2018-08-31             0.020000             0.030000             0.010000   \n",
      "2018-09-28             0.020000             0.030000             0.010000   \n",
      "2018-10-31             0.020000             0.030000             0.010000   \n",
      "2018-11-30             0.020000             0.030000             0.010000   \n",
      "2018-12-31             0.020000             0.030000             0.010000   \n",
      "2019-01-31             0.020000             0.030000             0.010000   \n",
      "2019-02-28             0.020000             0.030000             0.010000   \n",
      "2019-03-29             0.020000             0.030000             0.010000   \n",
      "2019-04-30             0.020000             0.030000             0.010000   \n",
      "2019-05-31             0.020000             0.030000             0.010000   \n",
      "2019-06-28             0.020000             0.030000             0.010000   \n",
      "2019-07-31             0.020000             0.030000             0.010000   \n",
      "2019-08-30             0.020000             0.030000             0.010000   \n",
      "2019-09-30             0.020000             0.030000             0.010000   \n",
      "2019-10-31             0.020000             0.030000             0.010000   \n",
      "2019-11-29             0.020000             0.030000             0.010000   \n",
      "2019-12-31             0.020000             0.030000             0.010000   \n",
      "2020-01-31             0.020000             0.030000             0.010000   \n",
      "2020-02-28             0.020000             0.030000             0.010000   \n",
      "2020-03-31             0.020000             0.030000             0.010000   \n",
      "2020-04-30             0.020000             0.030000             0.010000   \n",
      "2020-05-29             0.020000             0.030000             0.010000   \n",
      "2020-06-30             0.020000             0.030000             0.010000   \n",
      "2020-07-31             0.020000             0.030000             0.010000   \n",
      "2020-08-31             0.020000             0.030000             0.010000   \n",
      "2020-09-30             0.020000             0.030000             0.010000   \n",
      "2020-10-30             0.020000             0.030000             0.010000   \n",
      "2020-11-30             0.020000             0.030000             0.010000   \n",
      "...                         ...                  ...                  ...   \n",
      "2032-01-30             0.020000             0.030000             0.010000   \n",
      "2032-02-27             0.020000             0.030000             0.010000   \n",
      "2032-03-31             0.020000             0.030000             0.010000   \n",
      "2032-04-30             0.020000             0.030000             0.010000   \n",
      "2032-05-31             0.020000             0.030000             0.010000   \n",
      "2032-06-30             0.020000             0.030000             0.010000   \n",
      "2032-07-30             0.020000             0.030000             0.010000   \n",
      "2032-08-31             0.020000             0.030000             0.010000   \n",
      "2032-09-30             0.020000             0.030000             0.010000   \n",
      "2032-10-29             0.020000             0.030000             0.010000   \n",
      "2032-11-30             0.020000             0.030000             0.010000   \n",
      "2032-12-31             0.020000             0.030000             0.010000   \n",
      "2033-01-31             0.020000             0.030000             0.010000   \n",
      "2033-02-28             0.020000             0.030000             0.010000   \n",
      "2033-03-31             0.020000             0.030000             0.010000   \n",
      "2033-04-29             0.020000             0.030000             0.010000   \n",
      "2033-05-31             0.020000             0.030000             0.010000   \n",
      "2033-06-30             0.020000             0.030000             0.010000   \n",
      "2033-07-29             0.020000             0.030000             0.010000   \n",
      "2033-08-31             0.020000             0.030000             0.010000   \n",
      "2033-09-30             0.020000             0.030000             0.010000   \n",
      "2033-10-31             0.020000             0.030000             0.010000   \n",
      "2033-11-30             0.020000             0.030000             0.010000   \n",
      "2033-12-30             0.020000             0.030000             0.010000   \n",
      "2034-01-31             0.020000             0.030000             0.010000   \n",
      "2034-02-28             0.020000             0.030000             0.010000   \n",
      "2034-03-31             0.020000             0.030000             0.010000   \n",
      "2034-04-28             0.020000             0.030000             0.010000   \n",
      "2034-05-31             0.020000             0.030000             0.010000   \n",
      "2034-06-30             0.020000             0.030000             0.010000   \n",
      "\n",
      "                   Eurostoxx 50       FTSE All Share    FTSE All Share TR  \\\n",
      "2018-06-29             0.140000             0.265000             0.255000   \n",
      "2018-07-31             0.140000             0.265000             0.255000   \n",
      "2018-08-31             0.140000             0.265000             0.255000   \n",
      "2018-09-28             0.140000             0.265000             0.255000   \n",
      "2018-10-31             0.140000             0.265000             0.255000   \n",
      "2018-11-30             0.140000             0.265000             0.255000   \n",
      "2018-12-31             0.140000             0.265000             0.255000   \n",
      "2019-01-31             0.140000             0.265000             0.255000   \n",
      "2019-02-28             0.140000             0.265000             0.255000   \n",
      "2019-03-29             0.140000             0.265000             0.255000   \n",
      "2019-04-30             0.140000             0.265000             0.255000   \n",
      "2019-05-31             0.140000             0.265000             0.255000   \n",
      "2019-06-28             0.140000             0.265000             0.255000   \n",
      "2019-07-31             0.140000             0.265000             0.255000   \n",
      "2019-08-30             0.140000             0.265000             0.255000   \n",
      "2019-09-30             0.140000             0.265000             0.255000   \n",
      "2019-10-31             0.140000             0.265000             0.255000   \n",
      "2019-11-29             0.140000             0.265000             0.255000   \n",
      "2019-12-31             0.140000             0.265000             0.255000   \n",
      "2020-01-31             0.140000             0.265000             0.255000   \n",
      "2020-02-28             0.140000             0.265000             0.255000   \n",
      "2020-03-31             0.140000             0.265000             0.255000   \n",
      "2020-04-30             0.140000             0.265000             0.255000   \n",
      "2020-05-29             0.140000             0.265000             0.255000   \n",
      "2020-06-30             0.140000             0.265000             0.255000   \n",
      "2020-07-31             0.140000             0.265000             0.255000   \n",
      "2020-08-31             0.140000             0.265000             0.255000   \n",
      "2020-09-30             0.140000             0.265000             0.255000   \n",
      "2020-10-30             0.140000             0.265000             0.255000   \n",
      "2020-11-30             0.140000             0.265000             0.255000   \n",
      "...                         ...                  ...                  ...   \n",
      "2032-01-30             0.140000             0.265000             0.255000   \n",
      "2032-02-27             0.140000             0.265000             0.255000   \n",
      "2032-03-31             0.140000             0.265000             0.255000   \n",
      "2032-04-30             0.140000             0.265000             0.255000   \n",
      "2032-05-31             0.140000             0.265000             0.255000   \n",
      "2032-06-30             0.140000             0.265000             0.255000   \n",
      "2032-07-30             0.140000             0.265000             0.255000   \n",
      "2032-08-31             0.140000             0.265000             0.255000   \n",
      "2032-09-30             0.140000             0.265000             0.255000   \n",
      "2032-10-29             0.140000             0.265000             0.255000   \n",
      "2032-11-30             0.140000             0.265000             0.255000   \n",
      "2032-12-31             0.140000             0.265000             0.255000   \n",
      "2033-01-31             0.140000             0.265000             0.255000   \n",
      "2033-02-28             0.140000             0.265000             0.255000   \n",
      "2033-03-31             0.140000             0.265000             0.255000   \n",
      "2033-04-29             0.140000             0.265000             0.255000   \n",
      "2033-05-31             0.140000             0.265000             0.255000   \n",
      "2033-06-30             0.140000             0.265000             0.255000   \n",
      "2033-07-29             0.140000             0.265000             0.255000   \n",
      "2033-08-31             0.140000             0.265000             0.255000   \n",
      "2033-09-30             0.140000             0.265000             0.255000   \n",
      "2033-10-31             0.140000             0.265000             0.255000   \n",
      "2033-11-30             0.140000             0.265000             0.255000   \n",
      "2033-12-30             0.140000             0.265000             0.255000   \n",
      "2034-01-31             0.140000             0.265000             0.255000   \n",
      "2034-02-28             0.140000             0.265000             0.255000   \n",
      "2034-03-31             0.140000             0.265000             0.255000   \n",
      "2034-04-28             0.140000             0.265000             0.255000   \n",
      "2034-05-31             0.140000             0.265000             0.255000   \n",
      "2034-06-30             0.140000             0.265000             0.255000   \n",
      "\n",
      "               FTSE UK Property          New Zealand           Nikkei 225  \\\n",
      "2018-06-29             0.020000             0.005000             0.040000   \n",
      "2018-07-31             0.020000             0.005000             0.040000   \n",
      "2018-08-31             0.020000             0.005000             0.040000   \n",
      "2018-09-28             0.020000             0.005000             0.040000   \n",
      "2018-10-31             0.020000             0.005000             0.040000   \n",
      "2018-11-30             0.020000             0.005000             0.040000   \n",
      "2018-12-31             0.020000             0.005000             0.040000   \n",
      "2019-01-31             0.020000             0.005000             0.040000   \n",
      "2019-02-28             0.020000             0.005000             0.040000   \n",
      "2019-03-29             0.020000             0.005000             0.040000   \n",
      "2019-04-30             0.020000             0.005000             0.040000   \n",
      "2019-05-31             0.020000             0.005000             0.040000   \n",
      "2019-06-28             0.020000             0.005000             0.040000   \n",
      "2019-07-31             0.020000             0.005000             0.040000   \n",
      "2019-08-30             0.020000             0.005000             0.040000   \n",
      "2019-09-30             0.020000             0.005000             0.040000   \n",
      "2019-10-31             0.020000             0.005000             0.040000   \n",
      "2019-11-29             0.020000             0.005000             0.040000   \n",
      "2019-12-31             0.020000             0.005000             0.040000   \n",
      "2020-01-31             0.020000             0.005000             0.040000   \n",
      "2020-02-28             0.020000             0.005000             0.040000   \n",
      "2020-03-31             0.020000             0.005000             0.040000   \n",
      "2020-04-30             0.020000             0.005000             0.040000   \n",
      "2020-05-29             0.020000             0.005000             0.040000   \n",
      "2020-06-30             0.020000             0.005000             0.040000   \n",
      "2020-07-31             0.020000             0.005000             0.040000   \n",
      "2020-08-31             0.020000             0.005000             0.040000   \n",
      "2020-09-30             0.020000             0.005000             0.040000   \n",
      "2020-10-30             0.020000             0.005000             0.040000   \n",
      "2020-11-30             0.020000             0.005000             0.040000   \n",
      "...                         ...                  ...                  ...   \n",
      "2032-01-30             0.020000             0.005000             0.040000   \n",
      "2032-02-27             0.020000             0.005000             0.040000   \n",
      "2032-03-31             0.020000             0.005000             0.040000   \n",
      "2032-04-30             0.020000             0.005000             0.040000   \n",
      "2032-05-31             0.020000             0.005000             0.040000   \n",
      "2032-06-30             0.020000             0.005000             0.040000   \n",
      "2032-07-30             0.020000             0.005000             0.040000   \n",
      "2032-08-31             0.020000             0.005000             0.040000   \n",
      "2032-09-30             0.020000             0.005000             0.040000   \n",
      "2032-10-29             0.020000             0.005000             0.040000   \n",
      "2032-11-30             0.020000             0.005000             0.040000   \n",
      "2032-12-31             0.020000             0.005000             0.040000   \n",
      "2033-01-31             0.020000             0.005000             0.040000   \n",
      "2033-02-28             0.020000             0.005000             0.040000   \n",
      "2033-03-31             0.020000             0.005000             0.040000   \n",
      "2033-04-29             0.020000             0.005000             0.040000   \n",
      "2033-05-31             0.020000             0.005000             0.040000   \n",
      "2033-06-30             0.020000             0.005000             0.040000   \n",
      "2033-07-29             0.020000             0.005000             0.040000   \n",
      "2033-08-31             0.020000             0.005000             0.040000   \n",
      "2033-09-30             0.020000             0.005000             0.040000   \n",
      "2033-10-31             0.020000             0.005000             0.040000   \n",
      "2033-11-30             0.020000             0.005000             0.040000   \n",
      "2033-12-30             0.020000             0.005000             0.040000   \n",
      "2034-01-31             0.020000             0.005000             0.040000   \n",
      "2034-02-28             0.020000             0.005000             0.040000   \n",
      "2034-03-31             0.020000             0.005000             0.040000   \n",
      "2034-04-28             0.020000             0.005000             0.040000   \n",
      "2034-05-31             0.020000             0.005000             0.040000   \n",
      "2034-06-30             0.020000             0.005000             0.040000   \n",
      "\n",
      "                         S&P500        South America          South Korea  \n",
      "2018-06-29             0.150000             0.010000             0.010000  \n",
      "2018-07-31             0.150000             0.010000             0.010000  \n",
      "2018-08-31             0.150000             0.010000             0.010000  \n",
      "2018-09-28             0.150000             0.010000             0.010000  \n",
      "2018-10-31             0.150000             0.010000             0.010000  \n",
      "2018-11-30             0.150000             0.010000             0.010000  \n",
      "2018-12-31             0.150000             0.010000             0.010000  \n",
      "2019-01-31             0.150000             0.010000             0.010000  \n",
      "2019-02-28             0.150000             0.010000             0.010000  \n",
      "2019-03-29             0.150000             0.010000             0.010000  \n",
      "2019-04-30             0.150000             0.010000             0.010000  \n",
      "2019-05-31             0.150000             0.010000             0.010000  \n",
      "2019-06-28             0.150000             0.010000             0.010000  \n",
      "2019-07-31             0.150000             0.010000             0.010000  \n",
      "2019-08-30             0.150000             0.010000             0.010000  \n",
      "2019-09-30             0.150000             0.010000             0.010000  \n",
      "2019-10-31             0.150000             0.010000             0.010000  \n",
      "2019-11-29             0.150000             0.010000             0.010000  \n",
      "2019-12-31             0.150000             0.010000             0.010000  \n",
      "2020-01-31             0.150000             0.010000             0.010000  \n",
      "2020-02-28             0.150000             0.010000             0.010000  \n",
      "2020-03-31             0.150000             0.010000             0.010000  \n",
      "2020-04-30             0.150000             0.010000             0.010000  \n",
      "2020-05-29             0.150000             0.010000             0.010000  \n",
      "2020-06-30             0.150000             0.010000             0.010000  \n",
      "2020-07-31             0.150000             0.010000             0.010000  \n",
      "2020-08-31             0.150000             0.010000             0.010000  \n",
      "2020-09-30             0.150000             0.010000             0.010000  \n",
      "2020-10-30             0.150000             0.010000             0.010000  \n",
      "2020-11-30             0.150000             0.010000             0.010000  \n",
      "...                         ...                  ...                  ...  \n",
      "2032-01-30             0.150000             0.010000             0.010000  \n",
      "2032-02-27             0.150000             0.010000             0.010000  \n",
      "2032-03-31             0.150000             0.010000             0.010000  \n",
      "2032-04-30             0.150000             0.010000             0.010000  \n",
      "2032-05-31             0.150000             0.010000             0.010000  \n",
      "2032-06-30             0.150000             0.010000             0.010000  \n",
      "2032-07-30             0.150000             0.010000             0.010000  \n",
      "2032-08-31             0.150000             0.010000             0.010000  \n",
      "2032-09-30             0.150000             0.010000             0.010000  \n",
      "2032-10-29             0.150000             0.010000             0.010000  \n",
      "2032-11-30             0.150000             0.010000             0.010000  \n",
      "2032-12-31             0.150000             0.010000             0.010000  \n",
      "2033-01-31             0.150000             0.010000             0.010000  \n",
      "2033-02-28             0.150000             0.010000             0.010000  \n",
      "2033-03-31             0.150000             0.010000             0.010000  \n",
      "2033-04-29             0.150000             0.010000             0.010000  \n",
      "2033-05-31             0.150000             0.010000             0.010000  \n",
      "2033-06-30             0.150000             0.010000             0.010000  \n",
      "2033-07-29             0.150000             0.010000             0.010000  \n",
      "2033-08-31             0.150000             0.010000             0.010000  \n",
      "2033-09-30             0.150000             0.010000             0.010000  \n",
      "2033-10-31             0.150000             0.010000             0.010000  \n",
      "2033-11-30             0.150000             0.010000             0.010000  \n",
      "2033-12-30             0.150000             0.010000             0.010000  \n",
      "2034-01-31             0.150000             0.010000             0.010000  \n",
      "2034-02-28             0.150000             0.010000             0.010000  \n",
      "2034-03-31             0.150000             0.010000             0.010000  \n",
      "2034-04-28             0.150000             0.010000             0.010000  \n",
      "2034-05-31             0.150000             0.010000             0.010000  \n",
      "2034-06-30             0.150000             0.010000             0.010000  \n",
      "\n",
      "[193 rows x 15 columns]\n",
      "                      Australia                 Cash                China  \\\n",
      "2018-06-29             0.000000             0.000000             0.000000   \n",
      "2018-07-31            -0.009028             0.000000             0.015335   \n",
      "2018-08-31             0.019182             0.000000            -0.004644   \n",
      "2018-09-28             0.001221             0.000000             0.009410   \n",
      "2018-10-31             0.000000             0.000000             0.000000   \n",
      "2018-11-30             0.000000             0.000000             0.000000   \n",
      "2018-12-31             0.000000             0.000000             0.000000   \n",
      "2019-01-31             0.000000             0.000000             0.000000   \n",
      "2019-02-28             0.000000             0.000000             0.000000   \n",
      "2019-03-29             0.000000             0.000000             0.000000   \n",
      "2019-04-30             0.000000             0.000000             0.000000   \n",
      "2019-05-31             0.000000             0.000000             0.000000   \n",
      "2019-06-28             0.000000             0.000000             0.000000   \n",
      "2019-07-31             0.000000             0.000000             0.000000   \n",
      "2019-08-30             0.000000             0.000000             0.000000   \n",
      "2019-09-30             0.000000             0.000000             0.000000   \n",
      "2019-10-31             0.000000             0.000000             0.000000   \n",
      "2019-11-29             0.000000             0.000000             0.000000   \n",
      "2019-12-31             0.000000             0.000000             0.000000   \n",
      "2020-01-31             0.000000             0.000000             0.000000   \n",
      "2020-02-28             0.000000             0.000000             0.000000   \n",
      "2020-03-31             0.000000             0.000000             0.000000   \n",
      "2020-04-30             0.000000             0.000000             0.000000   \n",
      "2020-05-29             0.000000             0.000000             0.000000   \n",
      "2020-06-30             0.000000             0.000000             0.000000   \n",
      "2020-07-31             0.000000             0.000000             0.000000   \n",
      "2020-08-31             0.000000             0.000000             0.000000   \n",
      "2020-09-30             0.000000             0.000000             0.000000   \n",
      "2020-10-30             0.000000             0.000000             0.000000   \n",
      "2020-11-30             0.000000             0.000000             0.000000   \n",
      "...                         ...                  ...                  ...   \n",
      "2032-01-30             0.000000             0.000000             0.000000   \n",
      "2032-02-27             0.000000             0.000000             0.000000   \n",
      "2032-03-31             0.000000             0.000000             0.000000   \n",
      "2032-04-30             0.000000             0.000000             0.000000   \n",
      "2032-05-31             0.000000             0.000000             0.000000   \n",
      "2032-06-30             0.000000             0.000000             0.000000   \n",
      "2032-07-30             0.000000             0.000000             0.000000   \n",
      "2032-08-31             0.000000             0.000000             0.000000   \n",
      "2032-09-30             0.000000             0.000000             0.000000   \n",
      "2032-10-29             0.000000             0.000000             0.000000   \n",
      "2032-11-30             0.000000             0.000000             0.000000   \n",
      "2032-12-31             0.000000             0.000000             0.000000   \n",
      "2033-01-31             0.000000             0.000000             0.000000   \n",
      "2033-02-28             0.000000             0.000000             0.000000   \n",
      "2033-03-31             0.000000             0.000000             0.000000   \n",
      "2033-04-29             0.000000             0.000000             0.000000   \n",
      "2033-05-31             0.000000             0.000000             0.000000   \n",
      "2033-06-30             0.000000             0.000000             0.000000   \n",
      "2033-07-29             0.000000             0.000000             0.000000   \n",
      "2033-08-31             0.000000             0.000000             0.000000   \n",
      "2033-09-30             0.000000             0.000000             0.000000   \n",
      "2033-10-31             0.000000             0.000000             0.000000   \n",
      "2033-11-30             0.000000             0.000000             0.000000   \n",
      "2033-12-30             0.000000             0.000000             0.000000   \n",
      "2034-01-31             0.000000             0.000000             0.000000   \n",
      "2034-02-28             0.000000             0.000000             0.000000   \n",
      "2034-03-31             0.000000             0.000000             0.000000   \n",
      "2034-04-28             0.000000             0.000000             0.000000   \n",
      "2034-05-31             0.000000             0.000000             0.000000   \n",
      "2034-06-30             0.000000             0.000000             0.000000   \n",
      "\n",
      "                 Developed Asia        Emerging Asia      Emerging Europe  \\\n",
      "2018-06-29             0.000000             0.000000             0.000000   \n",
      "2018-07-31            -0.006285            -0.006285            -0.006285   \n",
      "2018-08-31            -0.012420            -0.012420            -0.012420   \n",
      "2018-09-28             0.005169             0.005169             0.005169   \n",
      "2018-10-31             0.000000             0.000000             0.000000   \n",
      "2018-11-30             0.000000             0.000000             0.000000   \n",
      "2018-12-31             0.000000             0.000000             0.000000   \n",
      "2019-01-31             0.000000             0.000000             0.000000   \n",
      "2019-02-28             0.000000             0.000000             0.000000   \n",
      "2019-03-29             0.000000             0.000000             0.000000   \n",
      "2019-04-30             0.000000             0.000000             0.000000   \n",
      "2019-05-31             0.000000             0.000000             0.000000   \n",
      "2019-06-28             0.000000             0.000000             0.000000   \n",
      "2019-07-31             0.000000             0.000000             0.000000   \n",
      "2019-08-30             0.000000             0.000000             0.000000   \n",
      "2019-09-30             0.000000             0.000000             0.000000   \n",
      "2019-10-31             0.000000             0.000000             0.000000   \n",
      "2019-11-29             0.000000             0.000000             0.000000   \n",
      "2019-12-31             0.000000             0.000000             0.000000   \n",
      "2020-01-31             0.000000             0.000000             0.000000   \n",
      "2020-02-28             0.000000             0.000000             0.000000   \n",
      "2020-03-31             0.000000             0.000000             0.000000   \n",
      "2020-04-30             0.000000             0.000000             0.000000   \n",
      "2020-05-29             0.000000             0.000000             0.000000   \n",
      "2020-06-30             0.000000             0.000000             0.000000   \n",
      "2020-07-31             0.000000             0.000000             0.000000   \n",
      "2020-08-31             0.000000             0.000000             0.000000   \n",
      "2020-09-30             0.000000             0.000000             0.000000   \n",
      "2020-10-30             0.000000             0.000000             0.000000   \n",
      "2020-11-30             0.000000             0.000000             0.000000   \n",
      "...                         ...                  ...                  ...   \n",
      "2032-01-30             0.000000             0.000000             0.000000   \n",
      "2032-02-27             0.000000             0.000000             0.000000   \n",
      "2032-03-31             0.000000             0.000000             0.000000   \n",
      "2032-04-30             0.000000             0.000000             0.000000   \n",
      "2032-05-31             0.000000             0.000000             0.000000   \n",
      "2032-06-30             0.000000             0.000000             0.000000   \n",
      "2032-07-30             0.000000             0.000000             0.000000   \n",
      "2032-08-31             0.000000             0.000000             0.000000   \n",
      "2032-09-30             0.000000             0.000000             0.000000   \n",
      "2032-10-29             0.000000             0.000000             0.000000   \n",
      "2032-11-30             0.000000             0.000000             0.000000   \n",
      "2032-12-31             0.000000             0.000000             0.000000   \n",
      "2033-01-31             0.000000             0.000000             0.000000   \n",
      "2033-02-28             0.000000             0.000000             0.000000   \n",
      "2033-03-31             0.000000             0.000000             0.000000   \n",
      "2033-04-29             0.000000             0.000000             0.000000   \n",
      "2033-05-31             0.000000             0.000000             0.000000   \n",
      "2033-06-30             0.000000             0.000000             0.000000   \n",
      "2033-07-29             0.000000             0.000000             0.000000   \n",
      "2033-08-31             0.000000             0.000000             0.000000   \n",
      "2033-09-30             0.000000             0.000000             0.000000   \n",
      "2033-10-31             0.000000             0.000000             0.000000   \n",
      "2033-11-30             0.000000             0.000000             0.000000   \n",
      "2033-12-30             0.000000             0.000000             0.000000   \n",
      "2034-01-31             0.000000             0.000000             0.000000   \n",
      "2034-02-28             0.000000             0.000000             0.000000   \n",
      "2034-03-31             0.000000             0.000000             0.000000   \n",
      "2034-04-28             0.000000             0.000000             0.000000   \n",
      "2034-05-31             0.000000             0.000000             0.000000   \n",
      "2034-06-30             0.000000             0.000000             0.000000   \n",
      "\n",
      "                   Eurostoxx 50       FTSE All Share    FTSE All Share TR  \\\n",
      "2018-06-29             0.000000             0.000000             0.000000   \n",
      "2018-07-31            -0.006814             0.000000             0.000000   \n",
      "2018-08-31            -0.005079             0.000000             0.000000   \n",
      "2018-09-28             0.005194             0.000000             0.000000   \n",
      "2018-10-31             0.000000             0.000000             0.000000   \n",
      "2018-11-30             0.000000             0.000000             0.000000   \n",
      "2018-12-31             0.000000             0.000000             0.000000   \n",
      "2019-01-31             0.000000             0.000000             0.000000   \n",
      "2019-02-28             0.000000             0.000000             0.000000   \n",
      "2019-03-29             0.000000             0.000000             0.000000   \n",
      "2019-04-30             0.000000             0.000000             0.000000   \n",
      "2019-05-31             0.000000             0.000000             0.000000   \n",
      "2019-06-28             0.000000             0.000000             0.000000   \n",
      "2019-07-31             0.000000             0.000000             0.000000   \n",
      "2019-08-30             0.000000             0.000000             0.000000   \n",
      "2019-09-30             0.000000             0.000000             0.000000   \n",
      "2019-10-31             0.000000             0.000000             0.000000   \n",
      "2019-11-29             0.000000             0.000000             0.000000   \n",
      "2019-12-31             0.000000             0.000000             0.000000   \n",
      "2020-01-31             0.000000             0.000000             0.000000   \n",
      "2020-02-28             0.000000             0.000000             0.000000   \n",
      "2020-03-31             0.000000             0.000000             0.000000   \n",
      "2020-04-30             0.000000             0.000000             0.000000   \n",
      "2020-05-29             0.000000             0.000000             0.000000   \n",
      "2020-06-30             0.000000             0.000000             0.000000   \n",
      "2020-07-31             0.000000             0.000000             0.000000   \n",
      "2020-08-31             0.000000             0.000000             0.000000   \n",
      "2020-09-30             0.000000             0.000000             0.000000   \n",
      "2020-10-30             0.000000             0.000000             0.000000   \n",
      "2020-11-30             0.000000             0.000000             0.000000   \n",
      "...                         ...                  ...                  ...   \n",
      "2032-01-30             0.000000             0.000000             0.000000   \n",
      "2032-02-27             0.000000             0.000000             0.000000   \n",
      "2032-03-31             0.000000             0.000000             0.000000   \n",
      "2032-04-30             0.000000             0.000000             0.000000   \n",
      "2032-05-31             0.000000             0.000000             0.000000   \n",
      "2032-06-30             0.000000             0.000000             0.000000   \n",
      "2032-07-30             0.000000             0.000000             0.000000   \n",
      "2032-08-31             0.000000             0.000000             0.000000   \n",
      "2032-09-30             0.000000             0.000000             0.000000   \n",
      "2032-10-29             0.000000             0.000000             0.000000   \n",
      "2032-11-30             0.000000             0.000000             0.000000   \n",
      "2032-12-31             0.000000             0.000000             0.000000   \n",
      "2033-01-31             0.000000             0.000000             0.000000   \n",
      "2033-02-28             0.000000             0.000000             0.000000   \n",
      "2033-03-31             0.000000             0.000000             0.000000   \n",
      "2033-04-29             0.000000             0.000000             0.000000   \n",
      "2033-05-31             0.000000             0.000000             0.000000   \n",
      "2033-06-30             0.000000             0.000000             0.000000   \n",
      "2033-07-29             0.000000             0.000000             0.000000   \n",
      "2033-08-31             0.000000             0.000000             0.000000   \n",
      "2033-09-30             0.000000             0.000000             0.000000   \n",
      "2033-10-31             0.000000             0.000000             0.000000   \n",
      "2033-11-30             0.000000             0.000000             0.000000   \n",
      "2033-12-30             0.000000             0.000000             0.000000   \n",
      "2034-01-31             0.000000             0.000000             0.000000   \n",
      "2034-02-28             0.000000             0.000000             0.000000   \n",
      "2034-03-31             0.000000             0.000000             0.000000   \n",
      "2034-04-28             0.000000             0.000000             0.000000   \n",
      "2034-05-31             0.000000             0.000000             0.000000   \n",
      "2034-06-30             0.000000             0.000000             0.000000   \n",
      "\n",
      "               FTSE UK Property          New Zealand           Nikkei 225  \\\n",
      "2018-06-29             0.000000             0.000000             0.000000   \n",
      "2018-07-31             0.000000            -0.012518             0.004036   \n",
      "2018-08-31             0.000000             0.016261            -0.019824   \n",
      "2018-09-28             0.000000             0.005521             0.029260   \n",
      "2018-10-31             0.000000             0.000000             0.000000   \n",
      "2018-11-30             0.000000             0.000000             0.000000   \n",
      "2018-12-31             0.000000             0.000000             0.000000   \n",
      "2019-01-31             0.000000             0.000000             0.000000   \n",
      "2019-02-28             0.000000             0.000000             0.000000   \n",
      "2019-03-29             0.000000             0.000000             0.000000   \n",
      "2019-04-30             0.000000             0.000000             0.000000   \n",
      "2019-05-31             0.000000             0.000000             0.000000   \n",
      "2019-06-28             0.000000             0.000000             0.000000   \n",
      "2019-07-31             0.000000             0.000000             0.000000   \n",
      "2019-08-30             0.000000             0.000000             0.000000   \n",
      "2019-09-30             0.000000             0.000000             0.000000   \n",
      "2019-10-31             0.000000             0.000000             0.000000   \n",
      "2019-11-29             0.000000             0.000000             0.000000   \n",
      "2019-12-31             0.000000             0.000000             0.000000   \n",
      "2020-01-31             0.000000             0.000000             0.000000   \n",
      "2020-02-28             0.000000             0.000000             0.000000   \n",
      "2020-03-31             0.000000             0.000000             0.000000   \n",
      "2020-04-30             0.000000             0.000000             0.000000   \n",
      "2020-05-29             0.000000             0.000000             0.000000   \n",
      "2020-06-30             0.000000             0.000000             0.000000   \n",
      "2020-07-31             0.000000             0.000000             0.000000   \n",
      "2020-08-31             0.000000             0.000000             0.000000   \n",
      "2020-09-30             0.000000             0.000000             0.000000   \n",
      "2020-10-30             0.000000             0.000000             0.000000   \n",
      "2020-11-30             0.000000             0.000000             0.000000   \n",
      "...                         ...                  ...                  ...   \n",
      "2032-01-30             0.000000             0.000000             0.000000   \n",
      "2032-02-27             0.000000             0.000000             0.000000   \n",
      "2032-03-31             0.000000             0.000000             0.000000   \n",
      "2032-04-30             0.000000             0.000000             0.000000   \n",
      "2032-05-31             0.000000             0.000000             0.000000   \n",
      "2032-06-30             0.000000             0.000000             0.000000   \n",
      "2032-07-30             0.000000             0.000000             0.000000   \n",
      "2032-08-31             0.000000             0.000000             0.000000   \n",
      "2032-09-30             0.000000             0.000000             0.000000   \n",
      "2032-10-29             0.000000             0.000000             0.000000   \n",
      "2032-11-30             0.000000             0.000000             0.000000   \n",
      "2032-12-31             0.000000             0.000000             0.000000   \n",
      "2033-01-31             0.000000             0.000000             0.000000   \n",
      "2033-02-28             0.000000             0.000000             0.000000   \n",
      "2033-03-31             0.000000             0.000000             0.000000   \n",
      "2033-04-29             0.000000             0.000000             0.000000   \n",
      "2033-05-31             0.000000             0.000000             0.000000   \n",
      "2033-06-30             0.000000             0.000000             0.000000   \n",
      "2033-07-29             0.000000             0.000000             0.000000   \n",
      "2033-08-31             0.000000             0.000000             0.000000   \n",
      "2033-09-30             0.000000             0.000000             0.000000   \n",
      "2033-10-31             0.000000             0.000000             0.000000   \n",
      "2033-11-30             0.000000             0.000000             0.000000   \n",
      "2033-12-30             0.000000             0.000000             0.000000   \n",
      "2034-01-31             0.000000             0.000000             0.000000   \n",
      "2034-02-28             0.000000             0.000000             0.000000   \n",
      "2034-03-31             0.000000             0.000000             0.000000   \n",
      "2034-04-28             0.000000             0.000000             0.000000   \n",
      "2034-05-31             0.000000             0.000000             0.000000   \n",
      "2034-06-30             0.000000             0.000000             0.000000   \n",
      "\n",
      "                         S&P500        South America          South Korea  \n",
      "2018-06-29             0.000000             0.000000             0.000000  \n",
      "2018-07-31            -0.006285            -0.006285            -0.007763  \n",
      "2018-08-31            -0.012420            -0.012420            -0.010187  \n",
      "2018-09-28             0.005169             0.005169             0.000851  \n",
      "2018-10-31             0.000000             0.000000             0.000000  \n",
      "2018-11-30             0.000000             0.000000             0.000000  \n",
      "2018-12-31             0.000000             0.000000             0.000000  \n",
      "2019-01-31             0.000000             0.000000             0.000000  \n",
      "2019-02-28             0.000000             0.000000             0.000000  \n",
      "2019-03-29             0.000000             0.000000             0.000000  \n",
      "2019-04-30             0.000000             0.000000             0.000000  \n",
      "2019-05-31             0.000000             0.000000             0.000000  \n",
      "2019-06-28             0.000000             0.000000             0.000000  \n",
      "2019-07-31             0.000000             0.000000             0.000000  \n",
      "2019-08-30             0.000000             0.000000             0.000000  \n",
      "2019-09-30             0.000000             0.000000             0.000000  \n",
      "2019-10-31             0.000000             0.000000             0.000000  \n",
      "2019-11-29             0.000000             0.000000             0.000000  \n",
      "2019-12-31             0.000000             0.000000             0.000000  \n",
      "2020-01-31             0.000000             0.000000             0.000000  \n",
      "2020-02-28             0.000000             0.000000             0.000000  \n",
      "2020-03-31             0.000000             0.000000             0.000000  \n",
      "2020-04-30             0.000000             0.000000             0.000000  \n",
      "2020-05-29             0.000000             0.000000             0.000000  \n",
      "2020-06-30             0.000000             0.000000             0.000000  \n",
      "2020-07-31             0.000000             0.000000             0.000000  \n",
      "2020-08-31             0.000000             0.000000             0.000000  \n",
      "2020-09-30             0.000000             0.000000             0.000000  \n",
      "2020-10-30             0.000000             0.000000             0.000000  \n",
      "2020-11-30             0.000000             0.000000             0.000000  \n",
      "...                         ...                  ...                  ...  \n",
      "2032-01-30             0.000000             0.000000             0.000000  \n",
      "2032-02-27             0.000000             0.000000             0.000000  \n",
      "2032-03-31             0.000000             0.000000             0.000000  \n",
      "2032-04-30             0.000000             0.000000             0.000000  \n",
      "2032-05-31             0.000000             0.000000             0.000000  \n",
      "2032-06-30             0.000000             0.000000             0.000000  \n",
      "2032-07-30             0.000000             0.000000             0.000000  \n",
      "2032-08-31             0.000000             0.000000             0.000000  \n",
      "2032-09-30             0.000000             0.000000             0.000000  \n",
      "2032-10-29             0.000000             0.000000             0.000000  \n",
      "2032-11-30             0.000000             0.000000             0.000000  \n",
      "2032-12-31             0.000000             0.000000             0.000000  \n",
      "2033-01-31             0.000000             0.000000             0.000000  \n",
      "2033-02-28             0.000000             0.000000             0.000000  \n",
      "2033-03-31             0.000000             0.000000             0.000000  \n",
      "2033-04-29             0.000000             0.000000             0.000000  \n",
      "2033-05-31             0.000000             0.000000             0.000000  \n",
      "2033-06-30             0.000000             0.000000             0.000000  \n",
      "2033-07-29             0.000000             0.000000             0.000000  \n",
      "2033-08-31             0.000000             0.000000             0.000000  \n",
      "2033-09-30             0.000000             0.000000             0.000000  \n",
      "2033-10-31             0.000000             0.000000             0.000000  \n",
      "2033-11-30             0.000000             0.000000             0.000000  \n",
      "2033-12-30             0.000000             0.000000             0.000000  \n",
      "2034-01-31             0.000000             0.000000             0.000000  \n",
      "2034-02-28             0.000000             0.000000             0.000000  \n",
      "2034-03-31             0.000000             0.000000             0.000000  \n",
      "2034-04-28             0.000000             0.000000             0.000000  \n",
      "2034-05-31             0.000000             0.000000             0.000000  \n",
      "2034-06-30             0.000000             0.000000             0.000000  \n",
      "\n",
      "[193 rows x 15 columns]\n"
     ]
    },
    {
     "ename": "AttributeError",
     "evalue": "'NoneType' object has no attribute 'sum'",
     "output_type": "error",
     "traceback": [
      "\u001b[1;31m---------------------------------------------------------------------------\u001b[0m",
      "\u001b[1;31mAttributeError\u001b[0m                            Traceback (most recent call last)",
      "\u001b[1;32m<ipython-input-15-c43254a0d957>\u001b[0m in \u001b[0;36m<lambda>\u001b[1;34m(x)\u001b[0m\n\u001b[0;32m      9\u001b[0m \u001b[0mitems8\u001b[0m\u001b[1;33m[\u001b[0m\u001b[1;34m'Total No. of clients'\u001b[0m\u001b[1;33m]\u001b[0m\u001b[1;33m.\u001b[0m\u001b[0mon_click\u001b[0m\u001b[1;33m(\u001b[0m\u001b[1;32mlambda\u001b[0m \u001b[0mx\u001b[0m\u001b[1;33m:\u001b[0m \u001b[0mdisplay\u001b[0m\u001b[1;33m(\u001b[0m\u001b[0mcombined\u001b[0m\u001b[1;33m.\u001b[0m\u001b[0mtotal_client_predt\u001b[0m\u001b[1;33m(\u001b[0m\u001b[0mdata_dic\u001b[0m\u001b[1;33m,\u001b[0m \u001b[0minput_dic\u001b[0m\u001b[1;33m)\u001b[0m\u001b[1;33m.\u001b[0m\u001b[0mloc\u001b[0m\u001b[1;33m[\u001b[0m\u001b[0mlist\u001b[0m\u001b[1;33m(\u001b[0m\u001b[0ma_slider\u001b[0m\u001b[1;33m.\u001b[0m\u001b[0mvalue\u001b[0m\u001b[1;33m)\u001b[0m\u001b[1;33m]\u001b[0m\u001b[1;33m)\u001b[0m\u001b[1;33m)\u001b[0m\u001b[1;33m\u001b[0m\u001b[0m\n\u001b[0;32m     10\u001b[0m \u001b[0mitems8\u001b[0m\u001b[1;33m[\u001b[0m\u001b[1;34m'Net new clients'\u001b[0m\u001b[1;33m]\u001b[0m\u001b[1;33m.\u001b[0m\u001b[0mon_click\u001b[0m\u001b[1;33m(\u001b[0m\u001b[1;32mlambda\u001b[0m \u001b[0mx\u001b[0m\u001b[1;33m:\u001b[0m \u001b[0mdisplay\u001b[0m\u001b[1;33m(\u001b[0m\u001b[0mcombined\u001b[0m\u001b[1;33m.\u001b[0m\u001b[0mnet_new_client_predt\u001b[0m\u001b[1;33m(\u001b[0m\u001b[0mdata_dic\u001b[0m\u001b[1;33m,\u001b[0m \u001b[0minput_dic\u001b[0m\u001b[1;33m)\u001b[0m\u001b[1;33m.\u001b[0m\u001b[0mloc\u001b[0m\u001b[1;33m[\u001b[0m\u001b[0mlist\u001b[0m\u001b[1;33m(\u001b[0m\u001b[0ma_slider\u001b[0m\u001b[1;33m.\u001b[0m\u001b[0mvalue\u001b[0m\u001b[1;33m)\u001b[0m\u001b[1;33m]\u001b[0m\u001b[1;33m)\u001b[0m\u001b[1;33m)\u001b[0m\u001b[1;33m\u001b[0m\u001b[0m\n\u001b[1;32m---> 11\u001b[1;33m \u001b[0mitems8\u001b[0m\u001b[1;33m[\u001b[0m\u001b[1;34m'fx effects on funds'\u001b[0m\u001b[1;33m]\u001b[0m\u001b[1;33m.\u001b[0m\u001b[0mon_click\u001b[0m\u001b[1;33m(\u001b[0m\u001b[1;32mlambda\u001b[0m \u001b[0mx\u001b[0m\u001b[1;33m:\u001b[0m \u001b[0mdisplay\u001b[0m\u001b[1;33m(\u001b[0m\u001b[0mvantage_aua\u001b[0m\u001b[1;33m.\u001b[0m\u001b[0mfx_effects_on_funds\u001b[0m\u001b[1;33m(\u001b[0m\u001b[0mdata_dic\u001b[0m\u001b[1;33m)\u001b[0m\u001b[1;33m.\u001b[0m\u001b[0msum\u001b[0m\u001b[1;33m(\u001b[0m\u001b[0maxis\u001b[0m\u001b[1;33m=\u001b[0m\u001b[1;34m'columns'\u001b[0m\u001b[1;33m)\u001b[0m\u001b[1;33m)\u001b[0m\u001b[1;33m)\u001b[0m\u001b[1;33m\u001b[0m\u001b[0m\n\u001b[0m\u001b[0;32m     12\u001b[0m \u001b[0mdisplay\u001b[0m\u001b[1;33m(\u001b[0m\u001b[0mc_fair\u001b[0m\u001b[1;33m)\u001b[0m\u001b[1;33m\u001b[0m\u001b[0m\n",
      "\u001b[1;31mAttributeError\u001b[0m: 'NoneType' object has no attribute 'sum'"
     ]
    }
   ],
   "source": [
    "display(a_slider)\n",
    "\n",
    "client_options = ['Total No. of clients','Net new clients','fx effects on funds']\n",
    "items8 = {}\n",
    "for w8 in client_options:\n",
    "    items8[w8] = widgets.Button(description=w8, layout=widgets.Layout(width='100%', height='40px'))\n",
    "    items8[w8].style.button_color = 'lightgreen'\n",
    "c_fair = widgets.HBox([list(items8.values())[0],list(items8.values())[1],list(items8.values())[2]],layout=box_layout3)\n",
    "items8['Total No. of clients'].on_click(lambda x: display(combined.total_client_predt(data_dic, input_dic).loc[list(a_slider.value)]))\n",
    "items8['Net new clients'].on_click(lambda x: display(combined.net_new_client_predt(data_dic, input_dic).loc[list(a_slider.value)]))\n",
    "items8['fx effects on funds'].on_click(lambda x: display(vantage_aua.fx_effects_on_funds(data_dic)))\n",
    "display(c_fair)"
   ]
  },
  {
   "cell_type": "code",
   "execution_count": 16,
   "metadata": {},
   "outputs": [],
   "source": [
    "# %load_ext autoreload\n",
    "# %autoreload 2"
   ]
  },
  {
   "cell_type": "code",
   "execution_count": 17,
   "metadata": {},
   "outputs": [],
   "source": [
    "\n",
    "# # fair value sensitivity analysis\n",
    "\n",
    "# disc_rate_list = [0.0825,0.085,0.0875,0.09]\n",
    "# pep_rate_list = [0.035,0.0375,0.04,0.0425]\n",
    "\n",
    "# # df_now = pandas.DataFrame(columns = disc_rate_list, index=pep_rate_list)\n",
    "# # df_now.columns.name = 'Cost of Equity'\n",
    "# # df_now.index.name = 'Long-term Growth Rate'\n",
    "\n",
    "# # for i in pep_rate_list:\n",
    "# #     for j in disc_rate_list:\n",
    "# #         df_now.loc[i,j] = discf.fair_value(data_dic, input_dic,now=True,dcf_p=9,disc_rate=j,pep_rate=i).loc['Fair value per share','HL']\n",
    "# df_1y = pandas.DataFrame(columns = disc_rate_list, index=pep_rate_list)\n",
    "# df_1y.columns.name = 'Cost of Equity'\n",
    "# df_1y.index.name = 'Long-term Growth Rate'\n",
    "\n",
    "# for i in pep_rate_list:\n",
    "#     for j in disc_rate_list:\n",
    "#         df_1y.loc[i,j] = discf.fair_value(data_dic, input_dic,now=False,fractional=True,dcf_p=9,disc_rate=j,pep_rate=i).loc['Fair value per share','HL']\n"
   ]
  },
  {
   "cell_type": "code",
   "execution_count": null,
   "metadata": {},
   "outputs": [],
   "source": []
  }
 ],
 "metadata": {
  "kernelspec": {
   "display_name": "Python 3",
   "language": "python",
   "name": "python3"
  },
  "language_info": {
   "codemirror_mode": {
    "name": "ipython",
    "version": 3
   },
   "file_extension": ".py",
   "mimetype": "text/x-python",
   "name": "python",
   "nbconvert_exporter": "python",
   "pygments_lexer": "ipython3",
   "version": "3.6.4"
  }
 },
 "nbformat": 4,
 "nbformat_minor": 2
}
