{
 "cells": [
  {
   "cell_type": "code",
   "execution_count": 1,
   "metadata": {},
   "outputs": [
    {
     "data": {
      "text/html": [
       "<script>\n",
       "code_show=true; \n",
       "function code_toggle() {\n",
       " if (code_show){\n",
       " $('div.input').hide();\n",
       " } else {\n",
       " $('div.input').show();\n",
       " }\n",
       " code_show = !code_show\n",
       "} \n",
       "$( document ).ready(code_toggle);\n",
       "</script>\n",
       "The raw code for this IPython notebook is by default hidden for easier reading.\n",
       "To toggle on/off the raw code, click <a href=\"javascript:code_toggle()\">here</a>."
      ],
      "text/plain": [
       "<IPython.core.display.HTML object>"
      ]
     },
     "execution_count": 1,
     "metadata": {},
     "output_type": "execute_result"
    }
   ],
   "source": [
    "from IPython.display import HTML\n",
    "HTML('''<script>\n",
    "code_show=true; \n",
    "function code_toggle() {\n",
    " if (code_show){\n",
    " $('div.input').hide();\n",
    " } else {\n",
    " $('div.input').show();\n",
    " }\n",
    " code_show = !code_show\n",
    "} \n",
    "$( document ).ready(code_toggle);\n",
    "</script>\n",
    "The raw code for this IPython notebook is by default hidden for easier reading.\n",
    "To toggle on/off the raw code, click <a href=\"javascript:code_toggle()\">here</a>.''')"
   ]
  },
  {
   "cell_type": "code",
   "execution_count": 2,
   "metadata": {},
   "outputs": [
    {
     "name": "stdout",
     "output_type": "stream",
     "text": [
      "Database connected successfully.\n"
     ]
    }
   ],
   "source": [
    "import pandas\n",
    "import numpy\n",
    "%matplotlib notebook\n",
    "import general\n",
    "import discretionary_aua\n",
    "import vantage_aua\n",
    "from data_access.data_accessing import pull_data_for_model, read_assumptions_from_google_sheet\n",
    "import revenue\n",
    "import costs\n",
    "import consolidated\n",
    "import discf\n",
    "import combined\n",
    "from ipywidgets import widgets, Output, interact, IntSlider\n",
    "from IPython.display import display, clear_output, DisplayHandle\n",
    "import stats\n",
    "pandas.set_option('display.float_format', '{0:,.4f}'.format)               \n",
    "idx = pandas.IndexSlice\n",
    "cached_displays = {}\n"
   ]
  },
  {
   "cell_type": "code",
   "execution_count": 3,
   "metadata": {},
   "outputs": [
    {
     "name": "stdout",
     "output_type": "stream",
     "text": [
      "Pulling data...\n",
      "Data pulled successfully.\n"
     ]
    }
   ],
   "source": [
    "main_assumption = '1Efpnu_YVffR5Dtu6qO4RBgcjopsMWc3cTo7rk8j8VAY'\n",
    "\n",
    "case1 = '1ilUG4pAkAyItpubRGp2-HOmg6889siOJADjs49WEWn4'\n",
    "case2 = '1wVmxvqB4IL35bl5Y5h0-PeVc8IAXPIYXsCD0aCy8UZ4'\n",
    "worst_case = '1JQHpPAktAoR9P8CAwM4nG9KBDdGShI46D1-3tgSjrqE'\n",
    "case4 = '17FoaXFMt8xB84qcN8XZ4l-fID8vtXcVF2ykcdnO7w2Q'\n",
    "\n",
    "\n",
    "second_assumption = '17FoaXFMt8xB84qcN8XZ4l-fID8vtXcVF2ykcdnO7w2Q'\n",
    "print('Pulling data...')\n",
    "\n",
    "data_dic = pull_data_for_model()\n",
    "\n",
    "input_dic = read_assumptions_from_google_sheet(main_assumption)\n",
    "\n",
    "print('Data pulled successfully.')"
   ]
  },
  {
   "cell_type": "code",
   "execution_count": 4,
   "metadata": {},
   "outputs": [
    {
     "data": {
      "application/vnd.jupyter.widget-view+json": {
       "model_id": "f0bb36a3f8e244eb9cc10d0360657559",
       "version_major": 2,
       "version_minor": 0
      },
      "text/plain": [
       "Button(description='Update assumptions', layout=Layout(height='40px', width='20%'), style=ButtonStyle(button_c…"
      ]
     },
     "metadata": {},
     "output_type": "display_data"
    }
   ],
   "source": [
    "assumption_button = widgets.Button(description='Update assumptions',layout=widgets.Layout(width='20%',height='40px'))\n",
    "assumption_button.style.button_color = 'lightgreen'\n",
    "def update_assumption(dummy):\n",
    "    global input_dic\n",
    "    input_dic = read_assumptions_from_google_sheet(main_assumption)\n",
    "    print ('Assumptions updated successfully...')\n",
    "\n",
    "assumption_button.on_click(update_assumption)\n",
    "display(assumption_button)"
   ]
  },
  {
   "cell_type": "code",
   "execution_count": 5,
   "metadata": {},
   "outputs": [],
   "source": [
    "def freeze_header(df, num_rows=25, num_columns=3, step_rows=1,\n",
    "                  step_columns=1):\n",
    "    \"\"\"\n",
    "    Freeze the headers (column and index names) of a Pandas DataFrame. A widget\n",
    "    enables to slide through the rows and columns.\n",
    "\n",
    "    Parameters\n",
    "    ----------\n",
    "    df : Pandas DataFrame\n",
    "        DataFrame to display\n",
    "    num_rows : int, optional\n",
    "        Number of rows to display\n",
    "    num_columns : int, optional\n",
    "        Number of columns to display\n",
    "    step_rows : int, optional\n",
    "        Step in the rows\n",
    "    step_columns : int, optional\n",
    "        Step in the columns\n",
    "\n",
    "    Returns\n",
    "    -------\n",
    "    Displays the DataFrame with the widget\n",
    "    \"\"\"\n",
    "    @interact(last_row=IntSlider(min=min(num_rows, df.shape[0]),\n",
    "                                 max=df.shape[0],\n",
    "                                 step=step_rows,\n",
    "                                 description='rows',\n",
    "                                 readout=False,\n",
    "                                 disabled=False,\n",
    "                                 continuous_update=True,\n",
    "                                 orientation='horizontal',\n",
    "                                 slider_color='purple'),\n",
    "              last_column=IntSlider(min=min(num_columns, df.shape[1]),\n",
    "                                    max=df.shape[1],\n",
    "                                    step=step_columns,\n",
    "                                    description='columns',\n",
    "                                    readout=False,\n",
    "                                    disabled=False,\n",
    "                                    continuous_update=True,\n",
    "                                    orientation='horizontal',\n",
    "                                    slider_color='purple'))\n",
    "    def _freeze_header(last_row, last_column):\n",
    "        display(df.iloc[max(0, last_row-num_rows):last_row,\n",
    "                        max(0, last_column-num_columns):last_column])"
   ]
  },
  {
   "cell_type": "code",
   "execution_count": 6,
   "metadata": {},
   "outputs": [],
   "source": [
    "def display_with_out(f, out_obj, *args, **kwargs):\n",
    "    with out_obj:\n",
    "        index_slice = kwargs.get('slice', None) # list of indices\n",
    "        if index_slice:\n",
    "            result = f(*args).loc[index_slice]\n",
    "        else:\n",
    "            result = f(*args, **kwargs)\n",
    "        if result is not None:\n",
    "            if isinstance(result, pandas.DataFrame):\n",
    "                freeze_header(result)\n",
    "            else:\n",
    "                display(result)\n",
    "            return result"
   ]
  },
  {
   "cell_type": "code",
   "execution_count": 7,
   "metadata": {},
   "outputs": [
    {
     "data": {
      "application/vnd.jupyter.widget-view+json": {
       "model_id": "bfc3cf658aa746d9a3dc63e6546bd0d3",
       "version_major": 2,
       "version_minor": 0
      },
      "text/plain": [
       "HBox(children=(VBox(children=(IntText(value=2019, description='Year:'), IntText(value=9, description='Month:')…"
      ]
     },
     "metadata": {},
     "output_type": "display_data"
    },
    {
     "data": {
      "application/vnd.jupyter.widget-view+json": {
       "model_id": "7bb92b3cdb514ca1b71ce1b2f5e34cae",
       "version_major": 2,
       "version_minor": 0
      },
      "text/plain": [
       "Button(description='Add LIBOR rates', layout=Layout(height='40px', width='auto'), style=ButtonStyle(button_col…"
      ]
     },
     "metadata": {},
     "output_type": "display_data"
    }
   ],
   "source": [
    "out10 = Output()\n",
    "libor_change_value = -0.0025\n",
    "libor_box_layout = widgets.Layout(display='flex', flex_flow='column', align_items='stretch',border='solid',width='auto')\n",
    "year_w = widgets.IntText(value=data_dic['Index price'].dropna('index', how='all').index[-1].year, placeholder='Integer', description='Year:')\n",
    "month_w = widgets.IntText(value=data_dic['Index price'].dropna('index', how='all').index[-1].month, placeholder='Integer', description='Month:')\n",
    "date_w = widgets.IntText(value=data_dic['Index price'].dropna('index', how='all').index[-1].day + 1, placeholder='Integer', description='Day:')\n",
    "left_libor_box = widgets.VBox([year_w, month_w, date_w], layout=libor_box_layout)\n",
    "annual_libor = widgets.FloatText(value=data_dic['Index price']['Annual LIBOR'].fillna(method='ffill')[-1]+libor_change_value, placeholder='Percentage as decimals',description='Annual LIBOR')\n",
    "overnight_libor = widgets.FloatText(value=data_dic['Index price']['Overnight LIBOR'].fillna(method='ffill')[-1]+libor_change_value, placeholder='Percentage as decimals',description='Overnight LIBOR')\n",
    "one_month_libor = widgets.FloatText(value=data_dic['Index price']['1_month LIBOR'].fillna(method='ffill')[-1]+libor_change_value, placeholder='Percentage as decimals',description='1_month LIBOR')\n",
    "three_month_libor = widgets.FloatText(value=data_dic['Index price']['3_month LIBOR'].fillna(method='ffill')[-1]+libor_change_value, placeholder='Percentage as decimals',description='3_month LIBOR')\n",
    "right_libor_box = widgets.VBox([annual_libor, overnight_libor, one_month_libor, three_month_libor], layout=libor_box_layout)\n",
    "display(widgets.HBox([left_libor_box, right_libor_box]))\n",
    "\n",
    "def add_libor_rates(annual, overnight, one_month, three_month):\n",
    "    date_str = str(year_w.value) + '-' + str(month_w.value) + '-' + str(date_w.value)\n",
    "    dt = pandas.to_datetime(date_str)\n",
    "    data_dic['Index price'].loc[dt, :] = numpy.nan\n",
    "    data_dic['Index price'].loc[dt, 'Annual LIBOR'] = annual\n",
    "    data_dic['Index price'].loc[dt, 'Overnight LIBOR'] = overnight\n",
    "    data_dic['Index price'].loc[dt, '1_month LIBOR'] = one_month\n",
    "    data_dic['Index price'].loc[dt, '3_month LIBOR'] = three_month\n",
    "    print('LIBOR rates changed successfully...')\n",
    "\n",
    "change_libor_button = widgets.Button(description='Add LIBOR rates', layout=widgets.Layout(width='auto', height='40px'))\n",
    "change_libor_button.on_click(lambda x: display_with_out(add_libor_rates, out10, annual_libor.value, overnight_libor.value, one_month_libor.value, three_month_libor.value))\n",
    "change_libor_button.style.button_color = 'lightgreen'\n",
    "display(change_libor_button)"
   ]
  },
  {
   "cell_type": "code",
   "execution_count": 8,
   "metadata": {},
   "outputs": [
    {
     "data": {
      "application/vnd.jupyter.widget-view+json": {
       "model_id": "4d95b03b8b9c4248a86823c0e6f5a168",
       "version_major": 2,
       "version_minor": 0
      },
      "text/plain": [
       "Output()"
      ]
     },
     "metadata": {},
     "output_type": "display_data"
    }
   ],
   "source": [
    "display(out10)"
   ]
  },
  {
   "cell_type": "code",
   "execution_count": 9,
   "metadata": {},
   "outputs": [
    {
     "data": {
      "application/vnd.jupyter.widget-view+json": {
       "model_id": "c74e27314f034c56928c8f89ac35ecbe",
       "version_major": 2,
       "version_minor": 0
      },
      "text/plain": [
       "HBox(children=(VBox(children=(Button(description='Semi-annual revenue', layout=Layout(height='40px', width='10…"
      ]
     },
     "metadata": {},
     "output_type": "display_data"
    }
   ],
   "source": [
    "out = Output()\n",
    "\n",
    "revenue_types = ['Semi-annual revenue','Annual revenue - FY','Annual revenue - CY','Consolidated semi-annual revenue','Consolidated annual revenue - FY','Consolidated annual revenue - CY', 'clear outputs']\n",
    "box_layout = widgets.Layout(display='flex', flex_flow='column', align_items='stretch',border='solid',width='30%')\n",
    "items = {}\n",
    "for w in revenue_types:\n",
    "    if w == 'clear outputs':\n",
    "        items[w] = widgets.Button(description=w, layout=widgets.Layout(width='100%', height='40px'), button_style='warning', icon='check')\n",
    "    else:\n",
    "        items[w] = widgets.Button(description=w,layout=widgets.Layout(width='100%', height='40px'))\n",
    "        items[w].style.button_color = 'lightgreen'\n",
    "left_box = widgets.VBox([list(items.values())[0],list(items.values())[1],list(items.values())[2]],layout=box_layout)\n",
    "right_box = widgets.VBox([list(items.values())[3],list(items.values())[4],list(items.values())[5], list(items.values())[6]],layout=box_layout)\n",
    "items['Semi-annual revenue'].on_click(lambda x: display_with_out(revenue.semi_revenue,out,data_dic,input_dic))\n",
    "items['Annual revenue - FY'].on_click(lambda x: display_with_out(revenue.annual_revenue,out,data_dic,input_dic))\n",
    "items['Annual revenue - CY'].on_click(lambda x: display_with_out(revenue.annual_revenue,out,data_dic,input_dic,cal_year=True))\n",
    "items['Consolidated semi-annual revenue'].on_click(lambda x: display_with_out(consolidated.revenue_analysis,out,data_dic,input_dic))\n",
    "items['Consolidated annual revenue - FY'].on_click(lambda x: display_with_out(consolidated.annual_revenue_analysis,out,data_dic,input_dic))\n",
    "items['Consolidated annual revenue - CY'].on_click(lambda x: display_with_out(consolidated.annual_revenue_analysis,out,data_dic,input_dic,cal_year=True))\n",
    "items['clear outputs'].on_click(lambda x: display_with_out(clear_output,out))\n",
    "widgets.HBox([left_box,right_box])\n",
    "\n",
    "\n"
   ]
  },
  {
   "cell_type": "code",
   "execution_count": 10,
   "metadata": {},
   "outputs": [
    {
     "data": {
      "application/vnd.jupyter.widget-view+json": {
       "model_id": "c255efbdee1743c8a345d6ee04c5645f",
       "version_major": 2,
       "version_minor": 0
      },
      "text/plain": [
       "Output()"
      ]
     },
     "metadata": {},
     "output_type": "display_data"
    }
   ],
   "source": [
    "display(out)"
   ]
  },
  {
   "cell_type": "code",
   "execution_count": 11,
   "metadata": {},
   "outputs": [
    {
     "data": {
      "application/vnd.jupyter.widget-view+json": {
       "model_id": "7baa1757f6664f1f88c85e0fe4165fc9",
       "version_major": 2,
       "version_minor": 0
      },
      "text/plain": [
       "HBox(children=(VBox(children=(Button(description='Semi-annual costs', layout=Layout(height='40px', width='100%…"
      ]
     },
     "metadata": {},
     "output_type": "display_data"
    }
   ],
   "source": [
    "out2 = Output()\n",
    "\n",
    "costs_types = ['Semi-annual costs','Annual costs - FY','Annual costs - CY','Consolidated semi-annual costs','Consolidated annual costs - FY','Consolidated annual costs - CY', 'clear outputs']\n",
    "items2 = {}\n",
    "for w2 in costs_types:\n",
    "    if w2 == 'clear outputs':\n",
    "        items2[w2] = widgets.Button(description=w2, layout=widgets.Layout(width='100%', height='40px'), button_style='warning', icon='check')\n",
    "    else:\n",
    "        items2[w2] = widgets.Button(description=w2,layout=widgets.Layout(width='100%', height='40px'))\n",
    "        items2[w2].style.button_color = 'lightgreen'\n",
    "left_box2 = widgets.VBox([list(items2.values())[0],list(items2.values())[1],list(items2.values())[2]],layout=box_layout)\n",
    "right_box2 = widgets.VBox([list(items2.values())[3],list(items2.values())[4],list(items2.values())[5], list(items2.values())[6]],layout=box_layout)\n",
    "items2['Semi-annual costs'].on_click(lambda x: display_with_out(costs.semi_costs,out2,input_dic))\n",
    "items2['Annual costs - FY'].on_click(lambda x: display_with_out(costs.annual_costs,out2,input_dic))\n",
    "items2['Annual costs - CY'].on_click(lambda x: display_with_out(costs.annual_costs,out2,input_dic,cal_year=True))\n",
    "items2['Consolidated semi-annual costs'].on_click(lambda x: display_with_out(consolidated.costs_analysis,out2,input_dic))\n",
    "items2['Consolidated annual costs - FY'].on_click(lambda x: display_with_out(consolidated.annual_costs_analysis,out2,input_dic))\n",
    "items2['Consolidated annual costs - CY'].on_click(lambda x: display_with_out(consolidated.annual_costs_analysis,out2,input_dic,cal_year=True))\n",
    "items2['clear outputs'].on_click(lambda x: display_with_out(clear_output,out2))\n",
    "widgets.HBox([left_box2,right_box2])"
   ]
  },
  {
   "cell_type": "code",
   "execution_count": 12,
   "metadata": {},
   "outputs": [
    {
     "data": {
      "application/vnd.jupyter.widget-view+json": {
       "model_id": "cc2d29bf47a242d7965f8b2b9b5a45f6",
       "version_major": 2,
       "version_minor": 0
      },
      "text/plain": [
       "Output()"
      ]
     },
     "metadata": {},
     "output_type": "display_data"
    }
   ],
   "source": [
    "display(out2)"
   ]
  },
  {
   "cell_type": "code",
   "execution_count": 13,
   "metadata": {},
   "outputs": [
    {
     "data": {
      "application/vnd.jupyter.widget-view+json": {
       "model_id": "f71363efbc6d4b90a996743bbbe8382e",
       "version_major": 2,
       "version_minor": 0
      },
      "text/plain": [
       "SelectMultiple(description='Years for comparison', options=(2019, 2020, 2021, 2022, 2023, 2024, 2025, 2026, 20…"
      ]
     },
     "metadata": {},
     "output_type": "display_data"
    },
    {
     "data": {
      "application/vnd.jupyter.widget-view+json": {
       "model_id": "ac01755f0a794334a4bdf1e56b4a6b83",
       "version_major": 2,
       "version_minor": 0
      },
      "text/plain": [
       "Box(children=(Button(description='NNB comparison', layout=Layout(height='40px', width='100%'), style=ButtonSty…"
      ]
     },
     "metadata": {},
     "output_type": "display_data"
    }
   ],
   "source": [
    "ops = [i for i in list(range(general.recent_end_year, general.recent_end_year+10))]\n",
    "a_slider = widgets.SelectMultiple(options=ops, description='Years for comparison')\n",
    "display(a_slider)\n",
    "\n",
    "compare1 = ['NNB comparison','AUA comparison']\n",
    "box_layout2 = widgets.Layout(display='flex', flex_flow='row', align_items='stretch',border='solid',width='30%')\n",
    "items3 = {}\n",
    "for w3 in compare1:\n",
    "    items3[w3] = widgets.Button(description=w3,layout=widgets.Layout(width='100%', height='40px'))\n",
    "    items3[w3].style.button_color = 'lightgreen'\n",
    "box3 = widgets.Box([list(items3.values())[0],list(items3.values())[1]],layout=box_layout2)\n",
    "items3['NNB comparison'].on_click(lambda x: display(consolidated.get_nnb_compare(data_dic, input_dic,list(a_slider.value))))\n",
    "items3['AUA comparison'].on_click(lambda x: display(consolidated.get_aua_compare(data_dic, input_dic,list(a_slider.value))))\n",
    "\n",
    "\n",
    "display(box3)"
   ]
  },
  {
   "cell_type": "code",
   "execution_count": 14,
   "metadata": {},
   "outputs": [
    {
     "data": {
      "application/vnd.jupyter.widget-view+json": {
       "model_id": "d9029d1c5caa4affb077f8945510f471",
       "version_major": 2,
       "version_minor": 0
      },
      "text/plain": [
       "VBox(children=(HBox(children=(Button(description='Interim revenue comparison', layout=Layout(height='40px', wi…"
      ]
     },
     "metadata": {},
     "output_type": "display_data"
    }
   ],
   "source": [
    "compare2 = ['Interim revenue comparison','Annual revenue comparison', 'Interim costs comparison', 'Annual costs comparison']\n",
    "box_layout3 = widgets.Layout(display='flex', flex_flow='row', align_items='stretch',border='solid',width='50%')\n",
    "items4 = {}\n",
    "for w4 in compare2:\n",
    "    items4[w4] = widgets.Button(description=w4,layout=widgets.Layout(width='100%', height='40px'))\n",
    "    items4[w4].style.button_color = 'lightgreen'\n",
    "top_box4 = widgets.HBox([list(items4.values())[0],list(items4.values())[1]],layout=box_layout3)\n",
    "bottom_box4 = widgets.HBox([list(items4.values())[2],list(items4.values())[3]],layout=box_layout3)\n",
    "items4['Interim revenue comparison'].on_click(lambda x: display(consolidated.get_revenue_compare(data_dic, input_dic,True,list(a_slider.value))))\n",
    "items4['Annual revenue comparison'].on_click(lambda x: display(consolidated.get_revenue_compare(data_dic, input_dic,False,list(a_slider.value))))\n",
    "items4['Interim costs comparison'].on_click(lambda x: display(consolidated.get_costs_compare(input_dic,True,list(a_slider.value))))\n",
    "items4['Annual costs comparison'].on_click(lambda x: display(consolidated.get_costs_compare(input_dic,False,list(a_slider.value))))\n",
    "\n",
    "widgets.VBox([top_box4, bottom_box4])"
   ]
  },
  {
   "cell_type": "code",
   "execution_count": 15,
   "metadata": {},
   "outputs": [
    {
     "data": {
      "application/vnd.jupyter.widget-view+json": {
       "model_id": "b19c44d8c3964e129f8e2f6014735181",
       "version_major": 2,
       "version_minor": 0
      },
      "text/plain": [
       "IntText(value=9, description='DCF period - No. of years:')"
      ]
     },
     "metadata": {},
     "output_type": "display_data"
    },
    {
     "data": {
      "application/vnd.jupyter.widget-view+json": {
       "model_id": "8cbe43c445c0424188fbebbf7c4273fc",
       "version_major": 2,
       "version_minor": 0
      },
      "text/plain": [
       "FloatText(value=0.035, description='Perpetuity growth rate:')"
      ]
     },
     "metadata": {},
     "output_type": "display_data"
    },
    {
     "data": {
      "application/vnd.jupyter.widget-view+json": {
       "model_id": "148ecbbca4b34fa19cb49a0fc7049486",
       "version_major": 2,
       "version_minor": 0
      },
      "text/plain": [
       "FloatText(value=0.085, description='Cash flow discount rate:')"
      ]
     },
     "metadata": {},
     "output_type": "display_data"
    },
    {
     "data": {
      "application/vnd.jupyter.widget-view+json": {
       "model_id": "75b46950f4d44d9caee680d214f078aa",
       "version_major": 2,
       "version_minor": 0
      },
      "text/plain": [
       "Checkbox(value=False, description='Fair value now')"
      ]
     },
     "metadata": {},
     "output_type": "display_data"
    },
    {
     "data": {
      "application/vnd.jupyter.widget-view+json": {
       "model_id": "98a3f9a8e5e0449fb8cef4f8cb78ccbf",
       "version_major": 2,
       "version_minor": 0
      },
      "text/plain": [
       "Checkbox(value=False, description='Fractional valuation')"
      ]
     },
     "metadata": {},
     "output_type": "display_data"
    },
    {
     "data": {
      "application/vnd.jupyter.widget-view+json": {
       "model_id": "6d3c2a73c26643d8ab7a0338a4c21d3e",
       "version_major": 2,
       "version_minor": 0
      },
      "text/plain": [
       "HBox(children=(Button(description='Discounted cash flow', layout=Layout(height='40px', width='100%'), style=Bu…"
      ]
     },
     "metadata": {},
     "output_type": "display_data"
    }
   ],
   "source": [
    "'''=====current values=======\n",
    "discounted cash flow period: 9 years\n",
    "perpetuity growth rate: 0.035\n",
    "cash flow discounted rate: 0.085\n",
    "'''\n",
    "out4 = Output()\n",
    "dcf_period = widgets.IntText(value=9,placeholder='Integer',description='DCF period - No. of years:')\n",
    "display(dcf_period)\n",
    "perp_growth = widgets.FloatText(value=0.035,placeholder='Percentage as decimals',description='Perpetuity growth rate:')\n",
    "display(perp_growth)\n",
    "disct_rate = widgets.FloatText(value=0.085,placeholder='Percentage as decimals',description='Cash flow discount rate:')\n",
    "display(disct_rate)\n",
    "current_value = widgets.Checkbox(value=False, description='Fair value now')\n",
    "display(current_value)\n",
    "fractional = widgets.Checkbox(value=False, description='Fractional valuation')\n",
    "display(fractional)\n",
    "\n",
    "dis_cash = ['Discounted cash flow','Fair value', 'clear outputs']\n",
    "items5 = {}\n",
    "for w5 in dis_cash:\n",
    "    if w5 == 'clear outputs':\n",
    "        items5[w5] = widgets.Button(description=w5, layout=widgets.Layout(width='100%', height='40px'), button_style='warning', icon='check')\n",
    "    else:\n",
    "        items5[w5] = widgets.Button(description=w5, layout=widgets.Layout(width='100%', height='40px'))\n",
    "        items5[w5].style.button_color = 'lightgreen'\n",
    "fair = widgets.HBox([list(items5.values())[0],list(items5.values())[1],list(items5.values())[2]],layout=box_layout3)\n",
    "items5['Discounted cash flow'].on_click(lambda x: display_with_out(discf.disc_cash_flow,out4,data_dic,input_dic,now=current_value.value,fractional=fractional.value,dcf_p=dcf_period.value,disc_rate=disct_rate.value))\n",
    "items5['Fair value'].on_click(lambda x: display_with_out(discf.fair_value,out4,data_dic,input_dic,now=current_value.value,fractional=fractional.value,dcf_p=dcf_period.value,disc_rate=disct_rate.value,pep_rate=perp_growth.value))   \n",
    "items5['clear outputs'].on_click(lambda x: display_with_out(clear_output,out4))\n",
    "display(fair)"
   ]
  },
  {
   "cell_type": "code",
   "execution_count": 16,
   "metadata": {},
   "outputs": [
    {
     "data": {
      "application/vnd.jupyter.widget-view+json": {
       "model_id": "0768876031ff47f197c8b6cc2a6d6aba",
       "version_major": 2,
       "version_minor": 0
      },
      "text/plain": [
       "Output()"
      ]
     },
     "metadata": {},
     "output_type": "display_data"
    }
   ],
   "source": [
    "display(out4)"
   ]
  },
  {
   "cell_type": "code",
   "execution_count": 17,
   "metadata": {},
   "outputs": [
    {
     "data": {
      "application/vnd.jupyter.widget-view+json": {
       "model_id": "1b9f0cfb826f466999b833aa981c8f13",
       "version_major": 2,
       "version_minor": 0
      },
      "text/plain": [
       "RadioButtons(description='Period', options=('month_no', 'quarter_no', 'half_no', 'financial_year', 'calendar_y…"
      ]
     },
     "metadata": {},
     "output_type": "display_data"
    },
    {
     "data": {
      "application/vnd.jupyter.widget-view+json": {
       "model_id": "7d6f0a236f1a4d259eedfebe816b082d",
       "version_major": 2,
       "version_minor": 0
      },
      "text/plain": [
       "RadioButtons(description='Semi-annual revenue distribution?', options=(True, False), value=True)"
      ]
     },
     "metadata": {},
     "output_type": "display_data"
    }
   ],
   "source": [
    "radio1 = widgets.RadioButtons(options=['month_no','quarter_no','half_no','financial_year','calendar_year'],description='Period')\n",
    "display(radio1)\n",
    "\n",
    "revenue_dist_radio = widgets.RadioButtons(options=[True, False],description='Semi-annual revenue distribution?')\n",
    "display(revenue_dist_radio)\n"
   ]
  },
  {
   "cell_type": "code",
   "execution_count": 18,
   "metadata": {},
   "outputs": [
    {
     "data": {
      "application/vnd.jupyter.widget-view+json": {
       "model_id": "2a71494f9bcc40d7b0047b8b201c63ab",
       "version_major": 2,
       "version_minor": 0
      },
      "text/plain": [
       "HBox(children=(VBox(children=(Button(description='HLF composite monthly return', layout=Layout(height='40px', …"
      ]
     },
     "metadata": {},
     "output_type": "display_data"
    }
   ],
   "source": [
    "out3 = Output()\n",
    "\n",
    "others = ['HLF composite monthly return','Revenue distribution','Avg AUA distribution','Total AUA','Total NNB nnc Algo', 'NNB distribution nnc Algo', 'clear outputs']\n",
    "items6 = {}\n",
    "\n",
    "for w6 in others:\n",
    "    if w6 == 'clear outputs':\n",
    "        items6[w6] = widgets.Button(description=w6, layout=widgets.Layout(width='100%', height='40px'), button_style='warning', icon='check')\n",
    "    else:\n",
    "        items6[w6] = widgets.Button(description=w6, layout=widgets.Layout(width='100%', height='40px'))\n",
    "        items6[w6].style.button_color = 'lightgreen'\n",
    "other_box1 = widgets.VBox([list(items6.values())[0],list(items6.values())[1],list(items6.values())[2]],layout=box_layout)\n",
    "other_box2 = widgets.VBox([list(items6.values())[3],list(items6.values())[4],list(items6.values())[5],list(items6.values())[6]],layout=box_layout)\n",
    "items6['HLF composite monthly return'].on_click(lambda x: display_with_out(discretionary_aua.get_composite_return,out3,data_dic))\n",
    "items6['Total AUA'].on_click(lambda x: display_with_out(combined.total_aua,out3,data_dic,input_dic))\n",
    "items6['Revenue distribution'].on_click(lambda x: display_with_out(stats.summary_revenue_dist,out3,data_dic,input_dic,revenue_dist_radio.value))\n",
    "items6['Avg AUA distribution'].on_click(lambda x: display_with_out(stats.summary_avg_aua_dist,out3,data_dic,input_dic,radio1.value))\n",
    "items6['Total NNB nnc Algo'].on_click(lambda x: display_with_out(combined.total_nnb_ci_clientAlgo,out3,data_dic,input_dic, opt=radio1.value))\n",
    "items6['NNB distribution nnc Algo'].on_click(lambda x: display_with_out(combined.total_nnb_distribution_clientAlgo,out3,data_dic, input_dic, opt=radio1.value))\n",
    "items6['clear outputs'].on_click(lambda x: display_with_out(clear_output,out3))\n",
    "widgets.HBox([other_box1, other_box2])\n",
    "\n",
    "#Financial year based"
   ]
  },
  {
   "cell_type": "code",
   "execution_count": 19,
   "metadata": {},
   "outputs": [
    {
     "data": {
      "application/vnd.jupyter.widget-view+json": {
       "model_id": "dc18cca4d8f44c1fba03fad958d11cf4",
       "version_major": 2,
       "version_minor": 0
      },
      "text/plain": [
       "Output()"
      ]
     },
     "metadata": {},
     "output_type": "display_data"
    }
   ],
   "source": [
    "display(out3)"
   ]
  },
  {
   "cell_type": "code",
   "execution_count": 20,
   "metadata": {},
   "outputs": [
    {
     "data": {
      "application/vnd.jupyter.widget-view+json": {
       "model_id": "b7c39c1376624c7bbd175d03b80db7c9",
       "version_major": 2,
       "version_minor": 0
      },
      "text/plain": [
       "RadioButtons(description='Period', options=('day', 'month', 'semi-annual', 'quarter', 'annual'), value='day')"
      ]
     },
     "metadata": {},
     "output_type": "display_data"
    },
    {
     "data": {
      "application/vnd.jupyter.widget-view+json": {
       "model_id": "4b738bc24eb1401db4de25704a501785",
       "version_major": 2,
       "version_minor": 0
      },
      "text/plain": [
       "Dropdown(description='Fund option', options=('no_select', None), value='no_select')"
      ]
     },
     "metadata": {},
     "output_type": "display_data"
    },
    {
     "data": {
      "application/vnd.jupyter.widget-view+json": {
       "model_id": "43e22f86ba3747b797f96c0df94a43e8",
       "version_major": 2,
       "version_minor": 0
      },
      "text/plain": [
       "Dropdown(description='Unit type', options=('acc', 'inc'), value='acc')"
      ]
     },
     "metadata": {},
     "output_type": "display_data"
    },
    {
     "data": {
      "application/vnd.jupyter.widget-view+json": {
       "model_id": "0c6e134ee24544158b1f259cb8c614fc",
       "version_major": 2,
       "version_minor": 0
      },
      "text/plain": [
       "RadioButtons(description='Total HLF nnb?', options=(True, False), value=True)"
      ]
     },
     "metadata": {},
     "output_type": "display_data"
    },
    {
     "data": {
      "application/vnd.jupyter.widget-view+json": {
       "model_id": "d9639ace8d574a129734e925c767b10c",
       "version_major": 2,
       "version_minor": 0
      },
      "text/plain": [
       "Button(description='Implied HLF nnb period-to-date', layout=Layout(height='40px', width='50%'), style=ButtonSt…"
      ]
     },
     "metadata": {},
     "output_type": "display_data"
    },
    {
     "data": {
      "application/vnd.jupyter.widget-view+json": {
       "model_id": "288e4b9b8a82402182ce2653ace4cdb2",
       "version_major": 2,
       "version_minor": 0
      },
      "text/plain": [
       "Button(description='HLF unit change period-to-date', layout=Layout(height='40px', width='50%'), style=ButtonSt…"
      ]
     },
     "metadata": {},
     "output_type": "display_data"
    },
    {
     "data": {
      "application/vnd.jupyter.widget-view+json": {
       "model_id": "422bea321b8b4144a03fb16919eaee43",
       "version_major": 2,
       "version_minor": 0
      },
      "text/plain": [
       "Button(description='HLF total size', layout=Layout(height='40px', width='50%'), style=ButtonStyle(button_color…"
      ]
     },
     "metadata": {},
     "output_type": "display_data"
    },
    {
     "data": {
      "application/vnd.jupyter.widget-view+json": {
       "model_id": "8dc2b431dc584e59a0c0ab0eaf9485ba",
       "version_major": 2,
       "version_minor": 0
      },
      "text/plain": [
       "Button(button_style='warning', description='clear outputs', icon='check', layout=Layout(height='40px', width='…"
      ]
     },
     "metadata": {},
     "output_type": "display_data"
    }
   ],
   "source": [
    "hl_fund_size_copy = data_dic['fund size'].copy()\n",
    "hl_fund_size_copy.loc[:, 'Total'] = hl_fund_size_copy.sum(axis='columns')\n",
    "\n",
    "out5 = Output()\n",
    "nnb_radio = widgets.RadioButtons(options=['day','month','semi-annual','quarter','annual'],description='Period',disabled=False)\n",
    "nnb_dropdown = widgets.Dropdown(options=['no_select',None],description='Fund option',disabled=False)\n",
    "unit_dropdown = widgets.Dropdown(options=['acc','inc'],description='Unit type',disabled=False)\n",
    "display_total_hlf_nnb = widgets.RadioButtons(options=[True, False],description='Total HLF nnb?')\n",
    "display(nnb_radio)\n",
    "display(nnb_dropdown)\n",
    "display(unit_dropdown)\n",
    "display(display_total_hlf_nnb)\n",
    "\n",
    "nnb_b = widgets.Button(description='Implied HLF nnb period-to-date', layout=widgets.Layout(width='50%', height='40px'))\n",
    "nnb_b.style.button_color = 'lightgreen'\n",
    "\n",
    "nnb_b2 = widgets.Button(description='HLF unit change period-to-date', layout=widgets.Layout(width='50%', height='40px'))\n",
    "nnb_b2.style.button_color = 'lightgreen'\n",
    "\n",
    "fund_size_widget = widgets.Button(description='HLF total size', layout=widgets.Layout(width='50%', height='40px'))\n",
    "fund_size_widget.style.button_color = 'lightgreen'\n",
    "\n",
    "clear_outputs_widget = widgets.Button(description='clear outputs', layout=widgets.Layout(width='50%', height='40px'), button_style='warning', icon='check')\n",
    "\n",
    "nnb_b.on_click(lambda x: display_with_out(stats.hlf_to_date_implied_nnb,out5,data_dic,typ=nnb_radio.value,fund_opt=nnb_dropdown.value,total=display_total_hlf_nnb.value))\n",
    "nnb_b2.on_click(lambda x: display_with_out(stats.hlf_to_date_unit_change,out5,data_dic, unit_type=unit_dropdown.value,typ=nnb_radio.value,fund_opt=nnb_dropdown.value))\n",
    "fund_size_widget.on_click(lambda x: display_with_out((lambda y=None: hl_fund_size_copy),out5))\n",
    "clear_outputs_widget.on_click(lambda x: display_with_out(clear_output,out5))\n",
    "\n",
    "display(nnb_b)\n",
    "display(nnb_b2)\n",
    "display(fund_size_widget)\n",
    "display(clear_outputs_widget)"
   ]
  },
  {
   "cell_type": "code",
   "execution_count": 21,
   "metadata": {
    "scrolled": true
   },
   "outputs": [
    {
     "data": {
      "application/vnd.jupyter.widget-view+json": {
       "model_id": "02f4611f36814c59a2f9cb2dc81f92c0",
       "version_major": 2,
       "version_minor": 0
      },
      "text/plain": [
       "Output()"
      ]
     },
     "metadata": {},
     "output_type": "display_data"
    }
   ],
   "source": [
    "display(out5)"
   ]
  },
  {
   "cell_type": "code",
   "execution_count": 22,
   "metadata": {},
   "outputs": [
    {
     "data": {
      "application/vnd.jupyter.widget-view+json": {
       "model_id": "0388ff153a0d4713bfcf5ab6cb512d5d",
       "version_major": 2,
       "version_minor": 0
      },
      "text/plain": [
       "RadioButtons(description='Period', options=('monthly', 'quarter_no', 'half_no', 'financial_year', 'calendar_ye…"
      ]
     },
     "metadata": {},
     "output_type": "display_data"
    },
    {
     "data": {
      "application/vnd.jupyter.widget-view+json": {
       "model_id": "67fdec8be4cf4f0daa078e0939b81c84",
       "version_major": 2,
       "version_minor": 0
      },
      "text/plain": [
       "Button(description='Cash margin', layout=Layout(height='40px', width='50%'), style=ButtonStyle(button_color='l…"
      ]
     },
     "metadata": {},
     "output_type": "display_data"
    },
    {
     "data": {
      "application/vnd.jupyter.widget-view+json": {
       "model_id": "17869be98cc047b998feb06b8e01c8af",
       "version_major": 2,
       "version_minor": 0
      },
      "text/plain": [
       "Button(button_style='warning', description='clear outputs', icon='check', layout=Layout(height='40px', width='…"
      ]
     },
     "metadata": {},
     "output_type": "display_data"
    }
   ],
   "source": [
    "out6 = Output()\n",
    "cash_radio = widgets.RadioButtons(options=['monthly','quarter_no','half_no','financial_year','calendar_year'],description='Period',disabled=False)\n",
    "display(cash_radio)\n",
    "\n",
    "\n",
    "cash_b = widgets.Button(description='Cash margin', layout=widgets.Layout(width='50%', height='40px'))\n",
    "cash_b.style.button_color = 'lightgreen'\n",
    "clear_outputs_widget2 = widgets.Button(description='clear outputs', layout=widgets.Layout(width='50%', height='40px'), button_style='warning', icon='check')\n",
    "cash_b.on_click(lambda x: display_with_out(stats.cash_margin,out6,data_dic, input_dic, cash_radio.value))\n",
    "clear_outputs_widget2.on_click(lambda x: display_with_out(clear_output,out6))\n",
    "\n",
    "display(cash_b)\n",
    "display(clear_outputs_widget2)"
   ]
  },
  {
   "cell_type": "code",
   "execution_count": 23,
   "metadata": {},
   "outputs": [
    {
     "data": {
      "application/vnd.jupyter.widget-view+json": {
       "model_id": "45db22cb25a5479fa0ce589f0a3fd3a2",
       "version_major": 2,
       "version_minor": 0
      },
      "text/plain": [
       "Output()"
      ]
     },
     "metadata": {},
     "output_type": "display_data"
    }
   ],
   "source": [
    "display(out6)"
   ]
  },
  {
   "cell_type": "code",
   "execution_count": 24,
   "metadata": {},
   "outputs": [
    {
     "data": {
      "application/vnd.jupyter.widget-view+json": {
       "model_id": "18cb37f1fdfb4ccdae06859ec8ea9532",
       "version_major": 2,
       "version_minor": 0
      },
      "text/plain": [
       "RadioButtons(description='Calendar year?', options=(True, False), value=True)"
      ]
     },
     "metadata": {},
     "output_type": "display_data"
    },
    {
     "data": {
      "application/vnd.jupyter.widget-view+json": {
       "model_id": "138f8ef3fd594417bbbcde4a7be9c887",
       "version_major": 2,
       "version_minor": 0
      },
      "text/plain": [
       "RadioButtons(description='Semi-annual?', options=(True, False), value=True)"
      ]
     },
     "metadata": {},
     "output_type": "display_data"
    },
    {
     "data": {
      "application/vnd.jupyter.widget-view+json": {
       "model_id": "dc9182283c9f4048aee50e40c4bf912d",
       "version_major": 2,
       "version_minor": 0
      },
      "text/plain": [
       "Button(description='Net earnings and EPS', layout=Layout(height='40px', width='50%'), style=ButtonStyle(button…"
      ]
     },
     "metadata": {},
     "output_type": "display_data"
    },
    {
     "data": {
      "application/vnd.jupyter.widget-view+json": {
       "model_id": "ea8ae2441bbb4802bb5ebe012b6c1896",
       "version_major": 2,
       "version_minor": 0
      },
      "text/plain": [
       "Button(button_style='warning', description='clear outputs', icon='check', layout=Layout(height='40px', width='…"
      ]
     },
     "metadata": {},
     "output_type": "display_data"
    }
   ],
   "source": [
    "out7 = Output()\n",
    "eps_radio = widgets.RadioButtons(options=[True, False],description='Calendar year?',disabled=False)\n",
    "display(eps_radio)\n",
    "\n",
    "is_semi_radio = widgets.RadioButtons(options=[True, False],description='Semi-annual?',disabled=False)\n",
    "display(is_semi_radio)\n",
    "\n",
    "clear_outputs_widget3 = widgets.Button(description='clear outputs', layout=widgets.Layout(width='50%', height='40px'), button_style='warning', icon='check')\n",
    "\n",
    "clear_outputs_widget3.on_click(lambda x: display_with_out(clear_output,out7))\n",
    "\n",
    "eps_summary = widgets.Button(description='Net earnings and EPS', layout=widgets.Layout(width='50%', height='40px'))\n",
    "eps_summary.style.button_color = 'lightgreen'\n",
    "eps_summary.on_click(lambda x: display_with_out(stats.summary_total, out7, data_dic, input_dic, cal=eps_radio.value, is_semi=is_semi_radio.value))\n",
    "display(eps_summary)\n",
    "display(clear_outputs_widget3)\n"
   ]
  },
  {
   "cell_type": "code",
   "execution_count": 25,
   "metadata": {},
   "outputs": [
    {
     "data": {
      "application/vnd.jupyter.widget-view+json": {
       "model_id": "3c0b51c285bc49ae998d4881d2057cea",
       "version_major": 2,
       "version_minor": 0
      },
      "text/plain": [
       "Output()"
      ]
     },
     "metadata": {},
     "output_type": "display_data"
    }
   ],
   "source": [
    "display(out7)"
   ]
  },
  {
   "cell_type": "code",
   "execution_count": 26,
   "metadata": {},
   "outputs": [
    {
     "data": {
      "application/vnd.jupyter.widget-view+json": {
       "model_id": "8c4d441a33b845fba1e7cfbca2f17632",
       "version_major": 2,
       "version_minor": 0
      },
      "text/plain": [
       "RadioButtons(description='Period', options=('month_no', 'quarter_no', 'half_no', 'financial_year', 'calendar_y…"
      ]
     },
     "metadata": {},
     "output_type": "display_data"
    },
    {
     "data": {
      "application/vnd.jupyter.widget-view+json": {
       "model_id": "13e227108fdb49d2bb4e0616bae386a9",
       "version_major": 2,
       "version_minor": 0
      },
      "text/plain": [
       "VBox(children=(HBox(children=(Button(description='HLF revenue margin', layout=Layout(height='40px', width='100…"
      ]
     },
     "metadata": {},
     "output_type": "display_data"
    }
   ],
   "source": [
    "hlf_radio = widgets.RadioButtons(options=['month_no','quarter_no','half_no','financial_year','calendar_year'],description='Period',disabled=False)\n",
    "display(hlf_radio)\n",
    "out8 = Output()\n",
    "\n",
    "buttom3 = ['HLF revenue margin','Monthly revenue', 'HLF avg fund size','Quarter Trading update revenue', 'clear outputs']\n",
    "items7 = {}\n",
    "for w7 in buttom3:\n",
    "    if w7 == 'clear outputs':\n",
    "        items7[w7] = widgets.Button(description=w7, layout=widgets.Layout(width='100%', height='40px'), button_style='warning', icon='check')\n",
    "    else:\n",
    "        items7[w7] = widgets.Button(description=w7, layout=widgets.Layout(width='100%', height='40px'))\n",
    "        items7[w7].style.button_color = 'lightgreen'\n",
    "\n",
    "top_m = widgets.HBox([list(items7.values())[0],list(items7.values())[1]],layout=box_layout3)\n",
    "bottom_m = widgets.HBox([list(items7.values())[2],list(items7.values())[3],list(items7.values())[4]],layout=box_layout3)\n",
    "\n",
    "items7['HLF revenue margin'].on_click(lambda x: display_with_out(stats.hlf_revenue_margin,out8,data_dic,input_dic,hlf_radio.value))\n",
    "items7['Monthly revenue'].on_click(lambda x: display_with_out(revenue.monthly_revenue,out8,data_dic, input_dic))\n",
    "items7['HLF avg fund size'].on_click(lambda x: display_with_out(stats.avg_hlf_size,out8,data_dic, input_dic,hlf_radio.value))\n",
    "items7['Quarter Trading update revenue'].on_click(lambda x: display_with_out(stats.quarter_revenue,out8,data_dic, input_dic))\n",
    "items7['clear outputs'].on_click(lambda x: display_with_out(clear_output,out8))\n",
    "\n",
    "\n",
    "widgets.VBox([top_m, bottom_m])"
   ]
  },
  {
   "cell_type": "code",
   "execution_count": 27,
   "metadata": {},
   "outputs": [
    {
     "data": {
      "application/vnd.jupyter.widget-view+json": {
       "model_id": "b7282b9e665e4df1a0fa7f1d5d881edd",
       "version_major": 2,
       "version_minor": 0
      },
      "text/plain": [
       "Output()"
      ]
     },
     "metadata": {},
     "output_type": "display_data"
    }
   ],
   "source": [
    "display(out8)"
   ]
  },
  {
   "cell_type": "code",
   "execution_count": 28,
   "metadata": {},
   "outputs": [
    {
     "data": {
      "application/vnd.jupyter.widget-view+json": {
       "model_id": "f71363efbc6d4b90a996743bbbe8382e",
       "version_major": 2,
       "version_minor": 0
      },
      "text/plain": [
       "SelectMultiple(description='Years for comparison', options=(2019, 2020, 2021, 2022, 2023, 2024, 2025, 2026, 20…"
      ]
     },
     "metadata": {},
     "output_type": "display_data"
    },
    {
     "data": {
      "application/vnd.jupyter.widget-view+json": {
       "model_id": "81c740ee96a4488bae80c10d28f4a456",
       "version_major": 2,
       "version_minor": 0
      },
      "text/plain": [
       "HBox(children=(Button(description='Total No. of clients', layout=Layout(height='40px', width='100%'), style=Bu…"
      ]
     },
     "metadata": {},
     "output_type": "display_data"
    }
   ],
   "source": [
    "display(a_slider)\n",
    "\n",
    "out9 = Output()\n",
    "\n",
    "client_options = ['Total No. of clients','Net new clients','fx effects on funds','clear outputs']\n",
    "items8 = {}\n",
    "for w8 in client_options:\n",
    "    if w8 == 'clear outputs':\n",
    "        items8[w8] = widgets.Button(description=w8, layout=widgets.Layout(width='100%', height='40px'), button_style='warning', icon='check')\n",
    "    else:\n",
    "        items8[w8] = widgets.Button(description=w8, layout=widgets.Layout(width='100%', height='40px'))\n",
    "        items8[w8].style.button_color = 'lightgreen'\n",
    "c_fair = widgets.HBox([list(items8.values())[0],list(items8.values())[1],list(items8.values())[2],list(items8.values())[3]],layout=box_layout3)\n",
    "items8['Total No. of clients'].on_click(lambda x: display_with_out(combined.total_client_predt,out9,data_dic, input_dic, slice=list(a_slider.value)))\n",
    "items8['Net new clients'].on_click(lambda x: display_with_out(combined.net_new_client_predt,out9,data_dic, input_dic, slice=list(a_slider.value)))\n",
    "items8['fx effects on funds'].on_click(lambda x: display_with_out(vantage_aua.fx_effects_on_funds,out9,data_dic))\n",
    "items8['clear outputs'].on_click(lambda x: display_with_out(clear_output,out9))\n",
    "\n",
    "display(c_fair)"
   ]
  },
  {
   "cell_type": "code",
   "execution_count": 29,
   "metadata": {},
   "outputs": [
    {
     "data": {
      "application/vnd.jupyter.widget-view+json": {
       "model_id": "9ac2b4cc7c20408d95521637b26d36e9",
       "version_major": 2,
       "version_minor": 0
      },
      "text/plain": [
       "Output()"
      ]
     },
     "metadata": {},
     "output_type": "display_data"
    }
   ],
   "source": [
    "display(out9)"
   ]
  },
  {
   "cell_type": "code",
   "execution_count": 30,
   "metadata": {},
   "outputs": [],
   "source": [
    "# %load_ext autoreload\n",
    "# %autoreload 2"
   ]
  },
  {
   "cell_type": "code",
   "execution_count": 31,
   "metadata": {},
   "outputs": [],
   "source": [
    "\n",
    "# # =============================== fair value sensitivity analysis ===========================================\n",
    "\n",
    "# disc_rate_list = [0.0825,0.085,0.0875,0.09,0.095,0.1]\n",
    "# pep_rate_list = [0.035,0.0375,0.04,0.0425,0.045]\n",
    "\n",
    "# df_1y = pandas.DataFrame(columns = disc_rate_list, index=pep_rate_list)\n",
    "# df_1y.columns.name = 'Cost of Equity'\n",
    "# df_1y.index.name = 'Long-term Growth Rate'\n",
    "\n",
    "# for i in pep_rate_list:\n",
    "#     for j in disc_rate_list:\n",
    "#         df_1y.loc[i,j] = discf.fair_value(data_dic, input_dic,now=False,fractional=True,dcf_p=9,disc_rate=j,pep_rate=i).loc['Fair value per share','HL']\n"
   ]
  },
  {
   "cell_type": "code",
   "execution_count": 32,
   "metadata": {},
   "outputs": [],
   "source": [
    "# df_1y\n",
    "a = combined.total_aua(data_dic, input_dic).groupby(['calendar_year', 'month_no']).sum()"
   ]
  },
  {
   "cell_type": "code",
   "execution_count": null,
   "metadata": {},
   "outputs": [],
   "source": []
  },
  {
   "cell_type": "code",
   "execution_count": null,
   "metadata": {},
   "outputs": [],
   "source": []
  },
  {
   "cell_type": "code",
   "execution_count": 33,
   "metadata": {},
   "outputs": [],
   "source": [
    "df = combined.total_aua(data_dic, input_dic)\n",
    "fy_end_aua = df.loc[idx[:,:,:,:,:,6], :]['total_assets_aua']\n",
    "fy_end_aua.index = fy_end_aua.index.droplevel(['month_end', 'half_no', 'quarter_no', 'calendar_year', 'month_no'])"
   ]
  },
  {
   "cell_type": "code",
   "execution_count": 34,
   "metadata": {},
   "outputs": [],
   "source": [
    "fy_nnb = combined.total_nnb_clientAlgo(data_dic, input_dic, opt='financial_year')\n",
    "nnb_as_percent_previous_aua = (fy_nnb['NNB']) / fy_end_aua.shift(1)"
   ]
  },
  {
   "cell_type": "code",
   "execution_count": 35,
   "metadata": {},
   "outputs": [
    {
     "data": {
      "text/plain": [
       "financial_year\n",
       "2019      nan\n",
       "2020   0.0712\n",
       "2021   0.0744\n",
       "2022   0.0663\n",
       "2023   0.0586\n",
       "2024   0.0547\n",
       "2025   0.0509\n",
       "2026   0.0471\n",
       "2027   0.0433\n",
       "2028   0.0397\n",
       "2029   0.0381\n",
       "2030   0.0366\n",
       "2031   0.0354\n",
       "2032   0.0343\n",
       "2033   0.0334\n",
       "2034   0.0325\n",
       "2035   0.0318\n",
       "dtype: float64"
      ]
     },
     "execution_count": 35,
     "metadata": {},
     "output_type": "execute_result"
    }
   ],
   "source": [
    "nnb_as_percent_previous_aua"
   ]
  },
  {
   "cell_type": "code",
   "execution_count": 36,
   "metadata": {},
   "outputs": [
    {
     "data": {
      "text/html": [
       "<div>\n",
       "<style scoped>\n",
       "    .dataframe tbody tr th:only-of-type {\n",
       "        vertical-align: middle;\n",
       "    }\n",
       "\n",
       "    .dataframe tbody tr th {\n",
       "        vertical-align: top;\n",
       "    }\n",
       "\n",
       "    .dataframe thead th {\n",
       "        text-align: right;\n",
       "    }\n",
       "</style>\n",
       "<table border=\"1\" class=\"dataframe\">\n",
       "  <thead>\n",
       "    <tr style=\"text-align: right;\">\n",
       "      <th></th>\n",
       "      <th>NNB</th>\n",
       "    </tr>\n",
       "    <tr>\n",
       "      <th>financial_year</th>\n",
       "      <th></th>\n",
       "    </tr>\n",
       "  </thead>\n",
       "  <tbody>\n",
       "    <tr>\n",
       "      <th>2019</th>\n",
       "      <td>728,750,000.0000</td>\n",
       "    </tr>\n",
       "    <tr>\n",
       "      <th>2020</th>\n",
       "      <td>7,062,970,529.4512</td>\n",
       "    </tr>\n",
       "    <tr>\n",
       "      <th>2021</th>\n",
       "      <td>8,268,039,568.0043</td>\n",
       "    </tr>\n",
       "    <tr>\n",
       "      <th>2022</th>\n",
       "      <td>8,448,716,991.7380</td>\n",
       "    </tr>\n",
       "    <tr>\n",
       "      <th>2023</th>\n",
       "      <td>8,567,331,271.7170</td>\n",
       "    </tr>\n",
       "    <tr>\n",
       "      <th>2024</th>\n",
       "      <td>9,152,093,238.4733</td>\n",
       "    </tr>\n",
       "    <tr>\n",
       "      <th>2025</th>\n",
       "      <td>9,636,049,000.9447</td>\n",
       "    </tr>\n",
       "    <tr>\n",
       "      <th>2026</th>\n",
       "      <td>10,000,530,816.4185</td>\n",
       "    </tr>\n",
       "    <tr>\n",
       "      <th>2027</th>\n",
       "      <td>10,235,828,473.4800</td>\n",
       "    </tr>\n",
       "    <tr>\n",
       "      <th>2028</th>\n",
       "      <td>10,346,943,882.3325</td>\n",
       "    </tr>\n",
       "    <tr>\n",
       "      <th>2029</th>\n",
       "      <td>10,879,108,585.2851</td>\n",
       "    </tr>\n",
       "    <tr>\n",
       "      <th>2030</th>\n",
       "      <td>11,437,269,537.5615</td>\n",
       "    </tr>\n",
       "    <tr>\n",
       "      <th>2031</th>\n",
       "      <td>12,022,923,245.7381</td>\n",
       "    </tr>\n",
       "    <tr>\n",
       "      <th>2032</th>\n",
       "      <td>12,637,841,386.8484</td>\n",
       "    </tr>\n",
       "    <tr>\n",
       "      <th>2033</th>\n",
       "      <td>13,283,935,363.2494</td>\n",
       "    </tr>\n",
       "    <tr>\n",
       "      <th>2034</th>\n",
       "      <td>13,963,359,120.3506</td>\n",
       "    </tr>\n",
       "    <tr>\n",
       "      <th>2035</th>\n",
       "      <td>14,678,481,320.7331</td>\n",
       "    </tr>\n",
       "  </tbody>\n",
       "</table>\n",
       "</div>"
      ],
      "text/plain": [
       "                               NNB\n",
       "financial_year                    \n",
       "2019              728,750,000.0000\n",
       "2020            7,062,970,529.4512\n",
       "2021            8,268,039,568.0043\n",
       "2022            8,448,716,991.7380\n",
       "2023            8,567,331,271.7170\n",
       "2024            9,152,093,238.4733\n",
       "2025            9,636,049,000.9447\n",
       "2026           10,000,530,816.4185\n",
       "2027           10,235,828,473.4800\n",
       "2028           10,346,943,882.3325\n",
       "2029           10,879,108,585.2851\n",
       "2030           11,437,269,537.5615\n",
       "2031           12,022,923,245.7381\n",
       "2032           12,637,841,386.8484\n",
       "2033           13,283,935,363.2494\n",
       "2034           13,963,359,120.3506\n",
       "2035           14,678,481,320.7331"
      ]
     },
     "execution_count": 36,
     "metadata": {},
     "output_type": "execute_result"
    }
   ],
   "source": [
    "fy_nnb"
   ]
  },
  {
   "cell_type": "code",
   "execution_count": 37,
   "metadata": {},
   "outputs": [
    {
     "data": {
      "text/plain": [
       "financial_year\n",
       "2019    99,200,000,000.0000\n",
       "2020   104,908,994,201.2411\n",
       "2021   119,702,375,258.0676\n",
       "2022   137,222,960,993.9700\n",
       "2023   157,180,147,135.2422\n",
       "2024   178,824,077,369.2195\n",
       "2025   201,426,278,226.9745\n",
       "2026   224,902,676,245.6918\n",
       "2027   249,156,198,678.5542\n",
       "2028   274,088,749,426.4863\n",
       "2029   299,847,878,539.5057\n",
       "2030   326,715,989,265.3043\n",
       "2031   354,753,677,485.2412\n",
       "2032   384,025,271,095.2256\n",
       "2033   414,598,987,764.1398\n",
       "2034   446,547,451,554.3233\n",
       "2035   479,947,914,450.4046\n",
       "Name: total_assets_aua, dtype: float64"
      ]
     },
     "execution_count": 37,
     "metadata": {},
     "output_type": "execute_result"
    }
   ],
   "source": [
    "df.groupby('financial_year').mean()['total_assets_aua']"
   ]
  },
  {
   "cell_type": "code",
   "execution_count": 38,
   "metadata": {},
   "outputs": [
    {
     "data": {
      "text/plain": [
       "financial_year\n",
       "2019    99,200,000,000.0000\n",
       "2020   111,198,285,500.3657\n",
       "2021   127,415,500,065.5483\n",
       "2022   146,096,348,582.7207\n",
       "2023   167,203,616,565.7046\n",
       "2024   189,301,663,700.9005\n",
       "2025   212,315,541,690.4113\n",
       "2026   236,153,324,972.7654\n",
       "2027   260,715,058,676.3369\n",
       "2028   285,907,403,120.6442\n",
       "2029   312,178,012,819.4208\n",
       "2030   339,585,715,415.1713\n",
       "2031   368,192,805,637.4804\n",
       "2032   398,065,436,666.3044\n",
       "2033   429,273,884,695.5153\n",
       "2034   461,892,922,764.2563\n",
       "2035   496,002,175,106.5226\n",
       "Name: total_assets_aua, dtype: float64"
      ]
     },
     "execution_count": 38,
     "metadata": {},
     "output_type": "execute_result"
    }
   ],
   "source": [
    "fy_end_aua"
   ]
  },
  {
   "cell_type": "code",
   "execution_count": 39,
   "metadata": {},
   "outputs": [],
   "source": [
    " a = general.fillna_monthly(input_dic['compound growth']).reindex(index=general.month_end_series).applymap(general.compound_growth_rate)"
   ]
  },
  {
   "cell_type": "code",
   "execution_count": 40,
   "metadata": {},
   "outputs": [],
   "source": [
    "a[a.index <= pandas.to_datetime(general.last_day_prev_month)] = 0"
   ]
  },
  {
   "cell_type": "code",
   "execution_count": 46,
   "metadata": {},
   "outputs": [],
   "source": [
    "avg_hlf_size = general.convert_fy_quarter_half_index(hl_fund_size_copy, hl_fund_size_copy.index).groupby(['financial_year', 'quarter_no']).mean()"
   ]
  },
  {
   "cell_type": "code",
   "execution_count": 47,
   "metadata": {},
   "outputs": [
    {
     "data": {
      "text/html": [
       "<div>\n",
       "<style scoped>\n",
       "    .dataframe tbody tr th:only-of-type {\n",
       "        vertical-align: middle;\n",
       "    }\n",
       "\n",
       "    .dataframe tbody tr th {\n",
       "        vertical-align: top;\n",
       "    }\n",
       "\n",
       "    .dataframe thead th {\n",
       "        text-align: right;\n",
       "    }\n",
       "</style>\n",
       "<table border=\"1\" class=\"dataframe\">\n",
       "  <thead>\n",
       "    <tr style=\"text-align: right;\">\n",
       "      <th></th>\n",
       "      <th></th>\n",
       "      <th>Asia and Emerging Markets</th>\n",
       "      <th>Balanced Managed</th>\n",
       "      <th>Equity and Bond</th>\n",
       "      <th>European</th>\n",
       "      <th>High Income</th>\n",
       "      <th>Income and Growth</th>\n",
       "      <th>Special Situations</th>\n",
       "      <th>Strategic Assets</th>\n",
       "      <th>Strategic Bond</th>\n",
       "      <th>UK Growth</th>\n",
       "      <th>Select UK Growth Shares</th>\n",
       "      <th>Select UK Income Shares</th>\n",
       "      <th>Select Global Growth Shares</th>\n",
       "      <th>Total</th>\n",
       "    </tr>\n",
       "    <tr>\n",
       "      <th>financial_year</th>\n",
       "      <th>quarter_no</th>\n",
       "      <th></th>\n",
       "      <th></th>\n",
       "      <th></th>\n",
       "      <th></th>\n",
       "      <th></th>\n",
       "      <th></th>\n",
       "      <th></th>\n",
       "      <th></th>\n",
       "      <th></th>\n",
       "      <th></th>\n",
       "      <th></th>\n",
       "      <th></th>\n",
       "      <th></th>\n",
       "      <th></th>\n",
       "    </tr>\n",
       "  </thead>\n",
       "  <tbody>\n",
       "    <tr>\n",
       "      <th rowspan=\"3\" valign=\"top\">2015</th>\n",
       "      <th>2</th>\n",
       "      <td>nan</td>\n",
       "      <td>nan</td>\n",
       "      <td>nan</td>\n",
       "      <td>nan</td>\n",
       "      <td>nan</td>\n",
       "      <td>nan</td>\n",
       "      <td>nan</td>\n",
       "      <td>nan</td>\n",
       "      <td>nan</td>\n",
       "      <td>nan</td>\n",
       "      <td>nan</td>\n",
       "      <td>nan</td>\n",
       "      <td>nan</td>\n",
       "      <td>0.0000</td>\n",
       "    </tr>\n",
       "    <tr>\n",
       "      <th>3</th>\n",
       "      <td>nan</td>\n",
       "      <td>nan</td>\n",
       "      <td>nan</td>\n",
       "      <td>nan</td>\n",
       "      <td>nan</td>\n",
       "      <td>nan</td>\n",
       "      <td>nan</td>\n",
       "      <td>nan</td>\n",
       "      <td>nan</td>\n",
       "      <td>nan</td>\n",
       "      <td>nan</td>\n",
       "      <td>nan</td>\n",
       "      <td>nan</td>\n",
       "      <td>0.0000</td>\n",
       "    </tr>\n",
       "    <tr>\n",
       "      <th>4</th>\n",
       "      <td>nan</td>\n",
       "      <td>nan</td>\n",
       "      <td>nan</td>\n",
       "      <td>nan</td>\n",
       "      <td>nan</td>\n",
       "      <td>nan</td>\n",
       "      <td>nan</td>\n",
       "      <td>nan</td>\n",
       "      <td>nan</td>\n",
       "      <td>nan</td>\n",
       "      <td>nan</td>\n",
       "      <td>nan</td>\n",
       "      <td>nan</td>\n",
       "      <td>0.0000</td>\n",
       "    </tr>\n",
       "    <tr>\n",
       "      <th rowspan=\"4\" valign=\"top\">2016</th>\n",
       "      <th>1</th>\n",
       "      <td>83,300,000.0000</td>\n",
       "      <td>766,100,000.0000</td>\n",
       "      <td>184,300,000.0000</td>\n",
       "      <td>117,300,000.0000</td>\n",
       "      <td>nan</td>\n",
       "      <td>2,558,800,000.0000</td>\n",
       "      <td>959,700,000.0000</td>\n",
       "      <td>nan</td>\n",
       "      <td>702,200,000.0000</td>\n",
       "      <td>191,500,000.0000</td>\n",
       "      <td>nan</td>\n",
       "      <td>nan</td>\n",
       "      <td>nan</td>\n",
       "      <td>84,290,909.0909</td>\n",
       "    </tr>\n",
       "    <tr>\n",
       "      <th>2</th>\n",
       "      <td>85,110,937.5000</td>\n",
       "      <td>773,805,781.2500</td>\n",
       "      <td>147,099,531.2500</td>\n",
       "      <td>119,346,875.0000</td>\n",
       "      <td>nan</td>\n",
       "      <td>1,129,431,093.7500</td>\n",
       "      <td>954,755,625.0000</td>\n",
       "      <td>nan</td>\n",
       "      <td>178,513,593.7500</td>\n",
       "      <td>196,589,687.5000</td>\n",
       "      <td>nan</td>\n",
       "      <td>nan</td>\n",
       "      <td>nan</td>\n",
       "      <td>3,584,653,125.0000</td>\n",
       "    </tr>\n",
       "    <tr>\n",
       "      <th>3</th>\n",
       "      <td>86,061,290.3226</td>\n",
       "      <td>763,185,967.7419</td>\n",
       "      <td>151,612,580.6452</td>\n",
       "      <td>114,519,354.8387</td>\n",
       "      <td>nan</td>\n",
       "      <td>1,270,425,806.4516</td>\n",
       "      <td>942,470,161.2903</td>\n",
       "      <td>113,800,000.0000</td>\n",
       "      <td>242,389,677.4194</td>\n",
       "      <td>187,379,193.5484</td>\n",
       "      <td>nan</td>\n",
       "      <td>nan</td>\n",
       "      <td>nan</td>\n",
       "      <td>3,759,879,516.1290</td>\n",
       "    </tr>\n",
       "    <tr>\n",
       "      <th>4</th>\n",
       "      <td>93,782,539.6825</td>\n",
       "      <td>838,612,539.6825</td>\n",
       "      <td>210,073,968.2540</td>\n",
       "      <td>115,436,507.9365</td>\n",
       "      <td>nan</td>\n",
       "      <td>2,684,753,968.2540</td>\n",
       "      <td>1,066,689,841.2698</td>\n",
       "      <td>117,347,619.0476</td>\n",
       "      <td>760,870,793.6508</td>\n",
       "      <td>186,721,904.7619</td>\n",
       "      <td>nan</td>\n",
       "      <td>nan</td>\n",
       "      <td>nan</td>\n",
       "      <td>6,074,289,682.5397</td>\n",
       "    </tr>\n",
       "    <tr>\n",
       "      <th rowspan=\"4\" valign=\"top\">2017</th>\n",
       "      <th>1</th>\n",
       "      <td>115,406,000.0000</td>\n",
       "      <td>906,617,384.6154</td>\n",
       "      <td>223,200,923.0769</td>\n",
       "      <td>121,798,307.6923</td>\n",
       "      <td>305,100,000.0000</td>\n",
       "      <td>2,817,380,000.0000</td>\n",
       "      <td>1,175,119,230.7692</td>\n",
       "      <td>126,260,307.6923</td>\n",
       "      <td>806,555,538.4615</td>\n",
       "      <td>186,940,923.0769</td>\n",
       "      <td>nan</td>\n",
       "      <td>nan</td>\n",
       "      <td>nan</td>\n",
       "      <td>6,483,972,461.5385</td>\n",
       "    </tr>\n",
       "    <tr>\n",
       "      <th>2</th>\n",
       "      <td>147,571,111.1111</td>\n",
       "      <td>952,407,301.5873</td>\n",
       "      <td>233,151,111.1111</td>\n",
       "      <td>125,724,920.6349</td>\n",
       "      <td>345,853,015.8730</td>\n",
       "      <td>2,878,879,841.2698</td>\n",
       "      <td>1,262,899,365.0794</td>\n",
       "      <td>130,775,714.2857</td>\n",
       "      <td>805,426,825.3968</td>\n",
       "      <td>191,526,825.3968</td>\n",
       "      <td>nan</td>\n",
       "      <td>nan</td>\n",
       "      <td>nan</td>\n",
       "      <td>7,074,216,031.7460</td>\n",
       "    </tr>\n",
       "    <tr>\n",
       "      <th>3</th>\n",
       "      <td>183,730,000.0000</td>\n",
       "      <td>1,024,883,437.5000</td>\n",
       "      <td>247,405,468.7500</td>\n",
       "      <td>139,229,531.2500</td>\n",
       "      <td>443,491,562.5000</td>\n",
       "      <td>3,003,073,125.0000</td>\n",
       "      <td>1,380,772,187.5000</td>\n",
       "      <td>137,548,906.2500</td>\n",
       "      <td>804,122,031.2500</td>\n",
       "      <td>203,259,531.2500</td>\n",
       "      <td>nan</td>\n",
       "      <td>nan</td>\n",
       "      <td>nan</td>\n",
       "      <td>7,567,515,781.2500</td>\n",
       "    </tr>\n",
       "    <tr>\n",
       "      <th>4</th>\n",
       "      <td>201,032,295.0820</td>\n",
       "      <td>1,101,065,573.7705</td>\n",
       "      <td>267,837,704.9180</td>\n",
       "      <td>156,153,114.7541</td>\n",
       "      <td>473,087,868.8525</td>\n",
       "      <td>3,157,597,540.9836</td>\n",
       "      <td>1,524,229,836.0656</td>\n",
       "      <td>141,294,918.0328</td>\n",
       "      <td>848,372,622.9508</td>\n",
       "      <td>216,079,180.3279</td>\n",
       "      <td>256,360,000.0000</td>\n",
       "      <td>266,720,000.0000</td>\n",
       "      <td>nan</td>\n",
       "      <td>8,095,325,737.7049</td>\n",
       "    </tr>\n",
       "    <tr>\n",
       "      <th rowspan=\"4\" valign=\"top\">2018</th>\n",
       "      <th>1</th>\n",
       "      <td>214,019,032.2581</td>\n",
       "      <td>1,135,311,774.1935</td>\n",
       "      <td>278,451,129.0323</td>\n",
       "      <td>168,622,096.7742</td>\n",
       "      <td>494,489,193.5484</td>\n",
       "      <td>3,161,832,258.0645</td>\n",
       "      <td>1,600,907,580.6452</td>\n",
       "      <td>156,163,548.3871</td>\n",
       "      <td>878,141,774.1935</td>\n",
       "      <td>219,008,225.8065</td>\n",
       "      <td>257,512,580.6452</td>\n",
       "      <td>256,054,677.4194</td>\n",
       "      <td>nan</td>\n",
       "      <td>8,413,413,230.7692</td>\n",
       "    </tr>\n",
       "    <tr>\n",
       "      <th>2</th>\n",
       "      <td>225,604,426.2295</td>\n",
       "      <td>1,164,791,147.5410</td>\n",
       "      <td>287,697,704.9180</td>\n",
       "      <td>183,207,868.8525</td>\n",
       "      <td>518,490,983.6066</td>\n",
       "      <td>3,181,483,770.4918</td>\n",
       "      <td>1,685,334,590.1639</td>\n",
       "      <td>180,538,032.7869</td>\n",
       "      <td>900,406,885.2459</td>\n",
       "      <td>224,164,426.2295</td>\n",
       "      <td>263,896,393.4426</td>\n",
       "      <td>237,801,311.4754</td>\n",
       "      <td>nan</td>\n",
       "      <td>8,496,284,153.8462</td>\n",
       "    </tr>\n",
       "    <tr>\n",
       "      <th>3</th>\n",
       "      <td>232,607,142.8571</td>\n",
       "      <td>1,182,838,888.8889</td>\n",
       "      <td>291,425,396.8254</td>\n",
       "      <td>188,024,603.1746</td>\n",
       "      <td>523,914,761.9048</td>\n",
       "      <td>3,132,682,539.6825</td>\n",
       "      <td>1,719,660,000.0000</td>\n",
       "      <td>179,880,158.7302</td>\n",
       "      <td>926,806,507.9365</td>\n",
       "      <td>221,988,571.4286</td>\n",
       "      <td>257,049,047.6190</td>\n",
       "      <td>212,316,984.1270</td>\n",
       "      <td>nan</td>\n",
       "      <td>8,790,142,461.5385</td>\n",
       "    </tr>\n",
       "    <tr>\n",
       "      <th>4</th>\n",
       "      <td>228,776,190.4762</td>\n",
       "      <td>1,218,207,142.8571</td>\n",
       "      <td>302,217,777.7778</td>\n",
       "      <td>190,387,142.8571</td>\n",
       "      <td>553,957,301.5873</td>\n",
       "      <td>3,239,669,047.6190</td>\n",
       "      <td>1,798,688,253.9683</td>\n",
       "      <td>189,646,507.9365</td>\n",
       "      <td>977,177,301.5873</td>\n",
       "      <td>229,088,730.1587</td>\n",
       "      <td>271,959,523.8095</td>\n",
       "      <td>210,928,253.9683</td>\n",
       "      <td>nan</td>\n",
       "      <td>9,121,143,076.9231</td>\n",
       "    </tr>\n",
       "    <tr>\n",
       "      <th rowspan=\"4\" valign=\"top\">2019</th>\n",
       "      <th>1</th>\n",
       "      <td>224,584,444.4444</td>\n",
       "      <td>1,245,686,031.7460</td>\n",
       "      <td>309,032,857.1429</td>\n",
       "      <td>195,677,777.7778</td>\n",
       "      <td>569,861,269.8413</td>\n",
       "      <td>3,229,173,492.0635</td>\n",
       "      <td>1,867,109,206.3492</td>\n",
       "      <td>201,961,111.1111</td>\n",
       "      <td>1,028,538,412.6984</td>\n",
       "      <td>231,271,904.7619</td>\n",
       "      <td>290,914,444.4444</td>\n",
       "      <td>199,894,126.9841</td>\n",
       "      <td>nan</td>\n",
       "      <td>9,298,514,153.8462</td>\n",
       "    </tr>\n",
       "    <tr>\n",
       "      <th>2</th>\n",
       "      <td>209,414,833.3333</td>\n",
       "      <td>1,192,264,166.6667</td>\n",
       "      <td>297,430,000.0000</td>\n",
       "      <td>175,744,166.6667</td>\n",
       "      <td>548,392,833.3333</td>\n",
       "      <td>2,973,865,000.0000</td>\n",
       "      <td>1,765,292,166.6667</td>\n",
       "      <td>196,075,333.3333</td>\n",
       "      <td>1,027,058,500.0000</td>\n",
       "      <td>208,951,666.6667</td>\n",
       "      <td>265,563,000.0000</td>\n",
       "      <td>177,607,333.3333</td>\n",
       "      <td>nan</td>\n",
       "      <td>8,216,053,636.3636</td>\n",
       "    </tr>\n",
       "    <tr>\n",
       "      <th>3</th>\n",
       "      <td>215,065,806.4516</td>\n",
       "      <td>1,176,130,967.7419</td>\n",
       "      <td>297,741,774.1935</td>\n",
       "      <td>169,373,225.8065</td>\n",
       "      <td>551,410,000.0000</td>\n",
       "      <td>2,943,967,096.7742</td>\n",
       "      <td>1,746,474,838.7097</td>\n",
       "      <td>195,626,129.0323</td>\n",
       "      <td>1,028,335,645.1613</td>\n",
       "      <td>203,448,548.3871</td>\n",
       "      <td>268,569,032.2581</td>\n",
       "      <td>181,038,870.9677</td>\n",
       "      <td>nan</td>\n",
       "      <td>8,834,686,984.1270</td>\n",
       "    </tr>\n",
       "    <tr>\n",
       "      <th>4</th>\n",
       "      <td>220,416,333.3333</td>\n",
       "      <td>1,211,331,333.3333</td>\n",
       "      <td>305,005,166.6667</td>\n",
       "      <td>175,925,500.0000</td>\n",
       "      <td>565,487,166.6667</td>\n",
       "      <td>2,955,033,666.6667</td>\n",
       "      <td>1,819,378,000.0000</td>\n",
       "      <td>196,553,000.0000</td>\n",
       "      <td>1,051,237,166.6667</td>\n",
       "      <td>207,859,000.0000</td>\n",
       "      <td>293,111,166.6667</td>\n",
       "      <td>187,344,500.0000</td>\n",
       "      <td>321,286,756.7568</td>\n",
       "      <td>9,386,808,833.3333</td>\n",
       "    </tr>\n",
       "    <tr>\n",
       "      <th>2020</th>\n",
       "      <th>1</th>\n",
       "      <td>223,881,702.1277</td>\n",
       "      <td>1,207,322,765.9574</td>\n",
       "      <td>294,033,829.7872</td>\n",
       "      <td>180,814,255.3191</td>\n",
       "      <td>554,642,978.7234</td>\n",
       "      <td>2,755,143,404.2553</td>\n",
       "      <td>1,809,450,212.7660</td>\n",
       "      <td>193,241,702.1277</td>\n",
       "      <td>1,060,989,361.7021</td>\n",
       "      <td>194,306,170.2128</td>\n",
       "      <td>296,099,361.7021</td>\n",
       "      <td>178,520,851.0638</td>\n",
       "      <td>363,873,404.2553</td>\n",
       "      <td>9,312,320,000.0000</td>\n",
       "    </tr>\n",
       "  </tbody>\n",
       "</table>\n",
       "</div>"
      ],
      "text/plain": [
       "                           Asia and Emerging Markets   Balanced Managed  \\\n",
       "financial_year quarter_no                                                 \n",
       "2015           2                                 nan                nan   \n",
       "               3                                 nan                nan   \n",
       "               4                                 nan                nan   \n",
       "2016           1                     83,300,000.0000   766,100,000.0000   \n",
       "               2                     85,110,937.5000   773,805,781.2500   \n",
       "               3                     86,061,290.3226   763,185,967.7419   \n",
       "               4                     93,782,539.6825   838,612,539.6825   \n",
       "2017           1                    115,406,000.0000   906,617,384.6154   \n",
       "               2                    147,571,111.1111   952,407,301.5873   \n",
       "               3                    183,730,000.0000 1,024,883,437.5000   \n",
       "               4                    201,032,295.0820 1,101,065,573.7705   \n",
       "2018           1                    214,019,032.2581 1,135,311,774.1935   \n",
       "               2                    225,604,426.2295 1,164,791,147.5410   \n",
       "               3                    232,607,142.8571 1,182,838,888.8889   \n",
       "               4                    228,776,190.4762 1,218,207,142.8571   \n",
       "2019           1                    224,584,444.4444 1,245,686,031.7460   \n",
       "               2                    209,414,833.3333 1,192,264,166.6667   \n",
       "               3                    215,065,806.4516 1,176,130,967.7419   \n",
       "               4                    220,416,333.3333 1,211,331,333.3333   \n",
       "2020           1                    223,881,702.1277 1,207,322,765.9574   \n",
       "\n",
       "                           Equity and Bond         European      High Income  \\\n",
       "financial_year quarter_no                                                      \n",
       "2015           2                       nan              nan              nan   \n",
       "               3                       nan              nan              nan   \n",
       "               4                       nan              nan              nan   \n",
       "2016           1          184,300,000.0000 117,300,000.0000              nan   \n",
       "               2          147,099,531.2500 119,346,875.0000              nan   \n",
       "               3          151,612,580.6452 114,519,354.8387              nan   \n",
       "               4          210,073,968.2540 115,436,507.9365              nan   \n",
       "2017           1          223,200,923.0769 121,798,307.6923 305,100,000.0000   \n",
       "               2          233,151,111.1111 125,724,920.6349 345,853,015.8730   \n",
       "               3          247,405,468.7500 139,229,531.2500 443,491,562.5000   \n",
       "               4          267,837,704.9180 156,153,114.7541 473,087,868.8525   \n",
       "2018           1          278,451,129.0323 168,622,096.7742 494,489,193.5484   \n",
       "               2          287,697,704.9180 183,207,868.8525 518,490,983.6066   \n",
       "               3          291,425,396.8254 188,024,603.1746 523,914,761.9048   \n",
       "               4          302,217,777.7778 190,387,142.8571 553,957,301.5873   \n",
       "2019           1          309,032,857.1429 195,677,777.7778 569,861,269.8413   \n",
       "               2          297,430,000.0000 175,744,166.6667 548,392,833.3333   \n",
       "               3          297,741,774.1935 169,373,225.8065 551,410,000.0000   \n",
       "               4          305,005,166.6667 175,925,500.0000 565,487,166.6667   \n",
       "2020           1          294,033,829.7872 180,814,255.3191 554,642,978.7234   \n",
       "\n",
       "                           Income and Growth  Special Situations  \\\n",
       "financial_year quarter_no                                          \n",
       "2015           2                         nan                 nan   \n",
       "               3                         nan                 nan   \n",
       "               4                         nan                 nan   \n",
       "2016           1          2,558,800,000.0000    959,700,000.0000   \n",
       "               2          1,129,431,093.7500    954,755,625.0000   \n",
       "               3          1,270,425,806.4516    942,470,161.2903   \n",
       "               4          2,684,753,968.2540  1,066,689,841.2698   \n",
       "2017           1          2,817,380,000.0000  1,175,119,230.7692   \n",
       "               2          2,878,879,841.2698  1,262,899,365.0794   \n",
       "               3          3,003,073,125.0000  1,380,772,187.5000   \n",
       "               4          3,157,597,540.9836  1,524,229,836.0656   \n",
       "2018           1          3,161,832,258.0645  1,600,907,580.6452   \n",
       "               2          3,181,483,770.4918  1,685,334,590.1639   \n",
       "               3          3,132,682,539.6825  1,719,660,000.0000   \n",
       "               4          3,239,669,047.6190  1,798,688,253.9683   \n",
       "2019           1          3,229,173,492.0635  1,867,109,206.3492   \n",
       "               2          2,973,865,000.0000  1,765,292,166.6667   \n",
       "               3          2,943,967,096.7742  1,746,474,838.7097   \n",
       "               4          2,955,033,666.6667  1,819,378,000.0000   \n",
       "2020           1          2,755,143,404.2553  1,809,450,212.7660   \n",
       "\n",
       "                           Strategic Assets     Strategic Bond  \\\n",
       "financial_year quarter_no                                        \n",
       "2015           2                        nan                nan   \n",
       "               3                        nan                nan   \n",
       "               4                        nan                nan   \n",
       "2016           1                        nan   702,200,000.0000   \n",
       "               2                        nan   178,513,593.7500   \n",
       "               3           113,800,000.0000   242,389,677.4194   \n",
       "               4           117,347,619.0476   760,870,793.6508   \n",
       "2017           1           126,260,307.6923   806,555,538.4615   \n",
       "               2           130,775,714.2857   805,426,825.3968   \n",
       "               3           137,548,906.2500   804,122,031.2500   \n",
       "               4           141,294,918.0328   848,372,622.9508   \n",
       "2018           1           156,163,548.3871   878,141,774.1935   \n",
       "               2           180,538,032.7869   900,406,885.2459   \n",
       "               3           179,880,158.7302   926,806,507.9365   \n",
       "               4           189,646,507.9365   977,177,301.5873   \n",
       "2019           1           201,961,111.1111 1,028,538,412.6984   \n",
       "               2           196,075,333.3333 1,027,058,500.0000   \n",
       "               3           195,626,129.0323 1,028,335,645.1613   \n",
       "               4           196,553,000.0000 1,051,237,166.6667   \n",
       "2020           1           193,241,702.1277 1,060,989,361.7021   \n",
       "\n",
       "                                 UK Growth  Select UK Growth Shares  \\\n",
       "financial_year quarter_no                                             \n",
       "2015           2                       nan                      nan   \n",
       "               3                       nan                      nan   \n",
       "               4                       nan                      nan   \n",
       "2016           1          191,500,000.0000                      nan   \n",
       "               2          196,589,687.5000                      nan   \n",
       "               3          187,379,193.5484                      nan   \n",
       "               4          186,721,904.7619                      nan   \n",
       "2017           1          186,940,923.0769                      nan   \n",
       "               2          191,526,825.3968                      nan   \n",
       "               3          203,259,531.2500                      nan   \n",
       "               4          216,079,180.3279         256,360,000.0000   \n",
       "2018           1          219,008,225.8065         257,512,580.6452   \n",
       "               2          224,164,426.2295         263,896,393.4426   \n",
       "               3          221,988,571.4286         257,049,047.6190   \n",
       "               4          229,088,730.1587         271,959,523.8095   \n",
       "2019           1          231,271,904.7619         290,914,444.4444   \n",
       "               2          208,951,666.6667         265,563,000.0000   \n",
       "               3          203,448,548.3871         268,569,032.2581   \n",
       "               4          207,859,000.0000         293,111,166.6667   \n",
       "2020           1          194,306,170.2128         296,099,361.7021   \n",
       "\n",
       "                           Select UK Income Shares  \\\n",
       "financial_year quarter_no                            \n",
       "2015           2                               nan   \n",
       "               3                               nan   \n",
       "               4                               nan   \n",
       "2016           1                               nan   \n",
       "               2                               nan   \n",
       "               3                               nan   \n",
       "               4                               nan   \n",
       "2017           1                               nan   \n",
       "               2                               nan   \n",
       "               3                               nan   \n",
       "               4                  266,720,000.0000   \n",
       "2018           1                  256,054,677.4194   \n",
       "               2                  237,801,311.4754   \n",
       "               3                  212,316,984.1270   \n",
       "               4                  210,928,253.9683   \n",
       "2019           1                  199,894,126.9841   \n",
       "               2                  177,607,333.3333   \n",
       "               3                  181,038,870.9677   \n",
       "               4                  187,344,500.0000   \n",
       "2020           1                  178,520,851.0638   \n",
       "\n",
       "                           Select Global Growth Shares              Total  \n",
       "financial_year quarter_no                                                  \n",
       "2015           2                                   nan             0.0000  \n",
       "               3                                   nan             0.0000  \n",
       "               4                                   nan             0.0000  \n",
       "2016           1                                   nan    84,290,909.0909  \n",
       "               2                                   nan 3,584,653,125.0000  \n",
       "               3                                   nan 3,759,879,516.1290  \n",
       "               4                                   nan 6,074,289,682.5397  \n",
       "2017           1                                   nan 6,483,972,461.5385  \n",
       "               2                                   nan 7,074,216,031.7460  \n",
       "               3                                   nan 7,567,515,781.2500  \n",
       "               4                                   nan 8,095,325,737.7049  \n",
       "2018           1                                   nan 8,413,413,230.7692  \n",
       "               2                                   nan 8,496,284,153.8462  \n",
       "               3                                   nan 8,790,142,461.5385  \n",
       "               4                                   nan 9,121,143,076.9231  \n",
       "2019           1                                   nan 9,298,514,153.8462  \n",
       "               2                                   nan 8,216,053,636.3636  \n",
       "               3                                   nan 8,834,686,984.1270  \n",
       "               4                      321,286,756.7568 9,386,808,833.3333  \n",
       "2020           1                      363,873,404.2553 9,312,320,000.0000  "
      ]
     },
     "execution_count": 47,
     "metadata": {},
     "output_type": "execute_result"
    }
   ],
   "source": [
    "avg_hlf_size"
   ]
  },
  {
   "cell_type": "code",
   "execution_count": null,
   "metadata": {},
   "outputs": [],
   "source": []
  }
 ],
 "metadata": {
  "kernelspec": {
   "display_name": "Python 3",
   "language": "python",
   "name": "python3"
  },
  "language_info": {
   "codemirror_mode": {
    "name": "ipython",
    "version": 3
   },
   "file_extension": ".py",
   "mimetype": "text/x-python",
   "name": "python",
   "nbconvert_exporter": "python",
   "pygments_lexer": "ipython3",
   "version": "3.6.4"
  }
 },
 "nbformat": 4,
 "nbformat_minor": 2
}
