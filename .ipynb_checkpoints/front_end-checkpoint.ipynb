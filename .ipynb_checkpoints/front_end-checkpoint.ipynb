{
 "cells": [
  {
   "cell_type": "code",
   "execution_count": 1,
   "metadata": {},
   "outputs": [],
   "source": [
    "from IPython.display import HTML\n",
    "HTML('''<script>\n",
    "code_show=true; \n",
    "function code_toggle() {\n",
    " if (code_show){\n",
    " $('div.input').hide();\n",
    " } else {\n",
    " $('div.input').show();\n",
    " }\n",
    " code_show = !code_show\n",
    "} \n",
    "$( document ).ready(code_toggle);\n",
    "</script>\n",
    "The raw code for this IPython notebook is by default hidden for easier reading.\n",
    "To toggle on/off the raw code, click <a href=\"javascript:code_toggle()\">here</a>.''')"
   ]
  },
  {
   "cell_type": "code",
   "execution_count": 2,
   "metadata": {},
   "outputs": [],
   "source": [
    "import pandas\n",
    "import numpy\n",
    "from matplotlib import pyplot as plt\n",
    "import seaborn\n",
    "%matplotlib notebook\n",
    "import datetime\n",
    "import general\n",
    "import discretionary_aua\n",
    "import vantage_aua\n",
    "import data_accessing\n",
    "import combined\n",
    "import revenue\n",
    "import costs\n",
    "import consolidated\n",
    "import discf\n",
    "from ipywidgets import widgets\n",
    "from IPython.display import display\n",
    "import stats\n",
    "from IPython.display import clear_output\n",
    "pandas.set_option('display.float_format', '{:20,.6f}'.format)   #suppressing scientific notation\n",
    "idx = pandas.IndexSlice"
   ]
  },
  {
   "cell_type": "code",
   "execution_count": 3,
   "metadata": {
    "scrolled": true
   },
   "outputs": [
    {
     "name": "stdout",
     "output_type": "stream",
     "text": [
      "Pulling data...\n",
      "Data pulled successfully.\n"
     ]
    }
   ],
   "source": [
    "print('Pulling data...')\n",
    "fund_dic = data_accessing.read_data(data_accessing.fund_data_name,data_accessing.fund_data_types)\n",
    "nnb_dic = data_accessing.read_data(data_accessing.nnb_data_name,data_accessing.nnb_data_sheet)\n",
    "discretionary_aua.append_share_class_units(fund_dic) # appending share class units\n",
    "index_hl_dic = data_accessing.read_data(data_accessing.index_hl_data_name, data_accessing.index_hl_data_sheet)\n",
    "data_dic = {**fund_dic, **index_hl_dic, **nnb_dic}\n",
    "\n",
    "input_dic = data_accessing.read_data(data_accessing.assumptions_name, data_accessing.assumptions_sheet)\n",
    "\n",
    "print('Data pulled successfully.')"
   ]
  },
  {
   "cell_type": "code",
   "execution_count": 4,
   "metadata": {},
   "outputs": [
    {
     "data": {
      "application/vnd.jupyter.widget-view+json": {
       "model_id": "680c08eea3d74d539a826cf31da6bf07",
       "version_major": 2,
       "version_minor": 0
      },
      "text/plain": [
       "Button(description='Update assumptions', layout=Layout(height='40px', width='20%'), style=ButtonStyle(button_c…"
      ]
     },
     "metadata": {},
     "output_type": "display_data"
    }
   ],
   "source": [
    "assumption_button = widgets.Button(description='Update assumptions',layout=widgets.Layout(width='20%',height='40px'))\n",
    "assumption_button.style.button_color = 'lightgreen'\n",
    "def update_assumption(b):\n",
    "    global input_dic\n",
    "    input_dic = data_accessing.read_data(data_accessing.assumptions_name, data_accessing.assumptions_sheet)\n",
    "    print ('Assumptions updated successfully...')\n",
    "\n",
    "assumption_button.on_click(update_assumption)\n",
    "display(assumption_button)"
   ]
  },
  {
   "cell_type": "code",
   "execution_count": 5,
   "metadata": {},
   "outputs": [
    {
     "data": {
      "application/vnd.jupyter.widget-view+json": {
       "model_id": "aade776307a64a2590cd83afab919299",
       "version_major": 2,
       "version_minor": 0
      },
      "text/plain": [
       "HBox(children=(VBox(children=(Button(description='Semi-annual revenue', layout=Layout(height='40px', width='10…"
      ]
     },
     "metadata": {},
     "output_type": "display_data"
    }
   ],
   "source": [
    "revenue_types = ['Semi-annual revenue','Annual revenue - FY','Annual revenue - CY','Consolidated semi-annual revenue','Consolidated annual revenue - FY','Consolidated annual revenue - CY']\n",
    "box_layout = widgets.Layout(display='flex', flex_flow='column', align_items='stretch',border='solid',width='30%')\n",
    "items = {}\n",
    "for w in revenue_types:\n",
    "    items[w] = widgets.Button(description=w,layout=widgets.Layout(width='100%', height='40px'))\n",
    "    items[w].style.button_color = 'lightgreen'\n",
    "left_box = widgets.VBox([list(items.values())[0],list(items.values())[1],list(items.values())[2]],layout=box_layout)\n",
    "right_box = widgets.VBox([list(items.values())[3],list(items.values())[4],list(items.values())[5]],layout=box_layout)\n",
    "items['Semi-annual revenue'].on_click(lambda x: display(revenue.semi_revenue(data_dic,input_dic)))\n",
    "items['Annual revenue - FY'].on_click(lambda x: display(revenue.annual_revenue(data_dic,input_dic)))\n",
    "items['Annual revenue - CY'].on_click(lambda x: display(revenue.annual_revenue(data_dic,input_dic,cal_year=True)))\n",
    "items['Consolidated semi-annual revenue'].on_click(lambda x: display(consolidated.revenue_analysis(data_dic,input_dic)))\n",
    "items['Consolidated annual revenue - FY'].on_click(lambda x: display(consolidated.annual_revenue_analysis(data_dic,input_dic)))\n",
    "items['Consolidated annual revenue - CY'].on_click(lambda x: display(consolidated.annual_revenue_analysis(data_dic,input_dic,cal_year=True)))\n",
    "widgets.HBox([left_box,right_box])\n",
    "\n"
   ]
  },
  {
   "cell_type": "code",
   "execution_count": 6,
   "metadata": {},
   "outputs": [
    {
     "data": {
      "application/vnd.jupyter.widget-view+json": {
       "model_id": "ac002bbdda3e47e8af78cc00ddfe82af",
       "version_major": 2,
       "version_minor": 0
      },
      "text/plain": [
       "HBox(children=(VBox(children=(Button(description='Semi-annual costs', layout=Layout(height='40px', width='100%…"
      ]
     },
     "metadata": {},
     "output_type": "display_data"
    }
   ],
   "source": [
    "costs_types = ['Semi-annual costs','Annual costs - FY','Annual costs - CY','Consolidated semi-annual costs','Consolidated annual costs - FY','Consolidated annual costs - CY']\n",
    "items2 = {}\n",
    "for w2 in costs_types:\n",
    "    items2[w2] = widgets.Button(description=w2,layout=widgets.Layout(width='100%', height='40px'))\n",
    "    items2[w2].style.button_color = 'lightgreen'\n",
    "left_box2 = widgets.VBox([list(items2.values())[0],list(items2.values())[1],list(items2.values())[2]],layout=box_layout)\n",
    "right_box2 = widgets.VBox([list(items2.values())[3],list(items2.values())[4],list(items2.values())[5]],layout=box_layout)\n",
    "items2['Semi-annual costs'].on_click(lambda x: display(costs.semi_costs(input_dic)))\n",
    "items2['Annual costs - FY'].on_click(lambda x: display(costs.annual_costs(input_dic)))\n",
    "items2['Annual costs - CY'].on_click(lambda x: display(costs.annual_costs(input_dic,cal_year=True)))\n",
    "items2['Consolidated semi-annual costs'].on_click(lambda x: display(consolidated.costs_analysis(input_dic)))\n",
    "items2['Consolidated annual costs - FY'].on_click(lambda x: display(consolidated.annual_costs_analysis(input_dic)))\n",
    "items2['Consolidated annual costs - CY'].on_click(lambda x: display(consolidated.annual_costs_analysis(input_dic,cal_year=True)))\n",
    "widgets.HBox([left_box2,right_box2])"
   ]
  },
  {
   "cell_type": "code",
   "execution_count": 7,
   "metadata": {},
   "outputs": [
    {
     "data": {
      "application/vnd.jupyter.widget-view+json": {
       "model_id": "b87ef8bc17e54fa08d999d96a704ee65",
       "version_major": 2,
       "version_minor": 0
      },
      "text/plain": [
       "SelectMultiple(description='Years for comparison', options=(2018, 2019, 2020, 2021, 2022, 2023, 2024, 2025, 20…"
      ]
     },
     "metadata": {},
     "output_type": "display_data"
    },
    {
     "data": {
      "application/vnd.jupyter.widget-view+json": {
       "model_id": "c1d79597a52d494398bc5225cc784f67",
       "version_major": 2,
       "version_minor": 0
      },
      "text/plain": [
       "Box(children=(Button(description='NNB comparison', layout=Layout(height='40px', width='100%'), style=ButtonSty…"
      ]
     },
     "metadata": {},
     "output_type": "display_data"
    }
   ],
   "source": [
    "ops = [i for i in list(range(general.recent_end_year, general.recent_end_year+10))]\n",
    "a_slider = widgets.SelectMultiple(options=ops, description='Years for comparison')\n",
    "display(a_slider)\n",
    "\n",
    "compare1 = ['NNB comparison','AUA comparison']\n",
    "box_layout2 = widgets.Layout(display='flex', flex_flow='row', align_items='stretch',border='solid',width='30%')\n",
    "items3 = {}\n",
    "for w3 in compare1:\n",
    "    items3[w3] = widgets.Button(description=w3,layout=widgets.Layout(width='100%', height='40px'))\n",
    "    items3[w3].style.button_color = 'lightgreen'\n",
    "box3 = widgets.Box([list(items3.values())[0],list(items3.values())[1]],layout=box_layout2)\n",
    "items3['NNB comparison'].on_click(lambda x: display(consolidated.get_nnb_compare(data_dic, input_dic,list(a_slider.value))))\n",
    "items3['AUA comparison'].on_click(lambda x: display(consolidated.get_aua_compare(data_dic, input_dic,list(a_slider.value))))\n",
    "\n",
    "\n",
    "display(box3)"
   ]
  },
  {
   "cell_type": "code",
   "execution_count": 8,
   "metadata": {},
   "outputs": [
    {
     "data": {
      "application/vnd.jupyter.widget-view+json": {
       "model_id": "e9ed5b78d3924e509b527ee7d5331fa8",
       "version_major": 2,
       "version_minor": 0
      },
      "text/plain": [
       "VBox(children=(HBox(children=(Button(description='Interim revenue comparison', layout=Layout(height='40px', wi…"
      ]
     },
     "metadata": {},
     "output_type": "display_data"
    }
   ],
   "source": [
    "compare2 = ['Interim revenue comparison','Annual revenue comparison', 'Interim costs comparison', 'Annual costs comparison']\n",
    "box_layout3 = widgets.Layout(display='flex', flex_flow='row', align_items='stretch',border='solid',width='50%')\n",
    "items4 = {}\n",
    "for w4 in compare2:\n",
    "    items4[w4] = widgets.Button(description=w4,layout=widgets.Layout(width='100%', height='40px'))\n",
    "    items4[w4].style.button_color = 'lightgreen'\n",
    "top_box4 = widgets.HBox([list(items4.values())[0],list(items4.values())[1]],layout=box_layout3)\n",
    "bottom_box4 = widgets.HBox([list(items4.values())[2],list(items4.values())[3]],layout=box_layout3)\n",
    "items4['Interim revenue comparison'].on_click(lambda x: display(consolidated.get_revenue_compare(data_dic, input_dic,True,list(a_slider.value))))\n",
    "items4['Annual revenue comparison'].on_click(lambda x: display(consolidated.get_revenue_compare(data_dic, input_dic,False,list(a_slider.value))))\n",
    "items4['Interim costs comparison'].on_click(lambda x: display(consolidated.get_costs_compare(input_dic,True,list(a_slider.value))))\n",
    "items4['Annual costs comparison'].on_click(lambda x: display(consolidated.get_costs_compare(input_dic,False,list(a_slider.value))))\n",
    "\n",
    "widgets.VBox([top_box4, bottom_box4])"
   ]
  },
  {
   "cell_type": "code",
   "execution_count": 9,
   "metadata": {},
   "outputs": [
    {
     "data": {
      "application/vnd.jupyter.widget-view+json": {
       "model_id": "020f1a374d2c4d36ae0eec4714b8c656",
       "version_major": 2,
       "version_minor": 0
      },
      "text/plain": [
       "IntText(value=9, description='DCF period - No. of years:')"
      ]
     },
     "metadata": {},
     "output_type": "display_data"
    },
    {
     "data": {
      "application/vnd.jupyter.widget-view+json": {
       "model_id": "cb4ef7122b7f4b9eada1d356d3c905b2",
       "version_major": 2,
       "version_minor": 0
      },
      "text/plain": [
       "FloatText(value=0.035, description='Perpetuity growth rate:')"
      ]
     },
     "metadata": {},
     "output_type": "display_data"
    },
    {
     "data": {
      "application/vnd.jupyter.widget-view+json": {
       "model_id": "07de71b113f84887964c24b7dd137720",
       "version_major": 2,
       "version_minor": 0
      },
      "text/plain": [
       "FloatText(value=0.085, description='Cash flow discount rate:')"
      ]
     },
     "metadata": {},
     "output_type": "display_data"
    },
    {
     "data": {
      "application/vnd.jupyter.widget-view+json": {
       "model_id": "434a50d9ad49480f9b9891c3834ec901",
       "version_major": 2,
       "version_minor": 0
      },
      "text/plain": [
       "Checkbox(value=False, description='Fair value now')"
      ]
     },
     "metadata": {},
     "output_type": "display_data"
    },
    {
     "data": {
      "application/vnd.jupyter.widget-view+json": {
       "model_id": "e409ddf60c2740f194e67ce2ec6489d1",
       "version_major": 2,
       "version_minor": 0
      },
      "text/plain": [
       "Checkbox(value=False, description='Fractional valuation')"
      ]
     },
     "metadata": {},
     "output_type": "display_data"
    },
    {
     "data": {
      "application/vnd.jupyter.widget-view+json": {
       "model_id": "e10ed876036e431abc11dc003991cc28",
       "version_major": 2,
       "version_minor": 0
      },
      "text/plain": [
       "HBox(children=(Button(description='Discounted cash flow', layout=Layout(height='40px', width='100%'), style=Bu…"
      ]
     },
     "metadata": {},
     "output_type": "display_data"
    }
   ],
   "source": [
    "'''=====current values=======\n",
    "discounted cash flow period: 9 years\n",
    "perpetuity growth rate: 0.035\n",
    "cash flow discounted rate: 0.085\n",
    "'''\n",
    "dcf_period = widgets.IntText(value=9,placeholder='Integer',description='DCF period - No. of years:')\n",
    "display(dcf_period)\n",
    "perp_growth = widgets.FloatText(value=0.035,placeholder='Percentage as decimals',description='Perpetuity growth rate:')\n",
    "display(perp_growth)\n",
    "disct_rate = widgets.FloatText(value=0.085,placeholder='Percentage as decimals',description='Cash flow discount rate:')\n",
    "display(disct_rate)\n",
    "current_value = widgets.Checkbox(value=False, description='Fair value now')\n",
    "display(current_value)\n",
    "fractional = widgets.Checkbox(value=False, description='Fractional valuation')\n",
    "display(fractional)\n",
    "\n",
    "dis_cash = ['Discounted cash flow','Fair value']\n",
    "items5 = {}\n",
    "for w5 in dis_cash:\n",
    "    items5[w5] = widgets.Button(description=w5, layout=widgets.Layout(width='100%', height='40px'))\n",
    "    items5[w5].style.button_color = 'lightgreen'\n",
    "fair = widgets.HBox([list(items5.values())[0],list(items5.values())[1]],layout=box_layout3)\n",
    "items5['Discounted cash flow'].on_click(lambda x: display(discf.disc_cash_flow(data_dic, input_dic,now=current_value.value,fractional=fractional.value,dcf_p=dcf_period.value,disc_rate=disct_rate.value)))\n",
    "items5['Fair value'].on_click(lambda x: display(discf.fair_value(data_dic, input_dic,now=current_value.value,fractional=fractional.value,dcf_p=dcf_period.value,disc_rate=disct_rate.value,pep_rate=perp_growth.value)))    \n",
    "display(fair)"
   ]
  },
  {
   "cell_type": "code",
   "execution_count": 10,
   "metadata": {},
   "outputs": [
    {
     "data": {
      "application/vnd.jupyter.widget-view+json": {
       "model_id": "a9292d7655ef4271ace42a52bee3f3dd",
       "version_major": 2,
       "version_minor": 0
      },
      "text/plain": [
       "RadioButtons(description='Period', options=('month_no', 'quarter_no', 'half_no', 'financial_year', 'calendar_y…"
      ]
     },
     "metadata": {},
     "output_type": "display_data"
    },
    {
     "data": {
      "application/vnd.jupyter.widget-view+json": {
       "model_id": "958fda253ab44945834c1faa5c249b45",
       "version_major": 2,
       "version_minor": 0
      },
      "text/plain": [
       "HBox(children=(VBox(children=(Button(description='HLF composite monthly return', layout=Layout(height='40px', …"
      ]
     },
     "metadata": {},
     "output_type": "display_data"
    },
    {
     "data": {
      "text/html": [
       "<div>\n",
       "<style scoped>\n",
       "    .dataframe tbody tr th:only-of-type {\n",
       "        vertical-align: middle;\n",
       "    }\n",
       "\n",
       "    .dataframe tbody tr th {\n",
       "        vertical-align: top;\n",
       "    }\n",
       "\n",
       "    .dataframe thead th {\n",
       "        text-align: right;\n",
       "    }\n",
       "</style>\n",
       "<table border=\"1\" class=\"dataframe\">\n",
       "  <thead>\n",
       "    <tr style=\"text-align: right;\">\n",
       "      <th></th>\n",
       "      <th></th>\n",
       "      <th>NNB</th>\n",
       "      <th>Lower bound</th>\n",
       "      <th>Upper bound</th>\n",
       "    </tr>\n",
       "    <tr>\n",
       "      <th>financial_year</th>\n",
       "      <th>quarter_no</th>\n",
       "      <th></th>\n",
       "      <th></th>\n",
       "      <th></th>\n",
       "    </tr>\n",
       "  </thead>\n",
       "  <tbody>\n",
       "    <tr>\n",
       "      <th>2018</th>\n",
       "      <th>4</th>\n",
       "      <td>528,750,000.000000</td>\n",
       "      <td>528,750,000.000000</td>\n",
       "      <td>528,750,000.000000</td>\n",
       "    </tr>\n",
       "    <tr>\n",
       "      <th rowspan=\"4\" valign=\"top\">2019</th>\n",
       "      <th>1</th>\n",
       "      <td>1,746,736,706.586826</td>\n",
       "      <td>1,485,322,706.586826</td>\n",
       "      <td>2,008,150,706.586826</td>\n",
       "    </tr>\n",
       "    <tr>\n",
       "      <th>2</th>\n",
       "      <td>1,829,284,147.471198</td>\n",
       "      <td>1,613,387,490.537066</td>\n",
       "      <td>2,045,180,804.405330</td>\n",
       "    </tr>\n",
       "    <tr>\n",
       "      <th>3</th>\n",
       "      <td>2,734,180,874.837644</td>\n",
       "      <td>2,508,081,354.210204</td>\n",
       "      <td>2,960,280,395.465084</td>\n",
       "    </tr>\n",
       "    <tr>\n",
       "      <th>4</th>\n",
       "      <td>2,412,604,361.445113</td>\n",
       "      <td>2,074,659,605.315180</td>\n",
       "      <td>2,750,549,117.575046</td>\n",
       "    </tr>\n",
       "    <tr>\n",
       "      <th rowspan=\"4\" valign=\"top\">2020</th>\n",
       "      <th>1</th>\n",
       "      <td>2,085,398,780.185126</td>\n",
       "      <td>1,787,200,881.110511</td>\n",
       "      <td>2,383,596,679.259743</td>\n",
       "    </tr>\n",
       "    <tr>\n",
       "      <th>2</th>\n",
       "      <td>2,121,911,110.368769</td>\n",
       "      <td>1,864,155,821.137887</td>\n",
       "      <td>2,379,666,399.599650</td>\n",
       "    </tr>\n",
       "    <tr>\n",
       "      <th>3</th>\n",
       "      <td>3,072,504,605.129672</td>\n",
       "      <td>2,810,236,391.888093</td>\n",
       "      <td>3,334,772,818.371253</td>\n",
       "    </tr>\n",
       "    <tr>\n",
       "      <th>4</th>\n",
       "      <td>2,711,180,733.858312</td>\n",
       "      <td>2,331,419,164.664285</td>\n",
       "      <td>3,090,942,303.052340</td>\n",
       "    </tr>\n",
       "    <tr>\n",
       "      <th rowspan=\"4\" valign=\"top\">2021</th>\n",
       "      <th>1</th>\n",
       "      <td>2,343,456,933.987630</td>\n",
       "      <td>2,008,354,995.282743</td>\n",
       "      <td>2,678,558,872.692517</td>\n",
       "    </tr>\n",
       "    <tr>\n",
       "      <th>2</th>\n",
       "      <td>2,384,493,522.961240</td>\n",
       "      <td>2,094,842,245.920369</td>\n",
       "      <td>2,674,144,800.002112</td>\n",
       "    </tr>\n",
       "    <tr>\n",
       "      <th>3</th>\n",
       "      <td>3,452,769,226.270694</td>\n",
       "      <td>3,158,045,826.832684</td>\n",
       "      <td>3,747,492,625.708703</td>\n",
       "    </tr>\n",
       "    <tr>\n",
       "      <th>4</th>\n",
       "      <td>3,046,695,955.937945</td>\n",
       "      <td>2,619,933,679.570887</td>\n",
       "      <td>3,473,458,232.305003</td>\n",
       "    </tr>\n",
       "    <tr>\n",
       "      <th rowspan=\"4\" valign=\"top\">2022</th>\n",
       "      <th>1</th>\n",
       "      <td>2,633,485,336.327164</td>\n",
       "      <td>2,256,913,716.173234</td>\n",
       "      <td>3,010,056,956.481094</td>\n",
       "    </tr>\n",
       "    <tr>\n",
       "      <th>2</th>\n",
       "      <td>2,679,581,967.396982</td>\n",
       "      <td>2,354,083,179.826945</td>\n",
       "      <td>3,005,080,754.967020</td>\n",
       "    </tr>\n",
       "    <tr>\n",
       "      <th>3</th>\n",
       "      <td>3,880,070,357.549441</td>\n",
       "      <td>3,548,874,026.379175</td>\n",
       "      <td>4,211,266,688.719708</td>\n",
       "    </tr>\n",
       "    <tr>\n",
       "      <th>4</th>\n",
       "      <td>3,423,755,850.811565</td>\n",
       "      <td>2,944,179,154.618454</td>\n",
       "      <td>3,903,332,547.004676</td>\n",
       "    </tr>\n",
       "    <tr>\n",
       "      <th rowspan=\"4\" valign=\"top\">2023</th>\n",
       "      <th>1</th>\n",
       "      <td>2,959,398,800.515918</td>\n",
       "      <td>2,536,222,577.355609</td>\n",
       "      <td>3,382,575,023.676228</td>\n",
       "    </tr>\n",
       "    <tr>\n",
       "      <th>2</th>\n",
       "      <td>3,011,180,034.105585</td>\n",
       "      <td>2,645,398,342.361817</td>\n",
       "      <td>3,376,961,725.849352</td>\n",
       "    </tr>\n",
       "    <tr>\n",
       "      <th>3</th>\n",
       "      <td>4,360,224,236.089235</td>\n",
       "      <td>3,988,042,383.873785</td>\n",
       "      <td>4,732,406,088.304687</td>\n",
       "    </tr>\n",
       "    <tr>\n",
       "      <th>4</th>\n",
       "      <td>3,688,748,877.808543</td>\n",
       "      <td>3,149,825,162.227914</td>\n",
       "      <td>4,227,672,593.389173</td>\n",
       "    </tr>\n",
       "    <tr>\n",
       "      <th rowspan=\"4\" valign=\"top\">2024</th>\n",
       "      <th>1</th>\n",
       "      <td>3,322,945,334.650055</td>\n",
       "      <td>2,867,015,973.352920</td>\n",
       "      <td>3,778,874,695.947191</td>\n",
       "    </tr>\n",
       "    <tr>\n",
       "      <th>2</th>\n",
       "      <td>3,381,094,527.594428</td>\n",
       "      <td>2,970,378,484.231682</td>\n",
       "      <td>3,791,810,570.957175</td>\n",
       "    </tr>\n",
       "    <tr>\n",
       "      <th>3</th>\n",
       "      <td>4,410,648,777.355289</td>\n",
       "      <td>3,992,745,493.744619</td>\n",
       "      <td>4,828,552,060.965961</td>\n",
       "    </tr>\n",
       "    <tr>\n",
       "      <th>4</th>\n",
       "      <td>2,692,700,411.966400</td>\n",
       "      <td>2,147,544,223.085286</td>\n",
       "      <td>3,237,856,600.847514</td>\n",
       "    </tr>\n",
       "    <tr>\n",
       "      <th rowspan=\"4\" valign=\"top\">2025</th>\n",
       "      <th>1</th>\n",
       "      <td>2,083,222,970.498116</td>\n",
       "      <td>1,750,405,199.579069</td>\n",
       "      <td>2,416,040,741.417163</td>\n",
       "    </tr>\n",
       "    <tr>\n",
       "      <th>2</th>\n",
       "      <td>2,097,842,246.367988</td>\n",
       "      <td>1,840,355,887.214421</td>\n",
       "      <td>2,355,328,605.521555</td>\n",
       "    </tr>\n",
       "    <tr>\n",
       "      <th>3</th>\n",
       "      <td>3,299,043,288.958390</td>\n",
       "      <td>3,039,749,987.307307</td>\n",
       "      <td>3,558,336,590.609473</td>\n",
       "    </tr>\n",
       "    <tr>\n",
       "      <th>4</th>\n",
       "      <td>2,948,774,901.467963</td>\n",
       "      <td>2,541,013,150.952706</td>\n",
       "      <td>3,356,536,651.983220</td>\n",
       "    </tr>\n",
       "    <tr>\n",
       "      <th>2026</th>\n",
       "      <th>1</th>\n",
       "      <td>2,281,392,304.013944</td>\n",
       "      <td>1,916,923,726.192503</td>\n",
       "      <td>2,645,860,881.835384</td>\n",
       "    </tr>\n",
       "    <tr>\n",
       "      <th>...</th>\n",
       "      <th>...</th>\n",
       "      <td>...</td>\n",
       "      <td>...</td>\n",
       "      <td>...</td>\n",
       "    </tr>\n",
       "    <tr>\n",
       "      <th rowspan=\"2\" valign=\"top\">2027</th>\n",
       "      <th>3</th>\n",
       "      <td>3,956,414,685.969929</td>\n",
       "      <td>3,645,452,912.442636</td>\n",
       "      <td>4,267,376,459.497222</td>\n",
       "    </tr>\n",
       "    <tr>\n",
       "      <th>4</th>\n",
       "      <td>3,536,367,454.937492</td>\n",
       "      <td>3,047,354,599.751609</td>\n",
       "      <td>4,025,380,310.123375</td>\n",
       "    </tr>\n",
       "    <tr>\n",
       "      <th rowspan=\"4\" valign=\"top\">2028</th>\n",
       "      <th>1</th>\n",
       "      <td>2,735,944,520.447104</td>\n",
       "      <td>2,298,849,503.016830</td>\n",
       "      <td>3,173,039,537.877378</td>\n",
       "    </tr>\n",
       "    <tr>\n",
       "      <th>2</th>\n",
       "      <td>2,755,110,356.734353</td>\n",
       "      <td>2,416,947,614.007091</td>\n",
       "      <td>3,093,273,099.461616</td>\n",
       "    </tr>\n",
       "    <tr>\n",
       "      <th>3</th>\n",
       "      <td>4,332,711,478.099310</td>\n",
       "      <td>3,992,179,838.006944</td>\n",
       "      <td>4,673,243,118.191676</td>\n",
       "    </tr>\n",
       "    <tr>\n",
       "      <th>4</th>\n",
       "      <td>3,872,727,538.752771</td>\n",
       "      <td>3,337,204,400.059696</td>\n",
       "      <td>4,408,250,677.445846</td>\n",
       "    </tr>\n",
       "    <tr>\n",
       "      <th rowspan=\"4\" valign=\"top\">2029</th>\n",
       "      <th>1</th>\n",
       "      <td>2,996,212,904.981854</td>\n",
       "      <td>2,517,543,781.192012</td>\n",
       "      <td>3,474,882,028.771697</td>\n",
       "    </tr>\n",
       "    <tr>\n",
       "      <th>2</th>\n",
       "      <td>3,017,136,614.001587</td>\n",
       "      <td>2,646,804,698.945830</td>\n",
       "      <td>3,387,468,529.057344</td>\n",
       "    </tr>\n",
       "    <tr>\n",
       "      <th>3</th>\n",
       "      <td>4,744,858,078.427436</td>\n",
       "      <td>4,371,939,992.936840</td>\n",
       "      <td>5,117,776,163.918033</td>\n",
       "    </tr>\n",
       "    <tr>\n",
       "      <th>4</th>\n",
       "      <td>4,241,123,604.923808</td>\n",
       "      <td>3,654,659,146.430177</td>\n",
       "      <td>4,827,588,063.417439</td>\n",
       "    </tr>\n",
       "    <tr>\n",
       "      <th rowspan=\"4\" valign=\"top\">2030</th>\n",
       "      <th>1</th>\n",
       "      <td>3,281,190,988.026299</td>\n",
       "      <td>2,756,988,110.457716</td>\n",
       "      <td>3,805,393,865.594881</td>\n",
       "    </tr>\n",
       "    <tr>\n",
       "      <th>2</th>\n",
       "      <td>3,304,142,353.862110</td>\n",
       "      <td>2,898,587,147.742061</td>\n",
       "      <td>3,709,697,559.982162</td>\n",
       "    </tr>\n",
       "    <tr>\n",
       "      <th>3</th>\n",
       "      <td>5,196,119,243.871703</td>\n",
       "      <td>4,787,727,248.934346</td>\n",
       "      <td>5,604,511,238.809060</td>\n",
       "    </tr>\n",
       "    <tr>\n",
       "      <th>4</th>\n",
       "      <td>4,644,455,988.004782</td>\n",
       "      <td>4,002,215,649.462240</td>\n",
       "      <td>5,286,696,326.547324</td>\n",
       "    </tr>\n",
       "    <tr>\n",
       "      <th rowspan=\"4\" valign=\"top\">2031</th>\n",
       "      <th>1</th>\n",
       "      <td>3,593,282,079.382652</td>\n",
       "      <td>3,019,227,319.265261</td>\n",
       "      <td>4,167,336,839.500043</td>\n",
       "    </tr>\n",
       "    <tr>\n",
       "      <th>2</th>\n",
       "      <td>3,618,387,194.688416</td>\n",
       "      <td>3,174,257,529.676721</td>\n",
       "      <td>4,062,516,859.700111</td>\n",
       "    </tr>\n",
       "    <tr>\n",
       "      <th>3</th>\n",
       "      <td>5,690,325,261.451267</td>\n",
       "      <td>5,243,092,604.187779</td>\n",
       "      <td>6,137,557,918.714756</td>\n",
       "    </tr>\n",
       "    <tr>\n",
       "      <th>4</th>\n",
       "      <td>5,086,244,155.177070</td>\n",
       "      <td>4,382,919,952.861693</td>\n",
       "      <td>5,789,568,357.492446</td>\n",
       "    </tr>\n",
       "    <tr>\n",
       "      <th rowspan=\"4\" valign=\"top\">2032</th>\n",
       "      <th>1</th>\n",
       "      <td>3,935,059,596.002585</td>\n",
       "      <td>3,306,399,818.422699</td>\n",
       "      <td>4,563,719,373.582471</td>\n",
       "    </tr>\n",
       "    <tr>\n",
       "      <th>2</th>\n",
       "      <td>3,962,538,714.349385</td>\n",
       "      <td>3,476,165,348.283466</td>\n",
       "      <td>4,448,912,080.415305</td>\n",
       "    </tr>\n",
       "    <tr>\n",
       "      <th>3</th>\n",
       "      <td>6,231,589,449.226396</td>\n",
       "      <td>5,741,819,664.132812</td>\n",
       "      <td>6,721,359,234.319980</td>\n",
       "    </tr>\n",
       "    <tr>\n",
       "      <th>4</th>\n",
       "      <td>5,569,963,371.999333</td>\n",
       "      <td>4,799,738,916.074950</td>\n",
       "      <td>6,340,187,827.923717</td>\n",
       "    </tr>\n",
       "    <tr>\n",
       "      <th rowspan=\"4\" valign=\"top\">2033</th>\n",
       "      <th>1</th>\n",
       "      <td>4,309,306,886.212330</td>\n",
       "      <td>3,620,859,413.433211</td>\n",
       "      <td>4,997,754,358.991447</td>\n",
       "    </tr>\n",
       "    <tr>\n",
       "      <th>2</th>\n",
       "      <td>4,339,488,348.719873</td>\n",
       "      <td>3,806,858,017.584030</td>\n",
       "      <td>4,872,118,679.855719</td>\n",
       "    </tr>\n",
       "    <tr>\n",
       "      <th>3</th>\n",
       "      <td>6,824,273,051.600291</td>\n",
       "      <td>6,287,912,291.698515</td>\n",
       "      <td>7,360,633,811.502069</td>\n",
       "    </tr>\n",
       "    <tr>\n",
       "      <th>4</th>\n",
       "      <td>6,099,735,631.114983</td>\n",
       "      <td>5,256,255,481.937186</td>\n",
       "      <td>6,943,215,780.292779</td>\n",
       "    </tr>\n",
       "    <tr>\n",
       "      <th rowspan=\"4\" valign=\"top\">2034</th>\n",
       "      <th>1</th>\n",
       "      <td>4,719,126,718.261437</td>\n",
       "      <td>3,965,199,394.255626</td>\n",
       "      <td>5,473,054,042.267250</td>\n",
       "    </tr>\n",
       "    <tr>\n",
       "      <th>2</th>\n",
       "      <td>4,752,179,438.748234</td>\n",
       "      <td>4,168,895,376.371120</td>\n",
       "      <td>5,335,463,501.125348</td>\n",
       "    </tr>\n",
       "    <tr>\n",
       "      <th>3</th>\n",
       "      <td>7,473,318,883.620467</td>\n",
       "      <td>6,885,949,504.991184</td>\n",
       "      <td>8,060,688,262.249748</td>\n",
       "    </tr>\n",
       "    <tr>\n",
       "      <th>4</th>\n",
       "      <td>6,679,938,616.568866</td>\n",
       "      <td>5,756,236,402.553376</td>\n",
       "      <td>7,603,640,830.584356</td>\n",
       "    </tr>\n",
       "  </tbody>\n",
       "</table>\n",
       "<p>65 rows × 3 columns</p>\n",
       "</div>"
      ],
      "text/plain": [
       "                                           NNB          Lower bound  \\\n",
       "financial_year quarter_no                                             \n",
       "2018           4            528,750,000.000000   528,750,000.000000   \n",
       "2019           1          1,746,736,706.586826 1,485,322,706.586826   \n",
       "               2          1,829,284,147.471198 1,613,387,490.537066   \n",
       "               3          2,734,180,874.837644 2,508,081,354.210204   \n",
       "               4          2,412,604,361.445113 2,074,659,605.315180   \n",
       "2020           1          2,085,398,780.185126 1,787,200,881.110511   \n",
       "               2          2,121,911,110.368769 1,864,155,821.137887   \n",
       "               3          3,072,504,605.129672 2,810,236,391.888093   \n",
       "               4          2,711,180,733.858312 2,331,419,164.664285   \n",
       "2021           1          2,343,456,933.987630 2,008,354,995.282743   \n",
       "               2          2,384,493,522.961240 2,094,842,245.920369   \n",
       "               3          3,452,769,226.270694 3,158,045,826.832684   \n",
       "               4          3,046,695,955.937945 2,619,933,679.570887   \n",
       "2022           1          2,633,485,336.327164 2,256,913,716.173234   \n",
       "               2          2,679,581,967.396982 2,354,083,179.826945   \n",
       "               3          3,880,070,357.549441 3,548,874,026.379175   \n",
       "               4          3,423,755,850.811565 2,944,179,154.618454   \n",
       "2023           1          2,959,398,800.515918 2,536,222,577.355609   \n",
       "               2          3,011,180,034.105585 2,645,398,342.361817   \n",
       "               3          4,360,224,236.089235 3,988,042,383.873785   \n",
       "               4          3,688,748,877.808543 3,149,825,162.227914   \n",
       "2024           1          3,322,945,334.650055 2,867,015,973.352920   \n",
       "               2          3,381,094,527.594428 2,970,378,484.231682   \n",
       "               3          4,410,648,777.355289 3,992,745,493.744619   \n",
       "               4          2,692,700,411.966400 2,147,544,223.085286   \n",
       "2025           1          2,083,222,970.498116 1,750,405,199.579069   \n",
       "               2          2,097,842,246.367988 1,840,355,887.214421   \n",
       "               3          3,299,043,288.958390 3,039,749,987.307307   \n",
       "               4          2,948,774,901.467963 2,541,013,150.952706   \n",
       "2026           1          2,281,392,304.013944 1,916,923,726.192503   \n",
       "...                                        ...                  ...   \n",
       "2027           3          3,956,414,685.969929 3,645,452,912.442636   \n",
       "               4          3,536,367,454.937492 3,047,354,599.751609   \n",
       "2028           1          2,735,944,520.447104 2,298,849,503.016830   \n",
       "               2          2,755,110,356.734353 2,416,947,614.007091   \n",
       "               3          4,332,711,478.099310 3,992,179,838.006944   \n",
       "               4          3,872,727,538.752771 3,337,204,400.059696   \n",
       "2029           1          2,996,212,904.981854 2,517,543,781.192012   \n",
       "               2          3,017,136,614.001587 2,646,804,698.945830   \n",
       "               3          4,744,858,078.427436 4,371,939,992.936840   \n",
       "               4          4,241,123,604.923808 3,654,659,146.430177   \n",
       "2030           1          3,281,190,988.026299 2,756,988,110.457716   \n",
       "               2          3,304,142,353.862110 2,898,587,147.742061   \n",
       "               3          5,196,119,243.871703 4,787,727,248.934346   \n",
       "               4          4,644,455,988.004782 4,002,215,649.462240   \n",
       "2031           1          3,593,282,079.382652 3,019,227,319.265261   \n",
       "               2          3,618,387,194.688416 3,174,257,529.676721   \n",
       "               3          5,690,325,261.451267 5,243,092,604.187779   \n",
       "               4          5,086,244,155.177070 4,382,919,952.861693   \n",
       "2032           1          3,935,059,596.002585 3,306,399,818.422699   \n",
       "               2          3,962,538,714.349385 3,476,165,348.283466   \n",
       "               3          6,231,589,449.226396 5,741,819,664.132812   \n",
       "               4          5,569,963,371.999333 4,799,738,916.074950   \n",
       "2033           1          4,309,306,886.212330 3,620,859,413.433211   \n",
       "               2          4,339,488,348.719873 3,806,858,017.584030   \n",
       "               3          6,824,273,051.600291 6,287,912,291.698515   \n",
       "               4          6,099,735,631.114983 5,256,255,481.937186   \n",
       "2034           1          4,719,126,718.261437 3,965,199,394.255626   \n",
       "               2          4,752,179,438.748234 4,168,895,376.371120   \n",
       "               3          7,473,318,883.620467 6,885,949,504.991184   \n",
       "               4          6,679,938,616.568866 5,756,236,402.553376   \n",
       "\n",
       "                                   Upper bound  \n",
       "financial_year quarter_no                       \n",
       "2018           4            528,750,000.000000  \n",
       "2019           1          2,008,150,706.586826  \n",
       "               2          2,045,180,804.405330  \n",
       "               3          2,960,280,395.465084  \n",
       "               4          2,750,549,117.575046  \n",
       "2020           1          2,383,596,679.259743  \n",
       "               2          2,379,666,399.599650  \n",
       "               3          3,334,772,818.371253  \n",
       "               4          3,090,942,303.052340  \n",
       "2021           1          2,678,558,872.692517  \n",
       "               2          2,674,144,800.002112  \n",
       "               3          3,747,492,625.708703  \n",
       "               4          3,473,458,232.305003  \n",
       "2022           1          3,010,056,956.481094  \n",
       "               2          3,005,080,754.967020  \n",
       "               3          4,211,266,688.719708  \n",
       "               4          3,903,332,547.004676  \n",
       "2023           1          3,382,575,023.676228  \n",
       "               2          3,376,961,725.849352  \n",
       "               3          4,732,406,088.304687  \n",
       "               4          4,227,672,593.389173  \n",
       "2024           1          3,778,874,695.947191  \n",
       "               2          3,791,810,570.957175  \n",
       "               3          4,828,552,060.965961  \n",
       "               4          3,237,856,600.847514  \n",
       "2025           1          2,416,040,741.417163  \n",
       "               2          2,355,328,605.521555  \n",
       "               3          3,558,336,590.609473  \n",
       "               4          3,356,536,651.983220  \n",
       "2026           1          2,645,860,881.835384  \n",
       "...                                        ...  \n",
       "2027           3          4,267,376,459.497222  \n",
       "               4          4,025,380,310.123375  \n",
       "2028           1          3,173,039,537.877378  \n",
       "               2          3,093,273,099.461616  \n",
       "               3          4,673,243,118.191676  \n",
       "               4          4,408,250,677.445846  \n",
       "2029           1          3,474,882,028.771697  \n",
       "               2          3,387,468,529.057344  \n",
       "               3          5,117,776,163.918033  \n",
       "               4          4,827,588,063.417439  \n",
       "2030           1          3,805,393,865.594881  \n",
       "               2          3,709,697,559.982162  \n",
       "               3          5,604,511,238.809060  \n",
       "               4          5,286,696,326.547324  \n",
       "2031           1          4,167,336,839.500043  \n",
       "               2          4,062,516,859.700111  \n",
       "               3          6,137,557,918.714756  \n",
       "               4          5,789,568,357.492446  \n",
       "2032           1          4,563,719,373.582471  \n",
       "               2          4,448,912,080.415305  \n",
       "               3          6,721,359,234.319980  \n",
       "               4          6,340,187,827.923717  \n",
       "2033           1          4,997,754,358.991447  \n",
       "               2          4,872,118,679.855719  \n",
       "               3          7,360,633,811.502069  \n",
       "               4          6,943,215,780.292779  \n",
       "2034           1          5,473,054,042.267250  \n",
       "               2          5,335,463,501.125348  \n",
       "               3          8,060,688,262.249748  \n",
       "               4          7,603,640,830.584356  \n",
       "\n",
       "[65 rows x 3 columns]"
      ]
     },
     "metadata": {},
     "output_type": "display_data"
    }
   ],
   "source": [
    "radio1 = widgets.RadioButtons(options=['month_no','quarter_no','half_no','financial_year','calendar_year'],description='Period',disabled=False)\n",
    "display(radio1)\n",
    "\n",
    "others = ['HLF composite monthly return','Total NNB hlf Algo','NNB distribution hlf Algo','Total AUA','% Revenue distribution','Avg AUA distribution', 'Total NNB nnc Algo', 'NNB distribution nnc Algo']\n",
    "items6 = {}\n",
    "for w6 in others:\n",
    "    items6[w6] = widgets.Button(description=w6, layout=widgets.Layout(width='100%', height='40px'))\n",
    "    items6[w6].style.button_color = 'lightgreen'\n",
    "other_box1 = widgets.VBox([list(items6.values())[0],list(items6.values())[1],list(items6.values())[2],list(items6.values())[3]],layout=box_layout)\n",
    "other_box2 = widgets.VBox([list(items6.values())[4],list(items6.values())[5],list(items6.values())[6],list(items6.values())[7]],layout=box_layout)\n",
    "items6['HLF composite monthly return'].on_click(lambda x: display(discretionary_aua.get_composite_return(data_dic)))\n",
    "items6['Total NNB hlf Algo'].on_click(lambda x: display(combined.total_nnb(data_dic, input_dic, opt=radio1.value)))\n",
    "items6['NNB distribution hlf Algo'].on_click(lambda x: display(combined.nnb_distribution(data_dic, input_dic, opt=radio1.value)))\n",
    "items6['Total AUA'].on_click(lambda x: display(combined.total_aua(data_dic, input_dic)))\n",
    "items6['% Revenue distribution'].on_click(lambda x: display(stats.summary_revenue_dist_percent(data_dic, input_dic)))\n",
    "items6['Avg AUA distribution'].on_click(lambda x: display(stats.summary_avg_aua_dist(data_dic, input_dic,radio1.value)))\n",
    "items6['Total NNB nnc Algo'].on_click(lambda x: display(combined.total_nnb_ci_clientAlgo(data_dic, input_dic, opt=radio1.value)))\n",
    "items6['NNB distribution nnc Algo'].on_click(lambda x: display(combined.total_nnb_distribution_clientAlgo(data_dic, input_dic, opt=radio1.value)))\n",
    "\n",
    "widgets.HBox([other_box1, other_box2])\n",
    "\n",
    "#Financial year based"
   ]
  },
  {
   "cell_type": "code",
   "execution_count": 11,
   "metadata": {},
   "outputs": [
    {
     "data": {
      "application/vnd.jupyter.widget-view+json": {
       "model_id": "69c83c81efbf4305abceb0fb09b09525",
       "version_major": 2,
       "version_minor": 0
      },
      "text/plain": [
       "RadioButtons(description='Period', options=('day', 'month', 'semi-annual', 'quarter', 'annual'), value='day')"
      ]
     },
     "metadata": {},
     "output_type": "display_data"
    },
    {
     "data": {
      "application/vnd.jupyter.widget-view+json": {
       "model_id": "6b9c395c00e940d89ae433c45603c0ec",
       "version_major": 2,
       "version_minor": 0
      },
      "text/plain": [
       "Dropdown(description='Fund option', options=('no_select', None), value='no_select')"
      ]
     },
     "metadata": {},
     "output_type": "display_data"
    },
    {
     "data": {
      "application/vnd.jupyter.widget-view+json": {
       "model_id": "335882ee8fa345aaa17200110dcb607e",
       "version_major": 2,
       "version_minor": 0
      },
      "text/plain": [
       "Dropdown(description='Unit type', options=('acc', 'inc'), value='acc')"
      ]
     },
     "metadata": {},
     "output_type": "display_data"
    },
    {
     "data": {
      "application/vnd.jupyter.widget-view+json": {
       "model_id": "4e9ace7f800546bcb08637c6d8e7667d",
       "version_major": 2,
       "version_minor": 0
      },
      "text/plain": [
       "Button(description='Implied HLF nnb period-to-date', layout=Layout(height='40px', width='50%'), style=ButtonSt…"
      ]
     },
     "metadata": {},
     "output_type": "display_data"
    },
    {
     "data": {
      "application/vnd.jupyter.widget-view+json": {
       "model_id": "5c9ee00e05fb422e9f5e9589b41b992e",
       "version_major": 2,
       "version_minor": 0
      },
      "text/plain": [
       "Button(description='HLF unit change period-to-date', layout=Layout(height='40px', width='50%'), style=ButtonSt…"
      ]
     },
     "metadata": {},
     "output_type": "display_data"
    }
   ],
   "source": [
    "nnb_radio = widgets.RadioButtons(options=['day','month','semi-annual','quarter','annual'],description='Period',disabled=False)\n",
    "nnb_dropdown = widgets.Dropdown(options=['no_select',None],description='Fund option',disabled=False)\n",
    "unit_dropdown = widgets.Dropdown(options=['acc','inc'],description='Unit type',disabled=False)\n",
    "display(nnb_radio)\n",
    "display(nnb_dropdown)\n",
    "display(unit_dropdown)\n",
    "\n",
    "nnb_b = widgets.Button(description='Implied HLF nnb period-to-date', layout=widgets.Layout(width='50%', height='40px'))\n",
    "nnb_b.style.button_color = 'lightgreen'\n",
    "\n",
    "nnb_b2 = widgets.Button(description='HLF unit change period-to-date', layout=widgets.Layout(width='50%', height='40px'))\n",
    "nnb_b2.style.button_color = 'lightgreen'\n",
    "nnb_b.on_click(lambda x: display(stats.hlf_to_date_implied_nnb(data_dic,typ=nnb_radio.value,fund_opt=nnb_dropdown.value)))\n",
    "nnb_b2.on_click(lambda x: display(stats.hlf_to_date_unit_change(data_dic, unit_type=unit_dropdown.value,typ=nnb_radio.value,fund_opt=nnb_dropdown.value)))\n",
    "\n",
    "display(nnb_b)\n",
    "display(nnb_b2)"
   ]
  },
  {
   "cell_type": "code",
   "execution_count": 12,
   "metadata": {},
   "outputs": [
    {
     "data": {
      "application/vnd.jupyter.widget-view+json": {
       "model_id": "cde0e1f1dfa141178d4cbd2e1637f8ca",
       "version_major": 2,
       "version_minor": 0
      },
      "text/plain": [
       "RadioButtons(description='Period', options=('monthly', 'quarter_no', 'half_no', 'financial_year', 'calendar_ye…"
      ]
     },
     "metadata": {},
     "output_type": "display_data"
    },
    {
     "data": {
      "application/vnd.jupyter.widget-view+json": {
       "model_id": "be1e13d11feb42a9b4bda0aa4209e955",
       "version_major": 2,
       "version_minor": 0
      },
      "text/plain": [
       "Button(description='Cash margin', layout=Layout(height='40px', width='50%'), style=ButtonStyle(button_color='l…"
      ]
     },
     "metadata": {},
     "output_type": "display_data"
    }
   ],
   "source": [
    "cash_radio = widgets.RadioButtons(options=['monthly','quarter_no','half_no','financial_year','calendar_year'],description='Period',disabled=False)\n",
    "display(cash_radio)\n",
    "\n",
    "\n",
    "cash_b = widgets.Button(description='Cash margin', layout=widgets.Layout(width='50%', height='40px'))\n",
    "cash_b.style.button_color = 'lightgreen'\n",
    "cash_b.on_click(lambda x: display(stats.cash_margin(data_dic, input_dic, cash_radio.value)))\n",
    "display(cash_b)"
   ]
  },
  {
   "cell_type": "code",
   "execution_count": 13,
   "metadata": {},
   "outputs": [
    {
     "data": {
      "application/vnd.jupyter.widget-view+json": {
       "model_id": "e74a7fd3e9704dd79181b115d6044d1b",
       "version_major": 2,
       "version_minor": 0
      },
      "text/plain": [
       "RadioButtons(description='Calendar year?', options=(True, False), value=True)"
      ]
     },
     "metadata": {},
     "output_type": "display_data"
    },
    {
     "data": {
      "application/vnd.jupyter.widget-view+json": {
       "model_id": "a237b8826ce6416dbc8bccffcd48e06f",
       "version_major": 2,
       "version_minor": 0
      },
      "text/plain": [
       "Button(description='Net earnings and EPS', layout=Layout(height='40px', width='50%'), style=ButtonStyle(button…"
      ]
     },
     "metadata": {},
     "output_type": "display_data"
    }
   ],
   "source": [
    "eps_radio = widgets.RadioButtons(options=[True, False],description='Calendar year?',disabled=False)\n",
    "display(eps_radio)\n",
    "\n",
    "eps_summary = widgets.Button(description='Net earnings and EPS', layout=widgets.Layout(width='50%', height='40px'))\n",
    "eps_summary.style.button_color = 'lightgreen'\n",
    "eps_summary.on_click(lambda x: display(stats.summary_total(data_dic, input_dic, cal=eps_radio.value)))\n",
    "display(eps_summary)\n"
   ]
  },
  {
   "cell_type": "code",
   "execution_count": 14,
   "metadata": {},
   "outputs": [
    {
     "data": {
      "application/vnd.jupyter.widget-view+json": {
       "model_id": "94a369d42a534ddb86907e4cfdb8f852",
       "version_major": 2,
       "version_minor": 0
      },
      "text/plain": [
       "RadioButtons(description='Period', options=('month_no', 'quarter_no', 'half_no', 'financial_year', 'calendar_y…"
      ]
     },
     "metadata": {},
     "output_type": "display_data"
    },
    {
     "data": {
      "application/vnd.jupyter.widget-view+json": {
       "model_id": "44de7217e975464486d3203b60520983",
       "version_major": 2,
       "version_minor": 0
      },
      "text/plain": [
       "VBox(children=(HBox(children=(Button(description='HLF revenue margin', layout=Layout(height='40px', width='100…"
      ]
     },
     "metadata": {},
     "output_type": "display_data"
    }
   ],
   "source": [
    "hlf_radio = widgets.RadioButtons(options=['month_no','quarter_no','half_no','financial_year','calendar_year'],description='Period',disabled=False)\n",
    "display(hlf_radio)\n",
    "\n",
    "\n",
    "buttom3 = ['HLF revenue margin','Monthly revenue', 'HLF avg fund size','Quarter Trading update revenue']\n",
    "items7 = {}\n",
    "for w7 in buttom3:\n",
    "    items7[w7] = widgets.Button(description=w7, layout=widgets.Layout(width='100%', height='40px'))\n",
    "    items7[w7].style.button_color = 'lightgreen'\n",
    "\n",
    "top_m = widgets.HBox([list(items7.values())[0],list(items7.values())[1]],layout=box_layout3)\n",
    "bottom_m = widgets.HBox([list(items7.values())[2],list(items7.values())[3]],layout=box_layout3)\n",
    "\n",
    "items7['HLF revenue margin'].on_click(lambda x: display(stats.hlf_revenue_margin(data_dic,input_dic,hlf_radio.value)))\n",
    "items7['Monthly revenue'].on_click(lambda x: display(revenue.monthly_revenue(data_dic, input_dic)))\n",
    "items7['HLF avg fund size'].on_click(lambda x: display(stats.avg_hlf_size(data_dic, input_dic,hlf_radio.value)))\n",
    "items7['Quarter Trading update revenue'].on_click(lambda x: display(stats.quarter_revenue(data_dic, input_dic)))\n",
    "\n",
    "\n",
    "widgets.VBox([top_m, bottom_m])"
   ]
  },
  {
   "cell_type": "code",
   "execution_count": 15,
   "metadata": {},
   "outputs": [
    {
     "data": {
      "application/vnd.jupyter.widget-view+json": {
       "model_id": "b87ef8bc17e54fa08d999d96a704ee65",
       "version_major": 2,
       "version_minor": 0
      },
      "text/plain": [
       "SelectMultiple(description='Years for comparison', options=(2018, 2019, 2020, 2021, 2022, 2023, 2024, 2025, 20…"
      ]
     },
     "metadata": {},
     "output_type": "display_data"
    },
    {
     "data": {
      "application/vnd.jupyter.widget-view+json": {
       "model_id": "bcc331a294cc46d2ab966f5935f72806",
       "version_major": 2,
       "version_minor": 0
      },
      "text/plain": [
       "HBox(children=(Button(description='Total No. of clients', layout=Layout(height='40px', width='100%'), style=Bu…"
      ]
     },
     "metadata": {},
     "output_type": "display_data"
    },
    {
     "data": {
      "text/plain": [
       "financial_year  quarter_no\n",
       "2018            1                   29,000.000000\n",
       "                2                   32,000.000000\n",
       "                3                   42,600.000000\n",
       "                4                   33,400.000000\n",
       "2019            1                   25,092.000000\n",
       "                2                   26,786.000000\n",
       "                3                   45,715.000000\n",
       "                4                   38,034.000000\n",
       "2020            1                   30,665.000000\n",
       "                2                   31,432.000000\n",
       "                3                   51,548.000000\n",
       "                4                   42,888.000000\n",
       "Name: No. of clients, dtype: float64"
      ]
     },
     "metadata": {},
     "output_type": "display_data"
    }
   ],
   "source": [
    "display(a_slider)\n",
    "\n",
    "client_options = ['Total No. of clients','Net new clients']\n",
    "items8 = {}\n",
    "for w8 in client_options:\n",
    "    items8[w8] = widgets.Button(description=w8, layout=widgets.Layout(width='100%', height='40px'))\n",
    "    items8[w8].style.button_color = 'lightgreen'\n",
    "c_fair = widgets.HBox([list(items8.values())[0],list(items8.values())[1]],layout=box_layout3)\n",
    "items8['Total No. of clients'].on_click(lambda x: display(combined.total_client_predt(data_dic, input_dic).loc[list(a_slider.value)]))\n",
    "items8['Net new clients'].on_click(lambda x: display(combined.net_new_client_predt(data_dic, input_dic).loc[list(a_slider.value)]))\n",
    "display(c_fair)"
   ]
  },
  {
   "cell_type": "code",
   "execution_count": 16,
   "metadata": {},
   "outputs": [],
   "source": [
    "# %load_ext autoreload\n",
    "# %autoreload 2"
   ]
  },
  {
   "cell_type": "code",
   "execution_count": 17,
   "metadata": {},
   "outputs": [
    {
     "data": {
      "text/plain": [
       "\"\\nfair value sensitivity analysis\\n\\ndisc_rate_list = [0.0825,0.085,0.0875,0.09]\\npep_rate_list = [0.035,0.0375,0.04,0.0425]\\n\\ndf_now = pandas.DataFrame(columns = disc_rate_list, index=pep_rate_list)\\ndf_now.columns.name = 'Cost of Equity'\\ndf_now.index.name = 'Long-term Growth Rate'\\n\\nfor i in pep_rate_list:\\n    for j in disc_rate_list:\\n        df_now.loc[i,j] = discf.fair_value(data_dic, input_dic,now=True,dcf_p=9,disc_rate=j,pep_rate=i).loc['Fair value per share','HL']\\ndf_1y = pandas.DataFrame(columns = disc_rate_list, index=pep_rate_list)\\ndf_1y.columns.name = 'Cost of Equity'\\ndf_1y.index.name = 'Long-term Growth Rate'\\n\\nfor i in pep_rate_list:\\n    for j in disc_rate_list:\\n        df_1y.loc[i,j] = discf.fair_value(data_dic, input_dic,now=False,dcf_p=9,disc_rate=j,pep_rate=i).loc['Fair value per share','HL']\\n\""
      ]
     },
     "execution_count": 17,
     "metadata": {},
     "output_type": "execute_result"
    }
   ],
   "source": [
    "'''\n",
    "fair value sensitivity analysis\n",
    "\n",
    "disc_rate_list = [0.0825,0.085,0.0875,0.09]\n",
    "pep_rate_list = [0.035,0.0375,0.04,0.0425]\n",
    "\n",
    "df_now = pandas.DataFrame(columns = disc_rate_list, index=pep_rate_list)\n",
    "df_now.columns.name = 'Cost of Equity'\n",
    "df_now.index.name = 'Long-term Growth Rate'\n",
    "\n",
    "for i in pep_rate_list:\n",
    "    for j in disc_rate_list:\n",
    "        df_now.loc[i,j] = discf.fair_value(data_dic, input_dic,now=True,dcf_p=9,disc_rate=j,pep_rate=i).loc['Fair value per share','HL']\n",
    "df_1y = pandas.DataFrame(columns = disc_rate_list, index=pep_rate_list)\n",
    "df_1y.columns.name = 'Cost of Equity'\n",
    "df_1y.index.name = 'Long-term Growth Rate'\n",
    "\n",
    "for i in pep_rate_list:\n",
    "    for j in disc_rate_list:\n",
    "        df_1y.loc[i,j] = discf.fair_value(data_dic, input_dic,now=False,dcf_p=9,disc_rate=j,pep_rate=i).loc['Fair value per share','HL']\n",
    "'''"
   ]
  },
  {
   "cell_type": "code",
   "execution_count": 18,
   "metadata": {},
   "outputs": [],
   "source": [
    "a = input_dic['cash interest rebate'].fillna(method='ffill').reindex(index=general.month_end_series)"
   ]
  },
  {
   "cell_type": "code",
   "execution_count": null,
   "metadata": {},
   "outputs": [],
   "source": []
  }
 ],
 "metadata": {
  "kernelspec": {
   "display_name": "Python 3",
   "language": "python",
   "name": "python3"
  },
  "language_info": {
   "codemirror_mode": {
    "name": "ipython",
    "version": 3
   },
   "file_extension": ".py",
   "mimetype": "text/x-python",
   "name": "python",
   "nbconvert_exporter": "python",
   "pygments_lexer": "ipython3",
   "version": "3.6.5"
  }
 },
 "nbformat": 4,
 "nbformat_minor": 2
}
