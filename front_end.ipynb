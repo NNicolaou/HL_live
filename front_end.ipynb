{
 "cells": [
  {
   "cell_type": "code",
   "execution_count": null,
   "metadata": {},
   "outputs": [],
   "source": [
    "from IPython.display import HTML\n",
    "HTML('''<script>\n",
    "code_show=true; \n",
    "function code_toggle() {\n",
    " if (code_show){\n",
    " $('div.input').hide();\n",
    " } else {\n",
    " $('div.input').show();\n",
    " }\n",
    " code_show = !code_show\n",
    "} \n",
    "$( document ).ready(code_toggle);\n",
    "</script>\n",
    "The raw code for this IPython notebook is by default hidden for easier reading.\n",
    "To toggle on/off the raw code, click <a href=\"javascript:code_toggle()\">here</a>.''')"
   ]
  },
  {
   "cell_type": "code",
   "execution_count": null,
   "metadata": {},
   "outputs": [],
   "source": [
    "import pandas\n",
    "%matplotlib notebook\n",
    "import general\n",
    "import discretionary_aua\n",
    "import vantage_aua\n",
    "from data_access.data_accessing import pull_data_for_model, read_assumptions_from_google_sheet\n",
    "import revenue\n",
    "import costs\n",
    "import consolidated\n",
    "import discf\n",
    "import combined\n",
    "from ipywidgets import widgets, Output, interact, IntSlider\n",
    "from IPython.display import display, clear_output, DisplayHandle\n",
    "import stats\n",
    "pandas.set_option('display.float_format', '{0:,.4f}'.format)               \n",
    "idx = pandas.IndexSlice\n",
    "cached_displays = {}"
   ]
  },
  {
   "cell_type": "code",
   "execution_count": null,
   "metadata": {},
   "outputs": [],
   "source": [
    "print('Pulling data...')\n",
    "\n",
    "data_dic = pull_data_for_model()\n",
    "\n",
    "input_dic = read_assumptions_from_google_sheet()\n",
    "\n",
    "print('Data pulled successfully.')"
   ]
  },
  {
   "cell_type": "code",
   "execution_count": null,
   "metadata": {},
   "outputs": [],
   "source": [
    "assumption_button = widgets.Button(description='Update assumptions',layout=widgets.Layout(width='20%',height='40px'))\n",
    "assumption_button.style.button_color = 'lightgreen'\n",
    "def update_assumption(b):\n",
    "    global input_dic\n",
    "    input_dic = read_assumptions_from_google_sheet()\n",
    "    print ('Assumptions updated successfully...')\n",
    "\n",
    "assumption_button.on_click(update_assumption)\n",
    "display(assumption_button)"
   ]
  },
  {
   "cell_type": "code",
   "execution_count": null,
   "metadata": {},
   "outputs": [],
   "source": [
    "def freeze_header(df, num_rows=25, num_columns=3, step_rows=1,\n",
    "                  step_columns=1):\n",
    "    \"\"\"\n",
    "    Freeze the headers (column and index names) of a Pandas DataFrame. A widget\n",
    "    enables to slide through the rows and columns.\n",
    "\n",
    "    Parameters\n",
    "    ----------\n",
    "    df : Pandas DataFrame\n",
    "        DataFrame to display\n",
    "    num_rows : int, optional\n",
    "        Number of rows to display\n",
    "    num_columns : int, optional\n",
    "        Number of columns to display\n",
    "    step_rows : int, optional\n",
    "        Step in the rows\n",
    "    step_columns : int, optional\n",
    "        Step in the columns\n",
    "\n",
    "    Returns\n",
    "    -------\n",
    "    Displays the DataFrame with the widget\n",
    "    \"\"\"\n",
    "    @interact(last_row=IntSlider(min=min(num_rows, df.shape[0]),\n",
    "                                 max=df.shape[0],\n",
    "                                 step=step_rows,\n",
    "                                 description='rows',\n",
    "                                 readout=False,\n",
    "                                 disabled=False,\n",
    "                                 continuous_update=True,\n",
    "                                 orientation='horizontal',\n",
    "                                 slider_color='purple'),\n",
    "              last_column=IntSlider(min=min(num_columns, df.shape[1]),\n",
    "                                    max=df.shape[1],\n",
    "                                    step=step_columns,\n",
    "                                    description='columns',\n",
    "                                    readout=False,\n",
    "                                    disabled=False,\n",
    "                                    continuous_update=True,\n",
    "                                    orientation='horizontal',\n",
    "                                    slider_color='purple'))\n",
    "    def _freeze_header(last_row, last_column):\n",
    "        display(df.iloc[max(0, last_row-num_rows):last_row,\n",
    "                        max(0, last_column-num_columns):last_column])"
   ]
  },
  {
   "cell_type": "code",
   "execution_count": null,
   "metadata": {},
   "outputs": [],
   "source": [
    "def display_with_out(f, out_obj, *args, **kwargs):\n",
    "    with out_obj:\n",
    "        index_slice = kwargs.get('slice', None) # list of indices\n",
    "        if index_slice:\n",
    "            result = f(*args).loc[index_slice]\n",
    "        else:\n",
    "            result = f(*args, **kwargs)\n",
    "        if result is not None:\n",
    "            if isinstance(result, pandas.DataFrame):\n",
    "                freeze_header(result)\n",
    "            else:\n",
    "                display(result)\n",
    "            return result"
   ]
  },
  {
   "cell_type": "code",
   "execution_count": null,
   "metadata": {},
   "outputs": [],
   "source": [
    "out = Output()\n",
    "\n",
    "revenue_types = ['Semi-annual revenue','Annual revenue - FY','Annual revenue - CY','Consolidated semi-annual revenue','Consolidated annual revenue - FY','Consolidated annual revenue - CY', 'clear outputs']\n",
    "box_layout = widgets.Layout(display='flex', flex_flow='column', align_items='stretch',border='solid',width='30%')\n",
    "items = {}\n",
    "for w in revenue_types:\n",
    "    if w == 'clear outputs':\n",
    "        items[w] = widgets.Button(description=w, layout=widgets.Layout(width='100%', height='40px'), button_style='warning', icon='check')\n",
    "    else:\n",
    "        items[w] = widgets.Button(description=w,layout=widgets.Layout(width='100%', height='40px'))\n",
    "        items[w].style.button_color = 'lightgreen'\n",
    "left_box = widgets.VBox([list(items.values())[0],list(items.values())[1],list(items.values())[2]],layout=box_layout)\n",
    "right_box = widgets.VBox([list(items.values())[3],list(items.values())[4],list(items.values())[5], list(items.values())[6]],layout=box_layout)\n",
    "items['Semi-annual revenue'].on_click(lambda x: display_with_out(revenue.semi_revenue,out,data_dic,input_dic))\n",
    "items['Annual revenue - FY'].on_click(lambda x: display_with_out(revenue.annual_revenue,out,data_dic,input_dic))\n",
    "items['Annual revenue - CY'].on_click(lambda x: display_with_out(revenue.annual_revenue,out,data_dic,input_dic,cal_year=True))\n",
    "items['Consolidated semi-annual revenue'].on_click(lambda x: display_with_out(consolidated.revenue_analysis,out,data_dic,input_dic))\n",
    "items['Consolidated annual revenue - FY'].on_click(lambda x: display_with_out(consolidated.annual_revenue_analysis,out,data_dic,input_dic))\n",
    "items['Consolidated annual revenue - CY'].on_click(lambda x: display_with_out(consolidated.annual_revenue_analysis,out,data_dic,input_dic,cal_year=True))\n",
    "items['clear outputs'].on_click(lambda x: display_with_out(clear_output,out))\n",
    "widgets.HBox([left_box,right_box])\n",
    "\n",
    "\n"
   ]
  },
  {
   "cell_type": "code",
   "execution_count": null,
   "metadata": {},
   "outputs": [],
   "source": [
    "display(out)"
   ]
  },
  {
   "cell_type": "code",
   "execution_count": null,
   "metadata": {},
   "outputs": [],
   "source": [
    "out2 = Output()\n",
    "\n",
    "costs_types = ['Semi-annual costs','Annual costs - FY','Annual costs - CY','Consolidated semi-annual costs','Consolidated annual costs - FY','Consolidated annual costs - CY', 'clear outputs']\n",
    "items2 = {}\n",
    "for w2 in costs_types:\n",
    "    if w2 == 'clear outputs':\n",
    "        items2[w2] = widgets.Button(description=w2, layout=widgets.Layout(width='100%', height='40px'), button_style='warning', icon='check')\n",
    "    else:\n",
    "        items2[w2] = widgets.Button(description=w2,layout=widgets.Layout(width='100%', height='40px'))\n",
    "        items2[w2].style.button_color = 'lightgreen'\n",
    "left_box2 = widgets.VBox([list(items2.values())[0],list(items2.values())[1],list(items2.values())[2]],layout=box_layout)\n",
    "right_box2 = widgets.VBox([list(items2.values())[3],list(items2.values())[4],list(items2.values())[5], list(items2.values())[6]],layout=box_layout)\n",
    "items2['Semi-annual costs'].on_click(lambda x: display_with_out(costs.semi_costs,out2,input_dic))\n",
    "items2['Annual costs - FY'].on_click(lambda x: display_with_out(costs.annual_costs,out2,input_dic))\n",
    "items2['Annual costs - CY'].on_click(lambda x: display_with_out(costs.annual_costs,out2,input_dic,cal_year=True))\n",
    "items2['Consolidated semi-annual costs'].on_click(lambda x: display_with_out(consolidated.costs_analysis,out2,input_dic))\n",
    "items2['Consolidated annual costs - FY'].on_click(lambda x: display_with_out(consolidated.annual_costs_analysis,out2,input_dic))\n",
    "items2['Consolidated annual costs - CY'].on_click(lambda x: display_with_out(consolidated.annual_costs_analysis,out2,input_dic,cal_year=True))\n",
    "items2['clear outputs'].on_click(lambda x: display_with_out(clear_output,out2))\n",
    "widgets.HBox([left_box2,right_box2])"
   ]
  },
  {
   "cell_type": "code",
   "execution_count": null,
   "metadata": {},
   "outputs": [],
   "source": [
    "display(out2)"
   ]
  },
  {
   "cell_type": "code",
   "execution_count": null,
   "metadata": {},
   "outputs": [],
   "source": [
    "ops = [i for i in list(range(general.recent_end_year, general.recent_end_year+10))]\n",
    "a_slider = widgets.SelectMultiple(options=ops, description='Years for comparison')\n",
    "display(a_slider)\n",
    "\n",
    "compare1 = ['NNB comparison','AUA comparison']\n",
    "box_layout2 = widgets.Layout(display='flex', flex_flow='row', align_items='stretch',border='solid',width='30%')\n",
    "items3 = {}\n",
    "for w3 in compare1:\n",
    "    items3[w3] = widgets.Button(description=w3,layout=widgets.Layout(width='100%', height='40px'))\n",
    "    items3[w3].style.button_color = 'lightgreen'\n",
    "box3 = widgets.Box([list(items3.values())[0],list(items3.values())[1]],layout=box_layout2)\n",
    "items3['NNB comparison'].on_click(lambda x: display(consolidated.get_nnb_compare(data_dic, input_dic,list(a_slider.value))))\n",
    "items3['AUA comparison'].on_click(lambda x: display(consolidated.get_aua_compare(data_dic, input_dic,list(a_slider.value))))\n",
    "\n",
    "\n",
    "display(box3)"
   ]
  },
  {
   "cell_type": "code",
   "execution_count": null,
   "metadata": {},
   "outputs": [],
   "source": [
    "compare2 = ['Interim revenue comparison','Annual revenue comparison', 'Interim costs comparison', 'Annual costs comparison']\n",
    "box_layout3 = widgets.Layout(display='flex', flex_flow='row', align_items='stretch',border='solid',width='50%')\n",
    "items4 = {}\n",
    "for w4 in compare2:\n",
    "    items4[w4] = widgets.Button(description=w4,layout=widgets.Layout(width='100%', height='40px'))\n",
    "    items4[w4].style.button_color = 'lightgreen'\n",
    "top_box4 = widgets.HBox([list(items4.values())[0],list(items4.values())[1]],layout=box_layout3)\n",
    "bottom_box4 = widgets.HBox([list(items4.values())[2],list(items4.values())[3]],layout=box_layout3)\n",
    "items4['Interim revenue comparison'].on_click(lambda x: display(consolidated.get_revenue_compare(data_dic, input_dic,True,list(a_slider.value))))\n",
    "items4['Annual revenue comparison'].on_click(lambda x: display(consolidated.get_revenue_compare(data_dic, input_dic,False,list(a_slider.value))))\n",
    "items4['Interim costs comparison'].on_click(lambda x: display(consolidated.get_costs_compare(input_dic,True,list(a_slider.value))))\n",
    "items4['Annual costs comparison'].on_click(lambda x: display(consolidated.get_costs_compare(input_dic,False,list(a_slider.value))))\n",
    "\n",
    "widgets.VBox([top_box4, bottom_box4])"
   ]
  },
  {
   "cell_type": "code",
   "execution_count": null,
   "metadata": {},
   "outputs": [],
   "source": [
    "'''=====current values=======\n",
    "discounted cash flow period: 9 years\n",
    "perpetuity growth rate: 0.035\n",
    "cash flow discounted rate: 0.085\n",
    "'''\n",
    "out4 = Output()\n",
    "dcf_period = widgets.IntText(value=9,placeholder='Integer',description='DCF period - No. of years:')\n",
    "display(dcf_period)\n",
    "perp_growth = widgets.FloatText(value=0.035,placeholder='Percentage as decimals',description='Perpetuity growth rate:')\n",
    "display(perp_growth)\n",
    "disct_rate = widgets.FloatText(value=0.085,placeholder='Percentage as decimals',description='Cash flow discount rate:')\n",
    "display(disct_rate)\n",
    "current_value = widgets.Checkbox(value=False, description='Fair value now')\n",
    "display(current_value)\n",
    "fractional = widgets.Checkbox(value=False, description='Fractional valuation')\n",
    "display(fractional)\n",
    "\n",
    "dis_cash = ['Discounted cash flow','Fair value', 'clear outputs']\n",
    "items5 = {}\n",
    "for w5 in dis_cash:\n",
    "    if w5 == 'clear outputs':\n",
    "        items5[w5] = widgets.Button(description=w5, layout=widgets.Layout(width='100%', height='40px'), button_style='warning', icon='check')\n",
    "    else:\n",
    "        items5[w5] = widgets.Button(description=w5, layout=widgets.Layout(width='100%', height='40px'))\n",
    "        items5[w5].style.button_color = 'lightgreen'\n",
    "fair = widgets.HBox([list(items5.values())[0],list(items5.values())[1],list(items5.values())[2]],layout=box_layout3)\n",
    "items5['Discounted cash flow'].on_click(lambda x: display_with_out(discf.disc_cash_flow,out4,data_dic,input_dic,now=current_value.value,fractional=fractional.value,dcf_p=dcf_period.value,disc_rate=disct_rate.value))\n",
    "items5['Fair value'].on_click(lambda x: display_with_out(discf.fair_value,out4,data_dic,input_dic,now=current_value.value,fractional=fractional.value,dcf_p=dcf_period.value,disc_rate=disct_rate.value,pep_rate=perp_growth.value))   \n",
    "items5['clear outputs'].on_click(lambda x: display_with_out(clear_output,out4))\n",
    "display(fair)"
   ]
  },
  {
   "cell_type": "code",
   "execution_count": null,
   "metadata": {},
   "outputs": [],
   "source": [
    "display(out4)"
   ]
  },
  {
   "cell_type": "code",
   "execution_count": null,
   "metadata": {},
   "outputs": [],
   "source": [
    "radio1 = widgets.RadioButtons(options=['month_no','quarter_no','half_no','financial_year','calendar_year'],description='Period')\n",
    "display(radio1)\n",
    "\n",
    "revenue_dist_radio = widgets.RadioButtons(options=[True, False],description='Semi-annual revenue distribution?')\n",
    "display(revenue_dist_radio)\n"
   ]
  },
  {
   "cell_type": "code",
   "execution_count": null,
   "metadata": {},
   "outputs": [],
   "source": [
    "out3 = Output()\n",
    "\n",
    "others = ['HLF composite monthly return','Revenue distribution','Avg AUA distribution','Total AUA','Total NNB nnc Algo', 'NNB distribution nnc Algo', 'clear outputs']\n",
    "items6 = {}\n",
    "\n",
    "for w6 in others:\n",
    "    if w6 == 'clear outputs':\n",
    "        items6[w6] = widgets.Button(description=w6, layout=widgets.Layout(width='100%', height='40px'), button_style='warning', icon='check')\n",
    "    else:\n",
    "        items6[w6] = widgets.Button(description=w6, layout=widgets.Layout(width='100%', height='40px'))\n",
    "        items6[w6].style.button_color = 'lightgreen'\n",
    "other_box1 = widgets.VBox([list(items6.values())[0],list(items6.values())[1],list(items6.values())[2]],layout=box_layout)\n",
    "other_box2 = widgets.VBox([list(items6.values())[3],list(items6.values())[4],list(items6.values())[5],list(items6.values())[6]],layout=box_layout)\n",
    "items6['HLF composite monthly return'].on_click(lambda x: display_with_out(discretionary_aua.get_composite_return,out3,data_dic))\n",
    "items6['Total AUA'].on_click(lambda x: display_with_out(combined.total_aua,out3,data_dic,input_dic))\n",
    "items6['Revenue distribution'].on_click(lambda x: display_with_out(stats.summary_revenue_dist,out3,data_dic,input_dic,revenue_dist_radio.value))\n",
    "items6['Avg AUA distribution'].on_click(lambda x: display_with_out(stats.summary_avg_aua_dist,out3,data_dic,input_dic,radio1.value))\n",
    "items6['Total NNB nnc Algo'].on_click(lambda x: display_with_out(combined.total_nnb_ci_clientAlgo,out3,data_dic,input_dic, opt=radio1.value))\n",
    "items6['NNB distribution nnc Algo'].on_click(lambda x: display_with_out(combined.total_nnb_distribution_clientAlgo,out3,data_dic, input_dic, opt=radio1.value))\n",
    "items6['clear outputs'].on_click(lambda x: display_with_out(clear_output,out3))\n",
    "widgets.HBox([other_box1, other_box2])\n",
    "\n",
    "#Financial year based"
   ]
  },
  {
   "cell_type": "code",
   "execution_count": null,
   "metadata": {},
   "outputs": [],
   "source": [
    "display(out3)"
   ]
  },
  {
   "cell_type": "code",
   "execution_count": null,
   "metadata": {},
   "outputs": [],
   "source": [
    "out5 = Output()\n",
    "nnb_radio = widgets.RadioButtons(options=['day','month','semi-annual','quarter','annual'],description='Period',disabled=False)\n",
    "nnb_dropdown = widgets.Dropdown(options=['no_select',None],description='Fund option',disabled=False)\n",
    "unit_dropdown = widgets.Dropdown(options=['acc','inc'],description='Unit type',disabled=False)\n",
    "display(nnb_radio)\n",
    "display(nnb_dropdown)\n",
    "display(unit_dropdown)\n",
    "\n",
    "nnb_b = widgets.Button(description='Implied HLF nnb period-to-date', layout=widgets.Layout(width='50%', height='40px'))\n",
    "nnb_b.style.button_color = 'lightgreen'\n",
    "\n",
    "nnb_b2 = widgets.Button(description='HLF unit change period-to-date', layout=widgets.Layout(width='50%', height='40px'))\n",
    "nnb_b2.style.button_color = 'lightgreen'\n",
    "\n",
    "fund_size_widget = widgets.Button(description='HLF total size', layout=widgets.Layout(width='50%', height='40px'))\n",
    "fund_size_widget.style.button_color = 'lightgreen'\n",
    "\n",
    "clear_outputs_widget = widgets.Button(description='clear outputs', layout=widgets.Layout(width='50%', height='40px'), button_style='warning', icon='check')\n",
    "\n",
    "nnb_b.on_click(lambda x: display_with_out(stats.hlf_to_date_implied_nnb,out5,data_dic,typ=nnb_radio.value,fund_opt=nnb_dropdown.value))\n",
    "nnb_b2.on_click(lambda x: display_with_out(stats.hlf_to_date_unit_change,out5,data_dic, unit_type=unit_dropdown.value,typ=nnb_radio.value,fund_opt=nnb_dropdown.value))\n",
    "fund_size_widget.on_click(lambda x: display_with_out((lambda y=None: data_dic['fund size'].sum(axis='columns')),out5))\n",
    "clear_outputs_widget.on_click(lambda x: display_with_out(clear_output,out5))\n",
    "\n",
    "display(nnb_b)\n",
    "display(nnb_b2)\n",
    "display(fund_size_widget)\n",
    "display(clear_outputs_widget)"
   ]
  },
  {
   "cell_type": "code",
   "execution_count": null,
   "metadata": {},
   "outputs": [],
   "source": [
    "display(out5)"
   ]
  },
  {
   "cell_type": "code",
   "execution_count": null,
   "metadata": {},
   "outputs": [],
   "source": [
    "out6 = Output()\n",
    "cash_radio = widgets.RadioButtons(options=['monthly','quarter_no','half_no','financial_year','calendar_year'],description='Period',disabled=False)\n",
    "display(cash_radio)\n",
    "\n",
    "\n",
    "cash_b = widgets.Button(description='Cash margin', layout=widgets.Layout(width='50%', height='40px'))\n",
    "cash_b.style.button_color = 'lightgreen'\n",
    "clear_outputs_widget2 = widgets.Button(description='clear outputs', layout=widgets.Layout(width='50%', height='40px'), button_style='warning', icon='check')\n",
    "cash_b.on_click(lambda x: display_with_out(stats.cash_margin,out6,data_dic, input_dic, cash_radio.value))\n",
    "clear_outputs_widget2.on_click(lambda x: display_with_out(clear_output,out6))\n",
    "\n",
    "display(cash_b)\n",
    "display(clear_outputs_widget2)"
   ]
  },
  {
   "cell_type": "code",
   "execution_count": null,
   "metadata": {},
   "outputs": [],
   "source": [
    "display(out6)"
   ]
  },
  {
   "cell_type": "code",
   "execution_count": null,
   "metadata": {},
   "outputs": [],
   "source": [
    "out7 = Output()\n",
    "eps_radio = widgets.RadioButtons(options=[True, False],description='Calendar year?',disabled=False)\n",
    "display(eps_radio)\n",
    "\n",
    "is_semi_radio = widgets.RadioButtons(options=[True, False],description='Semi-annual?',disabled=False)\n",
    "display(is_semi_radio)\n",
    "\n",
    "clear_outputs_widget3 = widgets.Button(description='clear outputs', layout=widgets.Layout(width='50%', height='40px'), button_style='warning', icon='check')\n",
    "\n",
    "clear_outputs_widget3.on_click(lambda x: display_with_out(clear_output,out7))\n",
    "\n",
    "eps_summary = widgets.Button(description='Net earnings and EPS', layout=widgets.Layout(width='50%', height='40px'))\n",
    "eps_summary.style.button_color = 'lightgreen'\n",
    "eps_summary.on_click(lambda x: display_with_out(stats.summary_total, out7, data_dic, input_dic, cal=eps_radio.value, is_semi=is_semi_radio.value))\n",
    "display(eps_summary)\n",
    "display(clear_outputs_widget3)\n"
   ]
  },
  {
   "cell_type": "code",
   "execution_count": null,
   "metadata": {},
   "outputs": [],
   "source": [
    "display(out7)"
   ]
  },
  {
   "cell_type": "code",
   "execution_count": null,
   "metadata": {},
   "outputs": [],
   "source": [
    "hlf_radio = widgets.RadioButtons(options=['month_no','quarter_no','half_no','financial_year','calendar_year'],description='Period',disabled=False)\n",
    "display(hlf_radio)\n",
    "out8 = Output()\n",
    "\n",
    "buttom3 = ['HLF revenue margin','Monthly revenue', 'HLF avg fund size','Quarter Trading update revenue', 'clear outputs']\n",
    "items7 = {}\n",
    "for w7 in buttom3:\n",
    "    if w7 == 'clear outputs':\n",
    "        items7[w7] = widgets.Button(description=w7, layout=widgets.Layout(width='100%', height='40px'), button_style='warning', icon='check')\n",
    "    else:\n",
    "        items7[w7] = widgets.Button(description=w7, layout=widgets.Layout(width='100%', height='40px'))\n",
    "        items7[w7].style.button_color = 'lightgreen'\n",
    "\n",
    "top_m = widgets.HBox([list(items7.values())[0],list(items7.values())[1]],layout=box_layout3)\n",
    "bottom_m = widgets.HBox([list(items7.values())[2],list(items7.values())[3],list(items7.values())[4]],layout=box_layout3)\n",
    "\n",
    "items7['HLF revenue margin'].on_click(lambda x: display_with_out(stats.hlf_revenue_margin,out8,data_dic,input_dic,hlf_radio.value))\n",
    "items7['Monthly revenue'].on_click(lambda x: display_with_out(revenue.monthly_revenue,out8,data_dic, input_dic))\n",
    "items7['HLF avg fund size'].on_click(lambda x: display_with_out(stats.avg_hlf_size,out8,data_dic, input_dic,hlf_radio.value))\n",
    "items7['Quarter Trading update revenue'].on_click(lambda x: display_with_out(stats.quarter_revenue,out8,data_dic, input_dic))\n",
    "items7['clear outputs'].on_click(lambda x: display_with_out(clear_output,out8))\n",
    "\n",
    "\n",
    "widgets.VBox([top_m, bottom_m])"
   ]
  },
  {
   "cell_type": "code",
   "execution_count": null,
   "metadata": {},
   "outputs": [],
   "source": [
    "display(out8)"
   ]
  },
  {
   "cell_type": "code",
   "execution_count": null,
   "metadata": {},
   "outputs": [],
   "source": [
    "display(a_slider)\n",
    "\n",
    "out9 = Output()\n",
    "\n",
    "client_options = ['Total No. of clients','Net new clients','fx effects on funds','clear outputs']\n",
    "items8 = {}\n",
    "for w8 in client_options:\n",
    "    if w8 == 'clear outputs':\n",
    "        items8[w8] = widgets.Button(description=w8, layout=widgets.Layout(width='100%', height='40px'), button_style='warning', icon='check')\n",
    "    else:\n",
    "        items8[w8] = widgets.Button(description=w8, layout=widgets.Layout(width='100%', height='40px'))\n",
    "        items8[w8].style.button_color = 'lightgreen'\n",
    "c_fair = widgets.HBox([list(items8.values())[0],list(items8.values())[1],list(items8.values())[2],list(items8.values())[3]],layout=box_layout3)\n",
    "items8['Total No. of clients'].on_click(lambda x: display_with_out(combined.total_client_predt,out9,data_dic, input_dic, slice=list(a_slider.value)))\n",
    "items8['Net new clients'].on_click(lambda x: display_with_out(combined.net_new_client_predt,out9,data_dic, input_dic, slice=list(a_slider.value)))\n",
    "items8['fx effects on funds'].on_click(lambda x: display_with_out(vantage_aua.fx_effects_on_funds,out9,data_dic))\n",
    "items8['clear outputs'].on_click(lambda x: display_with_out(clear_output,out9))\n",
    "\n",
    "display(c_fair)"
   ]
  },
  {
   "cell_type": "code",
   "execution_count": null,
   "metadata": {},
   "outputs": [],
   "source": [
    "display(out9)"
   ]
  },
  {
   "cell_type": "code",
   "execution_count": null,
   "metadata": {},
   "outputs": [],
   "source": [
    "# %load_ext autoreload\n",
    "# %autoreload 2"
   ]
  },
  {
   "cell_type": "code",
   "execution_count": null,
   "metadata": {},
   "outputs": [],
   "source": [
    "\n",
    "# # =============================== fair value sensitivity analysis ===========================================\n",
    "\n",
    "# disc_rate_list = [0.0825,0.085,0.0875,0.09,0.095,0.1]\n",
    "# pep_rate_list = [0.035,0.0375,0.04,0.0425,0.045]\n",
    "\n",
    "# df_1y = pandas.DataFrame(columns = disc_rate_list, index=pep_rate_list)\n",
    "# df_1y.columns.name = 'Cost of Equity'\n",
    "# df_1y.index.name = 'Long-term Growth Rate'\n",
    "\n",
    "# for i in pep_rate_list:\n",
    "#     for j in disc_rate_list:\n",
    "#         df_1y.loc[i,j] = discf.fair_value(data_dic, input_dic,now=False,fractional=True,dcf_p=9,disc_rate=j,pep_rate=i).loc['Fair value per share','HL']\n"
   ]
  },
  {
   "cell_type": "code",
   "execution_count": null,
   "metadata": {},
   "outputs": [],
   "source": [
    "# df_1y"
   ]
  },
  {
   "cell_type": "code",
   "execution_count": null,
   "metadata": {},
   "outputs": [],
   "source": []
  }
 ],
 "metadata": {
  "kernelspec": {
   "display_name": "Python 3",
   "language": "python",
   "name": "python3"
  },
  "language_info": {
   "codemirror_mode": {
    "name": "ipython",
    "version": 3
   },
   "file_extension": ".py",
   "mimetype": "text/x-python",
   "name": "python",
   "nbconvert_exporter": "python",
   "pygments_lexer": "ipython3",
   "version": "3.6.4"
  }
 },
 "nbformat": 4,
 "nbformat_minor": 2
}
