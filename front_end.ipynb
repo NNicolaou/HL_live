{
 "cells": [
  {
   "cell_type": "code",
   "execution_count": 1,
   "metadata": {},
   "outputs": [],
   "source": [
    "from IPython.display import HTML\n",
    "HTML('''<script>\n",
    "code_show=true; \n",
    "function code_toggle() {\n",
    " if (code_show){\n",
    " $('div.input').hide();\n",
    " } else {\n",
    " $('div.input').show();\n",
    " }\n",
    " code_show = !code_show\n",
    "} \n",
    "$( document ).ready(code_toggle);\n",
    "</script>\n",
    "The raw code for this IPython notebook is by default hidden for easier reading.\n",
    "To toggle on/off the raw code, click <a href=\"javascript:code_toggle()\">here</a>.''')"
   ]
  },
  {
   "cell_type": "code",
   "execution_count": 2,
   "metadata": {},
   "outputs": [
    {
     "name": "stdout",
     "output_type": "stream",
     "text": [
      "Database connected successfully.\n"
     ]
    }
   ],
   "source": [
    "import pandas\n",
    "%matplotlib notebook\n",
    "import general\n",
    "import discretionary_aua\n",
    "import vantage_aua\n",
    "from data_access.data_accessing import pull_data_for_model, read_data, assumptions_name, assumptions_sheet, pull_data_from_db\n",
    "import combined\n",
    "import revenue\n",
    "import costs\n",
    "import consolidated\n",
    "import discf\n",
    "from ipywidgets import widgets\n",
    "from IPython.display import display\n",
    "import stats\n",
    "pandas.set_option('display.float_format', '{:20,.6f}'.format)   #suppressing scientific notation\n",
    "idx = pandas.IndexSlice"
   ]
  },
  {
   "cell_type": "code",
   "execution_count": 3,
   "metadata": {},
   "outputs": [
    {
     "name": "stdout",
     "output_type": "stream",
     "text": [
      "Pulling data...\n",
      "Data pulled successfully.\n"
     ]
    }
   ],
   "source": [
    "print('Pulling data...')\n",
    "\n",
    "data_dic = pull_data_for_model()\n",
    "\n",
    "input_dic = read_data(assumptions_name, assumptions_sheet)\n",
    "\n",
    "print('Data pulled successfully.')"
   ]
  },
  {
   "cell_type": "code",
   "execution_count": 4,
   "metadata": {},
   "outputs": [
    {
     "data": {
      "application/vnd.jupyter.widget-view+json": {
       "model_id": "9e1b5eb710d14b7b9164c10d2a70133c",
       "version_major": 2,
       "version_minor": 0
      },
      "text/plain": [
       "Button(description='Update assumptions', layout=Layout(height='40px', width='20%'), style=ButtonStyle(button_c…"
      ]
     },
     "metadata": {},
     "output_type": "display_data"
    }
   ],
   "source": [
    "assumption_button = widgets.Button(description='Update assumptions',layout=widgets.Layout(width='20%',height='40px'))\n",
    "assumption_button.style.button_color = 'lightgreen'\n",
    "def update_assumption(b):\n",
    "    global input_dic\n",
    "    input_dic = read_data(assumptions_name, assumptions_sheet)\n",
    "    print ('Assumptions updated successfully...')\n",
    "\n",
    "assumption_button.on_click(update_assumption)\n",
    "display(assumption_button)"
   ]
  },
  {
   "cell_type": "code",
   "execution_count": 5,
   "metadata": {},
   "outputs": [
    {
     "data": {
      "application/vnd.jupyter.widget-view+json": {
       "model_id": "dca8cc4ce51a4d9fbfbe4298155bafc9",
       "version_major": 2,
       "version_minor": 0
      },
      "text/plain": [
       "HBox(children=(VBox(children=(Button(description='Semi-annual revenue', layout=Layout(height='40px', width='10…"
      ]
     },
     "metadata": {},
     "output_type": "display_data"
    }
   ],
   "source": [
    "revenue_types = ['Semi-annual revenue','Annual revenue - FY','Annual revenue - CY','Consolidated semi-annual revenue','Consolidated annual revenue - FY','Consolidated annual revenue - CY']\n",
    "box_layout = widgets.Layout(display='flex', flex_flow='column', align_items='stretch',border='solid',width='30%')\n",
    "items = {}\n",
    "for w in revenue_types:\n",
    "    items[w] = widgets.Button(description=w,layout=widgets.Layout(width='100%', height='40px'))\n",
    "    items[w].style.button_color = 'lightgreen'\n",
    "left_box = widgets.VBox([list(items.values())[0],list(items.values())[1],list(items.values())[2]],layout=box_layout)\n",
    "right_box = widgets.VBox([list(items.values())[3],list(items.values())[4],list(items.values())[5]],layout=box_layout)\n",
    "items['Semi-annual revenue'].on_click(lambda x: display(revenue.semi_revenue(data_dic,input_dic)))\n",
    "items['Annual revenue - FY'].on_click(lambda x: display(revenue.annual_revenue(data_dic,input_dic)))\n",
    "items['Annual revenue - CY'].on_click(lambda x: display(revenue.annual_revenue(data_dic,input_dic,cal_year=True)))\n",
    "items['Consolidated semi-annual revenue'].on_click(lambda x: display(consolidated.revenue_analysis(data_dic,input_dic)))\n",
    "items['Consolidated annual revenue - FY'].on_click(lambda x: display(consolidated.annual_revenue_analysis(data_dic,input_dic)))\n",
    "items['Consolidated annual revenue - CY'].on_click(lambda x: display(consolidated.annual_revenue_analysis(data_dic,input_dic,cal_year=True)))\n",
    "widgets.HBox([left_box,right_box])\n",
    "\n"
   ]
  },
  {
   "cell_type": "code",
   "execution_count": 6,
   "metadata": {},
   "outputs": [
    {
     "data": {
      "application/vnd.jupyter.widget-view+json": {
       "model_id": "2cc3191e9f364fc598bd5bd069b64bd8",
       "version_major": 2,
       "version_minor": 0
      },
      "text/plain": [
       "HBox(children=(VBox(children=(Button(description='Semi-annual costs', layout=Layout(height='40px', width='100%…"
      ]
     },
     "metadata": {},
     "output_type": "display_data"
    }
   ],
   "source": [
    "costs_types = ['Semi-annual costs','Annual costs - FY','Annual costs - CY','Consolidated semi-annual costs','Consolidated annual costs - FY','Consolidated annual costs - CY']\n",
    "items2 = {}\n",
    "for w2 in costs_types:\n",
    "    items2[w2] = widgets.Button(description=w2,layout=widgets.Layout(width='100%', height='40px'))\n",
    "    items2[w2].style.button_color = 'lightgreen'\n",
    "left_box2 = widgets.VBox([list(items2.values())[0],list(items2.values())[1],list(items2.values())[2]],layout=box_layout)\n",
    "right_box2 = widgets.VBox([list(items2.values())[3],list(items2.values())[4],list(items2.values())[5]],layout=box_layout)\n",
    "items2['Semi-annual costs'].on_click(lambda x: display(costs.semi_costs(input_dic)))\n",
    "items2['Annual costs - FY'].on_click(lambda x: display(costs.annual_costs(input_dic)))\n",
    "items2['Annual costs - CY'].on_click(lambda x: display(costs.annual_costs(input_dic,cal_year=True)))\n",
    "items2['Consolidated semi-annual costs'].on_click(lambda x: display(consolidated.costs_analysis(input_dic)))\n",
    "items2['Consolidated annual costs - FY'].on_click(lambda x: display(consolidated.annual_costs_analysis(input_dic)))\n",
    "items2['Consolidated annual costs - CY'].on_click(lambda x: display(consolidated.annual_costs_analysis(input_dic,cal_year=True)))\n",
    "widgets.HBox([left_box2,right_box2])"
   ]
  },
  {
   "cell_type": "code",
   "execution_count": 7,
   "metadata": {},
   "outputs": [
    {
     "data": {
      "application/vnd.jupyter.widget-view+json": {
       "model_id": "304a5614055b4587a1598429d5bc8145",
       "version_major": 2,
       "version_minor": 0
      },
      "text/plain": [
       "SelectMultiple(description='Years for comparison', options=(2019, 2020, 2021, 2022, 2023, 2024, 2025, 2026, 20…"
      ]
     },
     "metadata": {},
     "output_type": "display_data"
    },
    {
     "data": {
      "application/vnd.jupyter.widget-view+json": {
       "model_id": "26f1499e41c149c192322d3436a7ae43",
       "version_major": 2,
       "version_minor": 0
      },
      "text/plain": [
       "Box(children=(Button(description='NNB comparison', layout=Layout(height='40px', width='100%'), style=ButtonSty…"
      ]
     },
     "metadata": {},
     "output_type": "display_data"
    }
   ],
   "source": [
    "ops = [i for i in list(range(general.recent_end_year, general.recent_end_year+10))]\n",
    "a_slider = widgets.SelectMultiple(options=ops, description='Years for comparison')\n",
    "display(a_slider)\n",
    "\n",
    "compare1 = ['NNB comparison','AUA comparison']\n",
    "box_layout2 = widgets.Layout(display='flex', flex_flow='row', align_items='stretch',border='solid',width='30%')\n",
    "items3 = {}\n",
    "for w3 in compare1:\n",
    "    items3[w3] = widgets.Button(description=w3,layout=widgets.Layout(width='100%', height='40px'))\n",
    "    items3[w3].style.button_color = 'lightgreen'\n",
    "box3 = widgets.Box([list(items3.values())[0],list(items3.values())[1]],layout=box_layout2)\n",
    "items3['NNB comparison'].on_click(lambda x: display(consolidated.get_nnb_compare(data_dic, input_dic,list(a_slider.value))))\n",
    "items3['AUA comparison'].on_click(lambda x: display(consolidated.get_aua_compare(data_dic, input_dic,list(a_slider.value))))\n",
    "\n",
    "\n",
    "display(box3)"
   ]
  },
  {
   "cell_type": "code",
   "execution_count": 8,
   "metadata": {},
   "outputs": [
    {
     "data": {
      "application/vnd.jupyter.widget-view+json": {
       "model_id": "f72ef5583e5247e1bf736d93f0f6326a",
       "version_major": 2,
       "version_minor": 0
      },
      "text/plain": [
       "VBox(children=(HBox(children=(Button(description='Interim revenue comparison', layout=Layout(height='40px', wi…"
      ]
     },
     "metadata": {},
     "output_type": "display_data"
    }
   ],
   "source": [
    "compare2 = ['Interim revenue comparison','Annual revenue comparison', 'Interim costs comparison', 'Annual costs comparison']\n",
    "box_layout3 = widgets.Layout(display='flex', flex_flow='row', align_items='stretch',border='solid',width='50%')\n",
    "items4 = {}\n",
    "for w4 in compare2:\n",
    "    items4[w4] = widgets.Button(description=w4,layout=widgets.Layout(width='100%', height='40px'))\n",
    "    items4[w4].style.button_color = 'lightgreen'\n",
    "top_box4 = widgets.HBox([list(items4.values())[0],list(items4.values())[1]],layout=box_layout3)\n",
    "bottom_box4 = widgets.HBox([list(items4.values())[2],list(items4.values())[3]],layout=box_layout3)\n",
    "items4['Interim revenue comparison'].on_click(lambda x: display(consolidated.get_revenue_compare(data_dic, input_dic,True,list(a_slider.value))))\n",
    "items4['Annual revenue comparison'].on_click(lambda x: display(consolidated.get_revenue_compare(data_dic, input_dic,False,list(a_slider.value))))\n",
    "items4['Interim costs comparison'].on_click(lambda x: display(consolidated.get_costs_compare(input_dic,True,list(a_slider.value))))\n",
    "items4['Annual costs comparison'].on_click(lambda x: display(consolidated.get_costs_compare(input_dic,False,list(a_slider.value))))\n",
    "\n",
    "widgets.VBox([top_box4, bottom_box4])"
   ]
  },
  {
   "cell_type": "code",
   "execution_count": 9,
   "metadata": {},
   "outputs": [
    {
     "data": {
      "application/vnd.jupyter.widget-view+json": {
       "model_id": "54190ae60a16488cb635022b76a8da62",
       "version_major": 2,
       "version_minor": 0
      },
      "text/plain": [
       "IntText(value=9, description='DCF period - No. of years:')"
      ]
     },
     "metadata": {},
     "output_type": "display_data"
    },
    {
     "data": {
      "application/vnd.jupyter.widget-view+json": {
       "model_id": "69d862614e4c4c5e8bd3d047ebc3024b",
       "version_major": 2,
       "version_minor": 0
      },
      "text/plain": [
       "FloatText(value=0.035, description='Perpetuity growth rate:')"
      ]
     },
     "metadata": {},
     "output_type": "display_data"
    },
    {
     "data": {
      "application/vnd.jupyter.widget-view+json": {
       "model_id": "58f5ebf90fc74c708620702303ff3af4",
       "version_major": 2,
       "version_minor": 0
      },
      "text/plain": [
       "FloatText(value=0.085, description='Cash flow discount rate:')"
      ]
     },
     "metadata": {},
     "output_type": "display_data"
    },
    {
     "data": {
      "application/vnd.jupyter.widget-view+json": {
       "model_id": "5f4013ae54e3431e9d0009001d74ff51",
       "version_major": 2,
       "version_minor": 0
      },
      "text/plain": [
       "Checkbox(value=False, description='Fair value now')"
      ]
     },
     "metadata": {},
     "output_type": "display_data"
    },
    {
     "data": {
      "application/vnd.jupyter.widget-view+json": {
       "model_id": "21c92795988f4d5ea54b8530725dff08",
       "version_major": 2,
       "version_minor": 0
      },
      "text/plain": [
       "Checkbox(value=False, description='Fractional valuation')"
      ]
     },
     "metadata": {},
     "output_type": "display_data"
    },
    {
     "data": {
      "application/vnd.jupyter.widget-view+json": {
       "model_id": "8264b886d15b474db510004b03bd98b9",
       "version_major": 2,
       "version_minor": 0
      },
      "text/plain": [
       "HBox(children=(Button(description='Discounted cash flow', layout=Layout(height='40px', width='100%'), style=Bu…"
      ]
     },
     "metadata": {},
     "output_type": "display_data"
    }
   ],
   "source": [
    "'''=====current values=======\n",
    "discounted cash flow period: 9 years\n",
    "perpetuity growth rate: 0.035\n",
    "cash flow discounted rate: 0.085\n",
    "'''\n",
    "dcf_period = widgets.IntText(value=9,placeholder='Integer',description='DCF period - No. of years:')\n",
    "display(dcf_period)\n",
    "perp_growth = widgets.FloatText(value=0.035,placeholder='Percentage as decimals',description='Perpetuity growth rate:')\n",
    "display(perp_growth)\n",
    "disct_rate = widgets.FloatText(value=0.085,placeholder='Percentage as decimals',description='Cash flow discount rate:')\n",
    "display(disct_rate)\n",
    "current_value = widgets.Checkbox(value=False, description='Fair value now')\n",
    "display(current_value)\n",
    "fractional = widgets.Checkbox(value=False, description='Fractional valuation')\n",
    "display(fractional)\n",
    "\n",
    "dis_cash = ['Discounted cash flow','Fair value']\n",
    "items5 = {}\n",
    "for w5 in dis_cash:\n",
    "    items5[w5] = widgets.Button(description=w5, layout=widgets.Layout(width='100%', height='40px'))\n",
    "    items5[w5].style.button_color = 'lightgreen'\n",
    "fair = widgets.HBox([list(items5.values())[0],list(items5.values())[1]],layout=box_layout3)\n",
    "items5['Discounted cash flow'].on_click(lambda x: display(discf.disc_cash_flow(data_dic, input_dic,now=current_value.value,fractional=fractional.value,dcf_p=dcf_period.value,disc_rate=disct_rate.value)))\n",
    "items5['Fair value'].on_click(lambda x: display(discf.fair_value(data_dic, input_dic,now=current_value.value,fractional=fractional.value,dcf_p=dcf_period.value,disc_rate=disct_rate.value,pep_rate=perp_growth.value)))    \n",
    "display(fair)"
   ]
  },
  {
   "cell_type": "code",
   "execution_count": 10,
   "metadata": {},
   "outputs": [
    {
     "data": {
      "application/vnd.jupyter.widget-view+json": {
       "model_id": "9fb45ce042dc4824b4e730f1d4b981bf",
       "version_major": 2,
       "version_minor": 0
      },
      "text/plain": [
       "RadioButtons(description='Period', options=('month_no', 'quarter_no', 'half_no', 'financial_year', 'calendar_y…"
      ]
     },
     "metadata": {},
     "output_type": "display_data"
    },
    {
     "data": {
      "application/vnd.jupyter.widget-view+json": {
       "model_id": "87ec6ad6af304070b1fe5f6fc4baf81b",
       "version_major": 2,
       "version_minor": 0
      },
      "text/plain": [
       "RadioButtons(description='Semi-annual revenue distribution?', options=(True, False), value=True)"
      ]
     },
     "metadata": {},
     "output_type": "display_data"
    },
    {
     "data": {
      "application/vnd.jupyter.widget-view+json": {
       "model_id": "369bc01616ef47c3b6c7cc32d90f2438",
       "version_major": 2,
       "version_minor": 0
      },
      "text/plain": [
       "HBox(children=(VBox(children=(Button(description='HLF composite monthly return', layout=Layout(height='40px', …"
      ]
     },
     "metadata": {},
     "output_type": "display_data"
    }
   ],
   "source": [
    "radio1 = widgets.RadioButtons(options=['month_no','quarter_no','half_no','financial_year','calendar_year'],description='Period',disabled=False)\n",
    "display(radio1)\n",
    "\n",
    "others = ['HLF composite monthly return','Total NNB hlf Algo','NNB distribution hlf Algo','Total AUA','Revenue distribution','Avg AUA distribution', 'Total NNB nnc Algo', 'NNB distribution nnc Algo']\n",
    "items6 = {}\n",
    "\n",
    "revenue_dist_radio = widgets.RadioButtons(options=[True, False],description='Semi-annual revenue distribution?',disabled=False)\n",
    "display(revenue_dist_radio)\n",
    "    \n",
    "for w6 in others:\n",
    "    items6[w6] = widgets.Button(description=w6, layout=widgets.Layout(width='100%', height='40px'))\n",
    "    items6[w6].style.button_color = 'lightgreen'\n",
    "other_box1 = widgets.VBox([list(items6.values())[0],list(items6.values())[1],list(items6.values())[2],list(items6.values())[3]],layout=box_layout)\n",
    "other_box2 = widgets.VBox([list(items6.values())[4],list(items6.values())[5],list(items6.values())[6],list(items6.values())[7]],layout=box_layout)\n",
    "items6['HLF composite monthly return'].on_click(lambda x: display(discretionary_aua.get_composite_return(data_dic)))\n",
    "items6['Total NNB hlf Algo'].on_click(lambda x: display(combined.total_nnb(data_dic, input_dic, opt=radio1.value)))\n",
    "items6['NNB distribution hlf Algo'].on_click(lambda x: display(combined.nnb_distribution(data_dic, input_dic, opt=radio1.value)))\n",
    "items6['Total AUA'].on_click(lambda x: display(combined.total_aua(data_dic, input_dic)))\n",
    "items6['Revenue distribution'].on_click(lambda x: display(stats.summary_revenue_dist(data_dic, input_dic, revenue_dist_radio.value)))\n",
    "items6['Avg AUA distribution'].on_click(lambda x: display(stats.summary_avg_aua_dist(data_dic, input_dic,radio1.value)))\n",
    "items6['Total NNB nnc Algo'].on_click(lambda x: display(combined.total_nnb_ci_clientAlgo(data_dic, input_dic, opt=radio1.value)))\n",
    "items6['NNB distribution nnc Algo'].on_click(lambda x: display(combined.total_nnb_distribution_clientAlgo(data_dic, input_dic, opt=radio1.value)))\n",
    "\n",
    "widgets.HBox([other_box1, other_box2])\n",
    "\n",
    "#Financial year based"
   ]
  },
  {
   "cell_type": "code",
   "execution_count": 11,
   "metadata": {},
   "outputs": [
    {
     "data": {
      "application/vnd.jupyter.widget-view+json": {
       "model_id": "c49a2354678c4e2b95b7feaf846b8ae5",
       "version_major": 2,
       "version_minor": 0
      },
      "text/plain": [
       "RadioButtons(description='Period', options=('day', 'month', 'semi-annual', 'quarter', 'annual'), value='day')"
      ]
     },
     "metadata": {},
     "output_type": "display_data"
    },
    {
     "data": {
      "application/vnd.jupyter.widget-view+json": {
       "model_id": "eb3622a1952a4058be46150064384e32",
       "version_major": 2,
       "version_minor": 0
      },
      "text/plain": [
       "Dropdown(description='Fund option', options=('no_select', None), value='no_select')"
      ]
     },
     "metadata": {},
     "output_type": "display_data"
    },
    {
     "data": {
      "application/vnd.jupyter.widget-view+json": {
       "model_id": "acf143eec96c4dbfad2e7a27b59c7138",
       "version_major": 2,
       "version_minor": 0
      },
      "text/plain": [
       "Dropdown(description='Unit type', options=('acc', 'inc'), value='acc')"
      ]
     },
     "metadata": {},
     "output_type": "display_data"
    },
    {
     "data": {
      "application/vnd.jupyter.widget-view+json": {
       "model_id": "ca56ece78f09462687e5ffeabb75e656",
       "version_major": 2,
       "version_minor": 0
      },
      "text/plain": [
       "Button(description='Implied HLF nnb period-to-date', layout=Layout(height='40px', width='50%'), style=ButtonSt…"
      ]
     },
     "metadata": {},
     "output_type": "display_data"
    },
    {
     "data": {
      "application/vnd.jupyter.widget-view+json": {
       "model_id": "c61bb46aa27c4d52aae5f220f4dfc90a",
       "version_major": 2,
       "version_minor": 0
      },
      "text/plain": [
       "Button(description='HLF unit change period-to-date', layout=Layout(height='40px', width='50%'), style=ButtonSt…"
      ]
     },
     "metadata": {},
     "output_type": "display_data"
    },
    {
     "data": {
      "application/vnd.jupyter.widget-view+json": {
       "model_id": "710589071e1342c3b8f387bdf6c4ef78",
       "version_major": 2,
       "version_minor": 0
      },
      "text/plain": [
       "Button(description='HLF total size', layout=Layout(height='40px', width='50%'), style=ButtonStyle(button_color…"
      ]
     },
     "metadata": {},
     "output_type": "display_data"
    }
   ],
   "source": [
    "nnb_radio = widgets.RadioButtons(options=['day','month','semi-annual','quarter','annual'],description='Period',disabled=False)\n",
    "nnb_dropdown = widgets.Dropdown(options=['no_select',None],description='Fund option',disabled=False)\n",
    "unit_dropdown = widgets.Dropdown(options=['acc','inc'],description='Unit type',disabled=False)\n",
    "display(nnb_radio)\n",
    "display(nnb_dropdown)\n",
    "display(unit_dropdown)\n",
    "\n",
    "nnb_b = widgets.Button(description='Implied HLF nnb period-to-date', layout=widgets.Layout(width='50%', height='40px'))\n",
    "nnb_b.style.button_color = 'lightgreen'\n",
    "\n",
    "nnb_b2 = widgets.Button(description='HLF unit change period-to-date', layout=widgets.Layout(width='50%', height='40px'))\n",
    "nnb_b2.style.button_color = 'lightgreen'\n",
    "\n",
    "fund_size_widget = widgets.Button(description='HLF total size', layout=widgets.Layout(width='50%', height='40px'))\n",
    "fund_size_widget.style.button_color = 'lightgreen'\n",
    "\n",
    "nnb_b.on_click(lambda x: display(stats.hlf_to_date_implied_nnb(data_dic,typ=nnb_radio.value,fund_opt=nnb_dropdown.value)))\n",
    "nnb_b2.on_click(lambda x: display(stats.hlf_to_date_unit_change(data_dic, unit_type=unit_dropdown.value,typ=nnb_radio.value,fund_opt=nnb_dropdown.value)))\n",
    "fund_size_widget.on_click(lambda x: display(data_dic['fund size'].sum(axis='columns')))\n",
    "\n",
    "display(nnb_b)\n",
    "display(nnb_b2)\n",
    "display(fund_size_widget)"
   ]
  },
  {
   "cell_type": "code",
   "execution_count": 12,
   "metadata": {},
   "outputs": [
    {
     "data": {
      "application/vnd.jupyter.widget-view+json": {
       "model_id": "ad4dbdd416a949d08ab187dbfaf879bb",
       "version_major": 2,
       "version_minor": 0
      },
      "text/plain": [
       "RadioButtons(description='Period', options=('monthly', 'quarter_no', 'half_no', 'financial_year', 'calendar_ye…"
      ]
     },
     "metadata": {},
     "output_type": "display_data"
    },
    {
     "data": {
      "application/vnd.jupyter.widget-view+json": {
       "model_id": "2fec02ba77fe4bf6a1337cf49d6ee93b",
       "version_major": 2,
       "version_minor": 0
      },
      "text/plain": [
       "Button(description='Cash margin', layout=Layout(height='40px', width='50%'), style=ButtonStyle(button_color='l…"
      ]
     },
     "metadata": {},
     "output_type": "display_data"
    }
   ],
   "source": [
    "cash_radio = widgets.RadioButtons(options=['monthly','quarter_no','half_no','financial_year','calendar_year'],description='Period',disabled=False)\n",
    "display(cash_radio)\n",
    "\n",
    "\n",
    "cash_b = widgets.Button(description='Cash margin', layout=widgets.Layout(width='50%', height='40px'))\n",
    "cash_b.style.button_color = 'lightgreen'\n",
    "cash_b.on_click(lambda x: display(stats.cash_margin(data_dic, input_dic, cash_radio.value)))\n",
    "display(cash_b)"
   ]
  },
  {
   "cell_type": "code",
   "execution_count": 13,
   "metadata": {},
   "outputs": [
    {
     "data": {
      "application/vnd.jupyter.widget-view+json": {
       "model_id": "a6fd989117b54277b9212ff904a09fff",
       "version_major": 2,
       "version_minor": 0
      },
      "text/plain": [
       "RadioButtons(description='Calendar year?', options=(True, False), value=True)"
      ]
     },
     "metadata": {},
     "output_type": "display_data"
    },
    {
     "data": {
      "application/vnd.jupyter.widget-view+json": {
       "model_id": "9f0736a3fc79480f8cff845796d849ec",
       "version_major": 2,
       "version_minor": 0
      },
      "text/plain": [
       "RadioButtons(description='Semi-annual?', options=(True, False), value=True)"
      ]
     },
     "metadata": {},
     "output_type": "display_data"
    },
    {
     "data": {
      "application/vnd.jupyter.widget-view+json": {
       "model_id": "3abc4e0988b14074a760330d73df364b",
       "version_major": 2,
       "version_minor": 0
      },
      "text/plain": [
       "Button(description='Net earnings and EPS', layout=Layout(height='40px', width='50%'), style=ButtonStyle(button…"
      ]
     },
     "metadata": {},
     "output_type": "display_data"
    },
    {
     "data": {
      "text/html": [
       "<div>\n",
       "<style scoped>\n",
       "    .dataframe tbody tr th:only-of-type {\n",
       "        vertical-align: middle;\n",
       "    }\n",
       "\n",
       "    .dataframe tbody tr th {\n",
       "        vertical-align: top;\n",
       "    }\n",
       "\n",
       "    .dataframe thead th {\n",
       "        text-align: right;\n",
       "    }\n",
       "</style>\n",
       "<table border=\"1\" class=\"dataframe\">\n",
       "  <thead>\n",
       "    <tr style=\"text-align: right;\">\n",
       "      <th></th>\n",
       "      <th>Total Revenue</th>\n",
       "      <th>Total Costs</th>\n",
       "      <th>Net Earning Before Tax</th>\n",
       "      <th>Net Earning After Tax</th>\n",
       "      <th>EPS</th>\n",
       "    </tr>\n",
       "    <tr>\n",
       "      <th>calendar_year</th>\n",
       "      <th></th>\n",
       "      <th></th>\n",
       "      <th></th>\n",
       "      <th></th>\n",
       "      <th></th>\n",
       "    </tr>\n",
       "  </thead>\n",
       "  <tbody>\n",
       "    <tr>\n",
       "      <th>2019</th>\n",
       "      <td>517,147,169.816397</td>\n",
       "      <td>-188,221,199.509755</td>\n",
       "      <td>328,925,970.306642</td>\n",
       "      <td>266,430,035.948380</td>\n",
       "      <td>0.559974</td>\n",
       "    </tr>\n",
       "    <tr>\n",
       "      <th>2020</th>\n",
       "      <td>578,262,581.290411</td>\n",
       "      <td>-200,462,422.269800</td>\n",
       "      <td>377,800,159.020611</td>\n",
       "      <td>306,018,128.806695</td>\n",
       "      <td>0.643179</td>\n",
       "    </tr>\n",
       "    <tr>\n",
       "      <th>2021</th>\n",
       "      <td>656,542,471.825008</td>\n",
       "      <td>-216,394,239.684789</td>\n",
       "      <td>440,148,232.140219</td>\n",
       "      <td>356,520,068.033578</td>\n",
       "      <td>0.749323</td>\n",
       "    </tr>\n",
       "    <tr>\n",
       "      <th>2022</th>\n",
       "      <td>744,273,291.201918</td>\n",
       "      <td>-233,624,500.219099</td>\n",
       "      <td>510,648,790.982819</td>\n",
       "      <td>413,625,520.696083</td>\n",
       "      <td>0.869345</td>\n",
       "    </tr>\n",
       "    <tr>\n",
       "      <th>2023</th>\n",
       "      <td>839,438,783.322565</td>\n",
       "      <td>-252,259,026.986956</td>\n",
       "      <td>587,179,756.335609</td>\n",
       "      <td>475,615,602.631844</td>\n",
       "      <td>0.999634</td>\n",
       "    </tr>\n",
       "    <tr>\n",
       "      <th>2024</th>\n",
       "      <td>935,097,570.575108</td>\n",
       "      <td>-271,170,147.372015</td>\n",
       "      <td>663,927,423.203092</td>\n",
       "      <td>537,781,212.794505</td>\n",
       "      <td>1.130292</td>\n",
       "    </tr>\n",
       "    <tr>\n",
       "      <th>2025</th>\n",
       "      <td>1,022,425,963.182664</td>\n",
       "      <td>-292,891,263.397572</td>\n",
       "      <td>729,534,699.785092</td>\n",
       "      <td>590,923,106.825925</td>\n",
       "      <td>1.241984</td>\n",
       "    </tr>\n",
       "    <tr>\n",
       "      <th>2026</th>\n",
       "      <td>1,115,217,338.049685</td>\n",
       "      <td>-316,384,822.490814</td>\n",
       "      <td>798,832,515.558872</td>\n",
       "      <td>647,054,337.602686</td>\n",
       "      <td>1.359958</td>\n",
       "    </tr>\n",
       "    <tr>\n",
       "      <th>2027</th>\n",
       "      <td>1,214,546,223.427544</td>\n",
       "      <td>-341,795,456.006064</td>\n",
       "      <td>872,750,767.421480</td>\n",
       "      <td>706,928,121.611399</td>\n",
       "      <td>1.485799</td>\n",
       "    </tr>\n",
       "    <tr>\n",
       "      <th>2028</th>\n",
       "      <td>1,323,537,941.045667</td>\n",
       "      <td>-369,279,597.216159</td>\n",
       "      <td>954,258,343.829508</td>\n",
       "      <td>772,949,258.501902</td>\n",
       "      <td>1.624560</td>\n",
       "    </tr>\n",
       "    <tr>\n",
       "      <th>2029</th>\n",
       "      <td>1,440,216,535.575876</td>\n",
       "      <td>-399,006,444.348997</td>\n",
       "      <td>1,041,210,091.226878</td>\n",
       "      <td>843,380,173.893771</td>\n",
       "      <td>1.772590</td>\n",
       "    </tr>\n",
       "    <tr>\n",
       "      <th>2030</th>\n",
       "      <td>1,566,013,908.807708</td>\n",
       "      <td>-431,159,002.207876</td>\n",
       "      <td>1,134,854,906.599832</td>\n",
       "      <td>919,232,474.345864</td>\n",
       "      <td>1.932014</td>\n",
       "    </tr>\n",
       "    <tr>\n",
       "      <th>2031</th>\n",
       "      <td>1,701,289,940.855978</td>\n",
       "      <td>-465,935,208.788038</td>\n",
       "      <td>1,235,354,732.067940</td>\n",
       "      <td>1,000,637,332.975031</td>\n",
       "      <td>2.103108</td>\n",
       "    </tr>\n",
       "    <tr>\n",
       "      <th>2032</th>\n",
       "      <td>1,847,498,525.930337</td>\n",
       "      <td>-503,549,153.825143</td>\n",
       "      <td>1,343,949,372.105195</td>\n",
       "      <td>1,088,598,991.405208</td>\n",
       "      <td>2.287983</td>\n",
       "    </tr>\n",
       "    <tr>\n",
       "      <th>2033</th>\n",
       "      <td>2,003,567,972.816837</td>\n",
       "      <td>-544,232,396.777274</td>\n",
       "      <td>1,459,335,576.039563</td>\n",
       "      <td>1,182,061,816.592046</td>\n",
       "      <td>2.484420</td>\n",
       "    </tr>\n",
       "    <tr>\n",
       "      <th>2034</th>\n",
       "      <td>2,172,390,389.972939</td>\n",
       "      <td>-588,235,392.354300</td>\n",
       "      <td>1,584,154,997.618640</td>\n",
       "      <td>1,283,165,548.071098</td>\n",
       "      <td>2.696917</td>\n",
       "    </tr>\n",
       "    <tr>\n",
       "      <th>2035</th>\n",
       "      <td>1,152,002,083.285635</td>\n",
       "      <td>-311,729,721.750201</td>\n",
       "      <td>840,272,361.535434</td>\n",
       "      <td>680,620,612.843702</td>\n",
       "      <td>1.430507</td>\n",
       "    </tr>\n",
       "  </tbody>\n",
       "</table>\n",
       "</div>"
      ],
      "text/plain": [
       "                     Total Revenue          Total Costs  \\\n",
       "calendar_year                                             \n",
       "2019            517,147,169.816397  -188,221,199.509755   \n",
       "2020            578,262,581.290411  -200,462,422.269800   \n",
       "2021            656,542,471.825008  -216,394,239.684789   \n",
       "2022            744,273,291.201918  -233,624,500.219099   \n",
       "2023            839,438,783.322565  -252,259,026.986956   \n",
       "2024            935,097,570.575108  -271,170,147.372015   \n",
       "2025          1,022,425,963.182664  -292,891,263.397572   \n",
       "2026          1,115,217,338.049685  -316,384,822.490814   \n",
       "2027          1,214,546,223.427544  -341,795,456.006064   \n",
       "2028          1,323,537,941.045667  -369,279,597.216159   \n",
       "2029          1,440,216,535.575876  -399,006,444.348997   \n",
       "2030          1,566,013,908.807708  -431,159,002.207876   \n",
       "2031          1,701,289,940.855978  -465,935,208.788038   \n",
       "2032          1,847,498,525.930337  -503,549,153.825143   \n",
       "2033          2,003,567,972.816837  -544,232,396.777274   \n",
       "2034          2,172,390,389.972939  -588,235,392.354300   \n",
       "2035          1,152,002,083.285635  -311,729,721.750201   \n",
       "\n",
       "               Net Earning Before Tax  Net Earning After Tax  \\\n",
       "calendar_year                                                  \n",
       "2019               328,925,970.306642     266,430,035.948380   \n",
       "2020               377,800,159.020611     306,018,128.806695   \n",
       "2021               440,148,232.140219     356,520,068.033578   \n",
       "2022               510,648,790.982819     413,625,520.696083   \n",
       "2023               587,179,756.335609     475,615,602.631844   \n",
       "2024               663,927,423.203092     537,781,212.794505   \n",
       "2025               729,534,699.785092     590,923,106.825925   \n",
       "2026               798,832,515.558872     647,054,337.602686   \n",
       "2027               872,750,767.421480     706,928,121.611399   \n",
       "2028               954,258,343.829508     772,949,258.501902   \n",
       "2029             1,041,210,091.226878     843,380,173.893771   \n",
       "2030             1,134,854,906.599832     919,232,474.345864   \n",
       "2031             1,235,354,732.067940   1,000,637,332.975031   \n",
       "2032             1,343,949,372.105195   1,088,598,991.405208   \n",
       "2033             1,459,335,576.039563   1,182,061,816.592046   \n",
       "2034             1,584,154,997.618640   1,283,165,548.071098   \n",
       "2035               840,272,361.535434     680,620,612.843702   \n",
       "\n",
       "                               EPS  \n",
       "calendar_year                       \n",
       "2019                      0.559974  \n",
       "2020                      0.643179  \n",
       "2021                      0.749323  \n",
       "2022                      0.869345  \n",
       "2023                      0.999634  \n",
       "2024                      1.130292  \n",
       "2025                      1.241984  \n",
       "2026                      1.359958  \n",
       "2027                      1.485799  \n",
       "2028                      1.624560  \n",
       "2029                      1.772590  \n",
       "2030                      1.932014  \n",
       "2031                      2.103108  \n",
       "2032                      2.287983  \n",
       "2033                      2.484420  \n",
       "2034                      2.696917  \n",
       "2035                      1.430507  "
      ]
     },
     "metadata": {},
     "output_type": "display_data"
    },
    {
     "data": {
      "text/html": [
       "<div>\n",
       "<style scoped>\n",
       "    .dataframe tbody tr th:only-of-type {\n",
       "        vertical-align: middle;\n",
       "    }\n",
       "\n",
       "    .dataframe tbody tr th {\n",
       "        vertical-align: top;\n",
       "    }\n",
       "\n",
       "    .dataframe thead th {\n",
       "        text-align: right;\n",
       "    }\n",
       "</style>\n",
       "<table border=\"1\" class=\"dataframe\">\n",
       "  <thead>\n",
       "    <tr style=\"text-align: right;\">\n",
       "      <th></th>\n",
       "      <th>Total Revenue</th>\n",
       "      <th>Total Costs</th>\n",
       "      <th>Net Earning Before Tax</th>\n",
       "      <th>Net Earning After Tax</th>\n",
       "      <th>EPS</th>\n",
       "    </tr>\n",
       "    <tr>\n",
       "      <th>financial_year</th>\n",
       "      <th></th>\n",
       "      <th></th>\n",
       "      <th></th>\n",
       "      <th></th>\n",
       "      <th></th>\n",
       "    </tr>\n",
       "  </thead>\n",
       "  <tbody>\n",
       "    <tr>\n",
       "      <th>2019</th>\n",
       "      <td>493,454,536.331355</td>\n",
       "      <td>-179,119,999.528500</td>\n",
       "      <td>314,334,536.802855</td>\n",
       "      <td>254,610,974.810312</td>\n",
       "      <td>0.535133</td>\n",
       "    </tr>\n",
       "    <tr>\n",
       "      <th>2020</th>\n",
       "      <td>542,303,834.799431</td>\n",
       "      <td>-192,987,959.490073</td>\n",
       "      <td>349,315,875.309358</td>\n",
       "      <td>282,945,859.000580</td>\n",
       "      <td>0.594687</td>\n",
       "    </tr>\n",
       "    <tr>\n",
       "      <th>2021</th>\n",
       "      <td>616,108,849.660214</td>\n",
       "      <td>-208,310,608.188514</td>\n",
       "      <td>407,798,241.471700</td>\n",
       "      <td>330,316,575.592077</td>\n",
       "      <td>0.694249</td>\n",
       "    </tr>\n",
       "    <tr>\n",
       "      <th>2022</th>\n",
       "      <td>699,342,285.702675</td>\n",
       "      <td>-224,882,052.755878</td>\n",
       "      <td>474,460,232.946798</td>\n",
       "      <td>384,312,788.686906</td>\n",
       "      <td>0.807736</td>\n",
       "    </tr>\n",
       "    <tr>\n",
       "      <th>2023</th>\n",
       "      <td>790,940,493.960331</td>\n",
       "      <td>-242,804,070.055482</td>\n",
       "      <td>548,136,423.904850</td>\n",
       "      <td>443,990,503.362928</td>\n",
       "      <td>0.933165</td>\n",
       "    </tr>\n",
       "    <tr>\n",
       "      <th>2024</th>\n",
       "      <td>888,799,021.442404</td>\n",
       "      <td>-260,932,064.780784</td>\n",
       "      <td>627,866,956.661620</td>\n",
       "      <td>508,572,234.895912</td>\n",
       "      <td>1.068901</td>\n",
       "    </tr>\n",
       "    <tr>\n",
       "      <th>2025</th>\n",
       "      <td>978,253,315.199478</td>\n",
       "      <td>-281,817,753.266896</td>\n",
       "      <td>696,435,561.932582</td>\n",
       "      <td>564,112,805.165392</td>\n",
       "      <td>1.185634</td>\n",
       "    </tr>\n",
       "    <tr>\n",
       "      <th>2026</th>\n",
       "      <td>1,068,015,620.869267</td>\n",
       "      <td>-304,407,713.933475</td>\n",
       "      <td>763,607,906.935793</td>\n",
       "      <td>618,522,404.617992</td>\n",
       "      <td>1.299991</td>\n",
       "    </tr>\n",
       "    <tr>\n",
       "      <th>2027</th>\n",
       "      <td>1,163,953,119.508005</td>\n",
       "      <td>-328,841,015.390446</td>\n",
       "      <td>835,112,104.117559</td>\n",
       "      <td>676,440,804.335223</td>\n",
       "      <td>1.421722</td>\n",
       "    </tr>\n",
       "    <tr>\n",
       "      <th>2028</th>\n",
       "      <td>1,267,992,798.377157</td>\n",
       "      <td>-355,268,074.246307</td>\n",
       "      <td>912,724,724.130850</td>\n",
       "      <td>739,307,026.545989</td>\n",
       "      <td>1.553852</td>\n",
       "    </tr>\n",
       "    <tr>\n",
       "      <th>2029</th>\n",
       "      <td>1,380,569,049.489114</td>\n",
       "      <td>-383,851,581.104805</td>\n",
       "      <td>996,717,468.384308</td>\n",
       "      <td>807,341,149.391290</td>\n",
       "      <td>1.696844</td>\n",
       "    </tr>\n",
       "    <tr>\n",
       "      <th>2030</th>\n",
       "      <td>1,501,944,625.462027</td>\n",
       "      <td>-414,767,502.122957</td>\n",
       "      <td>1,087,177,123.339070</td>\n",
       "      <td>880,613,469.904647</td>\n",
       "      <td>1.850846</td>\n",
       "    </tr>\n",
       "    <tr>\n",
       "      <th>2031</th>\n",
       "      <td>1,632,373,316.334451</td>\n",
       "      <td>-448,206,162.296191</td>\n",
       "      <td>1,184,167,154.038260</td>\n",
       "      <td>959,175,394.770991</td>\n",
       "      <td>2.015965</td>\n",
       "    </tr>\n",
       "    <tr>\n",
       "      <th>2032</th>\n",
       "      <td>1,773,330,387.804975</td>\n",
       "      <td>-484,373,417.139560</td>\n",
       "      <td>1,288,956,970.665414</td>\n",
       "      <td>1,044,055,146.238986</td>\n",
       "      <td>2.194362</td>\n",
       "    </tr>\n",
       "    <tr>\n",
       "      <th>2033</th>\n",
       "      <td>1,923,723,760.687802</td>\n",
       "      <td>-523,491,919.978148</td>\n",
       "      <td>1,400,231,840.709654</td>\n",
       "      <td>1,134,187,790.974820</td>\n",
       "      <td>2.383800</td>\n",
       "    </tr>\n",
       "    <tr>\n",
       "      <th>2034</th>\n",
       "      <td>2,086,358,520.477838</td>\n",
       "      <td>-565,802,492.648365</td>\n",
       "      <td>1,520,556,027.829473</td>\n",
       "      <td>1,231,650,382.541873</td>\n",
       "      <td>2.588644</td>\n",
       "    </tr>\n",
       "    <tr>\n",
       "      <th>2035</th>\n",
       "      <td>2,260,805,154.875754</td>\n",
       "      <td>-611,565,608.048472</td>\n",
       "      <td>1,649,239,546.827282</td>\n",
       "      <td>1,335,884,032.930099</td>\n",
       "      <td>2.807719</td>\n",
       "    </tr>\n",
       "  </tbody>\n",
       "</table>\n",
       "</div>"
      ],
      "text/plain": [
       "                      Total Revenue          Total Costs  \\\n",
       "financial_year                                             \n",
       "2019             493,454,536.331355  -179,119,999.528500   \n",
       "2020             542,303,834.799431  -192,987,959.490073   \n",
       "2021             616,108,849.660214  -208,310,608.188514   \n",
       "2022             699,342,285.702675  -224,882,052.755878   \n",
       "2023             790,940,493.960331  -242,804,070.055482   \n",
       "2024             888,799,021.442404  -260,932,064.780784   \n",
       "2025             978,253,315.199478  -281,817,753.266896   \n",
       "2026           1,068,015,620.869267  -304,407,713.933475   \n",
       "2027           1,163,953,119.508005  -328,841,015.390446   \n",
       "2028           1,267,992,798.377157  -355,268,074.246307   \n",
       "2029           1,380,569,049.489114  -383,851,581.104805   \n",
       "2030           1,501,944,625.462027  -414,767,502.122957   \n",
       "2031           1,632,373,316.334451  -448,206,162.296191   \n",
       "2032           1,773,330,387.804975  -484,373,417.139560   \n",
       "2033           1,923,723,760.687802  -523,491,919.978148   \n",
       "2034           2,086,358,520.477838  -565,802,492.648365   \n",
       "2035           2,260,805,154.875754  -611,565,608.048472   \n",
       "\n",
       "                Net Earning Before Tax  Net Earning After Tax  \\\n",
       "financial_year                                                  \n",
       "2019                314,334,536.802855     254,610,974.810312   \n",
       "2020                349,315,875.309358     282,945,859.000580   \n",
       "2021                407,798,241.471700     330,316,575.592077   \n",
       "2022                474,460,232.946798     384,312,788.686906   \n",
       "2023                548,136,423.904850     443,990,503.362928   \n",
       "2024                627,866,956.661620     508,572,234.895912   \n",
       "2025                696,435,561.932582     564,112,805.165392   \n",
       "2026                763,607,906.935793     618,522,404.617992   \n",
       "2027                835,112,104.117559     676,440,804.335223   \n",
       "2028                912,724,724.130850     739,307,026.545989   \n",
       "2029                996,717,468.384308     807,341,149.391290   \n",
       "2030              1,087,177,123.339070     880,613,469.904647   \n",
       "2031              1,184,167,154.038260     959,175,394.770991   \n",
       "2032              1,288,956,970.665414   1,044,055,146.238986   \n",
       "2033              1,400,231,840.709654   1,134,187,790.974820   \n",
       "2034              1,520,556,027.829473   1,231,650,382.541873   \n",
       "2035              1,649,239,546.827282   1,335,884,032.930099   \n",
       "\n",
       "                                EPS  \n",
       "financial_year                       \n",
       "2019                       0.535133  \n",
       "2020                       0.594687  \n",
       "2021                       0.694249  \n",
       "2022                       0.807736  \n",
       "2023                       0.933165  \n",
       "2024                       1.068901  \n",
       "2025                       1.185634  \n",
       "2026                       1.299991  \n",
       "2027                       1.421722  \n",
       "2028                       1.553852  \n",
       "2029                       1.696844  \n",
       "2030                       1.850846  \n",
       "2031                       2.015965  \n",
       "2032                       2.194362  \n",
       "2033                       2.383800  \n",
       "2034                       2.588644  \n",
       "2035                       2.807719  "
      ]
     },
     "metadata": {},
     "output_type": "display_data"
    }
   ],
   "source": [
    "eps_radio = widgets.RadioButtons(options=[True, False],description='Calendar year?',disabled=False)\n",
    "display(eps_radio)\n",
    "\n",
    "is_semi_radio = widgets.RadioButtons(options=[True, False],description='Semi-annual?',disabled=False)\n",
    "display(is_semi_radio)\n",
    "\n",
    "\n",
    "eps_summary = widgets.Button(description='Net earnings and EPS', layout=widgets.Layout(width='50%', height='40px'))\n",
    "eps_summary.style.button_color = 'lightgreen'\n",
    "eps_summary.on_click(lambda x: display(stats.summary_total(data_dic, input_dic, cal=eps_radio.value, is_semi=is_semi_radio.value)))\n",
    "display(eps_summary)\n"
   ]
  },
  {
   "cell_type": "code",
   "execution_count": 14,
   "metadata": {},
   "outputs": [
    {
     "data": {
      "application/vnd.jupyter.widget-view+json": {
       "model_id": "d343891cd4924c9080660c3ef5b60f93",
       "version_major": 2,
       "version_minor": 0
      },
      "text/plain": [
       "RadioButtons(description='Period', options=('month_no', 'quarter_no', 'half_no', 'financial_year', 'calendar_y…"
      ]
     },
     "metadata": {},
     "output_type": "display_data"
    },
    {
     "data": {
      "application/vnd.jupyter.widget-view+json": {
       "model_id": "bb81bee069274676b1c1fc7db90f46f9",
       "version_major": 2,
       "version_minor": 0
      },
      "text/plain": [
       "VBox(children=(HBox(children=(Button(description='HLF revenue margin', layout=Layout(height='40px', width='100…"
      ]
     },
     "metadata": {},
     "output_type": "display_data"
    }
   ],
   "source": [
    "hlf_radio = widgets.RadioButtons(options=['month_no','quarter_no','half_no','financial_year','calendar_year'],description='Period',disabled=False)\n",
    "display(hlf_radio)\n",
    "\n",
    "\n",
    "buttom3 = ['HLF revenue margin','Monthly revenue', 'HLF avg fund size','Quarter Trading update revenue']\n",
    "items7 = {}\n",
    "for w7 in buttom3:\n",
    "    items7[w7] = widgets.Button(description=w7, layout=widgets.Layout(width='100%', height='40px'))\n",
    "    items7[w7].style.button_color = 'lightgreen'\n",
    "\n",
    "top_m = widgets.HBox([list(items7.values())[0],list(items7.values())[1]],layout=box_layout3)\n",
    "bottom_m = widgets.HBox([list(items7.values())[2],list(items7.values())[3]],layout=box_layout3)\n",
    "\n",
    "items7['HLF revenue margin'].on_click(lambda x: display(stats.hlf_revenue_margin(data_dic,input_dic,hlf_radio.value)))\n",
    "items7['Monthly revenue'].on_click(lambda x: display(revenue.monthly_revenue(data_dic, input_dic)))\n",
    "items7['HLF avg fund size'].on_click(lambda x: display(stats.avg_hlf_size(data_dic, input_dic,hlf_radio.value)))\n",
    "items7['Quarter Trading update revenue'].on_click(lambda x: display(stats.quarter_revenue(data_dic, input_dic)))\n",
    "\n",
    "\n",
    "widgets.VBox([top_m, bottom_m])"
   ]
  },
  {
   "cell_type": "code",
   "execution_count": 15,
   "metadata": {},
   "outputs": [
    {
     "data": {
      "application/vnd.jupyter.widget-view+json": {
       "model_id": "304a5614055b4587a1598429d5bc8145",
       "version_major": 2,
       "version_minor": 0
      },
      "text/plain": [
       "SelectMultiple(description='Years for comparison', options=(2019, 2020, 2021, 2022, 2023, 2024, 2025, 2026, 20…"
      ]
     },
     "metadata": {},
     "output_type": "display_data"
    },
    {
     "data": {
      "application/vnd.jupyter.widget-view+json": {
       "model_id": "79e4e01d2b81433393521ed1f49ba377",
       "version_major": 2,
       "version_minor": 0
      },
      "text/plain": [
       "HBox(children=(Button(description='Total No. of clients', layout=Layout(height='40px', width='100%'), style=Bu…"
      ]
     },
     "metadata": {},
     "output_type": "display_data"
    }
   ],
   "source": [
    "display(a_slider)\n",
    "\n",
    "client_options = ['Total No. of clients','Net new clients','fx effects on funds']\n",
    "items8 = {}\n",
    "for w8 in client_options:\n",
    "    items8[w8] = widgets.Button(description=w8, layout=widgets.Layout(width='100%', height='40px'))\n",
    "    items8[w8].style.button_color = 'lightgreen'\n",
    "c_fair = widgets.HBox([list(items8.values())[0],list(items8.values())[1],list(items8.values())[2]],layout=box_layout3)\n",
    "items8['Total No. of clients'].on_click(lambda x: display(combined.total_client_predt(data_dic, input_dic).loc[list(a_slider.value)]))\n",
    "items8['Net new clients'].on_click(lambda x: display(combined.net_new_client_predt(data_dic, input_dic).loc[list(a_slider.value)]))\n",
    "items8['fx effects on funds'].on_click(lambda x: display(vantage_aua.fx_effects_on_funds(data_dic)))\n",
    "display(c_fair)"
   ]
  },
  {
   "cell_type": "code",
   "execution_count": 16,
   "metadata": {},
   "outputs": [],
   "source": [
    "# %load_ext autoreload\n",
    "# %autoreload 2"
   ]
  },
  {
   "cell_type": "code",
   "execution_count": 17,
   "metadata": {},
   "outputs": [],
   "source": [
    "\n",
    "#=============================== fair value sensitivity analysis ===========================================\n",
    "\n",
    "# disc_rate_list = [0.0825,0.085,0.0875,0.09,0.095,0.1]\n",
    "# pep_rate_list = [0.035,0.0375,0.04,0.0425,0.045]\n",
    "\n",
    "# df_1y = pandas.DataFrame(columns = disc_rate_list, index=pep_rate_list)\n",
    "# df_1y.columns.name = 'Cost of Equity'\n",
    "# df_1y.index.name = 'Long-term Growth Rate'\n",
    "\n",
    "# for i in pep_rate_list:\n",
    "#     for j in disc_rate_list:\n",
    "#         df_1y.loc[i,j] = discf.fair_value(data_dic, input_dic,now=False,fractional=True,dcf_p=9,disc_rate=j,pep_rate=i).loc['Fair value per share','HL']\n"
   ]
  },
  {
   "cell_type": "code",
   "execution_count": null,
   "metadata": {},
   "outputs": [],
   "source": []
  }
 ],
 "metadata": {
  "kernelspec": {
   "display_name": "Python 3",
   "language": "python",
   "name": "python3"
  },
  "language_info": {
   "codemirror_mode": {
    "name": "ipython",
    "version": 3
   },
   "file_extension": ".py",
   "mimetype": "text/x-python",
   "name": "python",
   "nbconvert_exporter": "python",
   "pygments_lexer": "ipython3",
   "version": "3.6.4"
  }
 },
 "nbformat": 4,
 "nbformat_minor": 2
}
