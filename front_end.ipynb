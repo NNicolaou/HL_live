{
 "cells": [
  {
   "cell_type": "code",
   "execution_count": 1,
   "metadata": {},
   "outputs": [
    {
     "data": {
      "text/html": [
       "<script>\n",
       "code_show=true; \n",
       "function code_toggle() {\n",
       " if (code_show){\n",
       " $('div.input').hide();\n",
       " } else {\n",
       " $('div.input').show();\n",
       " }\n",
       " code_show = !code_show\n",
       "} \n",
       "$( document ).ready(code_toggle);\n",
       "</script>\n",
       "The raw code for this IPython notebook is by default hidden for easier reading.\n",
       "To toggle on/off the raw code, click <a href=\"javascript:code_toggle()\">here</a>."
      ],
      "text/plain": [
       "<IPython.core.display.HTML object>"
      ]
     },
     "execution_count": 1,
     "metadata": {},
     "output_type": "execute_result"
    }
   ],
   "source": [
    "from IPython.display import HTML\n",
    "HTML('''<script>\n",
    "code_show=true; \n",
    "function code_toggle() {\n",
    " if (code_show){\n",
    " $('div.input').hide();\n",
    " } else {\n",
    " $('div.input').show();\n",
    " }\n",
    " code_show = !code_show\n",
    "} \n",
    "$( document ).ready(code_toggle);\n",
    "</script>\n",
    "The raw code for this IPython notebook is by default hidden for easier reading.\n",
    "To toggle on/off the raw code, click <a href=\"javascript:code_toggle()\">here</a>.''')"
   ]
  },
  {
   "cell_type": "code",
   "execution_count": 2,
   "metadata": {},
   "outputs": [],
   "source": [
    "import pandas\n",
    "%matplotlib notebook\n",
    "import general\n",
    "import discretionary_aua\n",
    "import vantage_aua\n",
    "import data_accessing\n",
    "import combined\n",
    "import revenue\n",
    "import costs\n",
    "import consolidated\n",
    "import discf\n",
    "from ipywidgets import widgets\n",
    "from IPython.display import display\n",
    "import stats\n",
    "pandas.set_option('display.float_format', '{:20,.6f}'.format)   #suppressing scientific notation\n",
    "idx = pandas.IndexSlice"
   ]
  },
  {
   "cell_type": "code",
   "execution_count": 3,
   "metadata": {},
   "outputs": [
    {
     "name": "stdout",
     "output_type": "stream",
     "text": [
      "Pulling data...\n",
      "Data pulled successfully.\n"
     ]
    }
   ],
   "source": [
    "print('Pulling data...')\n",
    "fund_dic = data_accessing.read_data(data_accessing.fund_data_name,data_accessing.fund_data_types)\n",
    "nnb_dic = data_accessing.read_data(data_accessing.nnb_data_name,data_accessing.nnb_data_sheet)\n",
    "discretionary_aua.append_share_class_units(fund_dic) # appending share class units\n",
    "index_hl_dic = data_accessing.read_data(data_accessing.index_hl_data_name, data_accessing.index_hl_data_sheet)\n",
    "data_dic = {**fund_dic, **index_hl_dic, **nnb_dic}\n",
    "\n",
    "input_dic = data_accessing.read_data(data_accessing.assumptions_name, data_accessing.assumptions_sheet)\n",
    "\n",
    "print('Data pulled successfully.')"
   ]
  },
  {
   "cell_type": "code",
   "execution_count": 4,
   "metadata": {},
   "outputs": [
    {
     "data": {
      "application/vnd.jupyter.widget-view+json": {
       "model_id": "07974d618c424c66af5b0aba66e2cf75",
       "version_major": 2,
       "version_minor": 0
      },
      "text/plain": [
       "Button(description='Update assumptions', layout=Layout(height='40px', width='20%'), style=ButtonStyle(button_c…"
      ]
     },
     "metadata": {},
     "output_type": "display_data"
    }
   ],
   "source": [
    "assumption_button = widgets.Button(description='Update assumptions',layout=widgets.Layout(width='20%',height='40px'))\n",
    "assumption_button.style.button_color = 'lightgreen'\n",
    "def update_assumption(b):\n",
    "    global input_dic\n",
    "    input_dic = data_accessing.read_data(data_accessing.assumptions_name, data_accessing.assumptions_sheet)\n",
    "    print ('Assumptions updated successfully...')\n",
    "\n",
    "assumption_button.on_click(update_assumption)\n",
    "display(assumption_button)"
   ]
  },
  {
   "cell_type": "code",
   "execution_count": 5,
   "metadata": {},
   "outputs": [
    {
     "data": {
      "application/vnd.jupyter.widget-view+json": {
       "model_id": "30983c5a8ef04631adb8683b8dcbcf40",
       "version_major": 2,
       "version_minor": 0
      },
      "text/plain": [
       "HBox(children=(VBox(children=(Button(description='Semi-annual revenue', layout=Layout(height='40px', width='10…"
      ]
     },
     "metadata": {},
     "output_type": "display_data"
    }
   ],
   "source": [
    "revenue_types = ['Semi-annual revenue','Annual revenue - FY','Annual revenue - CY','Consolidated semi-annual revenue','Consolidated annual revenue - FY','Consolidated annual revenue - CY']\n",
    "box_layout = widgets.Layout(display='flex', flex_flow='column', align_items='stretch',border='solid',width='30%')\n",
    "items = {}\n",
    "for w in revenue_types:\n",
    "    items[w] = widgets.Button(description=w,layout=widgets.Layout(width='100%', height='40px'))\n",
    "    items[w].style.button_color = 'lightgreen'\n",
    "left_box = widgets.VBox([list(items.values())[0],list(items.values())[1],list(items.values())[2]],layout=box_layout)\n",
    "right_box = widgets.VBox([list(items.values())[3],list(items.values())[4],list(items.values())[5]],layout=box_layout)\n",
    "items['Semi-annual revenue'].on_click(lambda x: display(revenue.semi_revenue(data_dic,input_dic)))\n",
    "items['Annual revenue - FY'].on_click(lambda x: display(revenue.annual_revenue(data_dic,input_dic)))\n",
    "items['Annual revenue - CY'].on_click(lambda x: display(revenue.annual_revenue(data_dic,input_dic,cal_year=True)))\n",
    "items['Consolidated semi-annual revenue'].on_click(lambda x: display(consolidated.revenue_analysis(data_dic,input_dic)))\n",
    "items['Consolidated annual revenue - FY'].on_click(lambda x: display(consolidated.annual_revenue_analysis(data_dic,input_dic)))\n",
    "items['Consolidated annual revenue - CY'].on_click(lambda x: display(consolidated.annual_revenue_analysis(data_dic,input_dic,cal_year=True)))\n",
    "widgets.HBox([left_box,right_box])\n",
    "\n"
   ]
  },
  {
   "cell_type": "code",
   "execution_count": 6,
   "metadata": {},
   "outputs": [
    {
     "data": {
      "application/vnd.jupyter.widget-view+json": {
       "model_id": "34fb0988dab4498eb1f18e1b02bb4f23",
       "version_major": 2,
       "version_minor": 0
      },
      "text/plain": [
       "HBox(children=(VBox(children=(Button(description='Semi-annual costs', layout=Layout(height='40px', width='100%…"
      ]
     },
     "metadata": {},
     "output_type": "display_data"
    }
   ],
   "source": [
    "costs_types = ['Semi-annual costs','Annual costs - FY','Annual costs - CY','Consolidated semi-annual costs','Consolidated annual costs - FY','Consolidated annual costs - CY']\n",
    "items2 = {}\n",
    "for w2 in costs_types:\n",
    "    items2[w2] = widgets.Button(description=w2,layout=widgets.Layout(width='100%', height='40px'))\n",
    "    items2[w2].style.button_color = 'lightgreen'\n",
    "left_box2 = widgets.VBox([list(items2.values())[0],list(items2.values())[1],list(items2.values())[2]],layout=box_layout)\n",
    "right_box2 = widgets.VBox([list(items2.values())[3],list(items2.values())[4],list(items2.values())[5]],layout=box_layout)\n",
    "items2['Semi-annual costs'].on_click(lambda x: display(costs.semi_costs(input_dic)))\n",
    "items2['Annual costs - FY'].on_click(lambda x: display(costs.annual_costs(input_dic)))\n",
    "items2['Annual costs - CY'].on_click(lambda x: display(costs.annual_costs(input_dic,cal_year=True)))\n",
    "items2['Consolidated semi-annual costs'].on_click(lambda x: display(consolidated.costs_analysis(input_dic)))\n",
    "items2['Consolidated annual costs - FY'].on_click(lambda x: display(consolidated.annual_costs_analysis(input_dic)))\n",
    "items2['Consolidated annual costs - CY'].on_click(lambda x: display(consolidated.annual_costs_analysis(input_dic,cal_year=True)))\n",
    "widgets.HBox([left_box2,right_box2])"
   ]
  },
  {
   "cell_type": "code",
   "execution_count": 7,
   "metadata": {},
   "outputs": [
    {
     "data": {
      "application/vnd.jupyter.widget-view+json": {
       "model_id": "505333b729424ea1b46536c10a9edbdf",
       "version_major": 2,
       "version_minor": 0
      },
      "text/plain": [
       "SelectMultiple(description='Years for comparison', options=(2019, 2020, 2021, 2022, 2023, 2024, 2025, 2026, 20…"
      ]
     },
     "metadata": {},
     "output_type": "display_data"
    },
    {
     "data": {
      "application/vnd.jupyter.widget-view+json": {
       "model_id": "ecf7f337f4d041a3a5176791ee5443a0",
       "version_major": 2,
       "version_minor": 0
      },
      "text/plain": [
       "Box(children=(Button(description='NNB comparison', layout=Layout(height='40px', width='100%'), style=ButtonSty…"
      ]
     },
     "metadata": {},
     "output_type": "display_data"
    }
   ],
   "source": [
    "ops = [i for i in list(range(general.recent_end_year, general.recent_end_year+10))]\n",
    "a_slider = widgets.SelectMultiple(options=ops, description='Years for comparison')\n",
    "display(a_slider)\n",
    "\n",
    "compare1 = ['NNB comparison','AUA comparison']\n",
    "box_layout2 = widgets.Layout(display='flex', flex_flow='row', align_items='stretch',border='solid',width='30%')\n",
    "items3 = {}\n",
    "for w3 in compare1:\n",
    "    items3[w3] = widgets.Button(description=w3,layout=widgets.Layout(width='100%', height='40px'))\n",
    "    items3[w3].style.button_color = 'lightgreen'\n",
    "box3 = widgets.Box([list(items3.values())[0],list(items3.values())[1]],layout=box_layout2)\n",
    "items3['NNB comparison'].on_click(lambda x: display(consolidated.get_nnb_compare(data_dic, input_dic,list(a_slider.value))))\n",
    "items3['AUA comparison'].on_click(lambda x: display(consolidated.get_aua_compare(data_dic, input_dic,list(a_slider.value))))\n",
    "\n",
    "\n",
    "display(box3)"
   ]
  },
  {
   "cell_type": "code",
   "execution_count": 8,
   "metadata": {},
   "outputs": [
    {
     "data": {
      "application/vnd.jupyter.widget-view+json": {
       "model_id": "e13030b4e8c844e785730f0cbf7dba58",
       "version_major": 2,
       "version_minor": 0
      },
      "text/plain": [
       "VBox(children=(HBox(children=(Button(description='Interim revenue comparison', layout=Layout(height='40px', wi…"
      ]
     },
     "metadata": {},
     "output_type": "display_data"
    }
   ],
   "source": [
    "compare2 = ['Interim revenue comparison','Annual revenue comparison', 'Interim costs comparison', 'Annual costs comparison']\n",
    "box_layout3 = widgets.Layout(display='flex', flex_flow='row', align_items='stretch',border='solid',width='50%')\n",
    "items4 = {}\n",
    "for w4 in compare2:\n",
    "    items4[w4] = widgets.Button(description=w4,layout=widgets.Layout(width='100%', height='40px'))\n",
    "    items4[w4].style.button_color = 'lightgreen'\n",
    "top_box4 = widgets.HBox([list(items4.values())[0],list(items4.values())[1]],layout=box_layout3)\n",
    "bottom_box4 = widgets.HBox([list(items4.values())[2],list(items4.values())[3]],layout=box_layout3)\n",
    "items4['Interim revenue comparison'].on_click(lambda x: display(consolidated.get_revenue_compare(data_dic, input_dic,True,list(a_slider.value))))\n",
    "items4['Annual revenue comparison'].on_click(lambda x: display(consolidated.get_revenue_compare(data_dic, input_dic,False,list(a_slider.value))))\n",
    "items4['Interim costs comparison'].on_click(lambda x: display(consolidated.get_costs_compare(input_dic,True,list(a_slider.value))))\n",
    "items4['Annual costs comparison'].on_click(lambda x: display(consolidated.get_costs_compare(input_dic,False,list(a_slider.value))))\n",
    "\n",
    "widgets.VBox([top_box4, bottom_box4])"
   ]
  },
  {
   "cell_type": "code",
   "execution_count": 9,
   "metadata": {},
   "outputs": [
    {
     "data": {
      "application/vnd.jupyter.widget-view+json": {
       "model_id": "648046d2dfa44608a9d21bdbe82bfe9e",
       "version_major": 2,
       "version_minor": 0
      },
      "text/plain": [
       "IntText(value=9, description='DCF period - No. of years:')"
      ]
     },
     "metadata": {},
     "output_type": "display_data"
    },
    {
     "data": {
      "application/vnd.jupyter.widget-view+json": {
       "model_id": "b7e8d6b6d6ab464eb80a58609a02f924",
       "version_major": 2,
       "version_minor": 0
      },
      "text/plain": [
       "FloatText(value=0.035, description='Perpetuity growth rate:')"
      ]
     },
     "metadata": {},
     "output_type": "display_data"
    },
    {
     "data": {
      "application/vnd.jupyter.widget-view+json": {
       "model_id": "21ad39eda72841398fca2d3e0d475dfb",
       "version_major": 2,
       "version_minor": 0
      },
      "text/plain": [
       "FloatText(value=0.085, description='Cash flow discount rate:')"
      ]
     },
     "metadata": {},
     "output_type": "display_data"
    },
    {
     "data": {
      "application/vnd.jupyter.widget-view+json": {
       "model_id": "069f142369ee45f8a6a02fb329d323f2",
       "version_major": 2,
       "version_minor": 0
      },
      "text/plain": [
       "Checkbox(value=False, description='Fair value now')"
      ]
     },
     "metadata": {},
     "output_type": "display_data"
    },
    {
     "data": {
      "application/vnd.jupyter.widget-view+json": {
       "model_id": "d86bac8a37f24051ae291afff0a88ae4",
       "version_major": 2,
       "version_minor": 0
      },
      "text/plain": [
       "Checkbox(value=False, description='Fractional valuation')"
      ]
     },
     "metadata": {},
     "output_type": "display_data"
    },
    {
     "data": {
      "application/vnd.jupyter.widget-view+json": {
       "model_id": "d19635e150264ac4ab040305c84f2b62",
       "version_major": 2,
       "version_minor": 0
      },
      "text/plain": [
       "HBox(children=(Button(description='Discounted cash flow', layout=Layout(height='40px', width='100%'), style=Bu…"
      ]
     },
     "metadata": {},
     "output_type": "display_data"
    }
   ],
   "source": [
    "'''=====current values=======\n",
    "discounted cash flow period: 9 years\n",
    "perpetuity growth rate: 0.035\n",
    "cash flow discounted rate: 0.085\n",
    "'''\n",
    "dcf_period = widgets.IntText(value=9,placeholder='Integer',description='DCF period - No. of years:')\n",
    "display(dcf_period)\n",
    "perp_growth = widgets.FloatText(value=0.035,placeholder='Percentage as decimals',description='Perpetuity growth rate:')\n",
    "display(perp_growth)\n",
    "disct_rate = widgets.FloatText(value=0.085,placeholder='Percentage as decimals',description='Cash flow discount rate:')\n",
    "display(disct_rate)\n",
    "current_value = widgets.Checkbox(value=False, description='Fair value now')\n",
    "display(current_value)\n",
    "fractional = widgets.Checkbox(value=False, description='Fractional valuation')\n",
    "display(fractional)\n",
    "\n",
    "dis_cash = ['Discounted cash flow','Fair value']\n",
    "items5 = {}\n",
    "for w5 in dis_cash:\n",
    "    items5[w5] = widgets.Button(description=w5, layout=widgets.Layout(width='100%', height='40px'))\n",
    "    items5[w5].style.button_color = 'lightgreen'\n",
    "fair = widgets.HBox([list(items5.values())[0],list(items5.values())[1]],layout=box_layout3)\n",
    "items5['Discounted cash flow'].on_click(lambda x: display(discf.disc_cash_flow(data_dic, input_dic,now=current_value.value,fractional=fractional.value,dcf_p=dcf_period.value,disc_rate=disct_rate.value)))\n",
    "items5['Fair value'].on_click(lambda x: display(discf.fair_value(data_dic, input_dic,now=current_value.value,fractional=fractional.value,dcf_p=dcf_period.value,disc_rate=disct_rate.value,pep_rate=perp_growth.value)))    \n",
    "display(fair)"
   ]
  },
  {
   "cell_type": "code",
   "execution_count": 10,
   "metadata": {},
   "outputs": [
    {
     "data": {
      "application/vnd.jupyter.widget-view+json": {
       "model_id": "dc172d806f0a4070a141dd7e434af1a7",
       "version_major": 2,
       "version_minor": 0
      },
      "text/plain": [
       "RadioButtons(description='Period', options=('month_no', 'quarter_no', 'half_no', 'financial_year', 'calendar_y…"
      ]
     },
     "metadata": {},
     "output_type": "display_data"
    },
    {
     "data": {
      "application/vnd.jupyter.widget-view+json": {
       "model_id": "4ab46a6a28ed4c7e9d52341febf44094",
       "version_major": 2,
       "version_minor": 0
      },
      "text/plain": [
       "HBox(children=(VBox(children=(Button(description='HLF composite monthly return', layout=Layout(height='40px', …"
      ]
     },
     "metadata": {},
     "output_type": "display_data"
    }
   ],
   "source": [
    "radio1 = widgets.RadioButtons(options=['month_no','quarter_no','half_no','financial_year','calendar_year'],description='Period',disabled=False)\n",
    "display(radio1)\n",
    "\n",
    "others = ['HLF composite monthly return','Total NNB hlf Algo','NNB distribution hlf Algo','Total AUA','% Revenue distribution','Avg AUA distribution', 'Total NNB nnc Algo', 'NNB distribution nnc Algo']\n",
    "items6 = {}\n",
    "for w6 in others:\n",
    "    items6[w6] = widgets.Button(description=w6, layout=widgets.Layout(width='100%', height='40px'))\n",
    "    items6[w6].style.button_color = 'lightgreen'\n",
    "other_box1 = widgets.VBox([list(items6.values())[0],list(items6.values())[1],list(items6.values())[2],list(items6.values())[3]],layout=box_layout)\n",
    "other_box2 = widgets.VBox([list(items6.values())[4],list(items6.values())[5],list(items6.values())[6],list(items6.values())[7]],layout=box_layout)\n",
    "items6['HLF composite monthly return'].on_click(lambda x: display(discretionary_aua.get_composite_return(data_dic)))\n",
    "items6['Total NNB hlf Algo'].on_click(lambda x: display(combined.total_nnb(data_dic, input_dic, opt=radio1.value)))\n",
    "items6['NNB distribution hlf Algo'].on_click(lambda x: display(combined.nnb_distribution(data_dic, input_dic, opt=radio1.value)))\n",
    "items6['Total AUA'].on_click(lambda x: display(combined.total_aua(data_dic, input_dic)))\n",
    "items6['% Revenue distribution'].on_click(lambda x: display(stats.summary_revenue_dist_percent(data_dic, input_dic)))\n",
    "items6['Avg AUA distribution'].on_click(lambda x: display(stats.summary_avg_aua_dist(data_dic, input_dic,radio1.value)))\n",
    "items6['Total NNB nnc Algo'].on_click(lambda x: display(combined.total_nnb_ci_clientAlgo(data_dic, input_dic, opt=radio1.value)))\n",
    "items6['NNB distribution nnc Algo'].on_click(lambda x: display(combined.total_nnb_distribution_clientAlgo(data_dic, input_dic, opt=radio1.value)))\n",
    "\n",
    "widgets.HBox([other_box1, other_box2])\n",
    "\n",
    "#Financial year based"
   ]
  },
  {
   "cell_type": "code",
   "execution_count": 11,
   "metadata": {},
   "outputs": [
    {
     "data": {
      "application/vnd.jupyter.widget-view+json": {
       "model_id": "643a060c3ba14932941a92361a721ecd",
       "version_major": 2,
       "version_minor": 0
      },
      "text/plain": [
       "RadioButtons(description='Period', options=('day', 'month', 'semi-annual', 'quarter', 'annual'), value='day')"
      ]
     },
     "metadata": {},
     "output_type": "display_data"
    },
    {
     "data": {
      "application/vnd.jupyter.widget-view+json": {
       "model_id": "5a7533b1aa6b45f9a8dadb155010b408",
       "version_major": 2,
       "version_minor": 0
      },
      "text/plain": [
       "Dropdown(description='Fund option', options=('no_select', None), value='no_select')"
      ]
     },
     "metadata": {},
     "output_type": "display_data"
    },
    {
     "data": {
      "application/vnd.jupyter.widget-view+json": {
       "model_id": "152da62d283545199bdc0c6f600a32b7",
       "version_major": 2,
       "version_minor": 0
      },
      "text/plain": [
       "Dropdown(description='Unit type', options=('acc', 'inc'), value='acc')"
      ]
     },
     "metadata": {},
     "output_type": "display_data"
    },
    {
     "data": {
      "application/vnd.jupyter.widget-view+json": {
       "model_id": "09205cf765dc4fc08d7fa10ed92640a2",
       "version_major": 2,
       "version_minor": 0
      },
      "text/plain": [
       "Button(description='Implied HLF nnb period-to-date', layout=Layout(height='40px', width='50%'), style=ButtonSt…"
      ]
     },
     "metadata": {},
     "output_type": "display_data"
    },
    {
     "data": {
      "application/vnd.jupyter.widget-view+json": {
       "model_id": "b699eb4d8d2042de8aa60348c43b1253",
       "version_major": 2,
       "version_minor": 0
      },
      "text/plain": [
       "Button(description='HLF unit change period-to-date', layout=Layout(height='40px', width='50%'), style=ButtonSt…"
      ]
     },
     "metadata": {},
     "output_type": "display_data"
    }
   ],
   "source": [
    "nnb_radio = widgets.RadioButtons(options=['day','month','semi-annual','quarter','annual'],description='Period',disabled=False)\n",
    "nnb_dropdown = widgets.Dropdown(options=['no_select',None],description='Fund option',disabled=False)\n",
    "unit_dropdown = widgets.Dropdown(options=['acc','inc'],description='Unit type',disabled=False)\n",
    "display(nnb_radio)\n",
    "display(nnb_dropdown)\n",
    "display(unit_dropdown)\n",
    "\n",
    "nnb_b = widgets.Button(description='Implied HLF nnb period-to-date', layout=widgets.Layout(width='50%', height='40px'))\n",
    "nnb_b.style.button_color = 'lightgreen'\n",
    "\n",
    "nnb_b2 = widgets.Button(description='HLF unit change period-to-date', layout=widgets.Layout(width='50%', height='40px'))\n",
    "nnb_b2.style.button_color = 'lightgreen'\n",
    "nnb_b.on_click(lambda x: display(stats.hlf_to_date_implied_nnb(data_dic,typ=nnb_radio.value,fund_opt=nnb_dropdown.value)))\n",
    "nnb_b2.on_click(lambda x: display(stats.hlf_to_date_unit_change(data_dic, unit_type=unit_dropdown.value,typ=nnb_radio.value,fund_opt=nnb_dropdown.value)))\n",
    "\n",
    "display(nnb_b)\n",
    "display(nnb_b2)"
   ]
  },
  {
   "cell_type": "code",
   "execution_count": 12,
   "metadata": {},
   "outputs": [
    {
     "data": {
      "application/vnd.jupyter.widget-view+json": {
       "model_id": "54d3d2b365854a0f90f5c4915d350431",
       "version_major": 2,
       "version_minor": 0
      },
      "text/plain": [
       "RadioButtons(description='Period', options=('monthly', 'quarter_no', 'half_no', 'financial_year', 'calendar_ye…"
      ]
     },
     "metadata": {},
     "output_type": "display_data"
    },
    {
     "data": {
      "application/vnd.jupyter.widget-view+json": {
       "model_id": "4722deadf42449dd8804af3aecc87c23",
       "version_major": 2,
       "version_minor": 0
      },
      "text/plain": [
       "Button(description='Cash margin', layout=Layout(height='40px', width='50%'), style=ButtonStyle(button_color='l…"
      ]
     },
     "metadata": {},
     "output_type": "display_data"
    },
    {
     "data": {
      "text/html": [
       "<div>\n",
       "<style scoped>\n",
       "    .dataframe tbody tr th:only-of-type {\n",
       "        vertical-align: middle;\n",
       "    }\n",
       "\n",
       "    .dataframe tbody tr th {\n",
       "        vertical-align: top;\n",
       "    }\n",
       "\n",
       "    .dataframe thead th {\n",
       "        text-align: right;\n",
       "    }\n",
       "</style>\n",
       "<table border=\"1\" class=\"dataframe\">\n",
       "  <thead>\n",
       "    <tr style=\"text-align: right;\">\n",
       "      <th></th>\n",
       "      <th></th>\n",
       "      <th></th>\n",
       "      <th></th>\n",
       "      <th></th>\n",
       "      <th></th>\n",
       "      <th>Cash Margin</th>\n",
       "    </tr>\n",
       "    <tr>\n",
       "      <th>month_end</th>\n",
       "      <th>financial_year</th>\n",
       "      <th>quarter_no</th>\n",
       "      <th>half_no</th>\n",
       "      <th>calendar_year</th>\n",
       "      <th>month_no</th>\n",
       "      <th></th>\n",
       "    </tr>\n",
       "  </thead>\n",
       "  <tbody>\n",
       "    <tr>\n",
       "      <th>2018-12-31</th>\n",
       "      <th>2019</th>\n",
       "      <th>2</th>\n",
       "      <th>1</th>\n",
       "      <th>2018</th>\n",
       "      <th>12</th>\n",
       "      <td>0.007405</td>\n",
       "    </tr>\n",
       "    <tr>\n",
       "      <th>2019-01-31</th>\n",
       "      <th>2019</th>\n",
       "      <th>3</th>\n",
       "      <th>2</th>\n",
       "      <th>2019</th>\n",
       "      <th>1</th>\n",
       "      <td>0.007659</td>\n",
       "    </tr>\n",
       "    <tr>\n",
       "      <th>2019-02-28</th>\n",
       "      <th>2019</th>\n",
       "      <th>3</th>\n",
       "      <th>2</th>\n",
       "      <th>2019</th>\n",
       "      <th>2</th>\n",
       "      <td>0.007808</td>\n",
       "    </tr>\n",
       "    <tr>\n",
       "      <th>2019-03-29</th>\n",
       "      <th>2019</th>\n",
       "      <th>3</th>\n",
       "      <th>2</th>\n",
       "      <th>2019</th>\n",
       "      <th>3</th>\n",
       "      <td>0.007899</td>\n",
       "    </tr>\n",
       "    <tr>\n",
       "      <th>2019-04-30</th>\n",
       "      <th>2019</th>\n",
       "      <th>4</th>\n",
       "      <th>2</th>\n",
       "      <th>2019</th>\n",
       "      <th>4</th>\n",
       "      <td>0.007948</td>\n",
       "    </tr>\n",
       "    <tr>\n",
       "      <th>2019-05-31</th>\n",
       "      <th>2019</th>\n",
       "      <th>4</th>\n",
       "      <th>2</th>\n",
       "      <th>2019</th>\n",
       "      <th>5</th>\n",
       "      <td>0.008030</td>\n",
       "    </tr>\n",
       "    <tr>\n",
       "      <th>2019-06-28</th>\n",
       "      <th>2019</th>\n",
       "      <th>4</th>\n",
       "      <th>2</th>\n",
       "      <th>2019</th>\n",
       "      <th>6</th>\n",
       "      <td>0.008110</td>\n",
       "    </tr>\n",
       "    <tr>\n",
       "      <th>2019-07-31</th>\n",
       "      <th>2020</th>\n",
       "      <th>1</th>\n",
       "      <th>1</th>\n",
       "      <th>2019</th>\n",
       "      <th>7</th>\n",
       "      <td>0.008165</td>\n",
       "    </tr>\n",
       "    <tr>\n",
       "      <th>2019-08-30</th>\n",
       "      <th>2020</th>\n",
       "      <th>1</th>\n",
       "      <th>1</th>\n",
       "      <th>2019</th>\n",
       "      <th>8</th>\n",
       "      <td>0.008208</td>\n",
       "    </tr>\n",
       "    <tr>\n",
       "      <th>2019-09-30</th>\n",
       "      <th>2020</th>\n",
       "      <th>1</th>\n",
       "      <th>1</th>\n",
       "      <th>2019</th>\n",
       "      <th>9</th>\n",
       "      <td>0.008249</td>\n",
       "    </tr>\n",
       "    <tr>\n",
       "      <th>2019-10-31</th>\n",
       "      <th>2020</th>\n",
       "      <th>2</th>\n",
       "      <th>1</th>\n",
       "      <th>2019</th>\n",
       "      <th>10</th>\n",
       "      <td>0.008284</td>\n",
       "    </tr>\n",
       "    <tr>\n",
       "      <th>2019-11-29</th>\n",
       "      <th>2020</th>\n",
       "      <th>2</th>\n",
       "      <th>1</th>\n",
       "      <th>2019</th>\n",
       "      <th>11</th>\n",
       "      <td>0.008296</td>\n",
       "    </tr>\n",
       "    <tr>\n",
       "      <th>2019-12-31</th>\n",
       "      <th>2020</th>\n",
       "      <th>2</th>\n",
       "      <th>1</th>\n",
       "      <th>2019</th>\n",
       "      <th>12</th>\n",
       "      <td>0.008300</td>\n",
       "    </tr>\n",
       "    <tr>\n",
       "      <th>2020-01-31</th>\n",
       "      <th>2020</th>\n",
       "      <th>3</th>\n",
       "      <th>2</th>\n",
       "      <th>2020</th>\n",
       "      <th>1</th>\n",
       "      <td>0.008300</td>\n",
       "    </tr>\n",
       "    <tr>\n",
       "      <th>2020-02-28</th>\n",
       "      <th>2020</th>\n",
       "      <th>3</th>\n",
       "      <th>2</th>\n",
       "      <th>2020</th>\n",
       "      <th>2</th>\n",
       "      <td>0.008300</td>\n",
       "    </tr>\n",
       "    <tr>\n",
       "      <th>2020-03-31</th>\n",
       "      <th>2020</th>\n",
       "      <th>3</th>\n",
       "      <th>2</th>\n",
       "      <th>2020</th>\n",
       "      <th>3</th>\n",
       "      <td>0.008300</td>\n",
       "    </tr>\n",
       "    <tr>\n",
       "      <th>2020-04-30</th>\n",
       "      <th>2020</th>\n",
       "      <th>4</th>\n",
       "      <th>2</th>\n",
       "      <th>2020</th>\n",
       "      <th>4</th>\n",
       "      <td>0.008300</td>\n",
       "    </tr>\n",
       "    <tr>\n",
       "      <th>2020-05-29</th>\n",
       "      <th>2020</th>\n",
       "      <th>4</th>\n",
       "      <th>2</th>\n",
       "      <th>2020</th>\n",
       "      <th>5</th>\n",
       "      <td>0.008300</td>\n",
       "    </tr>\n",
       "    <tr>\n",
       "      <th>2020-06-30</th>\n",
       "      <th>2020</th>\n",
       "      <th>4</th>\n",
       "      <th>2</th>\n",
       "      <th>2020</th>\n",
       "      <th>6</th>\n",
       "      <td>0.008300</td>\n",
       "    </tr>\n",
       "    <tr>\n",
       "      <th>2020-07-31</th>\n",
       "      <th>2021</th>\n",
       "      <th>1</th>\n",
       "      <th>1</th>\n",
       "      <th>2020</th>\n",
       "      <th>7</th>\n",
       "      <td>0.008300</td>\n",
       "    </tr>\n",
       "    <tr>\n",
       "      <th>2020-08-31</th>\n",
       "      <th>2021</th>\n",
       "      <th>1</th>\n",
       "      <th>1</th>\n",
       "      <th>2020</th>\n",
       "      <th>8</th>\n",
       "      <td>0.008300</td>\n",
       "    </tr>\n",
       "    <tr>\n",
       "      <th>2020-09-30</th>\n",
       "      <th>2021</th>\n",
       "      <th>1</th>\n",
       "      <th>1</th>\n",
       "      <th>2020</th>\n",
       "      <th>9</th>\n",
       "      <td>0.008300</td>\n",
       "    </tr>\n",
       "    <tr>\n",
       "      <th>2020-10-30</th>\n",
       "      <th>2021</th>\n",
       "      <th>2</th>\n",
       "      <th>1</th>\n",
       "      <th>2020</th>\n",
       "      <th>10</th>\n",
       "      <td>0.008300</td>\n",
       "    </tr>\n",
       "    <tr>\n",
       "      <th>2020-11-30</th>\n",
       "      <th>2021</th>\n",
       "      <th>2</th>\n",
       "      <th>1</th>\n",
       "      <th>2020</th>\n",
       "      <th>11</th>\n",
       "      <td>0.008300</td>\n",
       "    </tr>\n",
       "    <tr>\n",
       "      <th>2020-12-31</th>\n",
       "      <th>2021</th>\n",
       "      <th>2</th>\n",
       "      <th>1</th>\n",
       "      <th>2020</th>\n",
       "      <th>12</th>\n",
       "      <td>0.008300</td>\n",
       "    </tr>\n",
       "    <tr>\n",
       "      <th>2021-01-29</th>\n",
       "      <th>2021</th>\n",
       "      <th>3</th>\n",
       "      <th>2</th>\n",
       "      <th>2021</th>\n",
       "      <th>1</th>\n",
       "      <td>0.008300</td>\n",
       "    </tr>\n",
       "    <tr>\n",
       "      <th>2021-02-26</th>\n",
       "      <th>2021</th>\n",
       "      <th>3</th>\n",
       "      <th>2</th>\n",
       "      <th>2021</th>\n",
       "      <th>2</th>\n",
       "      <td>0.008300</td>\n",
       "    </tr>\n",
       "    <tr>\n",
       "      <th>2021-03-31</th>\n",
       "      <th>2021</th>\n",
       "      <th>3</th>\n",
       "      <th>2</th>\n",
       "      <th>2021</th>\n",
       "      <th>3</th>\n",
       "      <td>0.008300</td>\n",
       "    </tr>\n",
       "    <tr>\n",
       "      <th>2021-04-30</th>\n",
       "      <th>2021</th>\n",
       "      <th>4</th>\n",
       "      <th>2</th>\n",
       "      <th>2021</th>\n",
       "      <th>4</th>\n",
       "      <td>0.008300</td>\n",
       "    </tr>\n",
       "    <tr>\n",
       "      <th>2021-05-31</th>\n",
       "      <th>2021</th>\n",
       "      <th>4</th>\n",
       "      <th>2</th>\n",
       "      <th>2021</th>\n",
       "      <th>5</th>\n",
       "      <td>0.008300</td>\n",
       "    </tr>\n",
       "    <tr>\n",
       "      <th>...</th>\n",
       "      <th>...</th>\n",
       "      <th>...</th>\n",
       "      <th>...</th>\n",
       "      <th>...</th>\n",
       "      <th>...</th>\n",
       "      <td>...</td>\n",
       "    </tr>\n",
       "    <tr>\n",
       "      <th>2033-01-31</th>\n",
       "      <th>2033</th>\n",
       "      <th>3</th>\n",
       "      <th>2</th>\n",
       "      <th>2033</th>\n",
       "      <th>1</th>\n",
       "      <td>0.008300</td>\n",
       "    </tr>\n",
       "    <tr>\n",
       "      <th>2033-02-28</th>\n",
       "      <th>2033</th>\n",
       "      <th>3</th>\n",
       "      <th>2</th>\n",
       "      <th>2033</th>\n",
       "      <th>2</th>\n",
       "      <td>0.008300</td>\n",
       "    </tr>\n",
       "    <tr>\n",
       "      <th>2033-03-31</th>\n",
       "      <th>2033</th>\n",
       "      <th>3</th>\n",
       "      <th>2</th>\n",
       "      <th>2033</th>\n",
       "      <th>3</th>\n",
       "      <td>0.008300</td>\n",
       "    </tr>\n",
       "    <tr>\n",
       "      <th>2033-04-29</th>\n",
       "      <th>2033</th>\n",
       "      <th>4</th>\n",
       "      <th>2</th>\n",
       "      <th>2033</th>\n",
       "      <th>4</th>\n",
       "      <td>0.008300</td>\n",
       "    </tr>\n",
       "    <tr>\n",
       "      <th>2033-05-31</th>\n",
       "      <th>2033</th>\n",
       "      <th>4</th>\n",
       "      <th>2</th>\n",
       "      <th>2033</th>\n",
       "      <th>5</th>\n",
       "      <td>0.008300</td>\n",
       "    </tr>\n",
       "    <tr>\n",
       "      <th>2033-06-30</th>\n",
       "      <th>2033</th>\n",
       "      <th>4</th>\n",
       "      <th>2</th>\n",
       "      <th>2033</th>\n",
       "      <th>6</th>\n",
       "      <td>0.008300</td>\n",
       "    </tr>\n",
       "    <tr>\n",
       "      <th>2033-07-29</th>\n",
       "      <th>2034</th>\n",
       "      <th>1</th>\n",
       "      <th>1</th>\n",
       "      <th>2033</th>\n",
       "      <th>7</th>\n",
       "      <td>0.008300</td>\n",
       "    </tr>\n",
       "    <tr>\n",
       "      <th>2033-08-31</th>\n",
       "      <th>2034</th>\n",
       "      <th>1</th>\n",
       "      <th>1</th>\n",
       "      <th>2033</th>\n",
       "      <th>8</th>\n",
       "      <td>0.008300</td>\n",
       "    </tr>\n",
       "    <tr>\n",
       "      <th>2033-09-30</th>\n",
       "      <th>2034</th>\n",
       "      <th>1</th>\n",
       "      <th>1</th>\n",
       "      <th>2033</th>\n",
       "      <th>9</th>\n",
       "      <td>0.008300</td>\n",
       "    </tr>\n",
       "    <tr>\n",
       "      <th>2033-10-31</th>\n",
       "      <th>2034</th>\n",
       "      <th>2</th>\n",
       "      <th>1</th>\n",
       "      <th>2033</th>\n",
       "      <th>10</th>\n",
       "      <td>0.008300</td>\n",
       "    </tr>\n",
       "    <tr>\n",
       "      <th>2033-11-30</th>\n",
       "      <th>2034</th>\n",
       "      <th>2</th>\n",
       "      <th>1</th>\n",
       "      <th>2033</th>\n",
       "      <th>11</th>\n",
       "      <td>0.008300</td>\n",
       "    </tr>\n",
       "    <tr>\n",
       "      <th>2033-12-30</th>\n",
       "      <th>2034</th>\n",
       "      <th>2</th>\n",
       "      <th>1</th>\n",
       "      <th>2033</th>\n",
       "      <th>12</th>\n",
       "      <td>0.008300</td>\n",
       "    </tr>\n",
       "    <tr>\n",
       "      <th>2034-01-31</th>\n",
       "      <th>2034</th>\n",
       "      <th>3</th>\n",
       "      <th>2</th>\n",
       "      <th>2034</th>\n",
       "      <th>1</th>\n",
       "      <td>0.008300</td>\n",
       "    </tr>\n",
       "    <tr>\n",
       "      <th>2034-02-28</th>\n",
       "      <th>2034</th>\n",
       "      <th>3</th>\n",
       "      <th>2</th>\n",
       "      <th>2034</th>\n",
       "      <th>2</th>\n",
       "      <td>0.008300</td>\n",
       "    </tr>\n",
       "    <tr>\n",
       "      <th>2034-03-31</th>\n",
       "      <th>2034</th>\n",
       "      <th>3</th>\n",
       "      <th>2</th>\n",
       "      <th>2034</th>\n",
       "      <th>3</th>\n",
       "      <td>0.008300</td>\n",
       "    </tr>\n",
       "    <tr>\n",
       "      <th>2034-04-28</th>\n",
       "      <th>2034</th>\n",
       "      <th>4</th>\n",
       "      <th>2</th>\n",
       "      <th>2034</th>\n",
       "      <th>4</th>\n",
       "      <td>0.008300</td>\n",
       "    </tr>\n",
       "    <tr>\n",
       "      <th>2034-05-31</th>\n",
       "      <th>2034</th>\n",
       "      <th>4</th>\n",
       "      <th>2</th>\n",
       "      <th>2034</th>\n",
       "      <th>5</th>\n",
       "      <td>0.008300</td>\n",
       "    </tr>\n",
       "    <tr>\n",
       "      <th>2034-06-30</th>\n",
       "      <th>2034</th>\n",
       "      <th>4</th>\n",
       "      <th>2</th>\n",
       "      <th>2034</th>\n",
       "      <th>6</th>\n",
       "      <td>0.008300</td>\n",
       "    </tr>\n",
       "    <tr>\n",
       "      <th>2034-07-31</th>\n",
       "      <th>2035</th>\n",
       "      <th>1</th>\n",
       "      <th>1</th>\n",
       "      <th>2034</th>\n",
       "      <th>7</th>\n",
       "      <td>0.008300</td>\n",
       "    </tr>\n",
       "    <tr>\n",
       "      <th>2034-08-31</th>\n",
       "      <th>2035</th>\n",
       "      <th>1</th>\n",
       "      <th>1</th>\n",
       "      <th>2034</th>\n",
       "      <th>8</th>\n",
       "      <td>0.008300</td>\n",
       "    </tr>\n",
       "    <tr>\n",
       "      <th>2034-09-29</th>\n",
       "      <th>2035</th>\n",
       "      <th>1</th>\n",
       "      <th>1</th>\n",
       "      <th>2034</th>\n",
       "      <th>9</th>\n",
       "      <td>0.008300</td>\n",
       "    </tr>\n",
       "    <tr>\n",
       "      <th>2034-10-31</th>\n",
       "      <th>2035</th>\n",
       "      <th>2</th>\n",
       "      <th>1</th>\n",
       "      <th>2034</th>\n",
       "      <th>10</th>\n",
       "      <td>0.008300</td>\n",
       "    </tr>\n",
       "    <tr>\n",
       "      <th>2034-11-30</th>\n",
       "      <th>2035</th>\n",
       "      <th>2</th>\n",
       "      <th>1</th>\n",
       "      <th>2034</th>\n",
       "      <th>11</th>\n",
       "      <td>0.008300</td>\n",
       "    </tr>\n",
       "    <tr>\n",
       "      <th>2034-12-29</th>\n",
       "      <th>2035</th>\n",
       "      <th>2</th>\n",
       "      <th>1</th>\n",
       "      <th>2034</th>\n",
       "      <th>12</th>\n",
       "      <td>0.008300</td>\n",
       "    </tr>\n",
       "    <tr>\n",
       "      <th>2035-01-31</th>\n",
       "      <th>2035</th>\n",
       "      <th>3</th>\n",
       "      <th>2</th>\n",
       "      <th>2035</th>\n",
       "      <th>1</th>\n",
       "      <td>0.008300</td>\n",
       "    </tr>\n",
       "    <tr>\n",
       "      <th>2035-02-28</th>\n",
       "      <th>2035</th>\n",
       "      <th>3</th>\n",
       "      <th>2</th>\n",
       "      <th>2035</th>\n",
       "      <th>2</th>\n",
       "      <td>0.008300</td>\n",
       "    </tr>\n",
       "    <tr>\n",
       "      <th>2035-03-30</th>\n",
       "      <th>2035</th>\n",
       "      <th>3</th>\n",
       "      <th>2</th>\n",
       "      <th>2035</th>\n",
       "      <th>3</th>\n",
       "      <td>0.008300</td>\n",
       "    </tr>\n",
       "    <tr>\n",
       "      <th>2035-04-30</th>\n",
       "      <th>2035</th>\n",
       "      <th>4</th>\n",
       "      <th>2</th>\n",
       "      <th>2035</th>\n",
       "      <th>4</th>\n",
       "      <td>0.008300</td>\n",
       "    </tr>\n",
       "    <tr>\n",
       "      <th>2035-05-31</th>\n",
       "      <th>2035</th>\n",
       "      <th>4</th>\n",
       "      <th>2</th>\n",
       "      <th>2035</th>\n",
       "      <th>5</th>\n",
       "      <td>0.008300</td>\n",
       "    </tr>\n",
       "    <tr>\n",
       "      <th>2035-06-29</th>\n",
       "      <th>2035</th>\n",
       "      <th>4</th>\n",
       "      <th>2</th>\n",
       "      <th>2035</th>\n",
       "      <th>6</th>\n",
       "      <td>0.008300</td>\n",
       "    </tr>\n",
       "  </tbody>\n",
       "</table>\n",
       "<p>199 rows × 1 columns</p>\n",
       "</div>"
      ],
      "text/plain": [
       "                                                                             Cash Margin\n",
       "month_end  financial_year quarter_no half_no calendar_year month_no                     \n",
       "2018-12-31 2019           2          1       2018          12                   0.007405\n",
       "2019-01-31 2019           3          2       2019          1                    0.007659\n",
       "2019-02-28 2019           3          2       2019          2                    0.007808\n",
       "2019-03-29 2019           3          2       2019          3                    0.007899\n",
       "2019-04-30 2019           4          2       2019          4                    0.007948\n",
       "2019-05-31 2019           4          2       2019          5                    0.008030\n",
       "2019-06-28 2019           4          2       2019          6                    0.008110\n",
       "2019-07-31 2020           1          1       2019          7                    0.008165\n",
       "2019-08-30 2020           1          1       2019          8                    0.008208\n",
       "2019-09-30 2020           1          1       2019          9                    0.008249\n",
       "2019-10-31 2020           2          1       2019          10                   0.008284\n",
       "2019-11-29 2020           2          1       2019          11                   0.008296\n",
       "2019-12-31 2020           2          1       2019          12                   0.008300\n",
       "2020-01-31 2020           3          2       2020          1                    0.008300\n",
       "2020-02-28 2020           3          2       2020          2                    0.008300\n",
       "2020-03-31 2020           3          2       2020          3                    0.008300\n",
       "2020-04-30 2020           4          2       2020          4                    0.008300\n",
       "2020-05-29 2020           4          2       2020          5                    0.008300\n",
       "2020-06-30 2020           4          2       2020          6                    0.008300\n",
       "2020-07-31 2021           1          1       2020          7                    0.008300\n",
       "2020-08-31 2021           1          1       2020          8                    0.008300\n",
       "2020-09-30 2021           1          1       2020          9                    0.008300\n",
       "2020-10-30 2021           2          1       2020          10                   0.008300\n",
       "2020-11-30 2021           2          1       2020          11                   0.008300\n",
       "2020-12-31 2021           2          1       2020          12                   0.008300\n",
       "2021-01-29 2021           3          2       2021          1                    0.008300\n",
       "2021-02-26 2021           3          2       2021          2                    0.008300\n",
       "2021-03-31 2021           3          2       2021          3                    0.008300\n",
       "2021-04-30 2021           4          2       2021          4                    0.008300\n",
       "2021-05-31 2021           4          2       2021          5                    0.008300\n",
       "...                                                                                  ...\n",
       "2033-01-31 2033           3          2       2033          1                    0.008300\n",
       "2033-02-28 2033           3          2       2033          2                    0.008300\n",
       "2033-03-31 2033           3          2       2033          3                    0.008300\n",
       "2033-04-29 2033           4          2       2033          4                    0.008300\n",
       "2033-05-31 2033           4          2       2033          5                    0.008300\n",
       "2033-06-30 2033           4          2       2033          6                    0.008300\n",
       "2033-07-29 2034           1          1       2033          7                    0.008300\n",
       "2033-08-31 2034           1          1       2033          8                    0.008300\n",
       "2033-09-30 2034           1          1       2033          9                    0.008300\n",
       "2033-10-31 2034           2          1       2033          10                   0.008300\n",
       "2033-11-30 2034           2          1       2033          11                   0.008300\n",
       "2033-12-30 2034           2          1       2033          12                   0.008300\n",
       "2034-01-31 2034           3          2       2034          1                    0.008300\n",
       "2034-02-28 2034           3          2       2034          2                    0.008300\n",
       "2034-03-31 2034           3          2       2034          3                    0.008300\n",
       "2034-04-28 2034           4          2       2034          4                    0.008300\n",
       "2034-05-31 2034           4          2       2034          5                    0.008300\n",
       "2034-06-30 2034           4          2       2034          6                    0.008300\n",
       "2034-07-31 2035           1          1       2034          7                    0.008300\n",
       "2034-08-31 2035           1          1       2034          8                    0.008300\n",
       "2034-09-29 2035           1          1       2034          9                    0.008300\n",
       "2034-10-31 2035           2          1       2034          10                   0.008300\n",
       "2034-11-30 2035           2          1       2034          11                   0.008300\n",
       "2034-12-29 2035           2          1       2034          12                   0.008300\n",
       "2035-01-31 2035           3          2       2035          1                    0.008300\n",
       "2035-02-28 2035           3          2       2035          2                    0.008300\n",
       "2035-03-30 2035           3          2       2035          3                    0.008300\n",
       "2035-04-30 2035           4          2       2035          4                    0.008300\n",
       "2035-05-31 2035           4          2       2035          5                    0.008300\n",
       "2035-06-29 2035           4          2       2035          6                    0.008300\n",
       "\n",
       "[199 rows x 1 columns]"
      ]
     },
     "metadata": {},
     "output_type": "display_data"
    }
   ],
   "source": [
    "cash_radio = widgets.RadioButtons(options=['monthly','quarter_no','half_no','financial_year','calendar_year'],description='Period',disabled=False)\n",
    "display(cash_radio)\n",
    "\n",
    "\n",
    "cash_b = widgets.Button(description='Cash margin', layout=widgets.Layout(width='50%', height='40px'))\n",
    "cash_b.style.button_color = 'lightgreen'\n",
    "cash_b.on_click(lambda x: display(stats.cash_margin(data_dic, input_dic, cash_radio.value)))\n",
    "display(cash_b)"
   ]
  },
  {
   "cell_type": "code",
   "execution_count": 13,
   "metadata": {},
   "outputs": [
    {
     "data": {
      "application/vnd.jupyter.widget-view+json": {
       "model_id": "90977ee3cd2b46a681606fa487d7df62",
       "version_major": 2,
       "version_minor": 0
      },
      "text/plain": [
       "RadioButtons(description='Calendar year?', options=(True, False), value=True)"
      ]
     },
     "metadata": {},
     "output_type": "display_data"
    },
    {
     "data": {
      "application/vnd.jupyter.widget-view+json": {
       "model_id": "657d04ccb9bc4b36b256e65a001ae37f",
       "version_major": 2,
       "version_minor": 0
      },
      "text/plain": [
       "Button(description='Net earnings and EPS', layout=Layout(height='40px', width='50%'), style=ButtonStyle(button…"
      ]
     },
     "metadata": {},
     "output_type": "display_data"
    }
   ],
   "source": [
    "eps_radio = widgets.RadioButtons(options=[True, False],description='Calendar year?',disabled=False)\n",
    "display(eps_radio)\n",
    "\n",
    "eps_summary = widgets.Button(description='Net earnings and EPS', layout=widgets.Layout(width='50%', height='40px'))\n",
    "eps_summary.style.button_color = 'lightgreen'\n",
    "eps_summary.on_click(lambda x: display(stats.summary_total(data_dic, input_dic, cal=eps_radio.value)))\n",
    "display(eps_summary)\n"
   ]
  },
  {
   "cell_type": "code",
   "execution_count": 14,
   "metadata": {},
   "outputs": [
    {
     "data": {
      "application/vnd.jupyter.widget-view+json": {
       "model_id": "de9b93c32bc54b1f83381cde8bd04eb6",
       "version_major": 2,
       "version_minor": 0
      },
      "text/plain": [
       "RadioButtons(description='Period', options=('month_no', 'quarter_no', 'half_no', 'financial_year', 'calendar_y…"
      ]
     },
     "metadata": {},
     "output_type": "display_data"
    },
    {
     "data": {
      "application/vnd.jupyter.widget-view+json": {
       "model_id": "d4d5209fe1624c9fa22f5e49958a470b",
       "version_major": 2,
       "version_minor": 0
      },
      "text/plain": [
       "VBox(children=(HBox(children=(Button(description='HLF revenue margin', layout=Layout(height='40px', width='100…"
      ]
     },
     "metadata": {},
     "output_type": "display_data"
    }
   ],
   "source": [
    "hlf_radio = widgets.RadioButtons(options=['month_no','quarter_no','half_no','financial_year','calendar_year'],description='Period',disabled=False)\n",
    "display(hlf_radio)\n",
    "\n",
    "\n",
    "buttom3 = ['HLF revenue margin','Monthly revenue', 'HLF avg fund size','Quarter Trading update revenue']\n",
    "items7 = {}\n",
    "for w7 in buttom3:\n",
    "    items7[w7] = widgets.Button(description=w7, layout=widgets.Layout(width='100%', height='40px'))\n",
    "    items7[w7].style.button_color = 'lightgreen'\n",
    "\n",
    "top_m = widgets.HBox([list(items7.values())[0],list(items7.values())[1]],layout=box_layout3)\n",
    "bottom_m = widgets.HBox([list(items7.values())[2],list(items7.values())[3]],layout=box_layout3)\n",
    "\n",
    "items7['HLF revenue margin'].on_click(lambda x: display(stats.hlf_revenue_margin(data_dic,input_dic,hlf_radio.value)))\n",
    "items7['Monthly revenue'].on_click(lambda x: display(revenue.monthly_revenue(data_dic, input_dic)))\n",
    "items7['HLF avg fund size'].on_click(lambda x: display(stats.avg_hlf_size(data_dic, input_dic,hlf_radio.value)))\n",
    "items7['Quarter Trading update revenue'].on_click(lambda x: display(stats.quarter_revenue(data_dic, input_dic)))\n",
    "\n",
    "\n",
    "widgets.VBox([top_m, bottom_m])"
   ]
  },
  {
   "cell_type": "code",
   "execution_count": 15,
   "metadata": {},
   "outputs": [
    {
     "data": {
      "application/vnd.jupyter.widget-view+json": {
       "model_id": "505333b729424ea1b46536c10a9edbdf",
       "version_major": 2,
       "version_minor": 0
      },
      "text/plain": [
       "SelectMultiple(description='Years for comparison', options=(2019, 2020, 2021, 2022, 2023, 2024, 2025, 2026, 20…"
      ]
     },
     "metadata": {},
     "output_type": "display_data"
    },
    {
     "data": {
      "application/vnd.jupyter.widget-view+json": {
       "model_id": "1edb5d5eecd44bf0a98f07acce6c9200",
       "version_major": 2,
       "version_minor": 0
      },
      "text/plain": [
       "HBox(children=(Button(description='Total No. of clients', layout=Layout(height='40px', width='100%'), style=Bu…"
      ]
     },
     "metadata": {},
     "output_type": "display_data"
    }
   ],
   "source": [
    "display(a_slider)\n",
    "\n",
    "client_options = ['Total No. of clients','Net new clients','fx effects on funds']\n",
    "items8 = {}\n",
    "for w8 in client_options:\n",
    "    items8[w8] = widgets.Button(description=w8, layout=widgets.Layout(width='100%', height='40px'))\n",
    "    items8[w8].style.button_color = 'lightgreen'\n",
    "c_fair = widgets.HBox([list(items8.values())[0],list(items8.values())[1],list(items8.values())[2]],layout=box_layout3)\n",
    "items8['Total No. of clients'].on_click(lambda x: display(combined.total_client_predt(data_dic, input_dic).loc[list(a_slider.value)]))\n",
    "items8['Net new clients'].on_click(lambda x: display(combined.net_new_client_predt(data_dic, input_dic).loc[list(a_slider.value)]))\n",
    "items8['fx effects on funds'].on_click(lambda x: display(vantage_aua.fx_effects_on_funds(data_dic)))\n",
    "display(c_fair)"
   ]
  },
  {
   "cell_type": "code",
   "execution_count": 16,
   "metadata": {},
   "outputs": [],
   "source": [
    "# %load_ext autoreload\n",
    "# %autoreload 2"
   ]
  },
  {
   "cell_type": "code",
   "execution_count": 17,
   "metadata": {},
   "outputs": [],
   "source": [
    "\n",
    "#=============================== fair value sensitivity analysis ===========================================\n",
    "\n",
    "# disc_rate_list = [0.0825,0.085,0.0875,0.09,0.095,0.1]\n",
    "# pep_rate_list = [0.035,0.0375,0.04,0.0425,0.045]\n",
    "\n",
    "# df_1y = pandas.DataFrame(columns = disc_rate_list, index=pep_rate_list)\n",
    "# df_1y.columns.name = 'Cost of Equity'\n",
    "# df_1y.index.name = 'Long-term Growth Rate'\n",
    "\n",
    "# for i in pep_rate_list:\n",
    "#     for j in disc_rate_list:\n",
    "#         df_1y.loc[i,j] = discf.fair_value(data_dic, input_dic,now=False,fractional=True,dcf_p=9,disc_rate=j,pep_rate=i).loc['Fair value per share','HL']\n"
   ]
  },
  {
   "cell_type": "code",
   "execution_count": null,
   "metadata": {},
   "outputs": [],
   "source": []
  },
  {
   "cell_type": "code",
   "execution_count": null,
   "metadata": {},
   "outputs": [],
   "source": []
  }
 ],
 "metadata": {
  "kernelspec": {
   "display_name": "Python 3",
   "language": "python",
   "name": "python3"
  },
  "language_info": {
   "codemirror_mode": {
    "name": "ipython",
    "version": 3
   },
   "file_extension": ".py",
   "mimetype": "text/x-python",
   "name": "python",
   "nbconvert_exporter": "python",
   "pygments_lexer": "ipython3",
   "version": "3.6.4"
  }
 },
 "nbformat": 4,
 "nbformat_minor": 2
}
